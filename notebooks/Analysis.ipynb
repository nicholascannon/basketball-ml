{
 "cells": [
  {
   "cell_type": "markdown",
   "metadata": {},
   "source": [
    "# NBA Game Prediction: Analysis\n",
    "Written by Nicholas Cannon"
   ]
  },
  {
   "cell_type": "code",
   "execution_count": 1,
   "metadata": {},
   "outputs": [],
   "source": [
    "import os\n",
    "from pathlib import Path\n",
    "import pandas as pd\n",
    "import numpy as np\n",
    "import matplotlib.pyplot as plt\n",
    "\n",
    "%matplotlib inline\n",
    "\n",
    "GAMES_DIR = os.path.join('..', 'data', 'processed', 'games')\n",
    "TEAMS_DIR = os.path.join('..', 'data', 'processed', 'teams')"
   ]
  },
  {
   "cell_type": "markdown",
   "metadata": {},
   "source": [
    "## Individual Season Analysis"
   ]
  },
  {
   "cell_type": "code",
   "execution_count": 2,
   "metadata": {
    "scrolled": true,
    "tags": []
   },
   "outputs": [
    {
     "output_type": "stream",
     "name": "stdout",
     "text": "------------------------------------------------------------\nDF Analysis: ../data/processed/games/22015-full.csv\n------------------------------------------------------------\nSHAPE = (1230, 92)\nNaNs =  False\nHome wins = 724, Away wins = 506\nAvg home points scored (rounded) =  104\nAvg away points scored (rounded) =  101\n------------------------------------------------------------\n\n------------------------------------------------------------\nDF Analysis: ../data/processed/games/22014-full.csv\n------------------------------------------------------------\nSHAPE = (1230, 92)\nNaNs =  False\nHome wins = 707, Away wins = 523\nAvg home points scored (rounded) =  101\nAvg away points scored (rounded) =  98\n------------------------------------------------------------\n\n------------------------------------------------------------\nDF Analysis: ../data/processed/games/22018-full.csv\n------------------------------------------------------------\nSHAPE = (1230, 92)\nNaNs =  False\nHome wins = 729, Away wins = 501\nAvg home points scored (rounded) =  112\nAvg away points scored (rounded) =  109\n------------------------------------------------------------\n\n------------------------------------------------------------\nDF Analysis: ../data/processed/games/22013-full.csv\n------------------------------------------------------------\nSHAPE = (1230, 92)\nNaNs =  False\nHome wins = 714, Away wins = 516\nAvg home points scored (rounded) =  102\nAvg away points scored (rounded) =  99\n------------------------------------------------------------\n\n------------------------------------------------------------\nDF Analysis: ../data/processed/games/22016-full.csv\n------------------------------------------------------------\nSHAPE = (1230, 92)\nNaNs =  False\nHome wins = 718, Away wins = 512\nAvg home points scored (rounded) =  107\nAvg away points scored (rounded) =  104\n------------------------------------------------------------\n\n------------------------------------------------------------\nDF Analysis: ../data/processed/games/22017-full.csv\n------------------------------------------------------------\nSHAPE = (1230, 92)\nNaNs =  False\nHome wins = 712, Away wins = 518\nAvg home points scored (rounded) =  107\nAvg away points scored (rounded) =  105\n------------------------------------------------------------\n\n"
    }
   ],
   "source": [
    "def season_analysis(path):\n",
    "    df = pd.read_csv(path)\n",
    "    win_details = df['HOME_WIN'].value_counts()\n",
    "    \n",
    "    print('-' * 60)\n",
    "    print('DF Analysis: {}'.format(path))\n",
    "    print('-' * 60)\n",
    "    print('SHAPE =', df.shape)\n",
    "    print('NaNs = ', df.isnull().values.any())\n",
    "    print('Home wins = {}, Away wins = {}'.format(win_details[1], win_details[0]))\n",
    "    print('Avg home points scored (rounded) = ', df['H_PTS'].mean().astype(int))\n",
    "    print('Avg away points scored (rounded) = ', df['A_PTS'].mean().astype(int))\n",
    "    print('-' * 60, end='\\n\\n')\n",
    "\n",
    "for season in os.listdir(GAMES_DIR):\n",
    "    season_analysis(os.path.join(GAMES_DIR, season))"
   ]
  },
  {
   "cell_type": "markdown",
   "metadata": {},
   "source": [
    "## Combined Season Analysis"
   ]
  },
  {
   "cell_type": "code",
   "execution_count": 10,
   "metadata": {},
   "outputs": [
    {
     "output_type": "execute_result",
     "data": {
      "text/plain": "1    4304\n0    3076\nName: HOME_WIN, dtype: int64"
     },
     "metadata": {},
     "execution_count": 10
    }
   ],
   "source": [
    "df = pd.DataFrame()\n",
    "for season in os.listdir(GAMES_DIR):\n",
    "    df = pd.concat([df, pd.read_csv(os.path.join(GAMES_DIR, season), dtype={'GAME_ID': str})], ignore_index=True)\n",
    "    \n",
    "df['HOME_WIN'].value_counts()\n",
    "# X_AXIS = 'H_REB'\n",
    "# Y_AXIS = 'A_REB'\n",
    "# groups = df.groupby('HOME_WIN')\n",
    "# for name, group in groups:\n",
    "#     plt.plot(group[X_AXIS], group[Y_AXIS], linestyle='', marker='o', label='Home win' if name else 'Away win')\n",
    "\n",
    "# plt.xlabel(X_AXIS)\n",
    "# plt.ylabel(Y_AXIS)\n",
    "# plt.legend()\n",
    "# plt.plot()"
   ]
  },
  {
   "cell_type": "code",
   "execution_count": 4,
   "metadata": {},
   "outputs": [
    {
     "output_type": "execute_result",
     "data": {
      "text/plain": "(492, 55)"
     },
     "metadata": {},
     "execution_count": 4
    }
   ],
   "source": [
    "game = pd.read_csv(os.path.join(TEAMS_DIR, '1610612752.csv'), dtype={'GAME_ID': str})\n",
    "game.shape"
   ]
  },
  {
   "cell_type": "code",
   "execution_count": 5,
   "metadata": {},
   "outputs": [
    {
     "output_type": "execute_result",
     "data": {
      "text/plain": "GAME_ID           0021300008\nDATE              2013-10-30\nSEASON                  2013\nTEAM              1610612752\nOPPONENT          1610612749\nFGM                       36\nFGA                       71\nFG_PCT                 0.507\nFG3M                       3\nFG3A                      13\nFG3_PCT                0.231\nFTM                       15\nFTA                       17\nFT_PCT                 0.882\nOREB                       6\nDREB                      28\nREB                       34\nAST                       17\nSTL                       12\nBLK                        6\nTO                        22\nPF                        16\nPTS                       90\nPLUS_MIN                   7\nFTA_RATE               0.239\nTM_TOV_PCT             0.233\nOFF_RATING              95.7\nDEF_RATING              88.3\nAST_TOV                 0.77\nEFG_PCT                0.528\nTS_PCT                 0.573\nPACE                      94\nPIE                    0.589\nPTS_OFF_TO                27\nPTS_2ND_CHANCE             7\nPTS_FB                    24\nPTS_PAINT                 50\nDIST                   16.46\nORBC                      25\nDRBC                      53\nRBC                       77\nTCHS                     421\nSAST                       1\nPASS                     307\nCFGM                      16\nCFGA                      33\nUFGM                      20\nUFGA                      38\nHOME                       1\nPTS_A                     83\nREB_A                     31\nAST_A                     19\nSTL_A                     10\nBLK_A                      4\nWON                        1\nName: 0, dtype: object"
     },
     "metadata": {},
     "execution_count": 5
    }
   ],
   "source": [
    "game.iloc[0] # home KNICKS"
   ]
  },
  {
   "cell_type": "code",
   "execution_count": 13,
   "metadata": {},
   "outputs": [
    {
     "output_type": "execute_result",
     "data": {
      "text/plain": "2013"
     },
     "metadata": {},
     "execution_count": 13
    }
   ],
   "source": [
    "game.iloc[0]['SEASON']"
   ]
  },
  {
   "cell_type": "code",
   "execution_count": null,
   "metadata": {},
   "outputs": [],
   "source": []
  }
 ],
 "metadata": {
  "kernelspec": {
   "display_name": "nba_game_pred",
   "language": "python",
   "name": "nba_game_pred"
  },
  "language_info": {
   "codemirror_mode": {
    "name": "ipython",
    "version": 3
   },
   "file_extension": ".py",
   "mimetype": "text/x-python",
   "name": "python",
   "nbconvert_exporter": "python",
   "pygments_lexer": "ipython3",
   "version": "3.7.7"
  }
 },
 "nbformat": 4,
 "nbformat_minor": 2
}