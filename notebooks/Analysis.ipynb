{
 "cells": [
  {
   "cell_type": "markdown",
   "metadata": {},
   "source": [
    "# NBA Game Prediction: Analysis\n",
    "Written by Nicholas Cannon"
   ]
  },
  {
   "cell_type": "code",
   "execution_count": 58,
   "metadata": {},
   "outputs": [],
   "source": [
    "import os\n",
    "from pathlib import Path\n",
    "import pandas as pd\n",
    "import numpy as np\n",
    "import matplotlib.pyplot as plt\n",
    "\n",
    "%matplotlib inline\n",
    "\n",
    "GAMES_DIR = os.path.join('..', 'data', 'processed', 'games')\n",
    "TEAMS_DIR = os.path.join('..', 'data', 'processed', 'teams')"
   ]
  },
  {
   "cell_type": "markdown",
   "metadata": {},
   "source": [
    "## Individual Season Analysis"
   ]
  },
  {
   "cell_type": "code",
   "execution_count": 59,
   "metadata": {
    "scrolled": true
   },
   "outputs": [
    {
     "name": "stdout",
     "output_type": "stream",
     "text": [
      "------------------------------------------------------------\n",
      "DF Analysis: ../data/processed/games/22015-full.csv\n",
      "------------------------------------------------------------\n",
      "SHAPE = (1230, 92)\n",
      "NaNs =  False\n",
      "Home wins = 724, Away wins = 506\n",
      "Avg home points scored (rounded) =  104\n",
      "Avg away points scored (rounded) =  101\n",
      "------------------------------------------------------------\n",
      "\n",
      "------------------------------------------------------------\n",
      "DF Analysis: ../data/processed/games/22014-full.csv\n",
      "------------------------------------------------------------\n",
      "SHAPE = (1230, 92)\n",
      "NaNs =  False\n",
      "Home wins = 707, Away wins = 523\n",
      "Avg home points scored (rounded) =  101\n",
      "Avg away points scored (rounded) =  98\n",
      "------------------------------------------------------------\n",
      "\n",
      "------------------------------------------------------------\n",
      "DF Analysis: ../data/processed/games/22018-full.csv\n",
      "------------------------------------------------------------\n",
      "SHAPE = (1230, 92)\n",
      "NaNs =  False\n",
      "Home wins = 729, Away wins = 501\n",
      "Avg home points scored (rounded) =  112\n",
      "Avg away points scored (rounded) =  109\n",
      "------------------------------------------------------------\n",
      "\n",
      "------------------------------------------------------------\n",
      "DF Analysis: ../data/processed/games/22013-full.csv\n",
      "------------------------------------------------------------\n",
      "SHAPE = (1230, 92)\n",
      "NaNs =  False\n",
      "Home wins = 714, Away wins = 516\n",
      "Avg home points scored (rounded) =  102\n",
      "Avg away points scored (rounded) =  99\n",
      "------------------------------------------------------------\n",
      "\n",
      "------------------------------------------------------------\n",
      "DF Analysis: ../data/processed/games/22016-full.csv\n",
      "------------------------------------------------------------\n",
      "SHAPE = (1230, 92)\n",
      "NaNs =  False\n",
      "Home wins = 718, Away wins = 512\n",
      "Avg home points scored (rounded) =  107\n",
      "Avg away points scored (rounded) =  104\n",
      "------------------------------------------------------------\n",
      "\n",
      "------------------------------------------------------------\n",
      "DF Analysis: ../data/processed/games/22017-full.csv\n",
      "------------------------------------------------------------\n",
      "SHAPE = (1230, 92)\n",
      "NaNs =  False\n",
      "Home wins = 712, Away wins = 518\n",
      "Avg home points scored (rounded) =  107\n",
      "Avg away points scored (rounded) =  105\n",
      "------------------------------------------------------------\n",
      "\n"
     ]
    }
   ],
   "source": [
    "def season_analysis(path):\n",
    "    df = pd.read_csv(path)\n",
    "    win_details = df['HOME_WIN'].value_counts()\n",
    "    \n",
    "    print('-' * 60)\n",
    "    print('DF Analysis: {}'.format(path))\n",
    "    print('-' * 60)\n",
    "    print('SHAPE =', df.shape)\n",
    "    print('NaNs = ', df.isnull().values.any())\n",
    "    print('Home wins = {}, Away wins = {}'.format(win_details[1], win_details[0]))\n",
    "    print('Avg home points scored (rounded) = ', df['H_PTS'].mean().astype(int))\n",
    "    print('Avg away points scored (rounded) = ', df['A_PTS'].mean().astype(int))\n",
    "    print('-' * 60, end='\\n\\n')\n",
    "\n",
    "for season in os.listdir(GAMES_DIR):\n",
    "    season_analysis(os.path.join(DATA_DIR, season))"
   ]
  },
  {
   "cell_type": "markdown",
   "metadata": {},
   "source": [
    "## Combined Season Analysis"
   ]
  },
  {
   "cell_type": "code",
   "execution_count": 60,
   "metadata": {},
   "outputs": [
    {
     "data": {
      "text/plain": [
       "[]"
      ]
     },
     "execution_count": 60,
     "metadata": {},
     "output_type": "execute_result"
    },
    {
     "data": {
      "image/png": "[encoded data removed]",
      "text/plain": [
       "<Figure size 432x288 with 1 Axes>"
      ]
     },
     "metadata": {
      "needs_background": "light"
     },
     "output_type": "display_data"
    }
   ],
   "source": [
    "df = pd.DataFrame()\n",
    "for season in os.listdir(GAMES_DIR):\n",
    "    df = pd.concat([df, pd.read_csv(os.path.join(GAMES_DIR, season), dtype={'GAME_ID': str})], ignore_index=True)\n",
    "    \n",
    "X_AXIS = 'H_REB'\n",
    "Y_AXIS = 'A_REB'\n",
    "groups = df.groupby('HOME_WIN')\n",
    "for name, group in groups:\n",
    "    plt.plot(group[X_AXIS], group[Y_AXIS], linestyle='', marker='o', label='Home win' if name else 'Away win')\n",
    "\n",
    "plt.xlabel(X_AXIS)\n",
    "plt.ylabel(Y_AXIS)\n",
    "plt.legend()\n",
    "plt.plot()"
   ]
  },
  {
   "cell_type": "code",
   "execution_count": 64,
   "metadata": {},
   "outputs": [
    {
     "name": "stdout",
     "output_type": "stream",
     "text": [
      "<class 'pandas.core.frame.DataFrame'>\n",
      "RangeIndex: 492 entries, 0 to 491\n",
      "Data columns (total 55 columns):\n",
      " #   Column          Non-Null Count  Dtype  \n",
      "---  ------          --------------  -----  \n",
      " 0   GAME_ID         492 non-null    object \n",
      " 1   DATE            492 non-null    object \n",
      " 2   SEASON          492 non-null    int64  \n",
      " 3   FGM             492 non-null    int64  \n",
      " 4   FGA             492 non-null    int64  \n",
      " 5   FG_PCT          492 non-null    float64\n",
      " 6   FG3M            492 non-null    int64  \n",
      " 7   FG3A            492 non-null    int64  \n",
      " 8   FG3_PCT         492 non-null    float64\n",
      " 9   FTM             492 non-null    int64  \n",
      " 10  FTA             492 non-null    int64  \n",
      " 11  FT_PCT          492 non-null    float64\n",
      " 12  OREB            492 non-null    int64  \n",
      " 13  DREB            492 non-null    int64  \n",
      " 14  REB             492 non-null    int64  \n",
      " 15  AST             492 non-null    int64  \n",
      " 16  STL             492 non-null    int64  \n",
      " 17  BLK             492 non-null    int64  \n",
      " 18  TO              492 non-null    int64  \n",
      " 19  PF              492 non-null    int64  \n",
      " 20  PTS             492 non-null    int64  \n",
      " 21  PLUS_MIN        492 non-null    float64\n",
      " 22  FTA_RATE        492 non-null    float64\n",
      " 23  TM_TOV_PCT      492 non-null    float64\n",
      " 24  OFF_RATING      492 non-null    float64\n",
      " 25  DEF_RATING      492 non-null    float64\n",
      " 26  AST_TOV         492 non-null    float64\n",
      " 27  EFG_PCT         492 non-null    float64\n",
      " 28  TS_PCT          492 non-null    float64\n",
      " 29  PACE            492 non-null    float64\n",
      " 30  PIE             492 non-null    float64\n",
      " 31  PTS_OFF_TO      492 non-null    float64\n",
      " 32  PTS_2ND_CHANCE  492 non-null    float64\n",
      " 33  PTS_FB          492 non-null    float64\n",
      " 34  PTS_PAINT       492 non-null    float64\n",
      " 35  DIST            492 non-null    float64\n",
      " 36  ORBC            492 non-null    int64  \n",
      " 37  DRBC            492 non-null    int64  \n",
      " 38  RBC             492 non-null    int64  \n",
      " 39  TCHS            492 non-null    int64  \n",
      " 40  SAST            492 non-null    int64  \n",
      " 41  PASS            492 non-null    int64  \n",
      " 42  CFGM            492 non-null    int64  \n",
      " 43  CFGA            492 non-null    int64  \n",
      " 44  UFGM            492 non-null    int64  \n",
      " 45  UFGA            492 non-null    int64  \n",
      " 46  TEAM            492 non-null    int64  \n",
      " 47  OPPONENT        492 non-null    int64  \n",
      " 48  WON             492 non-null    int64  \n",
      " 49  HOME            492 non-null    int64  \n",
      " 50  PTS_A           492 non-null    int64  \n",
      " 51  REB_A           492 non-null    int64  \n",
      " 52  AST_A           492 non-null    int64  \n",
      " 53  STL_A           492 non-null    int64  \n",
      " 54  BLK_A           492 non-null    int64  \n",
      "dtypes: float64(18), int64(35), object(2)\n",
      "memory usage: 211.5+ KB\n"
     ]
    }
   ],
   "source": [
    "game = pd.read_csv(os.path.join(TEAMS_DIR, '1610612752.csv'), dtype={'GAME_ID': str})\n",
    "game.info()"
   ]
  },
  {
   "cell_type": "code",
   "execution_count": 65,
   "metadata": {},
   "outputs": [
    {
     "data": {
      "text/plain": [
       "GAME_ID           0021300008\n",
       "DATE              2013-10-30\n",
       "SEASON                  2013\n",
       "FGM                       36\n",
       "FGA                       71\n",
       "FG_PCT                 0.507\n",
       "FG3M                       3\n",
       "FG3A                      13\n",
       "FG3_PCT                0.231\n",
       "FTM                       15\n",
       "FTA                       17\n",
       "FT_PCT                 0.882\n",
       "OREB                       6\n",
       "DREB                      28\n",
       "REB                       34\n",
       "AST                       17\n",
       "STL                       12\n",
       "BLK                        6\n",
       "TO                        22\n",
       "PF                        16\n",
       "PTS                       90\n",
       "PLUS_MIN                   7\n",
       "FTA_RATE               0.239\n",
       "TM_TOV_PCT             0.233\n",
       "OFF_RATING              95.7\n",
       "DEF_RATING              88.3\n",
       "AST_TOV                 0.77\n",
       "EFG_PCT                0.528\n",
       "TS_PCT                 0.573\n",
       "PACE                      94\n",
       "PIE                    0.589\n",
       "PTS_OFF_TO                27\n",
       "PTS_2ND_CHANCE             7\n",
       "PTS_FB                    24\n",
       "PTS_PAINT                 50\n",
       "DIST                   16.46\n",
       "ORBC                      25\n",
       "DRBC                      53\n",
       "RBC                       77\n",
       "TCHS                     421\n",
       "SAST                       1\n",
       "PASS                     307\n",
       "CFGM                      16\n",
       "CFGA                      33\n",
       "UFGM                      20\n",
       "UFGA                      38\n",
       "TEAM              1610612752\n",
       "OPPONENT          1610612749\n",
       "WON                        1\n",
       "HOME                       1\n",
       "PTS_A                     83\n",
       "REB_A                     31\n",
       "AST_A                     19\n",
       "STL_A                     10\n",
       "BLK_A                      4\n",
       "Name: 0, dtype: object"
      ]
     },
     "execution_count": 65,
     "metadata": {},
     "output_type": "execute_result"
    }
   ],
   "source": [
    "game.iloc[0] # home KNICKS"
   ]
  },
  {
   "cell_type": "code",
   "execution_count": null,
   "metadata": {},
   "outputs": [],
   "source": []
  }
 ],
 "metadata": {
  "kernelspec": {
   "display_name": "nba_game_pred",
   "language": "python",
   "name": "nba_game_pred"
  },
  "language_info": {
   "codemirror_mode": {
    "name": "ipython",
    "version": 3
   },
   "file_extension": ".py",
   "mimetype": "text/x-python",
   "name": "python",
   "nbconvert_exporter": "python",
   "pygments_lexer": "ipython3",
   "version": "3.7.7"
  }
 },
 "nbformat": 4,
 "nbformat_minor": 2
}
