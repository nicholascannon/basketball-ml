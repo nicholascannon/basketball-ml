{
 "cells": [
  {
   "cell_type": "markdown",
   "metadata": {},
   "source": [
    "# NBA Game Prediction: Modelling Teams\n",
    "Written by Nicholas Cannon 22241579"
   ]
  },
  {
   "cell_type": "code",
   "execution_count": 1,
   "metadata": {},
   "outputs": [],
   "source": [
    "import os\n",
    "import pandas as pd\n",
    "import numpy as np\n",
    "import matplotlib.pyplot as plt\n",
    "import matplotlib\n",
    "\n",
    "from sklearn.linear_model import LogisticRegression\n",
    "from sklearn.ensemble import RandomForestClassifier\n",
    "\n",
    "from sklearn.pipeline import Pipeline\n",
    "from sklearn.model_selection import train_test_split, GridSearchCV\n",
    "from sklearn.preprocessing import StandardScaler, KBinsDiscretizer\n",
    "from sklearn.compose import ColumnTransformer\n",
    "from sklearn.metrics import (\n",
    "    confusion_matrix, f1_score, accuracy_score, ConfusionMatrixDisplay,\n",
    "    roc_curve, auc, RocCurveDisplay, precision_recall_curve,\n",
    "    PrecisionRecallDisplay\n",
    ")\n",
    "\n",
    "%matplotlib inline\n",
    "\n",
    "DATA_DIR = os.path.join('..', 'data', 'processed', 'teams')\n",
    "STATE = 42\n",
    "team_ids = os.listdir(DATA_DIR)\n",
    "NON_FEATURE_COLS = ['GAME_ID', 'DATE', 'SEASON', 'TEAM', 'OPPONENT']"
   ]
  },
  {
   "cell_type": "code",
   "execution_count": 10,
   "metadata": {},
   "outputs": [],
   "source": [
    "def annotate_heatmap(im, data=None, valfmt=\"{x:.2f}\",\n",
    "                     textcolors=[\"black\", \"white\"],\n",
    "                     threshold=None, **textkw):\n",
    "    \"\"\"\n",
    "    FROM: https://matplotlib.org/3.1.0/gallery/images_contours_and_fields/image_annotated_heatmap.html\n",
    "    \"\"\"\n",
    "\n",
    "    if not isinstance(data, (list, np.ndarray)):\n",
    "        data = im.get_array()\n",
    "\n",
    "    # Normalize the threshold to the images color range.\n",
    "    if threshold is not None:\n",
    "        threshold = im.norm(threshold)\n",
    "    else:\n",
    "        threshold = im.norm(data.max())/2.\n",
    "\n",
    "    # Set default alignment to center, but allow it to be\n",
    "    # overwritten by textkw.\n",
    "    kw = dict(horizontalalignment=\"center\",\n",
    "              verticalalignment=\"center\")\n",
    "    kw.update(textkw)\n",
    "\n",
    "    # Get the formatter in case a string is supplied\n",
    "    if isinstance(valfmt, str):\n",
    "        valfmt = matplotlib.ticker.StrMethodFormatter(valfmt)\n",
    "\n",
    "    # Loop over the data and create a `Text` for each \"pixel\".\n",
    "    # Change the text's color depending on the data.\n",
    "    texts = []\n",
    "    for i in range(data.shape[0]):\n",
    "        for j in range(data.shape[1]):\n",
    "            kw.update(color=textcolors[int(im.norm(data[i, j]) > threshold)])\n",
    "            text = im.axes.text(j, i, valfmt(data[i, j], None), **kw)\n",
    "            texts.append(text)\n",
    "\n",
    "    return texts\n",
    "\n",
    "\n",
    "def run_metrics(y_pred, y_true, y_score):\n",
    "    \"\"\"Display Standard graphs and metrics for model evaluation\"\"\"\n",
    "    fig, ax = plt.subplots(1, 3, figsize=(10, 8), constrained_layout=True)\n",
    "    \n",
    "    # CF Matrix\n",
    "    for i in [0, 1]:        \n",
    "        cf_data = confusion_matrix(y_true[i], y_pred[i], normalize='all') * 100\n",
    "        im = ax[i].imshow(cf_data, cmap=plt.cm.Blues) \n",
    "        ax[i].set_xticks(np.arange(cf_data.shape[1]))\n",
    "        ax[i].set_yticks(np.arange(cf_data.shape[0]))\n",
    "        ax[i].set_xticklabels(['Home Lose', 'Home Win'])\n",
    "        ax[i].set_yticklabels(['Home Lose', 'Home Win'], rotation=90, va='center')\n",
    "        ax[i].set_title('Adv.' if i == 0 else 'Trad.')\n",
    "        annotate_heatmap(im, valfmt=\"{x:.2f} %\")\n",
    "\n",
    "    # ROC Curve\n",
    "    fpr_1, tpr_1, _ = roc_curve(y_true[0], y_score[0])\n",
    "    auc_1 = auc(fpr_1, tpr_1)\n",
    "    fpr_2, tpr_2, _ = roc_curve(y_true[1], y_score[1])\n",
    "    auc_2 = auc(fpr_2, tpr_2)\n",
    "    \n",
    "    ax[2].set_xlim((0, 1))\n",
    "    ax[2].set_ylim((0, 1))\n",
    "    ax[2].set_aspect('equal', 'box')\n",
    "    ax[2].set_xlabel('False Positive Rate')\n",
    "    ax[2].set_ylabel('True Positive Rate')\n",
    "    \n",
    "    ax[2].plot(fpr_1, tpr_1, label='Adv. (AUC={:.2f})'.format(auc_1))\n",
    "    ax[2].plot(fpr_2, tpr_2, label='Trad. (AUC={:.2f})'.format(auc_2))\n",
    "    ax[2].legend(loc='lower right')\n",
    "    \n",
    "    plt.show()\n",
    "    return fig\n",
    "\n",
    "\n",
    "def preprocess_team(team_id, drop_adv=False, season_avg=False, window=5, drop_percentages=False, \n",
    "                    split_data=True, test_size=0.2):\n",
    "    \"\"\"Preprocess the given teams data set with configurable options\"\"\"\n",
    "    df = pd.read_csv(os.path.join(DATA_DIR, team_id))\n",
    "\n",
    "    # shift label up 1 game\n",
    "    df['WON'] = df['WON'].shift(periods=-1)\n",
    "    df.dropna(inplace=True)\n",
    "\n",
    "    # get a copy of the columns not run through averaging\n",
    "    non_avgs = df[[*NON_FEATURE_COLS, 'HOME']].copy()\n",
    "\n",
    "    # separate features and labels (and drop non feature cols)\n",
    "    X = df.drop([*NON_FEATURE_COLS, 'WON', 'HOME'], axis=1)\n",
    "    y = df['WON']\n",
    "    \n",
    "    # drop derived cols\n",
    "    if drop_percentages:\n",
    "        X = X.drop(['FG_PCT', 'FG3_PCT', 'FT_PCT', 'REB', 'RBC'], axis=1)\n",
    "    else:\n",
    "        X = X.drop(['FGM', 'FGA', 'FG3M', 'FG3A', 'FTM', 'FTA', 'OREB', 'DREB', 'ORBC', 'DRBC',], axis=1)\n",
    "\n",
    "    # drop the advanced stats\n",
    "    if drop_adv:\n",
    "        X = X.drop(['TM_TOV_PCT', 'OFF_RATING', 'DEF_RATING', \n",
    "                    'TS_PCT', 'PACE', 'PTS_OFF_TO', 'PTS_2ND_CHANCE',\n",
    "                    'PTS_FB', 'PTS_PAINT', 'DIST', 'ORBC', 'DRBC', 'RBC', 'TCHS',\n",
    "                    'PASS', 'CFGM', 'CFGA', 'UFGM', 'UFGA'], axis=1, errors='ignore')\n",
    "    else:\n",
    "        # drop the traditional stats\n",
    "        X = X.drop(['FGM', 'FGA', 'FG_PCT', 'FG3M', 'FG3A', 'FG3_PCT', 'FTM', \n",
    "                    'FTA', 'FT_PCT', 'OREB', 'DREB', 'REB', 'AST', 'STL', 'BLK',\n",
    "                    'TO', 'PF', 'PTS', 'PLUS_MINUS',\n",
    "        ], axis=1, errors='ignore')\n",
    "\n",
    "    # Run averaging and add the non_avg cols after\n",
    "    if season_avg:\n",
    "        X = X.expanding().mean()\n",
    "        X = pd.concat([non_avgs, X], axis=1)\n",
    "    else:\n",
    "        X = X.rolling(window).mean()\n",
    "        X = pd.concat([non_avgs, X], axis=1)\n",
    "\n",
    "        X.dropna(inplace=True) # drop first few games\n",
    "        y = y[window-1:]\n",
    "    \n",
    "    if split_data:\n",
    "        return train_test_split(X, y, test_size=test_size, random_state=STATE)\n",
    "    else:\n",
    "        return X, y\n",
    "    \n",
    "    \n",
    "def build_dataset(**preprocess_args):\n",
    "    \"\"\"Build features and labels from team data sets\"\"\"\n",
    "    X_full, y_full, test_full = pd.DataFrame(), pd.DataFrame(), pd.DataFrame()\n",
    "    for team_id in team_ids:\n",
    "        X_team, y_team = preprocess_team(team_id, split_data=False, **preprocess_args)\n",
    "        \n",
    "        # grab teams last season for testing\n",
    "        test_full = pd.concat([test_full, X_team.iloc[-82:, :]], ignore_index=True)\n",
    "        \n",
    "        X_full = pd.concat([X_full, X_team.iloc[:-82, :]], ignore_index=True)\n",
    "        y_full = pd.concat([y_full, y_team.iloc[:-82]], ignore_index=True)\n",
    "    \n",
    "    # convert y to column vector\n",
    "    y_full = y_full.iloc[:, 0]\n",
    "    \n",
    "    # drop the non feature cols\n",
    "    X_full.drop(NON_FEATURE_COLS, inplace=True, axis=1)\n",
    "\n",
    "    # train / test split\n",
    "    X_train, X_test, y_train, y_test = train_test_split(X_full, y_full, test_size=0.2, random_state=STATE)\n",
    "    \n",
    "    return X_train, X_test, y_train, y_test, test_full\n",
    "    \n",
    "\n",
    "def test_model(clf, features):\n",
    "    \"\"\"Test given model using provided features on 2018 season.\"\"\"\n",
    "    y_pred, y_true = [], []\n",
    "    h_probs, a_probs = [], []\n",
    "    game_order = {}\n",
    "    \n",
    "    # Read and process the labels from the individual teams data,\n",
    "    # the labels used in the training data are shifted up by 1 game.\n",
    "    # This gives access to the ground truth for each game in the 2018 season.\n",
    "    labels = pd.DataFrame()\n",
    "    for team_id in team_ids:\n",
    "        df = pd.read_csv(os.path.join(DATA_DIR, team_id))\n",
    "        \n",
    "        # filter by 2018 season\n",
    "        df = df[df['SEASON'] == 2018]\n",
    "        \n",
    "        # create list of game_ids so we can fetch the previous game features\n",
    "        game_order[team_id[:-4]] = df['GAME_ID'].tolist()\n",
    "        \n",
    "        # convert back to home / away perspectives\n",
    "        df['H_ID'] = df.apply(lambda r: r['TEAM'] if r['HOME'] == 1 else r['OPPONENT'], axis=1)\n",
    "        df['A_ID'] = df.apply(lambda r: r['TEAM'] if r['HOME'] == 0 else r['OPPONENT'], axis=1)\n",
    "        df['HOME_WIN'] = df.apply(lambda r: 1 - (r['WON'] ^ r['HOME']), axis=1)\n",
    "        \n",
    "        df = df[['GAME_ID', 'DATE', 'H_ID', 'A_ID', 'HOME_WIN']]\n",
    "        \n",
    "        labels = pd.concat([labels, df], ignore_index=True)\n",
    "\n",
    "    # each game will have two entries, one for each team so drop the dups\n",
    "    labels.drop_duplicates(inplace=True)\n",
    "    \n",
    "    # drop any games that aren't in the feature set\n",
    "    labels = labels[labels['GAME_ID'].isin(features['GAME_ID'].unique())]\n",
    "    \n",
    "    # make predictions on all feature games\n",
    "    for _, game in labels.iterrows():\n",
    "        # find the index of this game\n",
    "        h_game_idx = game_order[str(game['H_ID'])].index(game['GAME_ID'])\n",
    "        a_game_idx = game_order[str(game['A_ID'])].index(game['GAME_ID'])\n",
    "        \n",
    "        # pull out home / away team features for their previous game\n",
    "        h_data = features[\n",
    "            (features['TEAM'] == game['H_ID']) & \n",
    "            (features['GAME_ID'] == game_order[str(game['H_ID'])][h_game_idx - 1])\n",
    "        ]\n",
    "        a_data = features[\n",
    "            (features['TEAM'] == game['A_ID']) & \n",
    "            (features['GAME_ID'] == game_order[str(game['A_ID'])][a_game_idx - 1])\n",
    "        ]\n",
    "        \n",
    "        # skip games that don't have features for both home and away\n",
    "        if h_data.empty or a_data.empty:\n",
    "            continue\n",
    "\n",
    "        # clean features\n",
    "        h_data = h_data.iloc[0].drop(NON_FEATURE_COLS).values\n",
    "        a_data = a_data.iloc[0].drop(NON_FEATURE_COLS).values\n",
    "\n",
    "        # get the probability of winning next game\n",
    "        prob_h_win = clf.predict_proba([h_data])[0][1]\n",
    "        prob_a_win = clf.predict_proba([a_data])[0][1]\n",
    "        \n",
    "        # record prediction results, scores and label\n",
    "        y_pred.append(1 if prob_h_win >= prob_a_win else 0)\n",
    "        y_true.append(game['HOME_WIN'])\n",
    "        h_probs.append(prob_h_win)\n",
    "        a_probs.append(prob_a_win)\n",
    "\n",
    "    return y_pred, y_true, a_probs, h_probs"
   ]
  },
  {
   "cell_type": "code",
   "execution_count": 3,
   "metadata": {},
   "outputs": [
    {
     "data": {
      "text/plain": [
       "(2460, 30)"
      ]
     },
     "execution_count": 3,
     "metadata": {},
     "output_type": "execute_result"
    }
   ],
   "source": [
    "X_train, X_test, y_train, y_test, test_full = build_dataset()\n",
    "test_full.shape"
   ]
  },
  {
   "cell_type": "markdown",
   "metadata": {},
   "source": [
    "# Logistic Regression"
   ]
  },
  {
   "cell_type": "code",
   "execution_count": 4,
   "metadata": {
    "tags": []
   },
   "outputs": [],
   "source": [
    "def train_lr(**preprocess_args):\n",
    "    \"\"\"Train Logistic Regression model with grid search cv\"\"\"\n",
    "    # build dataset with given processing args\n",
    "    X_train, X_test, y_train, y_test, test_full = build_dataset(**preprocess_args)\n",
    "    \n",
    "    # StdScaler speeds up training quite a bit\n",
    "    pipe = Pipeline([\n",
    "        ('scaler', StandardScaler()),\n",
    "        ('clf', LogisticRegression(solver='liblinear', class_weight='balanced', random_state=STATE))\n",
    "    ])\n",
    "    params = {\n",
    "        'clf__C': [1.0, 0.8, 0.5],\n",
    "        'clf__penalty': ['l1', 'l2']\n",
    "    }\n",
    "\n",
    "    clf = GridSearchCV(pipe, param_grid=params, n_jobs=-1, cv=5)\n",
    "    clf.fit(X_train, y_train) \n",
    "    y_pred = clf.predict(X_test)\n",
    "\n",
    "    # local model results summary\n",
    "    print('**Local Model Results**')\n",
    "    print('-'*30)\n",
    "    print('F1 = ', f1_score(y_test, y_pred))\n",
    "    # print('Accuracy = ', accuracy_score(y_test, y_pred))\n",
    "    print('Best Parameters = ', clf.best_params_)\n",
    "    print('-'*30)\n",
    "\n",
    "    return clf.best_estimator_, test_full"
   ]
  },
  {
   "cell_type": "markdown",
   "metadata": {},
   "source": [
    "## Experiment 1: 5 Game Moving Average"
   ]
  },
  {
   "cell_type": "code",
   "execution_count": 5,
   "metadata": {
    "scrolled": true,
    "tags": []
   },
   "outputs": [
    {
     "name": "stdout",
     "output_type": "stream",
     "text": [
      "**Local Model Results**\n",
      "------------------------------\n",
      "F1 =  0.5863746958637469\n",
      "Best Parameters =  {'clf__C': 1.0, 'clf__penalty': 'l2'}\n",
      "------------------------------\n"
     ]
    }
   ],
   "source": [
    "clf_1, test_features_1 = train_lr(season_avg=False, window=5)"
   ]
  },
  {
   "cell_type": "code",
   "execution_count": 6,
   "metadata": {
    "scrolled": false
   },
   "outputs": [
    {
     "name": "stdout",
     "output_type": "stream",
     "text": [
      "F1 = 0.6369612250445967\n",
      "Accuracy = 0.6339434276206323\n"
     ]
    }
   ],
   "source": [
    "y_pred_1, y_true_1, *y_scores_1 = test_model(clf_1, test_features_1)\n",
    "\n",
    "print('F1 =', f1_score(y_true_1, y_pred_1, average='weighted'))\n",
    "print('Accuracy =', accuracy_score(y_pred_1, y_true_1))"
   ]
  },
  {
   "cell_type": "markdown",
   "metadata": {},
   "source": [
    "## Experiment 2: Season Average"
   ]
  },
  {
   "cell_type": "code",
   "execution_count": 7,
   "metadata": {
    "tags": []
   },
   "outputs": [
    {
     "name": "stdout",
     "output_type": "stream",
     "text": [
      "**Local Model Results**\n",
      "------------------------------\n",
      "F1 =  0.5957962813257882\n",
      "Best Parameters =  {'clf__C': 0.5, 'clf__penalty': 'l1'}\n",
      "------------------------------\n"
     ]
    }
   ],
   "source": [
    "clf_2, test_features_2 = train_lr(season_avg=True)"
   ]
  },
  {
   "cell_type": "code",
   "execution_count": 8,
   "metadata": {},
   "outputs": [
    {
     "name": "stdout",
     "output_type": "stream",
     "text": [
      "F1 = 0.5850550460950454\n",
      "Accuracy = 0.5815307820299501\n"
     ]
    }
   ],
   "source": [
    "y_pred_2, y_true_2, *y_scores_2 = test_model(clf_2, test_features_2)\n",
    "\n",
    "print('F1 =', f1_score(y_true_2, y_pred_2, average='weighted'))\n",
    "print('Accuracy =', accuracy_score(y_pred_2, y_true_2))"
   ]
  },
  {
   "cell_type": "markdown",
   "metadata": {},
   "source": [
    "## Experiment 3: 5 Game Moving Average, drop percentages"
   ]
  },
  {
   "cell_type": "code",
   "execution_count": 9,
   "metadata": {
    "tags": []
   },
   "outputs": [
    {
     "name": "stdout",
     "output_type": "stream",
     "text": [
      "**Local Model Results**\n",
      "------------------------------\n",
      "F1 =  0.5876163496560096\n",
      "Best Parameters =  {'clf__C': 1.0, 'clf__penalty': 'l2'}\n",
      "------------------------------\n"
     ]
    }
   ],
   "source": [
    "clf_3, test_features_3 = train_lr(season_avg=False, drop_percentages=True)"
   ]
  },
  {
   "cell_type": "code",
   "execution_count": 10,
   "metadata": {},
   "outputs": [
    {
     "name": "stdout",
     "output_type": "stream",
     "text": [
      "F1 = 0.6336423125636377\n",
      "Accuracy = 0.6306156405990017\n"
     ]
    }
   ],
   "source": [
    "y_pred_3, y_true_3, *y_scores_3 = test_model(clf_3, test_features_3)\n",
    "\n",
    "print('F1 =', f1_score(y_true_3, y_pred_3, average='weighted'))\n",
    "print('Accuracy =', accuracy_score(y_pred_3, y_true_3))"
   ]
  },
  {
   "cell_type": "markdown",
   "metadata": {},
   "source": [
    "## Experiment 4: Using Traditional Stats Only"
   ]
  },
  {
   "cell_type": "code",
   "execution_count": 7,
   "metadata": {
    "tags": []
   },
   "outputs": [
    {
     "name": "stdout",
     "output_type": "stream",
     "text": [
      "**Local Model Results**\n",
      "------------------------------\n",
      "F1 =  0.5813858138581386\n",
      "Best Parameters =  {'clf__C': 0.5, 'clf__penalty': 'l1'}\n",
      "------------------------------\n"
     ]
    }
   ],
   "source": [
    "clf_4, test_features_4 = train_lr(season_avg=False, window=5, drop_adv=True)"
   ]
  },
  {
   "cell_type": "code",
   "execution_count": 8,
   "metadata": {},
   "outputs": [
    {
     "name": "stdout",
     "output_type": "stream",
     "text": [
      "F1 = 0.6279515298053413\n",
      "Accuracy = 0.6247920133111481\n"
     ]
    }
   ],
   "source": [
    "y_pred_4, y_true_4, *y_scores_4 = test_model(clf_4, test_features_4)\n",
    "\n",
    "print('F1 =', f1_score(y_true_4, y_pred_4, average='weighted'))\n",
    "print('Accuracy =', accuracy_score(y_pred_4, y_true_4))"
   ]
  },
  {
   "cell_type": "code",
   "execution_count": 11,
   "metadata": {},
   "outputs": [
    {
     "data": {
      "image/png": "[encoded data removed]",
      "text/plain": [
       "<Figure size 720x576 with 3 Axes>"
      ]
     },
     "metadata": {
      "needs_background": "light"
     },
     "output_type": "display_data"
    }
   ],
   "source": [
    "fig = run_metrics(\n",
    "    [y_pred_1, y_pred_4], \n",
    "    [y_true_1, y_true_4], \n",
    "    [y_scores_1[1], y_scores_4[1]]\n",
    ")\n",
    "fig.savefig('plots/teams-LR.pdf', bbox_inches='tight')"
   ]
  },
  {
   "cell_type": "markdown",
   "metadata": {},
   "source": [
    "# Random Forest"
   ]
  },
  {
   "cell_type": "code",
   "execution_count": 12,
   "metadata": {},
   "outputs": [],
   "source": [
    "def train_rf(**preprocess_args):\n",
    "    \"\"\"Train Random Forest model with grid search cv\"\"\"\n",
    "    # build dataset with given processing args\n",
    "    X_train, X_test, y_train, y_test, test_full = build_dataset(**preprocess_args)\n",
    "    \n",
    "    # exclude HOME feature from kbins\n",
    "    ct = ColumnTransformer([\n",
    "        ('kbins', KBinsDiscretizer(encode='onehot-dense'), slice(1, X_train.shape[1]))\n",
    "    ], remainder='passthrough')\n",
    "    \n",
    "    rf = RandomForestClassifier(class_weight='balanced', random_state=STATE)\n",
    "    rf_pipe = Pipeline([\n",
    "        ('tf', ct),\n",
    "        ('rf', rf)\n",
    "    ])\n",
    "    \n",
    "    params = {\n",
    "        'tf__kbins__strategy': ['kmeans', 'quantile'],\n",
    "        'tf__kbins__n_bins': [3, 5],\n",
    "        'rf__n_estimators': [300, 500],\n",
    "        'rf__min_samples_leaf': [1, 3]\n",
    "    }\n",
    "\n",
    "    clf = GridSearchCV(rf_pipe, param_grid=params, n_jobs=-1, cv=5)\n",
    "    clf.fit(X_train, y_train) \n",
    "    y_pred = clf.predict(X_test)\n",
    "\n",
    "    # local model results summary\n",
    "    print('**Local Model Results**')\n",
    "    print('-'*30)\n",
    "    print('F1 = ', f1_score(y_test, y_pred))\n",
    "#     print('Accuracy = ', accuracy_score(y_test, y_pred))\n",
    "    print('Best Parameters = ', clf.best_params_)\n",
    "    print('-'*30)\n",
    "\n",
    "    return clf.best_estimator_, test_full"
   ]
  },
  {
   "cell_type": "markdown",
   "metadata": {},
   "source": [
    "## Experiment 1: 5 Game Moving Average"
   ]
  },
  {
   "cell_type": "code",
   "execution_count": 13,
   "metadata": {},
   "outputs": [
    {
     "name": "stdout",
     "output_type": "stream",
     "text": [
      "**Local Model Results**\n",
      "------------------------------\n",
      "F1 =  0.5702547247329498\n",
      "Best Parameters =  {'rf__min_samples_leaf': 3, 'rf__n_estimators': 300, 'tf__kbins__n_bins': 3, 'tf__kbins__strategy': 'kmeans'}\n",
      "------------------------------\n"
     ]
    }
   ],
   "source": [
    "clf_5, test_features_5 = train_rf(season_avg=False, window=5)"
   ]
  },
  {
   "cell_type": "code",
   "execution_count": 14,
   "metadata": {},
   "outputs": [
    {
     "name": "stdout",
     "output_type": "stream",
     "text": [
      "F1 = 0.6015624623922925\n",
      "Accuracy = 0.5981697171381032\n"
     ]
    }
   ],
   "source": [
    "y_pred_5, y_true_5, *y_scores_5 = test_model(clf_5, test_features_5)\n",
    "\n",
    "print('F1 =', f1_score(y_true_5, y_pred_5, average='weighted'))\n",
    "print('Accuracy =', accuracy_score(y_pred_5, y_true_5))"
   ]
  },
  {
   "cell_type": "markdown",
   "metadata": {},
   "source": [
    "## Experiment 2: Season Average"
   ]
  },
  {
   "cell_type": "code",
   "execution_count": 17,
   "metadata": {},
   "outputs": [
    {
     "name": "stdout",
     "output_type": "stream",
     "text": [
      "**Local Model Results**\n",
      "------------------------------\n",
      "F1 =  0.5883326437732728\n",
      "Best Parameters =  {'rf__min_samples_leaf': 3, 'rf__n_estimators': 500, 'tf__kbins__n_bins': 5, 'tf__kbins__strategy': 'quantile'}\n",
      "------------------------------\n"
     ]
    }
   ],
   "source": [
    "clf_6, test_features_6 = train_rf(season_avg=True)"
   ]
  },
  {
   "cell_type": "code",
   "execution_count": 18,
   "metadata": {},
   "outputs": [
    {
     "name": "stdout",
     "output_type": "stream",
     "text": [
      "F1 = 0.5949364080100435\n",
      "Accuracy = 0.591514143094842\n"
     ]
    }
   ],
   "source": [
    "y_pred_6, y_true_6, *y_scores_6 = test_model(clf_6, test_features_6)\n",
    "\n",
    "print('F1 =', f1_score(y_true_6, y_pred_6, average='weighted'))\n",
    "print('Accuracy =', accuracy_score(y_pred_6, y_true_6))"
   ]
  },
  {
   "cell_type": "markdown",
   "metadata": {},
   "source": [
    "## Experiment 3: 5 Game Moving Average, drop percentages"
   ]
  },
  {
   "cell_type": "code",
   "execution_count": 13,
   "metadata": {},
   "outputs": [
    {
     "name": "stdout",
     "output_type": "stream",
     "text": [
      "**Local Model Results**\n",
      "------------------------------\n",
      "F1 =  0.5756457564575644\n",
      "Best Parameters =  {'rf__min_samples_leaf': 3, 'rf__n_estimators': 500, 'tf__kbins__n_bins': 3, 'tf__kbins__strategy': 'quantile'}\n",
      "------------------------------\n"
     ]
    }
   ],
   "source": [
    "clf_7, test_features_7 = train_rf(season_avg=False, drop_percentages=True)"
   ]
  },
  {
   "cell_type": "code",
   "execution_count": 14,
   "metadata": {},
   "outputs": [
    {
     "name": "stdout",
     "output_type": "stream",
     "text": [
      "F1 = 0.6098116867734046\n",
      "Accuracy = 0.6064891846921797\n"
     ]
    }
   ],
   "source": [
    "y_pred_7, y_true_7, *y_scores_7 = test_model(clf_7, test_features_7)\n",
    "\n",
    "print('F1 =', f1_score(y_true_7, y_pred_7, average='weighted'))\n",
    "print('Accuracy =', accuracy_score(y_pred_7, y_true_7))"
   ]
  },
  {
   "cell_type": "markdown",
   "metadata": {},
   "source": [
    "## Experiment 4: Using traditional only"
   ]
  },
  {
   "cell_type": "code",
   "execution_count": 15,
   "metadata": {},
   "outputs": [
    {
     "name": "stdout",
     "output_type": "stream",
     "text": [
      "**Local Model Results**\n",
      "------------------------------\n",
      "F1 =  0.5679709560306576\n",
      "Best Parameters =  {'rf__min_samples_leaf': 3, 'rf__n_estimators': 500, 'tf__kbins__n_bins': 3, 'tf__kbins__strategy': 'quantile'}\n",
      "------------------------------\n"
     ]
    }
   ],
   "source": [
    "clf_8, test_features_8 = train_rf(season_avg=False, window=5, drop_adv=True)"
   ]
  },
  {
   "cell_type": "code",
   "execution_count": 16,
   "metadata": {},
   "outputs": [
    {
     "name": "stdout",
     "output_type": "stream",
     "text": [
      "F1 = 0.5858407312286701\n",
      "Accuracy = 0.5823627287853578\n"
     ]
    }
   ],
   "source": [
    "y_pred_8, y_true_8, *y_scores_8 = test_model(clf_8, test_features_8)\n",
    "\n",
    "print('F1 =', f1_score(y_true_8, y_pred_8, average='weighted'))\n",
    "print('Accuracy =', accuracy_score(y_pred_8, y_true_8))"
   ]
  },
  {
   "cell_type": "code",
   "execution_count": 17,
   "metadata": {},
   "outputs": [
    {
     "data": {
      "image/png": "[encoded data removed]",
      "text/plain": [
       "<Figure size 720x576 with 3 Axes>"
      ]
     },
     "metadata": {
      "needs_background": "light"
     },
     "output_type": "display_data"
    }
   ],
   "source": [
    "fig = run_metrics(\n",
    "    [y_pred_5, y_pred_8], \n",
    "    [y_true_5, y_true_8], \n",
    "    [y_scores_5[1], y_scores_8[1]]\n",
    ")\n",
    "fig.savefig('plots/teams-RF.pdf', bbox_inches='tight')"
   ]
  },
  {
   "cell_type": "code",
   "execution_count": null,
   "metadata": {},
   "outputs": [],
   "source": []
  }
 ],
 "metadata": {
  "kernelspec": {
   "display_name": "nba_game_pred",
   "language": "python",
   "name": "nba_game_pred"
  },
  "language_info": {
   "codemirror_mode": {
    "name": "ipython",
    "version": 3
   },
   "file_extension": ".py",
   "mimetype": "text/x-python",
   "name": "python",
   "nbconvert_exporter": "python",
   "pygments_lexer": "ipython3",
   "version": "3.7.8"
  }
 },
 "nbformat": 4,
 "nbformat_minor": 2
}
