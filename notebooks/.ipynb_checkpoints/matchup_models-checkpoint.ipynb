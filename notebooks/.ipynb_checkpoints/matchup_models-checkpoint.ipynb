{
 "cells": [
  {
   "cell_type": "markdown",
   "metadata": {},
   "source": [
    "# NBA Game Prediction: Logistic Regression (Modelling Matchups)\n",
    "Written by Nicholas Cannon"
   ]
  },
  {
   "cell_type": "code",
   "execution_count": 5,
   "metadata": {},
   "outputs": [],
   "source": [
    "import os\n",
    "import pandas as pd\n",
    "import numpy as np\n",
    "import matplotlib.pyplot as plt\n",
    "import matplotlib.gridspec as gridspec\n",
    "from collections import defaultdict\n",
    "\n",
    "from sklearn.ensemble import RandomForestClassifier\n",
    "from sklearn.linear_model import LogisticRegression\n",
    "\n",
    "from sklearn.model_selection import GridSearchCV, train_test_split\n",
    "from sklearn.pipeline import Pipeline\n",
    "from sklearn.base import BaseEstimator\n",
    "\n",
    "from sklearn.preprocessing import (\n",
    "    OneHotEncoder, StandardScaler, KBinsDiscretizer, MinMaxScaler\n",
    ")\n",
    "\n",
    "from sklearn.metrics import (\n",
    "    confusion_matrix, f1_score, accuracy_score, ConfusionMatrixDisplay,\n",
    "    roc_curve, auc, RocCurveDisplay, precision_recall_curve,\n",
    "    PrecisionRecallDisplay\n",
    ")\n",
    "\n",
    "%matplotlib inline\n",
    "\n",
    "DATA_DIR = os.path.join('..', 'data', 'processed', 'games')\n",
    "STATE = 0"
   ]
  },
  {
   "cell_type": "code",
   "execution_count": 154,
   "metadata": {},
   "outputs": [],
   "source": [
    "def run_metrics(y_pred, y_true, y_score=None, cf_only=False):\n",
    "    \"\"\"Display Standard graphs and metrics for model evaluation\"\"\"\n",
    "    print('F1 =', f1_score(y_true, y_pred, average='weighted'))\n",
    "    print('n games =', len(y_pred))\n",
    "    \n",
    "    # CF Matrix\n",
    "    cf = ConfusionMatrixDisplay(\n",
    "        confusion_matrix(y_true, y_pred),\n",
    "        display_labels=['Home Lose', 'Home Win']\n",
    "    )\n",
    "    \n",
    "    if not cf_only:\n",
    "        fig = plt.figure(figsize=(10, 7))\n",
    "        gs = gridspec.GridSpec(2, 4)\n",
    "        gs.update(wspace=1)\n",
    "        ax1 = plt.subplot(gs[0, :2])\n",
    "        ax2 = plt.subplot(gs[0, 2:])\n",
    "        ax3 = plt.subplot(gs[1, 1:3])\n",
    "\n",
    "        # fig, (ax1, ax2, ax3) = plt.subplots(1, 3, figsize=(17, 4))\n",
    "    \n",
    "        # set cf matrix ylabel rotation\n",
    "        ax1.set_yticklabels(ax1.get_yticklabels(), rotation=90, va='center')\n",
    "        \n",
    "        ax2.set_xlim((0, 1))\n",
    "        ax2.set_ylim((0, 1.01))\n",
    "        ax3.set_xlim((0, 1))\n",
    "        ax3.set_ylim((0, 1.01))\n",
    "        ax2.set_aspect('equal', 'box')\n",
    "        ax3.set_aspect('equal', 'box')\n",
    "        \n",
    "        cf.plot(cmap=plt.cm.Blues, ax=ax1)\n",
    "        \n",
    "        # ROC Curve\n",
    "        fpr, tpr, _ = roc_curve(y_true, y_score)\n",
    "        RocCurveDisplay(fpr=fpr, tpr=tpr, roc_auc=auc(fpr, tpr)).plot(ax=ax2)\n",
    "\n",
    "        # PR Curve\n",
    "        prec, recall, _ = precision_recall_curve(y_true, y_score)\n",
    "        PrecisionRecallDisplay(precision=prec, recall=recall).plot(ax=ax3)\n",
    "    else:\n",
    "        fig, ax = plt.subplots(1, 1, figsize=(5, 4))\n",
    "        cf.plot(cmap=plt.cm.Blues, ax=ax)\n",
    "        plt.yticks(rotation=90, va='center')\n",
    "    \n",
    "    plt.show()\n",
    "    return fig\n",
    "\n",
    "\n",
    "def load_season(season):\n",
    "    \"\"\"Load season data and apply basic preprocessing\"\"\"\n",
    "    df = pd.read_csv(os.path.join(DATA_DIR, season))\n",
    "    df['DATE'] = pd.to_datetime(df['DATE'])\n",
    "    df.sort_values('DATE', inplace=True)\n",
    "    df.reset_index(drop=True, inplace=True)\n",
    "\n",
    "    return df\n",
    "\n",
    "\n",
    "def get_matchup_games(df, team1, team2):\n",
    "    \"\"\"Return all games played between both teams\"\"\"\n",
    "    df1 = df[(df['H_ID'] == team1) ^ (df['A_ID'] == team1)]\n",
    "    df2 = df[(df['H_ID'] == team2) ^ (df['A_ID'] == team2)]\n",
    "    games = pd.merge(df1, df2, on='GAME_ID')['GAME_ID']\n",
    "\n",
    "    return df[df['GAME_ID'].isin(games)]"
   ]
  },
  {
   "cell_type": "code",
   "execution_count": 115,
   "metadata": {},
   "outputs": [],
   "source": [
    "class ProcessFeatures(BaseEstimator):\n",
    "    \n",
    "    def __init__(self, avg_cols, return_df=False, window=5):\n",
    "        self.team_enc = OneHotEncoder(sparse=False)\n",
    "        self.return_df = return_df\n",
    "        self.window = window\n",
    "        self.avg_cols = avg_cols\n",
    "    \n",
    "    def fit(self, X, y=None):\n",
    "        self._check_df(X)\n",
    "        self.team_enc.fit(X[['H_ID', 'A_ID']])\n",
    "        self.t_cols = [\n",
    "            *('{}_h'.format(idx) for idx in self.team_enc.categories_[0]),\n",
    "            *('{}_a'.format(idx) for idx in self.team_enc.categories_[1])\n",
    "        ]\n",
    "        \n",
    "        return self\n",
    "    \n",
    "    def transform(self, X):\n",
    "        self._check_df(X)\n",
    "        X = X.copy() # make a copy to prevent changes being made\n",
    "        \n",
    "        # compute features\n",
    "        h_won_last = X.apply(self._home_won_last, args=[{}], axis=1)\n",
    "        h_leader = X.apply(self._home_series_leader, args=[defaultdict(list)], axis=1)\n",
    "        teams = self.team_enc.transform(X[['H_ID', 'A_ID']])\n",
    "        teams = pd.DataFrame(data=teams, columns=self.t_cols)\n",
    "        \n",
    "        # compute feature averages for home / away teams\n",
    "        h_avgs = (\n",
    "            X.groupby('H_ID')\n",
    "                [['H_{}'.format(col) for col in self.avg_cols]]\n",
    "                .rolling(self.window).mean()  # Compute rolling mean\n",
    "                .groupby('H_ID')              # Group by H_ID again\n",
    "                .shift(1)                     # Ensure avg is from prev game\n",
    "                .droplevel(0)                 # drop top level index (H_ID)\n",
    "                .sort_index()\n",
    "        )\n",
    "        a_avgs = (\n",
    "            X.groupby('A_ID')\n",
    "                [['A_{}'.format(col) for col in self.avg_cols]]\n",
    "                .rolling(self.window).mean()  # Compute rolling mean\n",
    "                .groupby('A_ID')              # Group by A_ID again\n",
    "                .shift(1)                     # Ensure avg is from prev game\n",
    "                .droplevel(0)                 # drop top level index (A_ID)\n",
    "                .sort_index()\n",
    "        )\n",
    "\n",
    "        # compute differential stats and rename\n",
    "        diff = a_avgs - h_avgs.values\n",
    "        diff.columns = self.avg_cols\n",
    "        \n",
    "        # combine all features\n",
    "        data = pd.concat([\n",
    "            diff,\n",
    "            h_won_last.rename('H_WON_LAST'),\n",
    "            h_leader.rename('H_LEADER'),\n",
    "            teams,\n",
    "            X[['HOME_WIN']]\n",
    "        ], axis=1)\n",
    "        self.columns = data.columns\n",
    "        \n",
    "        if self.return_df:\n",
    "            return data\n",
    "        else:\n",
    "            return data.dropna().values\n",
    "        \n",
    "    def fit_transform(self, X, y=None):\n",
    "        self._check_df(X)\n",
    "        return self.fit(X).transform(X)\n",
    "    \n",
    "    def _check_df(self, X):\n",
    "        if not isinstance(X, pd.DataFrame):\n",
    "            raise ValueError('X must be a pandas DataFrame')\n",
    "            \n",
    "    \"\"\"PANDAS TRANSFORMATION METHODS\"\"\"\n",
    "    \n",
    "    @classmethod\n",
    "    def _home_series_leader(cls, row, series_history):\n",
    "        \"\"\"Computes whether or not the home team is the series leader\"\"\"\n",
    "        matchup_id = tuple(sorted([row['H_ID'], row['A_ID']]))\n",
    "\n",
    "        # get series history, count wins and which team is the leader\n",
    "        series = series_history.get(matchup_id, None)\n",
    "        if series is None:\n",
    "            home_leader = 1\n",
    "        else:\n",
    "            home_leader = int(series.count(row['H_ID']) >= series.count(row['A_ID']))\n",
    "\n",
    "        # add game winner to series history\n",
    "        series_history[matchup_id].append(row['H_ID'] if row['HOME_WIN'] else row['A_ID'])\n",
    "        return home_leader\n",
    "    \n",
    "    @classmethod \n",
    "    def _home_won_last(cls, row, last_games):\n",
    "        \"\"\"Computes whether or not the home team won the last matchup. \"\"\"\n",
    "        matchup_id = tuple(sorted([row['H_ID'], row['A_ID']]))\n",
    "\n",
    "        # get winner of previous game, if no game exists pick home team\n",
    "        last_winner = last_games.get(matchup_id, None)\n",
    "        if last_winner is None:\n",
    "            home_won = 1\n",
    "        else:\n",
    "            home_won = 1 if row['H_ID'] == last_winner else 0\n",
    "\n",
    "        # update last game for this matchup\n",
    "        last_games[matchup_id] = row['H_ID'] if row['HOME_WIN'] else row['A_ID']\n",
    "        return home_won"
   ]
  },
  {
   "cell_type": "code",
   "execution_count": 110,
   "metadata": {},
   "outputs": [],
   "source": [
    "# adv_cols = ['DEF_RATING', 'OFF_RATING', 'TS_PCT', 'EFG_PCT',\n",
    "#             'PASS', 'PACE', 'TCHS', 'TM_TOV_PCT', 'CFGM', \n",
    "#            'CFGA', 'UFGM', 'UFGA', 'DIST']\n",
    "\n",
    "# tester = load_season('2018-full.csv')\n",
    "# pf_t = ProcessFeatures(adv_cols)\n",
    "# pf_t = pf_t.fit_transform(tester)\n",
    "# pf_t.shape"
   ]
  },
  {
   "cell_type": "markdown",
   "metadata": {},
   "source": [
    "# Baseline Models"
   ]
  },
  {
   "cell_type": "code",
   "execution_count": 106,
   "metadata": {},
   "outputs": [
    {
     "data": {
      "text/plain": [
       "1    729\n",
       "0    501\n",
       "Name: HOME_WIN, dtype: int64"
      ]
     },
     "execution_count": 106,
     "metadata": {},
     "output_type": "execute_result"
    }
   ],
   "source": [
    "df_test = load_season('2018-full.csv')\n",
    "df_test['HOME_WIN'].value_counts()"
   ]
  },
  {
   "cell_type": "markdown",
   "metadata": {},
   "source": [
    "## Always pick home team"
   ]
  },
  {
   "cell_type": "code",
   "execution_count": 97,
   "metadata": {
    "tags": []
   },
   "outputs": [
    {
     "name": "stdout",
     "output_type": "stream",
     "text": [
      "F1 = 0.44110857953908783\n",
      "n games = 1230\n"
     ]
    },
    {
     "data": {
      "image/png": "[encoded data removed]",
      "text/plain": [
       "<Figure size 360x288 with 2 Axes>"
      ]
     },
     "metadata": {
      "needs_background": "light"
     },
     "output_type": "display_data"
    }
   ],
   "source": [
    "y_home = np.ones((df_test.shape[0],))\n",
    "fig = run_metrics(y_home, df_test['HOME_WIN'], cf_only=True)\n",
    "fig.savefig('plots/baseline-home-team.pdf', bbox_inches='tight')"
   ]
  },
  {
   "cell_type": "markdown",
   "metadata": {},
   "source": [
    "## Always pick the team who won last matchup\n",
    "Pick the team who won the last matchup, if no previous matchup exists pick the home team."
   ]
  },
  {
   "cell_type": "code",
   "execution_count": 98,
   "metadata": {},
   "outputs": [],
   "source": [
    "df_test['H_WON_LAST'] = df_test.apply(ProcessFeatures._home_won_last, args=[{}], axis=1)\n",
    "    \n",
    "# Feature validation\n",
    "# matchup = get_matchup_games(df, 1610612739, 1610612766)\n",
    "# matchup[['A_ID', 'H_ID', 'HOME_WIN', 'H_WON_LAST']]"
   ]
  },
  {
   "cell_type": "code",
   "execution_count": 99,
   "metadata": {
    "tags": []
   },
   "outputs": [
    {
     "name": "stdout",
     "output_type": "stream",
     "text": [
      "F1 = 0.5387556943017995\n",
      "n games = 1230\n"
     ]
    },
    {
     "data": {
      "image/png": "[encoded data removed]",
      "text/plain": [
       "<Figure size 360x288 with 2 Axes>"
      ]
     },
     "metadata": {
      "needs_background": "light"
     },
     "output_type": "display_data"
    }
   ],
   "source": [
    "y_last_win = df_test['H_WON_LAST']\n",
    "fig = run_metrics(y_last_win, df_test['HOME_WIN'], cf_only=True)\n",
    "fig.savefig('plots/baseline-last-matchup.pdf', bbox_inches='tight')"
   ]
  },
  {
   "cell_type": "markdown",
   "metadata": {},
   "source": [
    "## Always pick the series leader\n",
    "Pick Home team if the series is tied"
   ]
  },
  {
   "cell_type": "code",
   "execution_count": 34,
   "metadata": {},
   "outputs": [],
   "source": [
    "df_test['H_LEADER'] = df_test.apply(ProcessFeatures._home_series_leader, args=[defaultdict(list)], axis=1)\n",
    "\n",
    "# Feature validation\n",
    "# matchup = get_matchup_games(df, 1610612739, 1610612766)\n",
    "# matchup[['A_ID', 'H_ID', 'HOME_WIN', 'H_LEADER']]"
   ]
  },
  {
   "cell_type": "code",
   "execution_count": 35,
   "metadata": {},
   "outputs": [
    {
     "name": "stdout",
     "output_type": "stream",
     "text": [
      "F1 = 0.5605965466967578\n",
      "n games = 1230\n"
     ]
    },
    {
     "data": {
      "image/png": "[encoded data removed]",
      "text/plain": [
       "<Figure size 360x288 with 2 Axes>"
      ]
     },
     "metadata": {
      "needs_background": "light"
     },
     "output_type": "display_data"
    }
   ],
   "source": [
    "y_series_leader = df_test['H_LEADER']\n",
    "fig = run_metrics(y_series_leader, df_test['HOME_WIN'], cf_only=True)\n",
    "fig.savefig('plots/baseline-series-leader.pdf', bbox_inches='tight')"
   ]
  },
  {
   "cell_type": "markdown",
   "metadata": {},
   "source": [
    "## Data Prep"
   ]
  },
  {
   "cell_type": "code",
   "execution_count": 36,
   "metadata": {},
   "outputs": [],
   "source": [
    "# load training data\n",
    "df_train = load_season('2017-full.csv')\n",
    "df_test = pd.concat([\n",
    "    df_train, # rolls data into 2018 season\n",
    "    load_season('2018-full.csv')\n",
    "], ignore_index=True)\n",
    "\n",
    "adv_cols = ['DEF_RATING', 'OFF_RATING', 'TS_PCT', 'EFG_PCT',\n",
    "            'PASS', 'PACE', 'TCHS', 'TM_TOV_PCT', 'CFGM', \n",
    "           'CFGA', 'UFGM', 'UFGA', 'DIST']\n",
    "trad_cols = ['FG_PCT', 'FG3_PCT', 'FT_PCT', 'OREB', 'DREB', \n",
    "             'AST', 'STL', 'BLK', 'TO', 'PF', 'PTS', 'PLUS_MIN']\n",
    "\n",
    "\n",
    "# ADVANCED FEATURES\n",
    "pf = ProcessFeatures(adv_cols, return_df=True)\n",
    "df_train_adv = pf.fit_transform(df_train)\n",
    "df_test_adv = pf.transform(df_test)\n",
    "\n",
    "# convert to numpy and drop training data from test\n",
    "df_train_adv = df_train_adv.dropna().values\n",
    "df_test_adv = df_test_adv[1230:].values # IMPORTANT!!\n",
    "\n",
    "# split features and labels\n",
    "X_train_adv, y_train_adv = df_train_adv[:, :-1], df_train_adv[:, -1]\n",
    "X_test_adv, y_test_adv = df_test_adv[:, :-1], df_test_adv[:, -1]\n",
    "\n",
    "# discretize continuous features!!\n",
    "# kbins = KBinsDiscretizer(encode='onehot-dense', strategy='quantile', n_bins=5)\n",
    "# X_train_adv[:, :len(pf.avg_cols)] = kbins.fit_transform(X_train_adv[:, :len(pf.avg_cols)])\n",
    "# X_test_adv[:, :len(pf.avg_cols)] = kbins.transform(X_test_adv[:, :len(pf.avg_cols)])"
   ]
  },
  {
   "cell_type": "code",
   "execution_count": 37,
   "metadata": {},
   "outputs": [],
   "source": [
    "# TRADITIONAL FEATURES\n",
    "pf_trad = ProcessFeatures(trad_cols, return_df=True)\n",
    "df_train_trad = pf_trad.fit_transform(df_train)\n",
    "df_test_trad = pf_trad.transform(df_test)\n",
    "\n",
    "# convert to numpy and drop training data from test\n",
    "df_train_trad = df_train_trad.dropna().values\n",
    "df_test_trad = df_test_trad[1230:].values # IMPORTANT!!\n",
    "\n",
    "# split features and labels\n",
    "X_train_trad, y_train_trad = df_train_trad[:, :-1], df_train_trad[:, -1]\n",
    "X_test_trad, y_test_trad = df_test_trad[:, :-1], df_test_trad[:, -1]\n",
    "\n",
    "# # discretize continuous features!!\n",
    "# kbins_trad = KBinsDiscretizer(encode='ordinal', strategy='kmeans', n_bins=3)\n",
    "# X_train_trad[:, :len(pf_trad.avg_cols)] = kbins_trad.fit_transform(X_train_trad[:, :len(pf_trad.avg_cols)])\n",
    "# X_test_trad[:, :len(pf_trad.avg_cols)] = kbins_trad.transform(X_test_trad[:, :len(pf_trad.avg_cols)])"
   ]
  },
  {
   "cell_type": "markdown",
   "metadata": {},
   "source": [
    "# Linear Regression Model"
   ]
  },
  {
   "cell_type": "code",
   "execution_count": 155,
   "metadata": {
    "tags": []
   },
   "outputs": [
    {
     "data": {
      "text/plain": [
       "{'C': 0.8, 'penalty': 'l1'}"
      ]
     },
     "execution_count": 155,
     "metadata": {},
     "output_type": "execute_result"
    }
   ],
   "source": [
    "lr = LogisticRegression(solver='liblinear', class_weight='balanced', random_state=STATE)\n",
    "lr_params = {\n",
    "    'penalty': ['l1', 'l2', 'none'],\n",
    "    'C': [1.0, 0.8, 0.5]\n",
    "}\n",
    "\n",
    "clf_1 = GridSearchCV(estimator=lr, param_grid=lr_params, cv=5, scoring='f1', n_jobs=-1)\n",
    "clf_1.fit(X_train_adv, y_train_adv)\n",
    "clf_1.best_params_"
   ]
  },
  {
   "cell_type": "code",
   "execution_count": 156,
   "metadata": {},
   "outputs": [
    {
     "name": "stdout",
     "output_type": "stream",
     "text": [
      "F1 = 0.6356166110733178\n",
      "n games = 1230\n"
     ]
    },
    {
     "name": "stderr",
     "output_type": "stream",
     "text": [
      "/Users/Nicholas/software/projects/nba_game_pred/env/lib/python3.7/site-packages/ipykernel_launcher.py:23: UserWarning: FixedFormatter should only be used together with FixedLocator\n"
     ]
    },
    {
     "data": {
      "image/png": "[encoded data removed]",
      "text/plain": [
       "<Figure size 720x504 with 4 Axes>"
      ]
     },
     "metadata": {
      "needs_background": "light"
     },
     "output_type": "display_data"
    }
   ],
   "source": [
    "y_score_1 = clf_1.predict_proba(X_test_adv)\n",
    "y_pred_1 = (y_score_1[:, 1] >= 0.5).astype(int)\n",
    "fig = run_metrics(y_pred_1, y_test_adv, y_score=y_score_1[:, 1])\n",
    "fig.savefig('plots/matchups-LR-adv.pdf', bbox_inches='tight')"
   ]
  },
  {
   "cell_type": "code",
   "execution_count": 157,
   "metadata": {},
   "outputs": [
    {
     "data": {
      "text/plain": [
       "0.6686217008797654"
      ]
     },
     "execution_count": 157,
     "metadata": {},
     "output_type": "execute_result"
    }
   ],
   "source": [
    "clf_1.score(X_test_adv, y_test_adv)"
   ]
  },
  {
   "cell_type": "markdown",
   "metadata": {},
   "source": [
    "## Using only traditional stats"
   ]
  },
  {
   "cell_type": "code",
   "execution_count": 158,
   "metadata": {},
   "outputs": [
    {
     "data": {
      "text/plain": [
       "{'C': 1.0, 'penalty': 'l1'}"
      ]
     },
     "execution_count": 158,
     "metadata": {},
     "output_type": "execute_result"
    }
   ],
   "source": [
    "clf_2 = GridSearchCV(estimator=lr, param_grid=lr_params, scoring='f1', cv=5, n_jobs=-1)\n",
    "clf_2.fit(X_train_trad, y_train_trad)\n",
    "clf_2.best_params_"
   ]
  },
  {
   "cell_type": "code",
   "execution_count": 159,
   "metadata": {},
   "outputs": [
    {
     "name": "stdout",
     "output_type": "stream",
     "text": [
      "F1 = 0.6209205449112458\n",
      "n games = 1230\n"
     ]
    },
    {
     "name": "stderr",
     "output_type": "stream",
     "text": [
      "/Users/Nicholas/software/projects/nba_game_pred/env/lib/python3.7/site-packages/ipykernel_launcher.py:23: UserWarning: FixedFormatter should only be used together with FixedLocator\n"
     ]
    },
    {
     "data": {
      "image/png": "[encoded data removed]",
      "text/plain": [
       "<Figure size 720x504 with 4 Axes>"
      ]
     },
     "metadata": {
      "needs_background": "light"
     },
     "output_type": "display_data"
    }
   ],
   "source": [
    "y_score_2 = clf_2.predict_proba(X_test_trad)\n",
    "y_pred_2 = (y_score_2[:, 1] >= 0.5).astype(int)\n",
    "fig = run_metrics(y_pred_2, y_test_trad, y_score=y_score_2[:, 1])\n",
    "fig.savefig('plots/matchups-LR-trad.pdf', bbox_inches='tight')"
   ]
  },
  {
   "cell_type": "code",
   "execution_count": 160,
   "metadata": {},
   "outputs": [
    {
     "data": {
      "text/plain": [
       "0.6589259796806967"
      ]
     },
     "execution_count": 160,
     "metadata": {},
     "output_type": "execute_result"
    }
   ],
   "source": [
    "clf_2.score(X_test_trad, y_test_trad)"
   ]
  },
  {
   "cell_type": "markdown",
   "metadata": {},
   "source": [
    "# Random Forest"
   ]
  },
  {
   "cell_type": "code",
   "execution_count": 161,
   "metadata": {},
   "outputs": [
    {
     "data": {
      "text/plain": [
       "{'min_samples_leaf': 1, 'n_estimators': 500}"
      ]
     },
     "execution_count": 161,
     "metadata": {},
     "output_type": "execute_result"
    }
   ],
   "source": [
    "rf = RandomForestClassifier(class_weight='balanced', random_state=STATE)\n",
    "rf_params = {\n",
    "    'n_estimators': [300, 500],\n",
    "    'min_samples_leaf': [1, 3]\n",
    "}\n",
    "\n",
    "# make copies for binning\n",
    "X_train_adv_binned = X_train_adv.copy()\n",
    "X_test_adv_binned = X_test_adv.copy()\n",
    "\n",
    "# discretize continuous features!!\n",
    "kbins = KBinsDiscretizer(encode='ordinal', strategy='kmeans', n_bins=3)\n",
    "X_train_adv_binned[:, :len(pf.avg_cols)] = kbins.fit_transform(X_train_adv[:, :len(pf.avg_cols)])\n",
    "X_test_adv_binned[:, :len(pf.avg_cols)] = kbins.transform(X_test_adv[:, :len(pf.avg_cols)])\n",
    "\n",
    "clf_3 = GridSearchCV(estimator=rf, param_grid=rf_params, cv=5, scoring='f1', n_jobs=-1)\n",
    "clf_3.fit(X_train_adv_binned, y_train_adv)\n",
    "clf_3.best_params_"
   ]
  },
  {
   "cell_type": "code",
   "execution_count": 162,
   "metadata": {},
   "outputs": [
    {
     "name": "stdout",
     "output_type": "stream",
     "text": [
      "F1 = 0.6128084968035005\n",
      "n games = 1230\n"
     ]
    },
    {
     "name": "stderr",
     "output_type": "stream",
     "text": [
      "/Users/Nicholas/software/projects/nba_game_pred/env/lib/python3.7/site-packages/ipykernel_launcher.py:23: UserWarning: FixedFormatter should only be used together with FixedLocator\n"
     ]
    },
    {
     "data": {
      "image/png": "[encoded data removed]",
      "text/plain": [
       "<Figure size 720x504 with 4 Axes>"
      ]
     },
     "metadata": {
      "needs_background": "light"
     },
     "output_type": "display_data"
    }
   ],
   "source": [
    "y_score_3 = clf_3.predict_proba(X_test_adv_binned)\n",
    "y_pred_3 = (y_score_3[:, 1] >= 0.5).astype(int)\n",
    "fig = run_metrics(y_pred_3, y_test_adv, y_score=y_score_3[:, 1])\n",
    "fig.savefig('plots/matchups-RF-adv.pdf', bbox_inches='tight')"
   ]
  },
  {
   "cell_type": "code",
   "execution_count": 163,
   "metadata": {},
   "outputs": [
    {
     "data": {
      "text/plain": [
       "0.6902423051735429"
      ]
     },
     "execution_count": 163,
     "metadata": {},
     "output_type": "execute_result"
    }
   ],
   "source": [
    "clf_3.score(X_test_adv_binned, y_test_adv)"
   ]
  },
  {
   "cell_type": "markdown",
   "metadata": {},
   "source": [
    "### Feature Importances!!"
   ]
  },
  {
   "cell_type": "code",
   "execution_count": 164,
   "metadata": {},
   "outputs": [
    {
     "name": "stdout",
     "output_type": "stream",
     "text": [
      "OFF_RATING 0.046464833955991644\n",
      "DEF_RATING 0.04423731909131417\n",
      "TM_TOV_PCT 0.040050770315290016\n",
      "PACE 0.03933802177655433\n",
      "CFGM 0.03625750512606446\n",
      "UFGA 0.03561462534681647\n",
      "CFGA 0.03486771546931186\n",
      "EFG_PCT 0.033132734561824896\n",
      "UFGM 0.03303701332744865\n",
      "TS_PCT 0.03248363735723976\n"
     ]
    }
   ],
   "source": [
    "f_imp_idx = list(reversed(np.argsort(clf_3.best_estimator_.feature_importances_)))[:10]\n",
    "f_imp_sorted = sorted(clf_3.best_estimator_.feature_importances_, reverse=True)[:10]\n",
    "\n",
    "for feature, importance in zip(pf.columns[f_imp_idx], f_imp_sorted):\n",
    "    print(feature, importance)"
   ]
  },
  {
   "cell_type": "markdown",
   "metadata": {},
   "source": [
    "## Using only traditional stats"
   ]
  },
  {
   "cell_type": "code",
   "execution_count": 165,
   "metadata": {},
   "outputs": [
    {
     "data": {
      "text/plain": [
       "{'min_samples_leaf': 1, 'n_estimators': 500}"
      ]
     },
     "execution_count": 165,
     "metadata": {},
     "output_type": "execute_result"
    }
   ],
   "source": [
    "# make copies for binning\n",
    "X_train_trad_binned = X_train_trad.copy()\n",
    "X_test_trad_binned = X_test_trad.copy()\n",
    "\n",
    "# discretize continuous features!!\n",
    "kbins = KBinsDiscretizer(encode='ordinal', strategy='kmeans', n_bins=3)\n",
    "X_train_trad_binned[:, :len(pf_trad.avg_cols)] = kbins.fit_transform(X_train_trad[:, :len(pf_trad.avg_cols)])\n",
    "X_test_trad_binned[:, :len(pf_trad.avg_cols)] = kbins.transform(X_test_trad[:, :len(pf_trad.avg_cols)])\n",
    "\n",
    "clf_4 = GridSearchCV(estimator=rf, param_grid=rf_params, cv=5, scoring='f1', n_jobs=-1)\n",
    "clf_4.fit(X_train_trad_binned, y_train_trad)\n",
    "clf_4.best_params_"
   ]
  },
  {
   "cell_type": "code",
   "execution_count": 166,
   "metadata": {},
   "outputs": [
    {
     "name": "stdout",
     "output_type": "stream",
     "text": [
      "F1 = 0.6257905139040166\n",
      "n games = 1230\n"
     ]
    },
    {
     "name": "stderr",
     "output_type": "stream",
     "text": [
      "/Users/Nicholas/software/projects/nba_game_pred/env/lib/python3.7/site-packages/ipykernel_launcher.py:23: UserWarning: FixedFormatter should only be used together with FixedLocator\n"
     ]
    },
    {
     "data": {
      "image/png": "[encoded data removed]",
      "text/plain": [
       "<Figure size 720x504 with 4 Axes>"
      ]
     },
     "metadata": {
      "needs_background": "light"
     },
     "output_type": "display_data"
    }
   ],
   "source": [
    "y_score_4 = clf_4.predict_proba(X_test_trad_binned)\n",
    "y_pred_4 = (y_score_4[:, 1] >= 0.5).astype(int)\n",
    "fig = run_metrics(y_pred_4, y_test_trad, y_score=y_score_4[:, 1])\n",
    "fig.savefig('plots/matchups-RF-trad.pdf', bbox_inches='tight')"
   ]
  },
  {
   "cell_type": "code",
   "execution_count": 167,
   "metadata": {},
   "outputs": [
    {
     "data": {
      "text/plain": [
       "0.7064160725858716"
      ]
     },
     "execution_count": 167,
     "metadata": {},
     "output_type": "execute_result"
    }
   ],
   "source": [
    "clf_4.score(X_test_trad_binned, y_test_trad)"
   ]
  },
  {
   "cell_type": "markdown",
   "metadata": {},
   "source": [
    "### Feature Importances (traditional stats)"
   ]
  },
  {
   "cell_type": "code",
   "execution_count": 168,
   "metadata": {},
   "outputs": [
    {
     "name": "stdout",
     "output_type": "stream",
     "text": [
      "PLUS_MIN 0.06107602161227703\n",
      "PTS 0.04233080391169445\n",
      "FT_PCT 0.03889565370711701\n",
      "OREB 0.03855557656293828\n",
      "FG_PCT 0.03845345479147442\n",
      "STL 0.03843344497721894\n",
      "BLK 0.03826945961800123\n",
      "FG3_PCT 0.037679683782516626\n",
      "TO 0.037597542266329394\n",
      "PF 0.03758768073025304\n"
     ]
    }
   ],
   "source": [
    "f_imp_idx_2 = list(reversed(np.argsort(clf_4.best_estimator_.feature_importances_)))[:10]\n",
    "f_imp_sorted_2 = sorted(clf_4.best_estimator_.feature_importances_, reverse=True)[:10]\n",
    "\n",
    "for feature, importance in zip(pf_trad.columns[f_imp_idx_2], f_imp_sorted_2):\n",
    "    print(feature, importance)"
   ]
  },
  {
   "cell_type": "markdown",
   "metadata": {},
   "source": [
    "# Neural Net"
   ]
  },
  {
   "cell_type": "code",
   "execution_count": 169,
   "metadata": {},
   "outputs": [],
   "source": [
    "from tensorflow import keras\n",
    "import tensorflow as tf\n",
    "from sklearn.utils.class_weight import compute_class_weight\n",
    "\n",
    "K = keras.backend\n",
    "tf.random.set_seed(STATE)\n",
    "\n",
    "def f1(y_true, y_pred):\n",
    "    \"\"\"Use keras backend to compute f1 metric\"\"\"\n",
    "    true_positives = K.sum(K.round(K.clip(y_true * y_pred, 0, 1)))\n",
    "    possible_positives = K.sum(K.round(K.clip(y_true, 0, 1)))\n",
    "    predicted_positives = K.sum(K.round(K.clip(y_pred, 0, 1)))\n",
    "    precision = true_positives / (predicted_positives + K.epsilon())\n",
    "    recall = true_positives / (possible_positives + K.epsilon())\n",
    "    f1_val = 2*(precision*recall)/(precision+recall+K.epsilon())\n",
    "    return f1_val"
   ]
  },
  {
   "cell_type": "code",
   "execution_count": 170,
   "metadata": {},
   "outputs": [],
   "source": [
    "# scale data between 0 and 1\n",
    "mm_scaler = MinMaxScaler()\n",
    "X_train_adv_s = mm_scaler.fit_transform(X_train_adv_binned) # USE BINNED DATA!!\n",
    "X_test_adv_s = mm_scaler.transform(X_test_adv_binned) # USE BINNED DATA!!\n",
    "\n",
    "# create a validation set from test set\n",
    "X_train_adv_s, X_val_adv_s, y_train_adv_s, y_val_adv_s = train_test_split(X_train_adv_s, y_train_adv,\n",
    "                                                                          test_size=0.1,\n",
    "                                                                          random_state=STATE)\n",
    "\n",
    "class_weights_1 = compute_class_weight('balanced', classes=np.unique(y_train_adv_s), \n",
    "                                     y=y_train_adv_s)\n",
    "class_weights_1 = {\n",
    "    0: class_weights_1[0],\n",
    "    1: class_weights_1[1],\n",
    "}"
   ]
  },
  {
   "cell_type": "code",
   "execution_count": 171,
   "metadata": {},
   "outputs": [],
   "source": [
    "ann_1 = keras.models.Sequential([\n",
    "    keras.layers.Input(shape=(X_train_adv_s.shape[1],)),\n",
    "    keras.layers.BatchNormalization(),\n",
    "    \n",
    "    keras.layers.Dense(32, activation='selu'),\n",
    "    keras.layers.Dropout(0.2),\n",
    "    keras.layers.BatchNormalization(),\n",
    "    \n",
    "    keras.layers.Dense(16, activation='selu'),\n",
    "    keras.layers.Dropout(0.2),\n",
    "    keras.layers.BatchNormalization(),\n",
    "    \n",
    "    keras.layers.Dense(1, activation='sigmoid'),\n",
    "])\n",
    "\n",
    "# METRICS = [keras.metrics.BinaryAccuracy(name='accuracy'), f1]\n",
    "METRICS = [f1]\n",
    "early_stop = keras.callbacks.EarlyStopping(patience=10, \n",
    "                                           restore_best_weights=True)\n",
    "\n",
    "ann_1.compile(loss='binary_crossentropy', optimizer='adam', metrics=METRICS)"
   ]
  },
  {
   "cell_type": "code",
   "execution_count": 172,
   "metadata": {
    "scrolled": true
   },
   "outputs": [
    {
     "name": "stdout",
     "output_type": "stream",
     "text": [
      "Epoch 1/100\n",
      "30/30 [==============================] - 0s 6ms/step - loss: 0.8305 - f1: 0.5229 - val_loss: 0.6748 - val_f1: 0.5700\n",
      "Epoch 2/100\n",
      "30/30 [==============================] - 0s 2ms/step - loss: 0.6929 - f1: 0.6219 - val_loss: 0.6696 - val_f1: 0.5970\n",
      "Epoch 3/100\n",
      "30/30 [==============================] - 0s 2ms/step - loss: 0.6815 - f1: 0.6591 - val_loss: 0.6660 - val_f1: 0.6102\n",
      "Epoch 4/100\n",
      "30/30 [==============================] - 0s 2ms/step - loss: 0.6648 - f1: 0.6526 - val_loss: 0.6617 - val_f1: 0.6222\n",
      "Epoch 5/100\n",
      "30/30 [==============================] - 0s 2ms/step - loss: 0.6430 - f1: 0.6612 - val_loss: 0.6594 - val_f1: 0.6222\n",
      "Epoch 6/100\n",
      "30/30 [==============================] - 0s 2ms/step - loss: 0.6419 - f1: 0.6735 - val_loss: 0.6448 - val_f1: 0.6390\n",
      "Epoch 7/100\n",
      "30/30 [==============================] - 0s 2ms/step - loss: 0.6180 - f1: 0.6873 - val_loss: 0.6387 - val_f1: 0.6309\n",
      "Epoch 8/100\n",
      "30/30 [==============================] - 0s 2ms/step - loss: 0.6304 - f1: 0.6959 - val_loss: 0.6340 - val_f1: 0.6390\n",
      "Epoch 9/100\n",
      "30/30 [==============================] - 0s 2ms/step - loss: 0.6275 - f1: 0.6890 - val_loss: 0.6218 - val_f1: 0.6420\n",
      "Epoch 10/100\n",
      "30/30 [==============================] - 0s 2ms/step - loss: 0.6147 - f1: 0.6954 - val_loss: 0.6162 - val_f1: 0.6998\n",
      "Epoch 11/100\n",
      "30/30 [==============================] - 0s 2ms/step - loss: 0.6134 - f1: 0.6969 - val_loss: 0.6196 - val_f1: 0.6998\n",
      "Epoch 12/100\n",
      "30/30 [==============================] - 0s 2ms/step - loss: 0.5978 - f1: 0.6933 - val_loss: 0.6162 - val_f1: 0.6998\n",
      "Epoch 13/100\n",
      "30/30 [==============================] - 0s 2ms/step - loss: 0.6059 - f1: 0.6966 - val_loss: 0.6084 - val_f1: 0.6998\n",
      "Epoch 14/100\n",
      "30/30 [==============================] - 0s 2ms/step - loss: 0.6036 - f1: 0.6929 - val_loss: 0.6110 - val_f1: 0.7096\n",
      "Epoch 15/100\n",
      "30/30 [==============================] - 0s 2ms/step - loss: 0.5892 - f1: 0.7186 - val_loss: 0.6073 - val_f1: 0.7096\n",
      "Epoch 16/100\n",
      "30/30 [==============================] - 0s 2ms/step - loss: 0.6091 - f1: 0.6950 - val_loss: 0.6026 - val_f1: 0.7096\n",
      "Epoch 17/100\n",
      "30/30 [==============================] - 0s 2ms/step - loss: 0.5930 - f1: 0.7099 - val_loss: 0.5988 - val_f1: 0.7096\n",
      "Epoch 18/100\n",
      "30/30 [==============================] - 0s 2ms/step - loss: 0.5899 - f1: 0.7136 - val_loss: 0.5945 - val_f1: 0.7188\n",
      "Epoch 19/100\n",
      "30/30 [==============================] - 0s 2ms/step - loss: 0.5812 - f1: 0.7273 - val_loss: 0.5974 - val_f1: 0.6771\n",
      "Epoch 20/100\n",
      "30/30 [==============================] - 0s 2ms/step - loss: 0.5782 - f1: 0.7282 - val_loss: 0.5965 - val_f1: 0.7188\n",
      "Epoch 21/100\n",
      "30/30 [==============================] - 0s 2ms/step - loss: 0.5873 - f1: 0.7312 - val_loss: 0.5926 - val_f1: 0.7188\n",
      "Epoch 22/100\n",
      "30/30 [==============================] - 0s 2ms/step - loss: 0.5928 - f1: 0.7130 - val_loss: 0.5882 - val_f1: 0.7242\n",
      "Epoch 23/100\n",
      "30/30 [==============================] - 0s 2ms/step - loss: 0.5848 - f1: 0.7335 - val_loss: 0.5945 - val_f1: 0.6825\n",
      "Epoch 24/100\n",
      "30/30 [==============================] - 0s 2ms/step - loss: 0.5861 - f1: 0.7144 - val_loss: 0.5910 - val_f1: 0.7242\n",
      "Epoch 25/100\n",
      "30/30 [==============================] - 0s 2ms/step - loss: 0.5773 - f1: 0.7277 - val_loss: 0.5880 - val_f1: 0.6771\n",
      "Epoch 26/100\n",
      "30/30 [==============================] - 0s 2ms/step - loss: 0.5783 - f1: 0.7284 - val_loss: 0.5865 - val_f1: 0.6771\n",
      "Epoch 27/100\n",
      "30/30 [==============================] - 0s 2ms/step - loss: 0.5644 - f1: 0.7392 - val_loss: 0.5887 - val_f1: 0.6825\n",
      "Epoch 28/100\n",
      "30/30 [==============================] - 0s 2ms/step - loss: 0.5810 - f1: 0.7159 - val_loss: 0.5892 - val_f1: 0.6774\n",
      "Epoch 29/100\n",
      "30/30 [==============================] - 0s 2ms/step - loss: 0.5710 - f1: 0.7129 - val_loss: 0.5902 - val_f1: 0.6733\n",
      "Epoch 30/100\n",
      "30/30 [==============================] - 0s 2ms/step - loss: 0.5648 - f1: 0.7345 - val_loss: 0.5860 - val_f1: 0.6825\n",
      "Epoch 31/100\n",
      "30/30 [==============================] - 0s 2ms/step - loss: 0.5790 - f1: 0.7318 - val_loss: 0.5866 - val_f1: 0.7242\n",
      "Epoch 32/100\n",
      "30/30 [==============================] - 0s 2ms/step - loss: 0.5599 - f1: 0.7258 - val_loss: 0.5823 - val_f1: 0.7188\n",
      "Epoch 33/100\n",
      "30/30 [==============================] - 0s 2ms/step - loss: 0.5663 - f1: 0.7441 - val_loss: 0.5836 - val_f1: 0.7169\n",
      "Epoch 34/100\n",
      "30/30 [==============================] - 0s 2ms/step - loss: 0.5626 - f1: 0.7329 - val_loss: 0.5798 - val_f1: 0.7315\n",
      "Epoch 35/100\n",
      "30/30 [==============================] - 0s 2ms/step - loss: 0.5664 - f1: 0.7135 - val_loss: 0.5852 - val_f1: 0.6825\n",
      "Epoch 36/100\n",
      "30/30 [==============================] - 0s 2ms/step - loss: 0.5546 - f1: 0.7436 - val_loss: 0.5877 - val_f1: 0.6825\n",
      "Epoch 37/100\n",
      "30/30 [==============================] - 0s 2ms/step - loss: 0.5583 - f1: 0.7428 - val_loss: 0.5825 - val_f1: 0.7242\n",
      "Epoch 38/100\n",
      "30/30 [==============================] - 0s 2ms/step - loss: 0.5612 - f1: 0.7270 - val_loss: 0.5825 - val_f1: 0.7190\n",
      "Epoch 39/100\n",
      "30/30 [==============================] - 0s 2ms/step - loss: 0.5629 - f1: 0.7434 - val_loss: 0.5804 - val_f1: 0.7149\n",
      "Epoch 40/100\n",
      "30/30 [==============================] - 0s 2ms/step - loss: 0.5590 - f1: 0.7399 - val_loss: 0.5745 - val_f1: 0.7242\n",
      "Epoch 41/100\n",
      "30/30 [==============================] - 0s 2ms/step - loss: 0.5654 - f1: 0.7431 - val_loss: 0.5786 - val_f1: 0.7149\n",
      "Epoch 42/100\n",
      "30/30 [==============================] - 0s 2ms/step - loss: 0.5640 - f1: 0.7316 - val_loss: 0.5741 - val_f1: 0.7242\n",
      "Epoch 43/100\n",
      "30/30 [==============================] - 0s 2ms/step - loss: 0.5509 - f1: 0.7387 - val_loss: 0.5808 - val_f1: 0.7072\n",
      "Epoch 44/100\n",
      "30/30 [==============================] - 0s 2ms/step - loss: 0.5472 - f1: 0.7449 - val_loss: 0.5812 - val_f1: 0.7242\n",
      "Epoch 45/100\n",
      "30/30 [==============================] - 0s 2ms/step - loss: 0.5423 - f1: 0.7513 - val_loss: 0.5888 - val_f1: 0.6633\n",
      "Epoch 46/100\n",
      "30/30 [==============================] - 0s 2ms/step - loss: 0.5494 - f1: 0.7450 - val_loss: 0.5850 - val_f1: 0.6899\n",
      "Epoch 47/100\n",
      "30/30 [==============================] - 0s 2ms/step - loss: 0.5555 - f1: 0.7408 - val_loss: 0.5855 - val_f1: 0.7223\n",
      "Epoch 48/100\n",
      "30/30 [==============================] - 0s 2ms/step - loss: 0.5484 - f1: 0.7243 - val_loss: 0.5930 - val_f1: 0.6753\n",
      "Epoch 49/100\n",
      "30/30 [==============================] - 0s 2ms/step - loss: 0.5465 - f1: 0.7387 - val_loss: 0.5899 - val_f1: 0.7223\n",
      "Epoch 50/100\n",
      "30/30 [==============================] - 0s 2ms/step - loss: 0.5286 - f1: 0.7499 - val_loss: 0.5955 - val_f1: 0.7119\n",
      "Epoch 51/100\n",
      "30/30 [==============================] - 0s 2ms/step - loss: 0.5482 - f1: 0.7354 - val_loss: 0.5859 - val_f1: 0.7503\n",
      "Epoch 52/100\n",
      "30/30 [==============================] - 0s 2ms/step - loss: 0.5516 - f1: 0.7315 - val_loss: 0.5806 - val_f1: 0.7067\n"
     ]
    },
    {
     "data": {
      "text/plain": [
       "<tensorflow.python.keras.callbacks.History at 0x156cd1950>"
      ]
     },
     "execution_count": 172,
     "metadata": {},
     "output_type": "execute_result"
    }
   ],
   "source": [
    "ann_1.fit(X_train_adv_s, y_train_adv_s, epochs=100, \n",
    "          validation_data=(X_val_adv_s, y_val_adv_s), \n",
    "          callbacks=[early_stop], class_weight=class_weights_1)"
   ]
  },
  {
   "cell_type": "code",
   "execution_count": 173,
   "metadata": {},
   "outputs": [
    {
     "name": "stdout",
     "output_type": "stream",
     "text": [
      "F1 = 0.617899565577587\n",
      "n games = 1230\n"
     ]
    },
    {
     "name": "stderr",
     "output_type": "stream",
     "text": [
      "/Users/Nicholas/software/projects/nba_game_pred/env/lib/python3.7/site-packages/ipykernel_launcher.py:23: UserWarning: FixedFormatter should only be used together with FixedLocator\n"
     ]
    },
    {
     "data": {
      "image/png": "[encoded data removed]",
      "text/plain": [
       "<Figure size 720x504 with 4 Axes>"
      ]
     },
     "metadata": {
      "needs_background": "light"
     },
     "output_type": "display_data"
    }
   ],
   "source": [
    "ann_1_score = ann_1.predict(X_test_adv_s)\n",
    "ann_1_pred = (ann_1_score > 0.5).astype(int)\n",
    "fig = run_metrics(ann_1_pred, y_test_adv, y_score=ann_1_score)\n",
    "fig.savefig('plots/matchups-NN-adv.pdf', bbox_inches='tight')"
   ]
  },
  {
   "cell_type": "code",
   "execution_count": 174,
   "metadata": {},
   "outputs": [
    {
     "data": {
      "text/plain": [
       "0.6146341463414634"
      ]
     },
     "execution_count": 174,
     "metadata": {},
     "output_type": "execute_result"
    }
   ],
   "source": [
    "accuracy_score(ann_1_pred, y_test_adv)"
   ]
  },
  {
   "cell_type": "markdown",
   "metadata": {},
   "source": [
    "## Using Traditional Stats"
   ]
  },
  {
   "cell_type": "code",
   "execution_count": 178,
   "metadata": {},
   "outputs": [],
   "source": [
    "# scale data between 0 and 1\n",
    "mm_scaler_2 = MinMaxScaler()\n",
    "X_train_trad_s = mm_scaler_2.fit_transform(X_train_trad_binned) # USE BINNED DATA!!\n",
    "X_test_trad_s = mm_scaler_2.transform(X_test_trad_binned) # USE BINNED DATA!!\n",
    "\n",
    "# create a validation set from test set\n",
    "X_train_trad_s, X_val_trad_s, y_train_trad_s, y_val_trad_s = train_test_split(X_train_trad_s, y_train_trad,\n",
    "                                                                              test_size=0.1,\n",
    "                                                                              random_state=STATE)\n",
    "\n",
    "class_weights_2 = compute_class_weight('balanced', classes=np.unique(y_train_trad_s), \n",
    "                                     y=y_train_trad_s)\n",
    "class_weights_2 = {\n",
    "    0: class_weights_2[0],\n",
    "    1: class_weights_2[1],\n",
    "}"
   ]
  },
  {
   "cell_type": "code",
   "execution_count": 179,
   "metadata": {},
   "outputs": [],
   "source": [
    "ann_2 = keras.models.Sequential([\n",
    "    keras.layers.Input(shape=(X_train_trad_s.shape[1],)),\n",
    "    keras.layers.BatchNormalization(),\n",
    "    \n",
    "    keras.layers.Dense(32, activation='selu'),\n",
    "    keras.layers.Dropout(0.2),\n",
    "    keras.layers.BatchNormalization(),\n",
    "    \n",
    "    keras.layers.Dense(16, activation='selu'),\n",
    "    keras.layers.Dropout(0.2),\n",
    "    keras.layers.BatchNormalization(),\n",
    "    \n",
    "    keras.layers.Dense(1, activation='sigmoid'),\n",
    "])\n",
    "\n",
    "ann_2.compile(loss='binary_crossentropy', optimizer='adam', metrics=METRICS)"
   ]
  },
  {
   "cell_type": "code",
   "execution_count": 180,
   "metadata": {
    "scrolled": true
   },
   "outputs": [
    {
     "name": "stdout",
     "output_type": "stream",
     "text": [
      "Epoch 1/100\n",
      "30/30 [==============================] - 0s 6ms/step - loss: 0.8487 - f1: 0.5523 - val_loss: 0.7174 - val_f1: 0.4617\n",
      "Epoch 2/100\n",
      "30/30 [==============================] - 0s 2ms/step - loss: 0.7545 - f1: 0.5888 - val_loss: 0.7103 - val_f1: 0.5368\n",
      "Epoch 3/100\n",
      "30/30 [==============================] - 0s 2ms/step - loss: 0.7012 - f1: 0.6181 - val_loss: 0.6824 - val_f1: 0.5390\n",
      "Epoch 4/100\n",
      "30/30 [==============================] - 0s 2ms/step - loss: 0.6670 - f1: 0.6525 - val_loss: 0.6651 - val_f1: 0.5753\n",
      "Epoch 5/100\n",
      "30/30 [==============================] - 0s 2ms/step - loss: 0.6402 - f1: 0.6629 - val_loss: 0.6536 - val_f1: 0.5826\n",
      "Epoch 6/100\n",
      "30/30 [==============================] - 0s 2ms/step - loss: 0.6334 - f1: 0.6826 - val_loss: 0.6373 - val_f1: 0.6368\n",
      "Epoch 7/100\n",
      "30/30 [==============================] - 0s 2ms/step - loss: 0.6418 - f1: 0.6664 - val_loss: 0.6337 - val_f1: 0.6292\n",
      "Epoch 8/100\n",
      "30/30 [==============================] - 0s 2ms/step - loss: 0.6285 - f1: 0.6858 - val_loss: 0.6345 - val_f1: 0.6526\n",
      "Epoch 9/100\n",
      "30/30 [==============================] - 0s 2ms/step - loss: 0.6236 - f1: 0.6797 - val_loss: 0.6330 - val_f1: 0.6526\n",
      "Epoch 10/100\n",
      "30/30 [==============================] - 0s 2ms/step - loss: 0.6117 - f1: 0.7008 - val_loss: 0.6301 - val_f1: 0.6673\n",
      "Epoch 11/100\n",
      "30/30 [==============================] - 0s 2ms/step - loss: 0.6212 - f1: 0.6884 - val_loss: 0.6298 - val_f1: 0.6727\n",
      "Epoch 12/100\n",
      "30/30 [==============================] - 0s 2ms/step - loss: 0.6206 - f1: 0.6908 - val_loss: 0.6256 - val_f1: 0.6716\n",
      "Epoch 13/100\n",
      "30/30 [==============================] - 0s 2ms/step - loss: 0.6231 - f1: 0.6850 - val_loss: 0.6202 - val_f1: 0.6941\n",
      "Epoch 14/100\n",
      "30/30 [==============================] - 0s 2ms/step - loss: 0.5996 - f1: 0.6945 - val_loss: 0.6195 - val_f1: 0.6863\n",
      "Epoch 15/100\n",
      "30/30 [==============================] - 0s 2ms/step - loss: 0.6067 - f1: 0.7105 - val_loss: 0.6164 - val_f1: 0.6960\n",
      "Epoch 16/100\n",
      "30/30 [==============================] - 0s 2ms/step - loss: 0.5968 - f1: 0.6980 - val_loss: 0.6198 - val_f1: 0.6960\n",
      "Epoch 17/100\n",
      "30/30 [==============================] - 0s 2ms/step - loss: 0.5954 - f1: 0.7217 - val_loss: 0.6165 - val_f1: 0.6960\n",
      "Epoch 18/100\n",
      "30/30 [==============================] - 0s 2ms/step - loss: 0.5800 - f1: 0.7248 - val_loss: 0.6144 - val_f1: 0.6960\n",
      "Epoch 19/100\n",
      "30/30 [==============================] - 0s 2ms/step - loss: 0.5851 - f1: 0.7215 - val_loss: 0.6145 - val_f1: 0.6960\n",
      "Epoch 20/100\n",
      "30/30 [==============================] - 0s 2ms/step - loss: 0.5885 - f1: 0.7195 - val_loss: 0.6105 - val_f1: 0.7088\n",
      "Epoch 21/100\n",
      "30/30 [==============================] - 0s 2ms/step - loss: 0.5805 - f1: 0.7218 - val_loss: 0.6102 - val_f1: 0.6960\n",
      "Epoch 22/100\n",
      "30/30 [==============================] - 0s 2ms/step - loss: 0.5859 - f1: 0.7090 - val_loss: 0.6049 - val_f1: 0.6960\n",
      "Epoch 23/100\n",
      "30/30 [==============================] - 0s 2ms/step - loss: 0.5789 - f1: 0.7233 - val_loss: 0.6055 - val_f1: 0.7051\n",
      "Epoch 24/100\n",
      "30/30 [==============================] - 0s 2ms/step - loss: 0.5755 - f1: 0.7271 - val_loss: 0.6019 - val_f1: 0.7384\n",
      "Epoch 25/100\n",
      "30/30 [==============================] - 0s 2ms/step - loss: 0.5757 - f1: 0.7324 - val_loss: 0.6047 - val_f1: 0.7463\n",
      "Epoch 26/100\n",
      "30/30 [==============================] - 0s 2ms/step - loss: 0.5591 - f1: 0.7217 - val_loss: 0.6058 - val_f1: 0.7384\n",
      "Epoch 27/100\n",
      "30/30 [==============================] - 0s 2ms/step - loss: 0.5710 - f1: 0.7395 - val_loss: 0.6098 - val_f1: 0.7384\n",
      "Epoch 28/100\n",
      "30/30 [==============================] - 0s 2ms/step - loss: 0.5944 - f1: 0.7053 - val_loss: 0.6073 - val_f1: 0.7384\n",
      "Epoch 29/100\n",
      "30/30 [==============================] - 0s 2ms/step - loss: 0.5640 - f1: 0.7339 - val_loss: 0.6113 - val_f1: 0.7343\n",
      "Epoch 30/100\n",
      "30/30 [==============================] - 0s 2ms/step - loss: 0.5695 - f1: 0.7319 - val_loss: 0.6080 - val_f1: 0.7384\n",
      "Epoch 31/100\n",
      "30/30 [==============================] - 0s 2ms/step - loss: 0.5730 - f1: 0.7395 - val_loss: 0.6032 - val_f1: 0.7333\n",
      "Epoch 32/100\n",
      "30/30 [==============================] - 0s 2ms/step - loss: 0.5678 - f1: 0.7363 - val_loss: 0.5965 - val_f1: 0.7212\n",
      "Epoch 33/100\n",
      "30/30 [==============================] - 0s 2ms/step - loss: 0.5536 - f1: 0.7251 - val_loss: 0.6011 - val_f1: 0.7212\n",
      "Epoch 34/100\n",
      "30/30 [==============================] - 0s 2ms/step - loss: 0.5701 - f1: 0.7244 - val_loss: 0.5981 - val_f1: 0.7212\n",
      "Epoch 35/100\n",
      "30/30 [==============================] - 0s 2ms/step - loss: 0.5661 - f1: 0.7259 - val_loss: 0.6045 - val_f1: 0.6787\n",
      "Epoch 36/100\n",
      "30/30 [==============================] - 0s 2ms/step - loss: 0.5576 - f1: 0.7253 - val_loss: 0.6073 - val_f1: 0.7171\n",
      "Epoch 37/100\n",
      "30/30 [==============================] - 0s 2ms/step - loss: 0.5528 - f1: 0.7507 - val_loss: 0.6040 - val_f1: 0.7121\n",
      "Epoch 38/100\n",
      "30/30 [==============================] - 0s 2ms/step - loss: 0.5658 - f1: 0.7347 - val_loss: 0.6027 - val_f1: 0.7121\n",
      "Epoch 39/100\n",
      "30/30 [==============================] - 0s 2ms/step - loss: 0.5635 - f1: 0.7375 - val_loss: 0.6000 - val_f1: 0.7263\n",
      "Epoch 40/100\n",
      "30/30 [==============================] - 0s 2ms/step - loss: 0.5491 - f1: 0.7332 - val_loss: 0.5985 - val_f1: 0.7263\n",
      "Epoch 41/100\n",
      "30/30 [==============================] - 0s 2ms/step - loss: 0.5571 - f1: 0.7456 - val_loss: 0.5960 - val_f1: 0.7351\n",
      "Epoch 42/100\n",
      "30/30 [==============================] - 0s 2ms/step - loss: 0.5472 - f1: 0.7525 - val_loss: 0.5949 - val_f1: 0.7550\n",
      "Epoch 43/100\n",
      "30/30 [==============================] - 0s 2ms/step - loss: 0.5454 - f1: 0.7385 - val_loss: 0.5985 - val_f1: 0.7485\n",
      "Epoch 44/100\n",
      "30/30 [==============================] - 0s 2ms/step - loss: 0.5485 - f1: 0.7481 - val_loss: 0.5946 - val_f1: 0.7550\n",
      "Epoch 45/100\n",
      "30/30 [==============================] - 0s 2ms/step - loss: 0.5561 - f1: 0.7393 - val_loss: 0.5941 - val_f1: 0.7429\n",
      "Epoch 46/100\n",
      "30/30 [==============================] - 0s 2ms/step - loss: 0.5626 - f1: 0.7385 - val_loss: 0.6010 - val_f1: 0.7351\n",
      "Epoch 47/100\n",
      "30/30 [==============================] - 0s 2ms/step - loss: 0.5593 - f1: 0.7326 - val_loss: 0.6099 - val_f1: 0.7220\n",
      "Epoch 48/100\n",
      "30/30 [==============================] - 0s 2ms/step - loss: 0.5490 - f1: 0.7527 - val_loss: 0.6168 - val_f1: 0.7220\n",
      "Epoch 49/100\n",
      "30/30 [==============================] - 0s 2ms/step - loss: 0.5537 - f1: 0.7316 - val_loss: 0.6160 - val_f1: 0.7436\n",
      "Epoch 50/100\n",
      "30/30 [==============================] - 0s 2ms/step - loss: 0.5423 - f1: 0.7488 - val_loss: 0.6186 - val_f1: 0.7436\n",
      "Epoch 51/100\n",
      "30/30 [==============================] - 0s 2ms/step - loss: 0.5355 - f1: 0.7583 - val_loss: 0.6131 - val_f1: 0.7343\n",
      "Epoch 52/100\n",
      "30/30 [==============================] - 0s 2ms/step - loss: 0.5387 - f1: 0.7369 - val_loss: 0.6060 - val_f1: 0.7367\n",
      "Epoch 53/100\n",
      "30/30 [==============================] - 0s 2ms/step - loss: 0.5483 - f1: 0.7449 - val_loss: 0.6017 - val_f1: 0.7527\n",
      "Epoch 54/100\n",
      "30/30 [==============================] - 0s 2ms/step - loss: 0.5553 - f1: 0.7272 - val_loss: 0.5973 - val_f1: 0.7640\n",
      "Epoch 55/100\n",
      "30/30 [==============================] - 0s 2ms/step - loss: 0.5393 - f1: 0.7489 - val_loss: 0.6006 - val_f1: 0.7552\n"
     ]
    },
    {
     "data": {
      "text/plain": [
       "<tensorflow.python.keras.callbacks.History at 0x15752d3d0>"
      ]
     },
     "execution_count": 180,
     "metadata": {},
     "output_type": "execute_result"
    }
   ],
   "source": [
    "ann_2.fit(X_train_trad_s, y_train_trad_s, epochs=100, \n",
    "          validation_data=(X_val_trad_s, y_val_trad_s), \n",
    "          callbacks=[early_stop], class_weight=class_weights_2)"
   ]
  },
  {
   "cell_type": "code",
   "execution_count": 181,
   "metadata": {},
   "outputs": [
    {
     "name": "stdout",
     "output_type": "stream",
     "text": [
      "F1 = 0.6128883381857074\n",
      "n games = 1230\n"
     ]
    },
    {
     "name": "stderr",
     "output_type": "stream",
     "text": [
      "/Users/Nicholas/software/projects/nba_game_pred/env/lib/python3.7/site-packages/ipykernel_launcher.py:23: UserWarning: FixedFormatter should only be used together with FixedLocator\n"
     ]
    },
    {
     "data": {
      "image/png": "[encoded data removed]",
      "text/plain": [
       "<Figure size 720x504 with 4 Axes>"
      ]
     },
     "metadata": {
      "needs_background": "light"
     },
     "output_type": "display_data"
    }
   ],
   "source": [
    "ann_2_score = ann_2.predict(X_test_trad_s)\n",
    "ann_2_pred = (ann_2_score > 0.5).astype(int)\n",
    "fig = run_metrics(ann_2_pred, y_test_trad, y_score=ann_2_score)\n",
    "fig.savefig('plots/matchups-NN-trad.pdf', bbox_inches='tight')"
   ]
  },
  {
   "cell_type": "code",
   "execution_count": 182,
   "metadata": {},
   "outputs": [
    {
     "data": {
      "text/plain": [
       "0.6146341463414634"
      ]
     },
     "execution_count": 182,
     "metadata": {},
     "output_type": "execute_result"
    }
   ],
   "source": [
    "accuracy_score(ann_1_pred, y_test_adv)"
   ]
  },
  {
   "cell_type": "markdown",
   "metadata": {},
   "source": [
    "# Ensemble Experiment"
   ]
  },
  {
   "cell_type": "code",
   "execution_count": 183,
   "metadata": {},
   "outputs": [
    {
     "name": "stdout",
     "output_type": "stream",
     "text": [
      "F1 = 0.6305907129783576\n",
      "n games = 1230\n"
     ]
    },
    {
     "name": "stderr",
     "output_type": "stream",
     "text": [
      "/Users/Nicholas/software/projects/nba_game_pred/env/lib/python3.7/site-packages/ipykernel_launcher.py:23: UserWarning: FixedFormatter should only be used together with FixedLocator\n"
     ]
    },
    {
     "data": {
      "image/png": "[encoded data removed]",
      "text/plain": [
       "<Figure size 720x504 with 4 Axes>"
      ]
     },
     "metadata": {
      "needs_background": "light"
     },
     "output_type": "display_data"
    }
   ],
   "source": [
    "# get the best versions of each model\n",
    "lr_score = y_score_1[:, 1]\n",
    "rf_score = y_score_3[:, 1]\n",
    "ann_score = ann_1_score\n",
    "\n",
    "ensemble_score = np.hstack([\n",
    "    lr_score.reshape((-1, 1)), \n",
    "    rf_score.reshape((-1, 1)),\n",
    "    ann_score\n",
    "])\n",
    "\n",
    "ensemble_score = np.mean(ensemble_score, axis=1) # soft voting\n",
    "ensemble_pred = (ensemble_score >= 0.5).astype(int)\n",
    "fig = run_metrics(ensemble_pred, y_test_adv, y_score=ensemble_score)\n",
    "# fig.savefig('plots/matchups-ensemble.pdf', bbox_inches='tight')"
   ]
  },
  {
   "cell_type": "code",
   "execution_count": 184,
   "metadata": {},
   "outputs": [
    {
     "data": {
      "text/plain": [
       "0.6284552845528455"
      ]
     },
     "execution_count": 184,
     "metadata": {},
     "output_type": "execute_result"
    }
   ],
   "source": [
    "accuracy_score(ensemble_pred, y_test_adv)"
   ]
  },
  {
   "cell_type": "code",
   "execution_count": null,
   "metadata": {},
   "outputs": [],
   "source": []
  }
 ],
 "metadata": {
  "kernelspec": {
   "display_name": "nba_game_pred",
   "language": "python",
   "name": "nba_game_pred"
  },
  "language_info": {
   "codemirror_mode": {
    "name": "ipython",
    "version": 3
   },
   "file_extension": ".py",
   "mimetype": "text/x-python",
   "name": "python",
   "nbconvert_exporter": "python",
   "pygments_lexer": "ipython3",
   "version": "3.7.8"
  }
 },
 "nbformat": 4,
 "nbformat_minor": 2
}
