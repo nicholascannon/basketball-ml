{
 "cells": [
  {
   "cell_type": "markdown",
   "metadata": {},
   "source": [
    "# NBA Game Prediction: Modelling Matchups\n",
    "Written by Nicholas Cannon"
   ]
  },
  {
   "cell_type": "code",
   "execution_count": 1,
   "metadata": {},
   "outputs": [],
   "source": [
    "import os\n",
    "import pandas as pd\n",
    "import numpy as np\n",
    "import matplotlib.pyplot as plt\n",
    "import matplotlib\n",
    "from collections import defaultdict\n",
    "\n",
    "from sklearn.ensemble import RandomForestClassifier\n",
    "from sklearn.linear_model import LogisticRegression\n",
    "from sklearn.model_selection import GridSearchCV, train_test_split\n",
    "from sklearn.pipeline import Pipeline\n",
    "from sklearn.base import BaseEstimator\n",
    "from sklearn.preprocessing import (\n",
    "    OneHotEncoder, StandardScaler, KBinsDiscretizer, MinMaxScaler\n",
    ")\n",
    "from sklearn.metrics import (\n",
    "    confusion_matrix, f1_score, accuracy_score, ConfusionMatrixDisplay,\n",
    "    roc_curve, auc, RocCurveDisplay, precision_recall_curve,\n",
    "    PrecisionRecallDisplay\n",
    ")\n",
    "\n",
    "from mlxtend.evaluate import paired_ttest_5x2cv\n",
    "\n",
    "%matplotlib inline\n",
    "\n",
    "DATA_DIR = os.path.join('..', 'data', 'processed', 'games')\n",
    "STATE = 0\n",
    "os.environ['PYTHONHASHSEED'] = str(STATE)"
   ]
  },
  {
   "cell_type": "code",
   "execution_count": 2,
   "metadata": {},
   "outputs": [],
   "source": [
    "def annotate_heatmap(im, data=None, valfmt=\"{x:.2f}\",\n",
    "                     textcolors=[\"black\", \"white\"],\n",
    "                     threshold=None, **textkw):\n",
    "    \"\"\"\n",
    "    FROM: https://matplotlib.org/3.1.0/gallery/images_contours_and_fields/image_annotated_heatmap.html\n",
    "    \"\"\"\n",
    "\n",
    "    if not isinstance(data, (list, np.ndarray)):\n",
    "        data = im.get_array()\n",
    "\n",
    "    # Normalize the threshold to the images color range.\n",
    "    if threshold is not None:\n",
    "        threshold = im.norm(threshold)\n",
    "    else:\n",
    "        threshold = im.norm(data.max())/2.\n",
    "\n",
    "    # Set default alignment to center, but allow it to be\n",
    "    # overwritten by textkw.\n",
    "    kw = dict(horizontalalignment=\"center\",\n",
    "              verticalalignment=\"center\")\n",
    "    kw.update(textkw)\n",
    "\n",
    "    # Get the formatter in case a string is supplied\n",
    "    if isinstance(valfmt, str):\n",
    "        valfmt = matplotlib.ticker.StrMethodFormatter(valfmt)\n",
    "\n",
    "    # Loop over the data and create a `Text` for each \"pixel\".\n",
    "    # Change the text's color depending on the data.\n",
    "    texts = []\n",
    "    for i in range(data.shape[0]):\n",
    "        for j in range(data.shape[1]):\n",
    "            kw.update(color=textcolors[int(im.norm(data[i, j]) > threshold)])\n",
    "            text = im.axes.text(j, i, valfmt(data[i, j], None), **kw)\n",
    "            texts.append(text)\n",
    "\n",
    "    return texts\n",
    "\n",
    "\n",
    "def run_metrics(y_pred, y_true, y_score):\n",
    "    \"\"\"Display Standard graphs and metrics for model evaluation\"\"\"\n",
    "    fig, ax = plt.subplots(1, 3, figsize=(10, 8), constrained_layout=True)\n",
    "    \n",
    "    # CF Matrix\n",
    "    for i in [0, 1]:        \n",
    "        cf_data = confusion_matrix(y_true[i], y_pred[i], normalize='true') * 100\n",
    "        im = ax[i].imshow(cf_data, cmap=plt.cm.Blues) \n",
    "        ax[i].set_xticks(np.arange(cf_data.shape[1]))\n",
    "        ax[i].set_yticks(np.arange(cf_data.shape[0]))\n",
    "        ax[i].set_xticklabels(['Home Lose', 'Home Win'])\n",
    "        ax[i].set_yticklabels(['Home Lose', 'Home Win'], rotation=90, va='center')\n",
    "        ax[i].set_title('Adv.' if i == 0 else 'Trad.')\n",
    "        annotate_heatmap(im, valfmt=\"{x:.2f} %\")\n",
    "\n",
    "    # ROC Curve\n",
    "    fpr_1, tpr_1, _ = roc_curve(y_true[0], y_score[0])\n",
    "    auc_1 = auc(fpr_1, tpr_1)\n",
    "    fpr_2, tpr_2, _ = roc_curve(y_true[1], y_score[1])\n",
    "    auc_2 = auc(fpr_2, tpr_2)\n",
    "    \n",
    "    ax[2].set_xlim((0, 1))\n",
    "    ax[2].set_ylim((0, 1))\n",
    "    ax[2].set_aspect('equal', 'box')\n",
    "    ax[2].set_xlabel('False Positive Rate')\n",
    "    ax[2].set_ylabel('True Positive Rate')\n",
    "    \n",
    "    ax[2].plot(fpr_1, tpr_1, label='Adv. (AUC={:.2f})'.format(auc_1))\n",
    "    ax[2].plot(fpr_2, tpr_2, label='Trad. (AUC={:.2f})'.format(auc_2))\n",
    "    ax[2].legend(loc='lower right')\n",
    "    \n",
    "    plt.show()\n",
    "    return fig\n",
    "\n",
    "\n",
    "def load_season(season):\n",
    "    \"\"\"Load season data and apply basic preprocessing\"\"\"\n",
    "    df = pd.read_csv(os.path.join(DATA_DIR, season))\n",
    "    df['DATE'] = pd.to_datetime(df['DATE'])\n",
    "    df.sort_values('DATE', inplace=True)\n",
    "    df.reset_index(drop=True, inplace=True)\n",
    "\n",
    "    return df\n",
    "\n",
    "\n",
    "def get_matchup_games(df, team1, team2):\n",
    "    \"\"\"Return all games played between both teams\"\"\"\n",
    "    df1 = df[(df['H_ID'] == team1) ^ (df['A_ID'] == team1)]\n",
    "    df2 = df[(df['H_ID'] == team2) ^ (df['A_ID'] == team2)]\n",
    "    games = pd.merge(df1, df2, on='GAME_ID')['GAME_ID']\n",
    "\n",
    "    return df[df['GAME_ID'].isin(games)]"
   ]
  },
  {
   "cell_type": "code",
   "execution_count": 3,
   "metadata": {},
   "outputs": [],
   "source": [
    "import numpy as np\n",
    "from scipy import stats\n",
    "from sklearn.model_selection import train_test_split\n",
    "from sklearn.model_selection import KFold\n",
    "from sklearn.metrics import get_scorer\n",
    "\n",
    "\n",
    "def ttest(clf1, clf2, X1, X2, y, random_seed=STATE):\n",
    "    \"\"\"\n",
    "    Docs: http://rasbt.github.io/mlxtend/user_guide/evaluate/paired_ttest_5x2cv/\n",
    "    Adapted code from: https://github.com/rasbt/mlxtend/blob/master/mlxtend/evaluate/ttest.py\n",
    "    \"\"\"\n",
    "    rng = np.random.RandomState(random_seed)\n",
    "    scorer = get_scorer('accuracy')\n",
    "    \n",
    "    variance_sum = 0\n",
    "    first_diff = None\n",
    "    \n",
    "    \n",
    "    def score_diff(X_1_1, X_1_2, X_2_1, X_2_2, y_1, y_2):\n",
    "        clf1.fit(X_1_1, y_1)\n",
    "        clf2.fit(X_2_1, y_1)\n",
    "        \n",
    "        clf1_score = scorer(clf1, X_1_2, y_2)\n",
    "        clf2_score = scorer(clf2, X_2_2, y_2)\n",
    "        return clf1_score - clf2_score\n",
    "    \n",
    "        \n",
    "    for i in range(5):\n",
    "        randint = rng.randint(low=0, high=32767)\n",
    "        clf1_X_1, clf1_X_2, y_1, y_2 = train_test_split(X1, y, test_size=0.5, \n",
    "                                                          random_state=randint)\n",
    "        # ys are the same\n",
    "        clf2_X_1, clf2_X_2, _, _ = train_test_split(X2, y, test_size=0.5, \n",
    "                                                          random_state=randint)\n",
    "        \n",
    "        score_diff_1 = score_diff(clf1_X_1, clf1_X_2, clf2_X_1, clf2_X_2, y_1, y_2)\n",
    "        score_diff_2 = score_diff(clf1_X_2, clf1_X_1, clf2_X_2, clf2_X_1, y_2, y_1)\n",
    "        \n",
    "        score_mean = (score_diff_1 + score_diff_2) / 2.0\n",
    "        score_var = ((score_diff_1 - score_mean)**2 +\n",
    "                     (score_diff_2 - score_mean)**2)\n",
    "        variance_sum += score_var\n",
    "        if first_diff is None:\n",
    "            first_diff = score_diff_1\n",
    "        \n",
    "    numerator = first_diff\n",
    "    denominator = np.sqrt(1/5.0 * variance_sum)\n",
    "    t_stat = numerator / denominator\n",
    "\n",
    "    pvalue = stats.t.sf(np.abs(t_stat), 5) * 2.0\n",
    "    return float(t_stat), float(pvalue)"
   ]
  },
  {
   "cell_type": "code",
   "execution_count": 4,
   "metadata": {},
   "outputs": [],
   "source": [
    "class ProcessFeatures(BaseEstimator):\n",
    "    \n",
    "    def __init__(self, avg_cols, return_df=False, window=5):\n",
    "        self.team_enc = OneHotEncoder(sparse=False)\n",
    "        self.return_df = return_df\n",
    "        self.window = window\n",
    "        self.avg_cols = avg_cols\n",
    "    \n",
    "    def fit(self, X, y=None):\n",
    "        self._check_df(X)\n",
    "        self.team_enc.fit(X[['H_ID', 'A_ID']])\n",
    "        self.t_cols = [\n",
    "            *('{}_h'.format(idx) for idx in self.team_enc.categories_[0]),\n",
    "            *('{}_a'.format(idx) for idx in self.team_enc.categories_[1])\n",
    "        ]\n",
    "        \n",
    "        return self\n",
    "    \n",
    "    def transform(self, X):\n",
    "        self._check_df(X)\n",
    "        X = X.copy() # make a copy to prevent changes being made\n",
    "        \n",
    "        # compute features\n",
    "        h_won_last = X.apply(self._home_won_last, args=[{}], axis=1)\n",
    "        h_leader = X.apply(self._home_series_leader, args=[defaultdict(list)], axis=1)\n",
    "        teams = self.team_enc.transform(X[['H_ID', 'A_ID']])\n",
    "        teams = pd.DataFrame(data=teams, columns=self.t_cols)\n",
    "        \n",
    "        # compute feature averages for home / away teams\n",
    "        h_avgs = (\n",
    "            X.groupby('H_ID')\n",
    "                [['H_{}'.format(col) for col in self.avg_cols]]\n",
    "                .rolling(self.window).mean()  # Compute rolling mean\n",
    "                .groupby('H_ID')              # Group by H_ID again\n",
    "                .shift(1)                     # Ensure avg is from prev game\n",
    "                .droplevel(0)                 # drop top level index (H_ID)\n",
    "                .sort_index()\n",
    "        )\n",
    "        a_avgs = (\n",
    "            X.groupby('A_ID')\n",
    "                [['A_{}'.format(col) for col in self.avg_cols]]\n",
    "                .rolling(self.window).mean()  # Compute rolling mean\n",
    "                .groupby('A_ID')              # Group by A_ID again\n",
    "                .shift(1)                     # Ensure avg is from prev game\n",
    "                .droplevel(0)                 # drop top level index (A_ID)\n",
    "                .sort_index()\n",
    "        )\n",
    "\n",
    "        # compute differential stats and rename\n",
    "        diff = a_avgs - h_avgs.values\n",
    "        diff.columns = self.avg_cols\n",
    "        \n",
    "        # combine all features\n",
    "        data = pd.concat([\n",
    "            diff,\n",
    "            h_won_last.rename('H_WON_LAST'),\n",
    "            h_leader.rename('H_LEADER'),\n",
    "            teams,\n",
    "            X[['HOME_WIN']]\n",
    "        ], axis=1)\n",
    "        self.columns = data.columns\n",
    "        \n",
    "        if self.return_df:\n",
    "            return data\n",
    "        else:\n",
    "            return data.dropna().values\n",
    "        \n",
    "    def fit_transform(self, X, y=None):\n",
    "        self._check_df(X)\n",
    "        return self.fit(X).transform(X)\n",
    "    \n",
    "    def _check_df(self, X):\n",
    "        if not isinstance(X, pd.DataFrame):\n",
    "            raise ValueError('X must be a pandas DataFrame')\n",
    "            \n",
    "    \"\"\"PANDAS TRANSFORMATION METHODS\"\"\"\n",
    "    \n",
    "    @classmethod\n",
    "    def _home_series_leader(cls, row, series_history):\n",
    "        \"\"\"Computes whether or not the home team is the series leader\"\"\"\n",
    "        matchup_id = tuple(sorted([row['H_ID'], row['A_ID']]))\n",
    "\n",
    "        # get series history, count wins and which team is the leader\n",
    "        series = series_history.get(matchup_id, None)\n",
    "        if series is None:\n",
    "            home_leader = 1\n",
    "        else:\n",
    "            home_leader = int(series.count(row['H_ID']) >= series.count(row['A_ID']))\n",
    "\n",
    "        # add game winner to series history\n",
    "        series_history[matchup_id].append(row['H_ID'] if row['HOME_WIN'] else row['A_ID'])\n",
    "        return home_leader\n",
    "    \n",
    "    @classmethod \n",
    "    def _home_won_last(cls, row, last_games):\n",
    "        \"\"\"Computes whether or not the home team won the last matchup. \"\"\"\n",
    "        matchup_id = tuple(sorted([row['H_ID'], row['A_ID']]))\n",
    "\n",
    "        # get winner of previous game, if no game exists pick home team\n",
    "        last_winner = last_games.get(matchup_id, None)\n",
    "        if last_winner is None:\n",
    "            home_won = 1\n",
    "        else:\n",
    "            home_won = 1 if row['H_ID'] == last_winner else 0\n",
    "\n",
    "        # update last game for this matchup\n",
    "        last_games[matchup_id] = row['H_ID'] if row['HOME_WIN'] else row['A_ID']\n",
    "        return home_won"
   ]
  },
  {
   "cell_type": "code",
   "execution_count": 70,
   "metadata": {},
   "outputs": [],
   "source": [
    "# adv_cols = ['DEF_RATING', 'OFF_RATING', 'TS_PCT', 'EFG_PCT',\n",
    "#             'PASS', 'PACE', 'TCHS', 'TM_TOV_PCT', 'CFGM', \n",
    "#            'CFGA', 'UFGM', 'UFGA', 'DIST']\n",
    "\n",
    "# tester = load_season('2018-full.csv')\n",
    "# pf_t = ProcessFeatures(adv_cols)\n",
    "# pf_t = pf_t.fit_transform(tester)\n",
    "# pf_t.shape"
   ]
  },
  {
   "cell_type": "markdown",
   "metadata": {},
   "source": [
    "# Baseline Models"
   ]
  },
  {
   "cell_type": "code",
   "execution_count": 71,
   "metadata": {},
   "outputs": [
    {
     "data": {
      "text/plain": [
       "1    729\n",
       "0    501\n",
       "Name: HOME_WIN, dtype: int64"
      ]
     },
     "execution_count": 71,
     "metadata": {},
     "output_type": "execute_result"
    }
   ],
   "source": [
    "df_test = load_season('2018-full.csv')\n",
    "df_test['HOME_WIN'].value_counts()"
   ]
  },
  {
   "cell_type": "markdown",
   "metadata": {},
   "source": [
    "## Always pick home team"
   ]
  },
  {
   "cell_type": "code",
   "execution_count": 72,
   "metadata": {
    "tags": []
   },
   "outputs": [
    {
     "name": "stdout",
     "output_type": "stream",
     "text": [
      "F1 = 0.44110857953908783\n"
     ]
    }
   ],
   "source": [
    "y_home = np.ones((df_test.shape[0],))\n",
    "print('F1 =', f1_score(df_test['HOME_WIN'], y_home, average='weighted'))"
   ]
  },
  {
   "cell_type": "markdown",
   "metadata": {},
   "source": [
    "## Always pick the team who won last matchup\n",
    "Pick the team who won the last matchup, if no previous matchup exists pick the home team."
   ]
  },
  {
   "cell_type": "code",
   "execution_count": 73,
   "metadata": {},
   "outputs": [
    {
     "name": "stdout",
     "output_type": "stream",
     "text": [
      "F1 = 0.5387556943017995\n"
     ]
    }
   ],
   "source": [
    "df_test['H_WON_LAST'] = df_test.apply(ProcessFeatures._home_won_last, args=[{}], axis=1)\n",
    "y_last_win = df_test['H_WON_LAST']\n",
    "print('F1 =', f1_score(df_test['HOME_WIN'], y_last_win, average='weighted'))\n",
    "    \n",
    "# Feature validation\n",
    "# matchup = get_matchup_games(df, 1610612739, 1610612766)\n",
    "# matchup[['A_ID', 'H_ID', 'HOME_WIN', 'H_WON_LAST']]"
   ]
  },
  {
   "cell_type": "markdown",
   "metadata": {},
   "source": [
    "## Always pick the series leader\n",
    "Pick Home team if the series is tied"
   ]
  },
  {
   "cell_type": "code",
   "execution_count": 74,
   "metadata": {},
   "outputs": [
    {
     "name": "stdout",
     "output_type": "stream",
     "text": [
      "F1 = 0.5605965466967578\n"
     ]
    }
   ],
   "source": [
    "df_test['H_LEADER'] = df_test.apply(ProcessFeatures._home_series_leader, args=[defaultdict(list)], axis=1)\n",
    "y_series_leader = df_test['H_LEADER']\n",
    "print('F1 =', f1_score(df_test['HOME_WIN'], y_series_leader, average='weighted'))\n",
    "\n",
    "# Feature validation\n",
    "# matchup = get_matchup_games(df, 1610612739, 1610612766)\n",
    "# matchup[['A_ID', 'H_ID', 'HOME_WIN', 'H_LEADER']]"
   ]
  },
  {
   "cell_type": "code",
   "execution_count": 75,
   "metadata": {},
   "outputs": [
    {
     "data": {
      "image/png": "[encoded data removed]",
      "text/plain": [
       "<Figure size 1224x288 with 6 Axes>"
      ]
     },
     "metadata": {
      "needs_background": "light"
     },
     "output_type": "display_data"
    }
   ],
   "source": [
    "import itertools\n",
    "from mpl_toolkits.axes_grid1 import ImageGrid\n",
    "\n",
    "\n",
    "classes = ['Home Lose', 'Home Win']\n",
    "\n",
    "fig = plt.figure(figsize=(17, 4))\n",
    "grid = ImageGrid(fig, 111,          # as in plt.subplot(111)\n",
    "                 nrows_ncols=(1,3),\n",
    "                 axes_pad=0.15,\n",
    "                 cbar_location=\"right\",\n",
    "                 cbar_mode=\"single\",\n",
    "                 cbar_size=\"7%\",\n",
    "                 cbar_pad=0.15)\n",
    "\n",
    "cfs = [\n",
    "    confusion_matrix(df_test['HOME_WIN'], y_home, normalize='true') * 100,\n",
    "    confusion_matrix(df_test['HOME_WIN'], y_last_win, normalize='true') * 100,\n",
    "    confusion_matrix(df_test['HOME_WIN'], y_series_leader, normalize='true') * 100\n",
    "]\n",
    "titles = ['Home Win', 'Last Victor', 'Series Leader']\n",
    "\n",
    "for i, (ax, cf) in enumerate(zip(grid[:3], cfs)):\n",
    "    cm = cf\n",
    "    im = ax.imshow(cm, cmap='Blues')\n",
    "    tick_marks = np.arange(2)\n",
    "    ax.set_title(titles[i])\n",
    "    ax.set_xticks(tick_marks)\n",
    "    ax.set_xticklabels(classes)\n",
    "    ax.set_yticks(tick_marks)\n",
    "    ax.set_yticklabels(classes)\n",
    "\n",
    "    annotate_heatmap(im, valfmt=\"{x:.2f} %\")\n",
    "    \n",
    "    ax.set_ylabel('True label')\n",
    "    if i == 1: \n",
    "        ax.set_xlabel('Predicted label')\n",
    "\n",
    "\n",
    "fig.colorbar(im, cax=ax.cax)\n",
    "plt.show()\n",
    "fig.savefig('plots/baseline-results.pdf', bbox_inches='tight')"
   ]
  },
  {
   "cell_type": "markdown",
   "metadata": {},
   "source": [
    "## Data Prep"
   ]
  },
  {
   "cell_type": "code",
   "execution_count": 5,
   "metadata": {},
   "outputs": [],
   "source": [
    "# load training data\n",
    "df_train = load_season('2017-full.csv')\n",
    "df_test = pd.concat([\n",
    "    df_train, # rolls data into 2018 season\n",
    "    load_season('2018-full.csv')\n",
    "], ignore_index=True)\n",
    "\n",
    "adv_cols = ['DEF_RATING', 'OFF_RATING', 'TS_PCT', 'EFG_PCT',\n",
    "            'PASS', 'PACE', 'TCHS', 'TM_TOV_PCT', 'CFGM', \n",
    "           'CFGA', 'UFGM', 'UFGA', 'DIST']\n",
    "trad_cols = ['FG_PCT', 'FG3_PCT', 'FT_PCT', 'OREB', 'DREB', \n",
    "             'AST', 'STL', 'BLK', 'TO', 'PF', 'PTS', 'PLUS_MIN']\n",
    "\n",
    "\n",
    "# ADVANCED FEATURES\n",
    "pf = ProcessFeatures(adv_cols, return_df=True)\n",
    "df_train_adv = pf.fit_transform(df_train)\n",
    "df_test_adv = pf.transform(df_test)\n",
    "\n",
    "# convert to numpy and drop training data from test\n",
    "df_train_adv = df_train_adv.dropna().values\n",
    "df_test_adv = df_test_adv[1230:].values # IMPORTANT!!\n",
    "\n",
    "# split features and labels\n",
    "X_train_adv, y_train_adv = df_train_adv[:, :-1], df_train_adv[:, -1]\n",
    "X_test_adv, y_test_adv = df_test_adv[:, :-1], df_test_adv[:, -1]"
   ]
  },
  {
   "cell_type": "code",
   "execution_count": 6,
   "metadata": {},
   "outputs": [],
   "source": [
    "# TRADITIONAL FEATURES\n",
    "pf_trad = ProcessFeatures(trad_cols, return_df=True)\n",
    "df_train_trad = pf_trad.fit_transform(df_train)\n",
    "df_test_trad = pf_trad.transform(df_test)\n",
    "\n",
    "# convert to numpy and drop training data from test\n",
    "df_train_trad = df_train_trad.dropna().values\n",
    "df_test_trad = df_test_trad[1230:].values # IMPORTANT!!\n",
    "\n",
    "# split features and labels\n",
    "X_train_trad, y_train_trad = df_train_trad[:, :-1], df_train_trad[:, -1]\n",
    "X_test_trad, y_test_trad = df_test_trad[:, :-1], df_test_trad[:, -1]"
   ]
  },
  {
   "cell_type": "markdown",
   "metadata": {},
   "source": [
    "# Linear Regression Model"
   ]
  },
  {
   "cell_type": "code",
   "execution_count": 7,
   "metadata": {
    "tags": []
   },
   "outputs": [
    {
     "data": {
      "text/plain": [
       "{'C': 0.8, 'penalty': 'l1'}"
      ]
     },
     "execution_count": 7,
     "metadata": {},
     "output_type": "execute_result"
    }
   ],
   "source": [
    "lr = LogisticRegression(solver='liblinear', class_weight='balanced', random_state=STATE)\n",
    "lr_params = {\n",
    "    'penalty': ['l1', 'l2', 'none'],\n",
    "    'C': [1.0, 0.8, 0.5]\n",
    "}\n",
    "\n",
    "clf_1 = GridSearchCV(estimator=lr, param_grid=lr_params, cv=5, scoring='f1', n_jobs=-1)\n",
    "clf_1.fit(X_train_adv, y_train_adv)\n",
    "clf_1.best_params_"
   ]
  },
  {
   "cell_type": "code",
   "execution_count": 8,
   "metadata": {},
   "outputs": [
    {
     "name": "stdout",
     "output_type": "stream",
     "text": [
      "F1 = 0.6356166110733178\n",
      "Accuracy = 0.6686217008797654\n"
     ]
    }
   ],
   "source": [
    "y_score_1 = clf_1.predict_proba(X_test_adv)\n",
    "y_pred_1 = (y_score_1[:, 1] >= 0.5).astype(int)\n",
    "\n",
    "print('F1 =', f1_score(y_test_adv, y_pred_1, average='weighted'))\n",
    "print('Accuracy =', clf_1.score(X_test_adv, y_test_adv))"
   ]
  },
  {
   "cell_type": "markdown",
   "metadata": {},
   "source": [
    "## Using only traditional stats"
   ]
  },
  {
   "cell_type": "code",
   "execution_count": 9,
   "metadata": {},
   "outputs": [
    {
     "data": {
      "text/plain": [
       "{'C': 1.0, 'penalty': 'l1'}"
      ]
     },
     "execution_count": 9,
     "metadata": {},
     "output_type": "execute_result"
    }
   ],
   "source": [
    "clf_2 = GridSearchCV(estimator=lr, param_grid=lr_params, scoring='f1', cv=5, n_jobs=-1)\n",
    "clf_2.fit(X_train_trad, y_train_trad)\n",
    "clf_2.best_params_"
   ]
  },
  {
   "cell_type": "code",
   "execution_count": 10,
   "metadata": {},
   "outputs": [
    {
     "name": "stdout",
     "output_type": "stream",
     "text": [
      "F1 = 0.6209205449112458\n",
      "Accuracy = 0.6589259796806967\n"
     ]
    }
   ],
   "source": [
    "y_score_2 = clf_2.predict_proba(X_test_trad)\n",
    "y_pred_2 = (y_score_2[:, 1] >= 0.5).astype(int)\n",
    "\n",
    "print('F1 =', f1_score(y_test_trad, y_pred_2, average='weighted'))\n",
    "print('Accuracy =', clf_2.score(X_test_trad, y_test_trad))"
   ]
  },
  {
   "cell_type": "code",
   "execution_count": 11,
   "metadata": {},
   "outputs": [
    {
     "data": {
      "image/png": "[encoded data removed]",
      "text/plain": [
       "<Figure size 720x576 with 3 Axes>"
      ]
     },
     "metadata": {
      "needs_background": "light"
     },
     "output_type": "display_data"
    }
   ],
   "source": [
    "fig = run_metrics(\n",
    "    [y_pred_1, y_pred_2], \n",
    "    [y_test_adv, y_test_trad], \n",
    "    [y_score_1[:, 1], y_score_2[:, 1]]\n",
    ")\n",
    "fig.savefig('plots/matchups-LR.pdf', bbox_inches='tight')"
   ]
  },
  {
   "cell_type": "code",
   "execution_count": 12,
   "metadata": {},
   "outputs": [
    {
     "name": "stdout",
     "output_type": "stream",
     "text": [
      "t statistic: -0.604\n",
      "p value: 0.572\n"
     ]
    }
   ],
   "source": [
    "t, p = ttest(clf_1, clf_2, X_test_adv, X_test_trad, y_test_adv)\n",
    "print('t statistic: %.3f' % t)\n",
    "print('p value: %.3f' % p)"
   ]
  },
  {
   "cell_type": "markdown",
   "metadata": {},
   "source": [
    "# Random Forest"
   ]
  },
  {
   "cell_type": "code",
   "execution_count": 13,
   "metadata": {},
   "outputs": [
    {
     "data": {
      "text/plain": [
       "{'min_samples_leaf': 1, 'n_estimators': 500}"
      ]
     },
     "execution_count": 13,
     "metadata": {},
     "output_type": "execute_result"
    }
   ],
   "source": [
    "rf = RandomForestClassifier(class_weight='balanced', random_state=STATE)\n",
    "rf_params = {\n",
    "    'n_estimators': [300, 500],\n",
    "    'min_samples_leaf': [1, 3]\n",
    "}\n",
    "\n",
    "# make copies for binning\n",
    "X_train_adv_binned = X_train_adv.copy()\n",
    "X_test_adv_binned = X_test_adv.copy()\n",
    "\n",
    "# discretize continuous features!!\n",
    "kbins = KBinsDiscretizer(encode='ordinal', strategy='kmeans', n_bins=3)\n",
    "X_train_adv_binned[:, :len(pf.avg_cols)] = kbins.fit_transform(X_train_adv[:, :len(pf.avg_cols)])\n",
    "X_test_adv_binned[:, :len(pf.avg_cols)] = kbins.transform(X_test_adv[:, :len(pf.avg_cols)])\n",
    "\n",
    "clf_3 = GridSearchCV(estimator=rf, param_grid=rf_params, cv=5, scoring='f1', n_jobs=-1)\n",
    "clf_3.fit(X_train_adv_binned, y_train_adv)\n",
    "clf_3.best_params_"
   ]
  },
  {
   "cell_type": "code",
   "execution_count": 14,
   "metadata": {},
   "outputs": [
    {
     "name": "stdout",
     "output_type": "stream",
     "text": [
      "F1 = 0.6128084968035005\n",
      "Accuracy = 0.6902423051735429\n"
     ]
    }
   ],
   "source": [
    "y_score_3 = clf_3.predict_proba(X_test_adv_binned)\n",
    "y_pred_3 = (y_score_3[:, 1] >= 0.5).astype(int)\n",
    "\n",
    "print('F1 =', f1_score(y_test_adv, y_pred_3, average='weighted'))\n",
    "print('Accuracy =', clf_3.score(X_test_adv_binned, y_test_adv))"
   ]
  },
  {
   "cell_type": "markdown",
   "metadata": {},
   "source": [
    "### Feature Importances!!"
   ]
  },
  {
   "cell_type": "code",
   "execution_count": 51,
   "metadata": {},
   "outputs": [
    {
     "name": "stdout",
     "output_type": "stream",
     "text": [
      "OFF_RATING 0.046\n",
      "DEF_RATING 0.044\n",
      "TM_TOV_PCT 0.040\n",
      "PACE 0.039\n",
      "CFGM 0.036\n",
      "UFGA 0.036\n",
      "CFGA 0.035\n",
      "EFG_PCT 0.033\n",
      "UFGM 0.033\n",
      "TS_PCT 0.032\n"
     ]
    }
   ],
   "source": [
    "f_imp_idx = list(reversed(np.argsort(clf_3.best_estimator_.feature_importances_)))[:10]\n",
    "f_imp_sorted = sorted(clf_3.best_estimator_.feature_importances_, reverse=True)[:10]\n",
    "\n",
    "for feature, importance in zip(pf.columns[f_imp_idx], f_imp_sorted):\n",
    "    print(feature, '{:.3f}'.format(importance))"
   ]
  },
  {
   "cell_type": "markdown",
   "metadata": {},
   "source": [
    "## Using only traditional stats"
   ]
  },
  {
   "cell_type": "code",
   "execution_count": 52,
   "metadata": {},
   "outputs": [
    {
     "data": {
      "text/plain": [
       "{'min_samples_leaf': 1, 'n_estimators': 500}"
      ]
     },
     "execution_count": 52,
     "metadata": {},
     "output_type": "execute_result"
    }
   ],
   "source": [
    "# make copies for binning\n",
    "X_train_trad_binned = X_train_trad.copy()\n",
    "X_test_trad_binned = X_test_trad.copy()\n",
    "\n",
    "# discretize continuous features!!\n",
    "kbins = KBinsDiscretizer(encode='ordinal', strategy='kmeans', n_bins=3)\n",
    "X_train_trad_binned[:, :len(pf_trad.avg_cols)] = kbins.fit_transform(X_train_trad[:, :len(pf_trad.avg_cols)])\n",
    "X_test_trad_binned[:, :len(pf_trad.avg_cols)] = kbins.transform(X_test_trad[:, :len(pf_trad.avg_cols)])\n",
    "\n",
    "clf_4 = GridSearchCV(estimator=rf, param_grid=rf_params, cv=5, scoring='f1', n_jobs=-1)\n",
    "clf_4.fit(X_train_trad_binned, y_train_trad)\n",
    "clf_4.best_params_"
   ]
  },
  {
   "cell_type": "code",
   "execution_count": 53,
   "metadata": {},
   "outputs": [
    {
     "name": "stdout",
     "output_type": "stream",
     "text": [
      "F1 = 0.6257905139040166\n",
      "Accuracy = 0.7064160725858716\n"
     ]
    }
   ],
   "source": [
    "y_score_4 = clf_4.predict_proba(X_test_trad_binned)\n",
    "y_pred_4 = (y_score_4[:, 1] >= 0.5).astype(int)\n",
    "\n",
    "print('F1 =', f1_score(y_test_trad, y_pred_4, average='weighted'))\n",
    "print('Accuracy =', clf_4.score(X_test_trad_binned, y_test_trad))"
   ]
  },
  {
   "cell_type": "code",
   "execution_count": 54,
   "metadata": {},
   "outputs": [
    {
     "data": {
      "image/png": "[encoded data removed]",
      "text/plain": [
       "<Figure size 720x576 with 3 Axes>"
      ]
     },
     "metadata": {
      "needs_background": "light"
     },
     "output_type": "display_data"
    }
   ],
   "source": [
    "fig = run_metrics(\n",
    "    [y_pred_3, y_pred_4], \n",
    "    [y_test_adv, y_test_trad], \n",
    "    [y_score_3[:, 1], y_score_4[:, 1]]\n",
    ")\n",
    "fig.savefig('plots/matchups-RF.pdf', bbox_inches='tight')"
   ]
  },
  {
   "cell_type": "markdown",
   "metadata": {},
   "source": [
    "### Feature Importances (traditional stats)"
   ]
  },
  {
   "cell_type": "code",
   "execution_count": 55,
   "metadata": {},
   "outputs": [
    {
     "name": "stdout",
     "output_type": "stream",
     "text": [
      "PLUS_MIN 0.061\n",
      "PTS 0.042\n",
      "FT_PCT 0.039\n",
      "OREB 0.039\n",
      "FG_PCT 0.038\n",
      "STL 0.038\n",
      "BLK 0.038\n",
      "FG3_PCT 0.038\n",
      "TO 0.038\n",
      "PF 0.038\n"
     ]
    }
   ],
   "source": [
    "f_imp_idx_2 = list(reversed(np.argsort(clf_4.best_estimator_.feature_importances_)))[:10]\n",
    "f_imp_sorted_2 = sorted(clf_4.best_estimator_.feature_importances_, reverse=True)[:10]\n",
    "\n",
    "for feature, importance in zip(pf_trad.columns[f_imp_idx_2], f_imp_sorted_2):\n",
    "    print(feature, '{:.3f}'.format(importance))"
   ]
  },
  {
   "cell_type": "code",
   "execution_count": 56,
   "metadata": {},
   "outputs": [
    {
     "name": "stdout",
     "output_type": "stream",
     "text": [
      "t statistic: 0.503\n",
      "p value: 0.636\n"
     ]
    }
   ],
   "source": [
    "t, p = ttest(clf_3, clf_4, X_test_adv_binned, X_test_trad_binned, y_test_adv)\n",
    "print('t statistic: %.3f' % t)\n",
    "print('p value: %.3f' % p)"
   ]
  },
  {
   "cell_type": "markdown",
   "metadata": {},
   "source": [
    "# Neural Net"
   ]
  },
  {
   "cell_type": "code",
   "execution_count": 15,
   "metadata": {},
   "outputs": [],
   "source": [
    "from tensorflow import keras\n",
    "import tensorflow as tf\n",
    "from sklearn.utils.class_weight import compute_class_weight\n",
    "import random\n",
    "\n",
    "K = keras.backend\n",
    "\n",
    "# allow reproducible results\n",
    "random.seed(STATE)\n",
    "np.random.seed(STATE)\n",
    "tf.random.set_seed(STATE)\n",
    "\n",
    "\n",
    "def f1(y_true, y_pred):\n",
    "    \"\"\"Use keras backend to compute f1 metric\"\"\"\n",
    "    true_positives = K.sum(K.round(K.clip(y_true * y_pred, 0, 1)))\n",
    "    possible_positives = K.sum(K.round(K.clip(y_true, 0, 1)))\n",
    "    predicted_positives = K.sum(K.round(K.clip(y_pred, 0, 1)))\n",
    "    precision = true_positives / (predicted_positives + K.epsilon())\n",
    "    recall = true_positives / (possible_positives + K.epsilon())\n",
    "    f1_val = 2*(precision*recall)/(precision+recall+K.epsilon())\n",
    "    return f1_val"
   ]
  },
  {
   "cell_type": "code",
   "execution_count": 16,
   "metadata": {},
   "outputs": [
    {
     "data": {
      "text/plain": [
       "75"
      ]
     },
     "execution_count": 16,
     "metadata": {},
     "output_type": "execute_result"
    }
   ],
   "source": [
    "# scale data between 0 and 1\n",
    "mm_scaler = MinMaxScaler()\n",
    "X_train_adv_s = mm_scaler.fit_transform(X_train_adv)\n",
    "X_test_adv_s = mm_scaler.transform(X_test_adv)\n",
    "\n",
    "# create a validation set from test set\n",
    "X_train_adv_s, X_val_adv_s, y_train_adv_s, y_val_adv_s = train_test_split(X_train_adv_s, y_train_adv,\n",
    "                                                                          test_size=0.1,\n",
    "                                                                          random_state=STATE)\n",
    "\n",
    "class_weights_1 = compute_class_weight('balanced', classes=np.unique(y_train_adv_s), \n",
    "                                     y=y_train_adv_s)\n",
    "class_weights_1 = {\n",
    "    0: class_weights_1[0],\n",
    "    1: class_weights_1[1],\n",
    "}\n",
    "X_train_adv_s.shape[1]"
   ]
  },
  {
   "cell_type": "code",
   "execution_count": null,
   "metadata": {},
   "outputs": [],
   "source": [
    "ann_1 = keras.models.Sequential([\n",
    "    keras.layers.Input(shape=(X_train_adv_s.shape[1],)),\n",
    "    keras.layers.BatchNormalization(),\n",
    "    \n",
    "    keras.layers.Dense(16, activation='selu'),\n",
    "    keras.layers.Dropout(0.2),\n",
    "    keras.layers.BatchNormalization(),\n",
    "    \n",
    "    keras.layers.Dense(8, activation='selu'),\n",
    "    keras.layers.Dropout(0.2),\n",
    "    keras.layers.BatchNormalization(),\n",
    "    \n",
    "    keras.layers.Dense(1, activation='sigmoid'),\n",
    "])\n",
    "\n",
    "# METRICS = [keras.metrics.BinaryAccuracy(name='accuracy'), f1]\n",
    "METRICS = [f1]\n",
    "early_stop = keras.callbacks.EarlyStopping(patience=10, restore_best_weights=True)\n",
    "adam = keras.optimizers.Adam(learning_rate=0.001, decay=1e-4)\n",
    "\n",
    "ann_1.compile(loss='binary_crossentropy', optimizer=adam, metrics=METRICS)"
   ]
  },
  {
   "cell_type": "code",
   "execution_count": 58,
   "metadata": {
    "scrolled": true
   },
   "outputs": [
    {
     "name": "stdout",
     "output_type": "stream",
     "text": [
      "Epoch 1/100\n",
      "30/30 [==============================] - 0s 6ms/step - loss: 0.7565 - f1: 0.5505 - val_loss: 0.7329 - val_f1: 0.1756\n",
      "Epoch 2/100\n",
      "30/30 [==============================] - 0s 2ms/step - loss: 0.7178 - f1: 0.5757 - val_loss: 0.6985 - val_f1: 0.4083\n",
      "Epoch 3/100\n",
      "30/30 [==============================] - 0s 2ms/step - loss: 0.6874 - f1: 0.6270 - val_loss: 0.6743 - val_f1: 0.5510\n",
      "Epoch 4/100\n",
      "30/30 [==============================] - 0s 2ms/step - loss: 0.6576 - f1: 0.6557 - val_loss: 0.6695 - val_f1: 0.5112\n",
      "Epoch 5/100\n",
      "30/30 [==============================] - 0s 2ms/step - loss: 0.6386 - f1: 0.6726 - val_loss: 0.6584 - val_f1: 0.5310\n",
      "Epoch 6/100\n",
      "30/30 [==============================] - 0s 2ms/step - loss: 0.6593 - f1: 0.6409 - val_loss: 0.6439 - val_f1: 0.6316\n",
      "Epoch 7/100\n",
      "30/30 [==============================] - 0s 2ms/step - loss: 0.6453 - f1: 0.6635 - val_loss: 0.6405 - val_f1: 0.5786\n",
      "Epoch 8/100\n",
      "30/30 [==============================] - 0s 2ms/step - loss: 0.6272 - f1: 0.6847 - val_loss: 0.6375 - val_f1: 0.5856\n",
      "Epoch 9/100\n",
      "30/30 [==============================] - 0s 2ms/step - loss: 0.6334 - f1: 0.6579 - val_loss: 0.6301 - val_f1: 0.6453\n",
      "Epoch 10/100\n",
      "30/30 [==============================] - 0s 2ms/step - loss: 0.6291 - f1: 0.6882 - val_loss: 0.6276 - val_f1: 0.6372\n",
      "Epoch 11/100\n",
      "30/30 [==============================] - 0s 2ms/step - loss: 0.6225 - f1: 0.6786 - val_loss: 0.6261 - val_f1: 0.6470\n",
      "Epoch 12/100\n",
      "30/30 [==============================] - 0s 2ms/step - loss: 0.6153 - f1: 0.6972 - val_loss: 0.6188 - val_f1: 0.6551\n",
      "Epoch 13/100\n",
      "30/30 [==============================] - 0s 2ms/step - loss: 0.6143 - f1: 0.6958 - val_loss: 0.6150 - val_f1: 0.6551\n",
      "Epoch 14/100\n",
      "30/30 [==============================] - 0s 2ms/step - loss: 0.6106 - f1: 0.6858 - val_loss: 0.6098 - val_f1: 0.6551\n",
      "Epoch 15/100\n",
      "30/30 [==============================] - 0s 2ms/step - loss: 0.6052 - f1: 0.7186 - val_loss: 0.6095 - val_f1: 0.6470\n",
      "Epoch 16/100\n",
      "30/30 [==============================] - 0s 2ms/step - loss: 0.6116 - f1: 0.6873 - val_loss: 0.6072 - val_f1: 0.6470\n",
      "Epoch 17/100\n",
      "30/30 [==============================] - 0s 2ms/step - loss: 0.5983 - f1: 0.7206 - val_loss: 0.6020 - val_f1: 0.6576\n",
      "Epoch 18/100\n",
      "30/30 [==============================] - 0s 2ms/step - loss: 0.5867 - f1: 0.7145 - val_loss: 0.6001 - val_f1: 0.6628\n",
      "Epoch 19/100\n",
      "30/30 [==============================] - 0s 2ms/step - loss: 0.5837 - f1: 0.7293 - val_loss: 0.5991 - val_f1: 0.6579\n",
      "Epoch 20/100\n",
      "30/30 [==============================] - 0s 2ms/step - loss: 0.5946 - f1: 0.7083 - val_loss: 0.5998 - val_f1: 0.6503\n",
      "Epoch 21/100\n",
      "30/30 [==============================] - 0s 2ms/step - loss: 0.5959 - f1: 0.7189 - val_loss: 0.5989 - val_f1: 0.6551\n",
      "Epoch 22/100\n",
      "30/30 [==============================] - 0s 2ms/step - loss: 0.5998 - f1: 0.7137 - val_loss: 0.5968 - val_f1: 0.5967\n",
      "Epoch 23/100\n",
      "30/30 [==============================] - 0s 2ms/step - loss: 0.6069 - f1: 0.7062 - val_loss: 0.6003 - val_f1: 0.5887\n",
      "Epoch 24/100\n",
      "30/30 [==============================] - 0s 2ms/step - loss: 0.5742 - f1: 0.7204 - val_loss: 0.5998 - val_f1: 0.6310\n",
      "Epoch 25/100\n",
      "30/30 [==============================] - 0s 2ms/step - loss: 0.5897 - f1: 0.7328 - val_loss: 0.5977 - val_f1: 0.6701\n",
      "Epoch 26/100\n",
      "30/30 [==============================] - 0s 2ms/step - loss: 0.5855 - f1: 0.7184 - val_loss: 0.5971 - val_f1: 0.6030\n",
      "Epoch 27/100\n",
      "30/30 [==============================] - 0s 2ms/step - loss: 0.5703 - f1: 0.7358 - val_loss: 0.5932 - val_f1: 0.6515\n",
      "Epoch 28/100\n",
      "30/30 [==============================] - 0s 2ms/step - loss: 0.5875 - f1: 0.7331 - val_loss: 0.5941 - val_f1: 0.6579\n",
      "Epoch 29/100\n",
      "30/30 [==============================] - 0s 2ms/step - loss: 0.5749 - f1: 0.7233 - val_loss: 0.5938 - val_f1: 0.6579\n",
      "Epoch 30/100\n",
      "30/30 [==============================] - 0s 2ms/step - loss: 0.5824 - f1: 0.7271 - val_loss: 0.5944 - val_f1: 0.5930\n",
      "Epoch 31/100\n",
      "30/30 [==============================] - 0s 2ms/step - loss: 0.5973 - f1: 0.7065 - val_loss: 0.5921 - val_f1: 0.6490\n",
      "Epoch 32/100\n",
      "30/30 [==============================] - 0s 2ms/step - loss: 0.5763 - f1: 0.7402 - val_loss: 0.5888 - val_f1: 0.6431\n",
      "Epoch 33/100\n",
      "30/30 [==============================] - 0s 2ms/step - loss: 0.5854 - f1: 0.7307 - val_loss: 0.5857 - val_f1: 0.6534\n",
      "Epoch 34/100\n",
      "30/30 [==============================] - 0s 1ms/step - loss: 0.5868 - f1: 0.7216 - val_loss: 0.5777 - val_f1: 0.5998\n",
      "Epoch 35/100\n",
      "30/30 [==============================] - 0s 2ms/step - loss: 0.5739 - f1: 0.7284 - val_loss: 0.5757 - val_f1: 0.6074\n",
      "Epoch 36/100\n",
      "30/30 [==============================] - 0s 2ms/step - loss: 0.5785 - f1: 0.7221 - val_loss: 0.5735 - val_f1: 0.6665\n",
      "Epoch 37/100\n",
      "30/30 [==============================] - 0s 1ms/step - loss: 0.5839 - f1: 0.7221 - val_loss: 0.5736 - val_f1: 0.6631\n",
      "Epoch 38/100\n",
      "30/30 [==============================] - 0s 2ms/step - loss: 0.5803 - f1: 0.7284 - val_loss: 0.5756 - val_f1: 0.6732\n",
      "Epoch 39/100\n",
      "30/30 [==============================] - 0s 2ms/step - loss: 0.5701 - f1: 0.7397 - val_loss: 0.5761 - val_f1: 0.6680\n",
      "Epoch 40/100\n",
      "30/30 [==============================] - 0s 2ms/step - loss: 0.5702 - f1: 0.7247 - val_loss: 0.5744 - val_f1: 0.6732\n",
      "Epoch 41/100\n",
      "30/30 [==============================] - 0s 2ms/step - loss: 0.5777 - f1: 0.7300 - val_loss: 0.5699 - val_f1: 0.6680\n",
      "Epoch 42/100\n",
      "30/30 [==============================] - 0s 2ms/step - loss: 0.5599 - f1: 0.7258 - val_loss: 0.5675 - val_f1: 0.7134\n",
      "Epoch 43/100\n",
      "30/30 [==============================] - 0s 2ms/step - loss: 0.5669 - f1: 0.7402 - val_loss: 0.5685 - val_f1: 0.7183\n",
      "Epoch 44/100\n",
      "30/30 [==============================] - 0s 2ms/step - loss: 0.5682 - f1: 0.7292 - val_loss: 0.5718 - val_f1: 0.7059\n",
      "Epoch 45/100\n",
      "30/30 [==============================] - 0s 2ms/step - loss: 0.5611 - f1: 0.7409 - val_loss: 0.5765 - val_f1: 0.6642\n",
      "Epoch 46/100\n",
      "30/30 [==============================] - 0s 2ms/step - loss: 0.5707 - f1: 0.7146 - val_loss: 0.5747 - val_f1: 0.6646\n",
      "Epoch 47/100\n",
      "30/30 [==============================] - 0s 2ms/step - loss: 0.5597 - f1: 0.7380 - val_loss: 0.5725 - val_f1: 0.6618\n",
      "Epoch 48/100\n",
      "30/30 [==============================] - 0s 2ms/step - loss: 0.5647 - f1: 0.7386 - val_loss: 0.5746 - val_f1: 0.6618\n",
      "Epoch 49/100\n",
      "30/30 [==============================] - 0s 2ms/step - loss: 0.5639 - f1: 0.7341 - val_loss: 0.5723 - val_f1: 0.7140\n",
      "Epoch 50/100\n",
      "30/30 [==============================] - 0s 2ms/step - loss: 0.5607 - f1: 0.7466 - val_loss: 0.5738 - val_f1: 0.6618\n",
      "Epoch 51/100\n",
      "30/30 [==============================] - 0s 2ms/step - loss: 0.5786 - f1: 0.7298 - val_loss: 0.5727 - val_f1: 0.7110\n",
      "Epoch 52/100\n",
      "30/30 [==============================] - 0s 2ms/step - loss: 0.5754 - f1: 0.7171 - val_loss: 0.5749 - val_f1: 0.6616\n"
     ]
    }
   ],
   "source": [
    "ann1_hist = ann_1.fit(X_train_adv_s, y_train_adv_s, epochs=100, \n",
    "          validation_data=(X_val_adv_s, y_val_adv_s), \n",
    "          callbacks=[early_stop], class_weight=class_weights_1)"
   ]
  },
  {
   "cell_type": "code",
   "execution_count": 59,
   "metadata": {},
   "outputs": [
    {
     "name": "stdout",
     "output_type": "stream",
     "text": [
      "F1 = 0.6241790949886242\n",
      "Accuracy = 0.6211382113821138\n"
     ]
    }
   ],
   "source": [
    "ann_1_score = ann_1.predict(X_test_adv_s)\n",
    "ann_1_pred = (ann_1_score > 0.5).astype(int)\n",
    "\n",
    "print('F1 =', f1_score(y_test_adv, ann_1_pred, average='weighted'))\n",
    "print('Accuracy =', accuracy_score(ann_1_pred, y_test_adv))"
   ]
  },
  {
   "cell_type": "markdown",
   "metadata": {},
   "source": [
    "## Using Traditional Stats"
   ]
  },
  {
   "cell_type": "code",
   "execution_count": 18,
   "metadata": {},
   "outputs": [],
   "source": [
    "# scale data between 0 and 1\n",
    "mm_scaler_2 = MinMaxScaler()\n",
    "X_train_trad_s = mm_scaler_2.fit_transform(X_train_trad)\n",
    "X_test_trad_s = mm_scaler_2.transform(X_test_trad)\n",
    "\n",
    "# create a validation set from test set\n",
    "X_train_trad_s, X_val_trad_s, y_train_trad_s, y_val_trad_s = train_test_split(X_train_trad_s, y_train_trad,\n",
    "                                                                              test_size=0.1,\n",
    "                                                                              random_state=STATE)\n",
    "\n",
    "class_weights_2 = compute_class_weight('balanced', classes=np.unique(y_train_trad_s), \n",
    "                                     y=y_train_trad_s)\n",
    "class_weights_2 = {\n",
    "    0: class_weights_2[0],\n",
    "    1: class_weights_2[1],\n",
    "}"
   ]
  },
  {
   "cell_type": "code",
   "execution_count": null,
   "metadata": {},
   "outputs": [],
   "source": [
    "ann_2 = keras.models.Sequential([\n",
    "    keras.layers.Input(shape=(X_train_trad_s.shape[1],)),\n",
    "    keras.layers.BatchNormalization(),\n",
    "    \n",
    "    keras.layers.Dense(16, activation='selu'),\n",
    "    keras.layers.Dropout(0.2),\n",
    "    keras.layers.BatchNormalization(),\n",
    "    \n",
    "    keras.layers.Dense(8, activation='selu'),\n",
    "    keras.layers.Dropout(0.2),\n",
    "    keras.layers.BatchNormalization(),\n",
    "    \n",
    "    keras.layers.Dense(1, activation='sigmoid'),\n",
    "])\n",
    "\n",
    "METRICS = [f1]\n",
    "early_stop = keras.callbacks.EarlyStopping(patience=10, restore_best_weights=True)\n",
    "adam = keras.optimizers.Adam(learning_rate=0.001, decay=1e-4)\n",
    "\n",
    "ann_2.compile(loss='binary_crossentropy', optimizer=adam, metrics=METRICS)"
   ]
  },
  {
   "cell_type": "code",
   "execution_count": 26,
   "metadata": {
    "scrolled": true
   },
   "outputs": [
    {
     "name": "stdout",
     "output_type": "stream",
     "text": [
      "Epoch 1/100\n",
      "30/30 [==============================] - 0s 6ms/step - loss: 0.8885 - f1: 0.5069 - val_loss: 0.8720 - val_f1: 0.1949\n",
      "Epoch 2/100\n",
      "30/30 [==============================] - 0s 2ms/step - loss: 0.8005 - f1: 0.5457 - val_loss: 0.8047 - val_f1: 0.2088\n",
      "Epoch 3/100\n",
      "30/30 [==============================] - 0s 2ms/step - loss: 0.7330 - f1: 0.6049 - val_loss: 0.7559 - val_f1: 0.2890\n",
      "Epoch 4/100\n",
      "30/30 [==============================] - 0s 2ms/step - loss: 0.6916 - f1: 0.6008 - val_loss: 0.7358 - val_f1: 0.3060\n",
      "Epoch 5/100\n",
      "30/30 [==============================] - 0s 2ms/step - loss: 0.6912 - f1: 0.6207 - val_loss: 0.7226 - val_f1: 0.3621\n",
      "Epoch 6/100\n",
      "30/30 [==============================] - 0s 2ms/step - loss: 0.6834 - f1: 0.6067 - val_loss: 0.7029 - val_f1: 0.4372\n",
      "Epoch 7/100\n",
      "30/30 [==============================] - 0s 2ms/step - loss: 0.6614 - f1: 0.6406 - val_loss: 0.6977 - val_f1: 0.4263\n",
      "Epoch 8/100\n",
      "30/30 [==============================] - 0s 2ms/step - loss: 0.6310 - f1: 0.6545 - val_loss: 0.6914 - val_f1: 0.4565\n",
      "Epoch 9/100\n",
      "30/30 [==============================] - 0s 2ms/step - loss: 0.6423 - f1: 0.6674 - val_loss: 0.6812 - val_f1: 0.5402\n",
      "Epoch 10/100\n",
      "30/30 [==============================] - 0s 2ms/step - loss: 0.6340 - f1: 0.6670 - val_loss: 0.6724 - val_f1: 0.5602\n",
      "Epoch 11/100\n",
      "30/30 [==============================] - 0s 2ms/step - loss: 0.6429 - f1: 0.6614 - val_loss: 0.6680 - val_f1: 0.5602\n",
      "Epoch 12/100\n",
      "30/30 [==============================] - 0s 2ms/step - loss: 0.6477 - f1: 0.6628 - val_loss: 0.6585 - val_f1: 0.6294\n",
      "Epoch 13/100\n",
      "30/30 [==============================] - 0s 2ms/step - loss: 0.6295 - f1: 0.6685 - val_loss: 0.6527 - val_f1: 0.6294\n",
      "Epoch 14/100\n",
      "30/30 [==============================] - 0s 2ms/step - loss: 0.6266 - f1: 0.6772 - val_loss: 0.6519 - val_f1: 0.6203\n",
      "Epoch 15/100\n",
      "30/30 [==============================] - 0s 2ms/step - loss: 0.6165 - f1: 0.6969 - val_loss: 0.6479 - val_f1: 0.6409\n",
      "Epoch 16/100\n",
      "30/30 [==============================] - 0s 2ms/step - loss: 0.6180 - f1: 0.6860 - val_loss: 0.6479 - val_f1: 0.6356\n",
      "Epoch 17/100\n",
      "30/30 [==============================] - 0s 2ms/step - loss: 0.5994 - f1: 0.6931 - val_loss: 0.6466 - val_f1: 0.6309\n",
      "Epoch 18/100\n",
      "30/30 [==============================] - 0s 2ms/step - loss: 0.5986 - f1: 0.6951 - val_loss: 0.6456 - val_f1: 0.6309\n",
      "Epoch 19/100\n",
      "30/30 [==============================] - 0s 2ms/step - loss: 0.5931 - f1: 0.7174 - val_loss: 0.6431 - val_f1: 0.6495\n",
      "Epoch 20/100\n",
      "30/30 [==============================] - 0s 2ms/step - loss: 0.6063 - f1: 0.6958 - val_loss: 0.6382 - val_f1: 0.6818\n",
      "Epoch 21/100\n",
      "30/30 [==============================] - 0s 2ms/step - loss: 0.5966 - f1: 0.7179 - val_loss: 0.6366 - val_f1: 0.6789\n",
      "Epoch 22/100\n",
      "30/30 [==============================] - 0s 2ms/step - loss: 0.5947 - f1: 0.7152 - val_loss: 0.6391 - val_f1: 0.6692\n",
      "Epoch 23/100\n",
      "30/30 [==============================] - 0s 2ms/step - loss: 0.5988 - f1: 0.7076 - val_loss: 0.6431 - val_f1: 0.6590\n",
      "Epoch 24/100\n",
      "30/30 [==============================] - 0s 2ms/step - loss: 0.6086 - f1: 0.6909 - val_loss: 0.6398 - val_f1: 0.6608\n",
      "Epoch 25/100\n",
      "30/30 [==============================] - 0s 2ms/step - loss: 0.5935 - f1: 0.7063 - val_loss: 0.6377 - val_f1: 0.6647\n",
      "Epoch 26/100\n",
      "30/30 [==============================] - 0s 2ms/step - loss: 0.5938 - f1: 0.7043 - val_loss: 0.6346 - val_f1: 0.6647\n",
      "Epoch 27/100\n",
      "30/30 [==============================] - 0s 2ms/step - loss: 0.5869 - f1: 0.7127 - val_loss: 0.6321 - val_f1: 0.6930\n",
      "Epoch 28/100\n",
      "30/30 [==============================] - 0s 2ms/step - loss: 0.5963 - f1: 0.7036 - val_loss: 0.6304 - val_f1: 0.6930\n",
      "Epoch 29/100\n",
      "30/30 [==============================] - 0s 2ms/step - loss: 0.6010 - f1: 0.7071 - val_loss: 0.6293 - val_f1: 0.6975\n",
      "Epoch 30/100\n",
      "30/30 [==============================] - 0s 2ms/step - loss: 0.5892 - f1: 0.7213 - val_loss: 0.6281 - val_f1: 0.6975\n",
      "Epoch 31/100\n",
      "30/30 [==============================] - 0s 2ms/step - loss: 0.5845 - f1: 0.7134 - val_loss: 0.6261 - val_f1: 0.7025\n",
      "Epoch 32/100\n",
      "30/30 [==============================] - 0s 2ms/step - loss: 0.5857 - f1: 0.7150 - val_loss: 0.6205 - val_f1: 0.6975\n",
      "Epoch 33/100\n",
      "30/30 [==============================] - 0s 2ms/step - loss: 0.5948 - f1: 0.7029 - val_loss: 0.6184 - val_f1: 0.7106\n",
      "Epoch 34/100\n",
      "30/30 [==============================] - 0s 2ms/step - loss: 0.5854 - f1: 0.7254 - val_loss: 0.6137 - val_f1: 0.7211\n",
      "Epoch 35/100\n",
      "30/30 [==============================] - 0s 2ms/step - loss: 0.5820 - f1: 0.7461 - val_loss: 0.6111 - val_f1: 0.7211\n",
      "Epoch 36/100\n",
      "30/30 [==============================] - 0s 2ms/step - loss: 0.5780 - f1: 0.7267 - val_loss: 0.6132 - val_f1: 0.7106\n",
      "Epoch 37/100\n",
      "30/30 [==============================] - 0s 2ms/step - loss: 0.5768 - f1: 0.7277 - val_loss: 0.6131 - val_f1: 0.7106\n",
      "Epoch 38/100\n",
      "30/30 [==============================] - 0s 2ms/step - loss: 0.5812 - f1: 0.7152 - val_loss: 0.6144 - val_f1: 0.7106\n",
      "Epoch 39/100\n",
      "30/30 [==============================] - 0s 2ms/step - loss: 0.5774 - f1: 0.7319 - val_loss: 0.6098 - val_f1: 0.7055\n",
      "Epoch 40/100\n",
      "30/30 [==============================] - 0s 2ms/step - loss: 0.5754 - f1: 0.7243 - val_loss: 0.6090 - val_f1: 0.7106\n",
      "Epoch 41/100\n",
      "30/30 [==============================] - 0s 2ms/step - loss: 0.5840 - f1: 0.7094 - val_loss: 0.6065 - val_f1: 0.7131\n",
      "Epoch 42/100\n",
      "30/30 [==============================] - 0s 2ms/step - loss: 0.5637 - f1: 0.7158 - val_loss: 0.6026 - val_f1: 0.7182\n",
      "Epoch 43/100\n",
      "30/30 [==============================] - 0s 1ms/step - loss: 0.5724 - f1: 0.7399 - val_loss: 0.6035 - val_f1: 0.7200\n",
      "Epoch 44/100\n",
      "30/30 [==============================] - 0s 2ms/step - loss: 0.5705 - f1: 0.7336 - val_loss: 0.6051 - val_f1: 0.7154\n",
      "Epoch 45/100\n",
      "30/30 [==============================] - 0s 2ms/step - loss: 0.5724 - f1: 0.7238 - val_loss: 0.6051 - val_f1: 0.7154\n",
      "Epoch 46/100\n",
      "30/30 [==============================] - 0s 2ms/step - loss: 0.5745 - f1: 0.7358 - val_loss: 0.6029 - val_f1: 0.7152\n",
      "Epoch 47/100\n",
      "30/30 [==============================] - 0s 2ms/step - loss: 0.5779 - f1: 0.7269 - val_loss: 0.6062 - val_f1: 0.7104\n",
      "Epoch 48/100\n",
      "30/30 [==============================] - 0s 2ms/step - loss: 0.5786 - f1: 0.7400 - val_loss: 0.6063 - val_f1: 0.7057\n",
      "Epoch 49/100\n",
      "30/30 [==============================] - 0s 2ms/step - loss: 0.5609 - f1: 0.7314 - val_loss: 0.6014 - val_f1: 0.7203\n",
      "Epoch 50/100\n",
      "30/30 [==============================] - 0s 2ms/step - loss: 0.5691 - f1: 0.7219 - val_loss: 0.6017 - val_f1: 0.7256\n",
      "Epoch 51/100\n",
      "30/30 [==============================] - 0s 2ms/step - loss: 0.5729 - f1: 0.7270 - val_loss: 0.6010 - val_f1: 0.7207\n",
      "Epoch 52/100\n",
      "30/30 [==============================] - 0s 2ms/step - loss: 0.5677 - f1: 0.7407 - val_loss: 0.6060 - val_f1: 0.7174\n",
      "Epoch 53/100\n",
      "30/30 [==============================] - 0s 2ms/step - loss: 0.5723 - f1: 0.7296 - val_loss: 0.6040 - val_f1: 0.7174\n",
      "Epoch 54/100\n",
      "30/30 [==============================] - 0s 2ms/step - loss: 0.5538 - f1: 0.7414 - val_loss: 0.6055 - val_f1: 0.7174\n",
      "Epoch 55/100\n",
      "30/30 [==============================] - 0s 2ms/step - loss: 0.5733 - f1: 0.7241 - val_loss: 0.6005 - val_f1: 0.7174\n",
      "Epoch 56/100\n",
      "30/30 [==============================] - 0s 2ms/step - loss: 0.5654 - f1: 0.7288 - val_loss: 0.6029 - val_f1: 0.7272\n",
      "Epoch 57/100\n",
      "30/30 [==============================] - 0s 2ms/step - loss: 0.5625 - f1: 0.7442 - val_loss: 0.6008 - val_f1: 0.7221\n",
      "Epoch 58/100\n",
      "30/30 [==============================] - 0s 2ms/step - loss: 0.5670 - f1: 0.7313 - val_loss: 0.6023 - val_f1: 0.7221\n",
      "Epoch 59/100\n",
      "30/30 [==============================] - 0s 2ms/step - loss: 0.5650 - f1: 0.7426 - val_loss: 0.5996 - val_f1: 0.7125\n",
      "Epoch 60/100\n",
      "30/30 [==============================] - 0s 2ms/step - loss: 0.5545 - f1: 0.7422 - val_loss: 0.5994 - val_f1: 0.7221\n",
      "Epoch 61/100\n",
      "30/30 [==============================] - 0s 2ms/step - loss: 0.5646 - f1: 0.7344 - val_loss: 0.5998 - val_f1: 0.7125\n",
      "Epoch 62/100\n",
      "30/30 [==============================] - 0s 2ms/step - loss: 0.5557 - f1: 0.7416 - val_loss: 0.5982 - val_f1: 0.7125\n",
      "Epoch 63/100\n",
      "30/30 [==============================] - 0s 2ms/step - loss: 0.5625 - f1: 0.7364 - val_loss: 0.5951 - val_f1: 0.7221\n",
      "Epoch 64/100\n"
     ]
    },
    {
     "name": "stdout",
     "output_type": "stream",
     "text": [
      "30/30 [==============================] - 0s 2ms/step - loss: 0.5690 - f1: 0.7307 - val_loss: 0.5975 - val_f1: 0.7125\n",
      "Epoch 65/100\n",
      "30/30 [==============================] - 0s 2ms/step - loss: 0.5630 - f1: 0.7425 - val_loss: 0.5940 - val_f1: 0.7174\n",
      "Epoch 66/100\n",
      "30/30 [==============================] - 0s 2ms/step - loss: 0.5709 - f1: 0.7214 - val_loss: 0.5947 - val_f1: 0.7278\n",
      "Epoch 67/100\n",
      "30/30 [==============================] - 0s 2ms/step - loss: 0.5486 - f1: 0.7504 - val_loss: 0.5906 - val_f1: 0.7360\n",
      "Epoch 68/100\n",
      "30/30 [==============================] - 0s 2ms/step - loss: 0.5551 - f1: 0.7499 - val_loss: 0.5883 - val_f1: 0.7360\n",
      "Epoch 69/100\n",
      "30/30 [==============================] - 0s 2ms/step - loss: 0.5470 - f1: 0.7354 - val_loss: 0.5943 - val_f1: 0.7278\n",
      "Epoch 70/100\n",
      "30/30 [==============================] - 0s 1ms/step - loss: 0.5613 - f1: 0.7536 - val_loss: 0.5957 - val_f1: 0.7174\n",
      "Epoch 71/100\n",
      "30/30 [==============================] - 0s 2ms/step - loss: 0.5580 - f1: 0.7414 - val_loss: 0.5944 - val_f1: 0.7174\n",
      "Epoch 72/100\n",
      "30/30 [==============================] - 0s 2ms/step - loss: 0.5690 - f1: 0.7278 - val_loss: 0.5853 - val_f1: 0.7278\n",
      "Epoch 73/100\n",
      "30/30 [==============================] - 0s 2ms/step - loss: 0.5544 - f1: 0.7421 - val_loss: 0.5856 - val_f1: 0.7221\n",
      "Epoch 74/100\n",
      "30/30 [==============================] - 0s 2ms/step - loss: 0.5493 - f1: 0.7588 - val_loss: 0.5882 - val_f1: 0.7125\n",
      "Epoch 75/100\n",
      "30/30 [==============================] - 0s 2ms/step - loss: 0.5576 - f1: 0.7348 - val_loss: 0.5855 - val_f1: 0.7304\n",
      "Epoch 76/100\n",
      "30/30 [==============================] - 0s 2ms/step - loss: 0.5411 - f1: 0.7589 - val_loss: 0.5857 - val_f1: 0.7224\n",
      "Epoch 77/100\n",
      "30/30 [==============================] - 0s 2ms/step - loss: 0.5582 - f1: 0.7444 - val_loss: 0.5851 - val_f1: 0.7224\n",
      "Epoch 78/100\n",
      "30/30 [==============================] - 0s 2ms/step - loss: 0.5478 - f1: 0.7459 - val_loss: 0.5877 - val_f1: 0.7174\n",
      "Epoch 79/100\n",
      "30/30 [==============================] - 0s 2ms/step - loss: 0.5432 - f1: 0.7518 - val_loss: 0.5871 - val_f1: 0.7224\n",
      "Epoch 80/100\n",
      "30/30 [==============================] - 0s 2ms/step - loss: 0.5562 - f1: 0.7361 - val_loss: 0.5855 - val_f1: 0.7224\n",
      "Epoch 81/100\n",
      "30/30 [==============================] - 0s 1ms/step - loss: 0.5588 - f1: 0.7434 - val_loss: 0.5853 - val_f1: 0.7278\n",
      "Epoch 82/100\n",
      "30/30 [==============================] - 0s 2ms/step - loss: 0.5550 - f1: 0.7471 - val_loss: 0.5846 - val_f1: 0.7278\n",
      "Epoch 83/100\n",
      "30/30 [==============================] - 0s 2ms/step - loss: 0.5444 - f1: 0.7526 - val_loss: 0.5848 - val_f1: 0.7304\n",
      "Epoch 84/100\n",
      "30/30 [==============================] - 0s 2ms/step - loss: 0.5533 - f1: 0.7476 - val_loss: 0.5888 - val_f1: 0.7256\n",
      "Epoch 85/100\n",
      "30/30 [==============================] - 0s 2ms/step - loss: 0.5588 - f1: 0.7439 - val_loss: 0.5915 - val_f1: 0.7272\n",
      "Epoch 86/100\n",
      "30/30 [==============================] - 0s 2ms/step - loss: 0.5571 - f1: 0.7395 - val_loss: 0.5910 - val_f1: 0.7272\n",
      "Epoch 87/100\n",
      "30/30 [==============================] - 0s 2ms/step - loss: 0.5568 - f1: 0.7373 - val_loss: 0.5923 - val_f1: 0.7062\n",
      "Epoch 88/100\n",
      "30/30 [==============================] - 0s 2ms/step - loss: 0.5479 - f1: 0.7441 - val_loss: 0.5945 - val_f1: 0.7111\n",
      "Epoch 89/100\n",
      "30/30 [==============================] - 0s 2ms/step - loss: 0.5485 - f1: 0.7426 - val_loss: 0.5944 - val_f1: 0.7174\n",
      "Epoch 90/100\n",
      "30/30 [==============================] - 0s 1ms/step - loss: 0.5329 - f1: 0.7630 - val_loss: 0.5912 - val_f1: 0.7224\n",
      "Epoch 91/100\n",
      "30/30 [==============================] - 0s 2ms/step - loss: 0.5387 - f1: 0.7518 - val_loss: 0.5952 - val_f1: 0.7224\n",
      "Epoch 92/100\n",
      "30/30 [==============================] - 0s 2ms/step - loss: 0.5454 - f1: 0.7566 - val_loss: 0.5948 - val_f1: 0.7174\n"
     ]
    }
   ],
   "source": [
    "ann2_hist = ann_2.fit(X_train_trad_s, y_train_trad_s, epochs=100, \n",
    "          validation_data=(X_val_trad_s, y_val_trad_s), \n",
    "          callbacks=[early_stop], class_weight=class_weights_2)"
   ]
  },
  {
   "cell_type": "code",
   "execution_count": 27,
   "metadata": {},
   "outputs": [
    {
     "name": "stdout",
     "output_type": "stream",
     "text": [
      "F1 = 0.6106155388213524\n",
      "Accuracy = 0.6073170731707317\n"
     ]
    }
   ],
   "source": [
    "ann_2_score = ann_2.predict(X_test_trad_s)\n",
    "ann_2_pred = (ann_2_score > 0.5).astype(int)\n",
    "\n",
    "print('F1 =', f1_score(y_test_trad, ann_2_pred, average='weighted'))\n",
    "print('Accuracy =', accuracy_score(ann_2_pred, y_test_trad))"
   ]
  },
  {
   "cell_type": "code",
   "execution_count": 61,
   "metadata": {
    "scrolled": true
   },
   "outputs": [
    {
     "data": {
      "image/png": "[encoded data removed]",
      "text/plain": [
       "<Figure size 720x576 with 3 Axes>"
      ]
     },
     "metadata": {
      "needs_background": "light"
     },
     "output_type": "display_data"
    }
   ],
   "source": [
    "fig = run_metrics(\n",
    "    [ann_1_pred, ann_2_pred], \n",
    "    [y_test_adv, y_test_trad], \n",
    "    [ann_1_score, ann_2_score]\n",
    ")\n",
    "fig.savefig('plots/matchups-NN.pdf', bbox_inches='tight')"
   ]
  },
  {
   "cell_type": "code",
   "execution_count": 26,
   "metadata": {},
   "outputs": [
    {
     "name": "stdout",
     "output_type": "stream",
     "text": [
      "t statistic: -0.325\n",
      "p value: 0.758\n"
     ]
    }
   ],
   "source": [
    "from tensorflow.keras.wrappers.scikit_learn import KerasClassifier\n",
    "\n",
    "\n",
    "def build_fn(input_dim):\n",
    "    model = keras.models.Sequential([\n",
    "        keras.layers.Input(shape=(input_dim,)),\n",
    "        keras.layers.BatchNormalization(),\n",
    "\n",
    "        keras.layers.Dense(16, activation='selu'),\n",
    "        keras.layers.Dropout(0.2),\n",
    "        keras.layers.BatchNormalization(),\n",
    "\n",
    "        keras.layers.Dense(8, activation='selu'),\n",
    "        keras.layers.Dropout(0.2),\n",
    "        keras.layers.BatchNormalization(),\n",
    "\n",
    "        keras.layers.Dense(1, activation='sigmoid'),\n",
    "    ])\n",
    "    model.compile(loss='binary_crossentropy', optimizer=adam, metrics=METRICS)\n",
    "    \n",
    "    return model\n",
    "\n",
    "ann_clf1 = KerasClassifier(build_fn=build_fn, epochs=100, verbose=0, \n",
    "                       input_dim=X_train_adv_s.shape[1])\n",
    "ann_clf2 = KerasClassifier(build_fn=build_fn, epochs=100, verbose=0, \n",
    "                       input_dim=X_train_trad_s.shape[1])\n",
    "\n",
    "t, p = ttest(ann_clf1, ann_clf2, X_test_adv_s, X_test_trad_s, y_test_adv)\n",
    "print('t statistic: %.3f' % t)\n",
    "print('p value: %.3f' % p)"
   ]
  },
  {
   "cell_type": "code",
   "execution_count": 64,
   "metadata": {},
   "outputs": [],
   "source": [
    "import pickle\n",
    "pickle.dump(ann1_hist.history, open('ann1_hist.pickle', 'wb'))\n",
    "pickle.dump(ann2_hist.history, open('ann2_hist.pickle', 'wb'))"
   ]
  },
  {
   "cell_type": "code",
   "execution_count": 66,
   "metadata": {},
   "outputs": [
    {
     "data": {
      "image/png": "[encoded data removed]",
      "text/plain": [
       "<Figure size 864x288 with 2 Axes>"
      ]
     },
     "metadata": {
      "needs_background": "light"
     },
     "output_type": "display_data"
    }
   ],
   "source": [
    "fig, ax = plt.subplots(1, 2, figsize=(12, 4), constrained_layout=True)\n",
    "\n",
    "ax[0].plot(ann1_hist.history['f1'])\n",
    "ax[0].plot(ann1_hist.history['val_f1'])\n",
    "ax[0].legend(['Training F1', 'Validation F1'])\n",
    "ax[0].set_xlabel('Epochs')\n",
    "ax[0].set_ylabel('F1')\n",
    "ax[0].set_ylim((0, 0.8))\n",
    "ax[0].set_title('Adv.')\n",
    "\n",
    "ax[1].plot(ann2_hist.history['f1'])\n",
    "ax[1].plot(ann2_hist.history['val_f1'])\n",
    "ax[1].legend(['Training F1', 'Validation F1'], loc='lower right')\n",
    "ax[1].set_xlabel('Epochs')\n",
    "ax[1].set_ylabel('F1')\n",
    "ax[1].set_ylim((0, 0.8))\n",
    "ax[1].set_title('Trad.')\n",
    "\n",
    "fig.savefig('plots/matchups-NN-curves.pdf', bbox_inches='tight')"
   ]
  },
  {
   "cell_type": "code",
   "execution_count": null,
   "metadata": {},
   "outputs": [],
   "source": []
  }
 ],
 "metadata": {
  "kernelspec": {
   "display_name": "nba_game_pred",
   "language": "python",
   "name": "nba_game_pred"
  },
  "language_info": {
   "codemirror_mode": {
    "name": "ipython",
    "version": 3
   },
   "file_extension": ".py",
   "mimetype": "text/x-python",
   "name": "python",
   "nbconvert_exporter": "python",
   "pygments_lexer": "ipython3",
   "version": "3.7.8"
  }
 },
 "nbformat": 4,
 "nbformat_minor": 2
}
