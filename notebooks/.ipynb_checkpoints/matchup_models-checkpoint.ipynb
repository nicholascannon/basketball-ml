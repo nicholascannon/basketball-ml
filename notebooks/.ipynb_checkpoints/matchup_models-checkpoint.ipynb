{
 "cells": [
  {
   "cell_type": "markdown",
   "metadata": {},
   "source": [
    "# NBA Game Prediction: Logistic Regression (Modelling Matchups)\n",
    "Written by Nicholas Cannon"
   ]
  },
  {
   "cell_type": "code",
   "execution_count": 106,
   "metadata": {},
   "outputs": [],
   "source": [
    "import os\n",
    "import pandas as pd\n",
    "import numpy as np\n",
    "import matplotlib.pyplot as plt\n",
    "import matplotlib.gridspec as gridspec\n",
    "from collections import defaultdict\n",
    "\n",
    "from sklearn.ensemble import RandomForestClassifier\n",
    "from sklearn.linear_model import LogisticRegression\n",
    "\n",
    "from sklearn.model_selection import GridSearchCV, train_test_split\n",
    "from sklearn.pipeline import Pipeline\n",
    "from sklearn.base import BaseEstimator\n",
    "\n",
    "from sklearn.preprocessing import (\n",
    "    OneHotEncoder, StandardScaler, KBinsDiscretizer, MinMaxScaler\n",
    ")\n",
    "\n",
    "from sklearn.metrics import (\n",
    "    confusion_matrix, f1_score, accuracy_score, ConfusionMatrixDisplay,\n",
    "    roc_curve, auc, RocCurveDisplay, precision_recall_curve,\n",
    "    PrecisionRecallDisplay\n",
    ")\n",
    "\n",
    "%matplotlib inline\n",
    "\n",
    "DATA_DIR = os.path.join('..', 'data', 'processed', 'games')\n",
    "STATE = 0\n",
    "os.environ['PYTHONHASHSEED'] = str(STATE)"
   ]
  },
  {
   "cell_type": "code",
   "execution_count": 203,
   "metadata": {},
   "outputs": [],
   "source": [
    "def run_metrics(y_pred, y_true, y_score):\n",
    "    \"\"\"Display Standard graphs and metrics for model evaluation\"\"\"\n",
    "    fig, ax = plt.subplots(2, 3, figsize=(13, 8))\n",
    "\n",
    "    for i in [0, 1]:\n",
    "        ax[i][1].set_xlim((0, 1))\n",
    "        ax[i][1].set_ylim((0, 1))\n",
    "        ax[i][2].set_xlim((0, 1))\n",
    "        ax[i][2].set_ylim((0, 1))\n",
    "        ax[i][1].set_aspect('equal', 'box')\n",
    "        ax[i][2].set_aspect('equal', 'box')\n",
    "        \n",
    "        # CF Matrix\n",
    "        cf = ConfusionMatrixDisplay(\n",
    "            confusion_matrix(y_true[i], y_pred[i]),\n",
    "            display_labels=['Home Lose', 'Home Win']\n",
    "        )\n",
    "        cf.plot(cmap=plt.cm.Blues, ax=ax[i][0])\n",
    "        cf.im_.colorbar.remove()\n",
    "\n",
    "        # ROC Curve\n",
    "        fpr, tpr, _ = roc_curve(y_true[i], y_score[i])\n",
    "        RocCurveDisplay(fpr=fpr, tpr=tpr, roc_auc=auc(fpr, tpr)).plot(ax=ax[i][1])\n",
    "\n",
    "        # PR Curve\n",
    "        prec, recall, _ = precision_recall_curve(y_true[i], y_score[i])\n",
    "        PrecisionRecallDisplay(precision=prec, recall=recall).plot(ax=ax[i][2])\n",
    "        \n",
    "        # set cf matrix ylabel rotation\n",
    "        ax[i][0].set_yticklabels(ax[i][0].get_yticklabels(), rotation=90, va='center')\n",
    "    \n",
    "    plt.show()\n",
    "    return fig\n",
    "\n",
    "\n",
    "def load_season(season):\n",
    "    \"\"\"Load season data and apply basic preprocessing\"\"\"\n",
    "    df = pd.read_csv(os.path.join(DATA_DIR, season))\n",
    "    df['DATE'] = pd.to_datetime(df['DATE'])\n",
    "    df.sort_values('DATE', inplace=True)\n",
    "    df.reset_index(drop=True, inplace=True)\n",
    "\n",
    "    return df\n",
    "\n",
    "\n",
    "def get_matchup_games(df, team1, team2):\n",
    "    \"\"\"Return all games played between both teams\"\"\"\n",
    "    df1 = df[(df['H_ID'] == team1) ^ (df['A_ID'] == team1)]\n",
    "    df2 = df[(df['H_ID'] == team2) ^ (df['A_ID'] == team2)]\n",
    "    games = pd.merge(df1, df2, on='GAME_ID')['GAME_ID']\n",
    "\n",
    "    return df[df['GAME_ID'].isin(games)]"
   ]
  },
  {
   "cell_type": "code",
   "execution_count": 108,
   "metadata": {},
   "outputs": [],
   "source": [
    "class ProcessFeatures(BaseEstimator):\n",
    "    \n",
    "    def __init__(self, avg_cols, return_df=False, window=5):\n",
    "        self.team_enc = OneHotEncoder(sparse=False)\n",
    "        self.return_df = return_df\n",
    "        self.window = window\n",
    "        self.avg_cols = avg_cols\n",
    "    \n",
    "    def fit(self, X, y=None):\n",
    "        self._check_df(X)\n",
    "        self.team_enc.fit(X[['H_ID', 'A_ID']])\n",
    "        self.t_cols = [\n",
    "            *('{}_h'.format(idx) for idx in self.team_enc.categories_[0]),\n",
    "            *('{}_a'.format(idx) for idx in self.team_enc.categories_[1])\n",
    "        ]\n",
    "        \n",
    "        return self\n",
    "    \n",
    "    def transform(self, X):\n",
    "        self._check_df(X)\n",
    "        X = X.copy() # make a copy to prevent changes being made\n",
    "        \n",
    "        # compute features\n",
    "        h_won_last = X.apply(self._home_won_last, args=[{}], axis=1)\n",
    "        h_leader = X.apply(self._home_series_leader, args=[defaultdict(list)], axis=1)\n",
    "        teams = self.team_enc.transform(X[['H_ID', 'A_ID']])\n",
    "        teams = pd.DataFrame(data=teams, columns=self.t_cols)\n",
    "        \n",
    "        # compute feature averages for home / away teams\n",
    "        h_avgs = (\n",
    "            X.groupby('H_ID')\n",
    "                [['H_{}'.format(col) for col in self.avg_cols]]\n",
    "                .rolling(self.window).mean()  # Compute rolling mean\n",
    "                .groupby('H_ID')              # Group by H_ID again\n",
    "                .shift(1)                     # Ensure avg is from prev game\n",
    "                .droplevel(0)                 # drop top level index (H_ID)\n",
    "                .sort_index()\n",
    "        )\n",
    "        a_avgs = (\n",
    "            X.groupby('A_ID')\n",
    "                [['A_{}'.format(col) for col in self.avg_cols]]\n",
    "                .rolling(self.window).mean()  # Compute rolling mean\n",
    "                .groupby('A_ID')              # Group by A_ID again\n",
    "                .shift(1)                     # Ensure avg is from prev game\n",
    "                .droplevel(0)                 # drop top level index (A_ID)\n",
    "                .sort_index()\n",
    "        )\n",
    "\n",
    "        # compute differential stats and rename\n",
    "        diff = a_avgs - h_avgs.values\n",
    "        diff.columns = self.avg_cols\n",
    "        \n",
    "        # combine all features\n",
    "        data = pd.concat([\n",
    "            diff,\n",
    "            h_won_last.rename('H_WON_LAST'),\n",
    "            h_leader.rename('H_LEADER'),\n",
    "            teams,\n",
    "            X[['HOME_WIN']]\n",
    "        ], axis=1)\n",
    "        self.columns = data.columns\n",
    "        \n",
    "        if self.return_df:\n",
    "            return data\n",
    "        else:\n",
    "            return data.dropna().values\n",
    "        \n",
    "    def fit_transform(self, X, y=None):\n",
    "        self._check_df(X)\n",
    "        return self.fit(X).transform(X)\n",
    "    \n",
    "    def _check_df(self, X):\n",
    "        if not isinstance(X, pd.DataFrame):\n",
    "            raise ValueError('X must be a pandas DataFrame')\n",
    "            \n",
    "    \"\"\"PANDAS TRANSFORMATION METHODS\"\"\"\n",
    "    \n",
    "    @classmethod\n",
    "    def _home_series_leader(cls, row, series_history):\n",
    "        \"\"\"Computes whether or not the home team is the series leader\"\"\"\n",
    "        matchup_id = tuple(sorted([row['H_ID'], row['A_ID']]))\n",
    "\n",
    "        # get series history, count wins and which team is the leader\n",
    "        series = series_history.get(matchup_id, None)\n",
    "        if series is None:\n",
    "            home_leader = 1\n",
    "        else:\n",
    "            home_leader = int(series.count(row['H_ID']) >= series.count(row['A_ID']))\n",
    "\n",
    "        # add game winner to series history\n",
    "        series_history[matchup_id].append(row['H_ID'] if row['HOME_WIN'] else row['A_ID'])\n",
    "        return home_leader\n",
    "    \n",
    "    @classmethod \n",
    "    def _home_won_last(cls, row, last_games):\n",
    "        \"\"\"Computes whether or not the home team won the last matchup. \"\"\"\n",
    "        matchup_id = tuple(sorted([row['H_ID'], row['A_ID']]))\n",
    "\n",
    "        # get winner of previous game, if no game exists pick home team\n",
    "        last_winner = last_games.get(matchup_id, None)\n",
    "        if last_winner is None:\n",
    "            home_won = 1\n",
    "        else:\n",
    "            home_won = 1 if row['H_ID'] == last_winner else 0\n",
    "\n",
    "        # update last game for this matchup\n",
    "        last_games[matchup_id] = row['H_ID'] if row['HOME_WIN'] else row['A_ID']\n",
    "        return home_won"
   ]
  },
  {
   "cell_type": "code",
   "execution_count": 109,
   "metadata": {},
   "outputs": [],
   "source": [
    "# adv_cols = ['DEF_RATING', 'OFF_RATING', 'TS_PCT', 'EFG_PCT',\n",
    "#             'PASS', 'PACE', 'TCHS', 'TM_TOV_PCT', 'CFGM', \n",
    "#            'CFGA', 'UFGM', 'UFGA', 'DIST']\n",
    "\n",
    "# tester = load_season('2018-full.csv')\n",
    "# pf_t = ProcessFeatures(adv_cols)\n",
    "# pf_t = pf_t.fit_transform(tester)\n",
    "# pf_t.shape"
   ]
  },
  {
   "cell_type": "markdown",
   "metadata": {},
   "source": [
    "# Baseline Models"
   ]
  },
  {
   "cell_type": "code",
   "execution_count": 110,
   "metadata": {},
   "outputs": [
    {
     "data": {
      "text/plain": [
       "1    729\n",
       "0    501\n",
       "Name: HOME_WIN, dtype: int64"
      ]
     },
     "execution_count": 110,
     "metadata": {},
     "output_type": "execute_result"
    }
   ],
   "source": [
    "df_test = load_season('2018-full.csv')\n",
    "df_test['HOME_WIN'].value_counts()"
   ]
  },
  {
   "cell_type": "markdown",
   "metadata": {},
   "source": [
    "## Always pick home team"
   ]
  },
  {
   "cell_type": "code",
   "execution_count": 113,
   "metadata": {
    "tags": []
   },
   "outputs": [
    {
     "name": "stdout",
     "output_type": "stream",
     "text": [
      "F1 = 0.44110857953908783\n"
     ]
    }
   ],
   "source": [
    "y_home = np.ones((df_test.shape[0],))\n",
    "print('F1 =', f1_score(df_test['HOME_WIN'], y_home, average='weighted'))"
   ]
  },
  {
   "cell_type": "markdown",
   "metadata": {},
   "source": [
    "## Always pick the team who won last matchup\n",
    "Pick the team who won the last matchup, if no previous matchup exists pick the home team."
   ]
  },
  {
   "cell_type": "code",
   "execution_count": 114,
   "metadata": {},
   "outputs": [
    {
     "name": "stdout",
     "output_type": "stream",
     "text": [
      "F1 = 0.5387556943017995\n"
     ]
    }
   ],
   "source": [
    "df_test['H_WON_LAST'] = df_test.apply(ProcessFeatures._home_won_last, args=[{}], axis=1)\n",
    "y_last_win = df_test['H_WON_LAST']\n",
    "print('F1 =', f1_score(df_test['HOME_WIN'], y_last_win, average='weighted'))\n",
    "    \n",
    "# Feature validation\n",
    "# matchup = get_matchup_games(df, 1610612739, 1610612766)\n",
    "# matchup[['A_ID', 'H_ID', 'HOME_WIN', 'H_WON_LAST']]"
   ]
  },
  {
   "cell_type": "markdown",
   "metadata": {},
   "source": [
    "## Always pick the series leader\n",
    "Pick Home team if the series is tied"
   ]
  },
  {
   "cell_type": "code",
   "execution_count": 115,
   "metadata": {},
   "outputs": [
    {
     "name": "stdout",
     "output_type": "stream",
     "text": [
      "F1 = 0.5605965466967578\n"
     ]
    }
   ],
   "source": [
    "df_test['H_LEADER'] = df_test.apply(ProcessFeatures._home_series_leader, args=[defaultdict(list)], axis=1)\n",
    "y_series_leader = df_test['H_LEADER']\n",
    "print('F1 =', f1_score(df_test['HOME_WIN'], y_series_leader, average='weighted'))\n",
    "\n",
    "# Feature validation\n",
    "# matchup = get_matchup_games(df, 1610612739, 1610612766)\n",
    "# matchup[['A_ID', 'H_ID', 'HOME_WIN', 'H_LEADER']]"
   ]
  },
  {
   "cell_type": "code",
   "execution_count": 158,
   "metadata": {},
   "outputs": [
    {
     "data": {
      "image/png": "[encoded data removed]",
      "text/plain": [
       "<Figure size 1224x288 with 6 Axes>"
      ]
     },
     "metadata": {
      "needs_background": "light"
     },
     "output_type": "display_data"
    }
   ],
   "source": [
    "import itertools\n",
    "from mpl_toolkits.axes_grid1 import ImageGrid\n",
    "\n",
    "\n",
    "classes = ['Home Lose', 'Home Win']\n",
    "\n",
    "fig = plt.figure(figsize=(17, 4))\n",
    "grid = ImageGrid(fig, 111,          # as in plt.subplot(111)\n",
    "                 nrows_ncols=(1,3),\n",
    "                 axes_pad=0.15,\n",
    "                 cbar_location=\"right\",\n",
    "                 cbar_mode=\"single\",\n",
    "                 cbar_size=\"7%\",\n",
    "                 cbar_pad=0.15)\n",
    "\n",
    "cfs = [\n",
    "    confusion_matrix(df_test['HOME_WIN'], y_home),\n",
    "    confusion_matrix(df_test['HOME_WIN'], y_last_win),\n",
    "    confusion_matrix(df_test['HOME_WIN'], y_series_leader)\n",
    "]\n",
    "titles = ['Home Win', 'Last Victor', 'Series Leader']\n",
    "\n",
    "for i, (ax, cf) in enumerate(zip(grid[:3], cfs)):\n",
    "    cm = cf\n",
    "    im = ax.imshow(cm, vmin=0, vmax=729)\n",
    "    tick_marks = np.arange(2)\n",
    "    ax.set_title(titles[i])\n",
    "    ax.set_xticks(tick_marks)\n",
    "    ax.set_xticklabels(classes)\n",
    "    ax.set_yticks(tick_marks)\n",
    "    ax.set_yticklabels(classes)\n",
    "\n",
    "    for ii, j in itertools.product(range(cm.shape[0]), range(cm.shape[1])):\n",
    "        color = 'white' if cm[ii, j] > 300 else '#203661'\n",
    "        ax.text(j, ii, format(cm[ii, j], ''), horizontalalignment=\"center\", color=color)\n",
    "\n",
    "    ax.set_ylabel('True label')\n",
    "    if i == 1: \n",
    "        ax.set_xlabel('Predicted label')\n",
    "\n",
    "\n",
    "fig.colorbar(im, cax=ax.cax)\n",
    "plt.show()\n",
    "fig.savefig('plots/baseline-results.pdf', bbox_inches='tight')"
   ]
  },
  {
   "cell_type": "markdown",
   "metadata": {},
   "source": [
    "## Data Prep"
   ]
  },
  {
   "cell_type": "code",
   "execution_count": 83,
   "metadata": {},
   "outputs": [
    {
     "data": {
      "text/plain": [
       "(1063, 76)"
      ]
     },
     "execution_count": 83,
     "metadata": {},
     "output_type": "execute_result"
    }
   ],
   "source": [
    "# load training data\n",
    "df_train = load_season('2017-full.csv')\n",
    "df_test = pd.concat([\n",
    "    df_train, # rolls data into 2018 season\n",
    "    load_season('2018-full.csv')\n",
    "], ignore_index=True)\n",
    "\n",
    "adv_cols = ['DEF_RATING', 'OFF_RATING', 'TS_PCT', 'EFG_PCT',\n",
    "            'PASS', 'PACE', 'TCHS', 'TM_TOV_PCT', 'CFGM', \n",
    "           'CFGA', 'UFGM', 'UFGA', 'DIST']\n",
    "trad_cols = ['FG_PCT', 'FG3_PCT', 'FT_PCT', 'OREB', 'DREB', \n",
    "             'AST', 'STL', 'BLK', 'TO', 'PF', 'PTS', 'PLUS_MIN']\n",
    "\n",
    "\n",
    "# ADVANCED FEATURES\n",
    "pf = ProcessFeatures(adv_cols, return_df=True)\n",
    "df_train_adv = pf.fit_transform(df_train)\n",
    "df_test_adv = pf.transform(df_test)\n",
    "\n",
    "# convert to numpy and drop training data from test\n",
    "df_train_adv = df_train_adv.dropna().values\n",
    "df_test_adv = df_test_adv[1230:].values # IMPORTANT!!\n",
    "\n",
    "# split features and labels\n",
    "X_train_adv, y_train_adv = df_train_adv[:, :-1], df_train_adv[:, -1]\n",
    "X_test_adv, y_test_adv = df_test_adv[:, :-1], df_test_adv[:, -1]"
   ]
  },
  {
   "cell_type": "code",
   "execution_count": 84,
   "metadata": {},
   "outputs": [],
   "source": [
    "# TRADITIONAL FEATURES\n",
    "pf_trad = ProcessFeatures(trad_cols, return_df=True)\n",
    "df_train_trad = pf_trad.fit_transform(df_train)\n",
    "df_test_trad = pf_trad.transform(df_test)\n",
    "\n",
    "# convert to numpy and drop training data from test\n",
    "df_train_trad = df_train_trad.dropna().values\n",
    "df_test_trad = df_test_trad[1230:].values # IMPORTANT!!\n",
    "\n",
    "# split features and labels\n",
    "X_train_trad, y_train_trad = df_train_trad[:, :-1], df_train_trad[:, -1]\n",
    "X_test_trad, y_test_trad = df_test_trad[:, :-1], df_test_trad[:, -1]"
   ]
  },
  {
   "cell_type": "markdown",
   "metadata": {},
   "source": [
    "# Linear Regression Model"
   ]
  },
  {
   "cell_type": "code",
   "execution_count": 89,
   "metadata": {
    "tags": []
   },
   "outputs": [
    {
     "data": {
      "text/plain": [
       "{'C': 0.8, 'penalty': 'l1'}"
      ]
     },
     "execution_count": 89,
     "metadata": {},
     "output_type": "execute_result"
    }
   ],
   "source": [
    "lr = LogisticRegression(solver='liblinear', class_weight='balanced', random_state=STATE)\n",
    "lr_params = {\n",
    "    'penalty': ['l1', 'l2', 'none'],\n",
    "    'C': [1.0, 0.8, 0.5]\n",
    "}\n",
    "\n",
    "clf_1 = GridSearchCV(estimator=lr, param_grid=lr_params, cv=5, scoring='f1', n_jobs=-1)\n",
    "clf_1.fit(X_train_adv, y_train_adv)\n",
    "clf_1.best_params_"
   ]
  },
  {
   "cell_type": "code",
   "execution_count": 132,
   "metadata": {},
   "outputs": [
    {
     "name": "stdout",
     "output_type": "stream",
     "text": [
      "F1 = 0.6356166110733178\n",
      "Accuracy = 0.6686217008797654\n"
     ]
    }
   ],
   "source": [
    "y_score_1 = clf_1.predict_proba(X_test_adv)\n",
    "y_pred_1 = (y_score_1[:, 1] >= 0.5).astype(int)\n",
    "\n",
    "print('F1 =', f1_score(y_test_adv, y_pred_1, average='weighted'))\n",
    "print('Accuracy =', clf_1.score(X_test_adv, y_test_adv))"
   ]
  },
  {
   "cell_type": "markdown",
   "metadata": {},
   "source": [
    "## Using only traditional stats"
   ]
  },
  {
   "cell_type": "code",
   "execution_count": 124,
   "metadata": {},
   "outputs": [
    {
     "data": {
      "text/plain": [
       "{'C': 1.0, 'penalty': 'l1'}"
      ]
     },
     "execution_count": 124,
     "metadata": {},
     "output_type": "execute_result"
    }
   ],
   "source": [
    "clf_2 = GridSearchCV(estimator=lr, param_grid=lr_params, scoring='f1', cv=5, n_jobs=-1)\n",
    "clf_2.fit(X_train_trad, y_train_trad)\n",
    "clf_2.best_params_"
   ]
  },
  {
   "cell_type": "code",
   "execution_count": 131,
   "metadata": {},
   "outputs": [
    {
     "name": "stdout",
     "output_type": "stream",
     "text": [
      "F1 = 0.6209205449112458\n",
      "Accuracy = 0.6589259796806967\n"
     ]
    }
   ],
   "source": [
    "y_score_2 = clf_2.predict_proba(X_test_trad)\n",
    "y_pred_2 = (y_score_2[:, 1] >= 0.5).astype(int)\n",
    "\n",
    "print('F1 =', f1_score(y_test_trad, y_pred_2, average='weighted'))\n",
    "print('Accuracy =', clf_2.score(X_test_trad, y_test_trad))"
   ]
  },
  {
   "cell_type": "code",
   "execution_count": 204,
   "metadata": {},
   "outputs": [
    {
     "data": {
      "image/png": "[encoded data removed]",
      "text/plain": [
       "<Figure size 936x576 with 6 Axes>"
      ]
     },
     "metadata": {
      "needs_background": "light"
     },
     "output_type": "display_data"
    }
   ],
   "source": [
    "fig = run_metrics(\n",
    "    [y_pred_1, y_pred_2], \n",
    "    [y_test_adv, y_test_trad], \n",
    "    [y_score_1[:, 1], y_score_2[:, 1]]\n",
    ")\n",
    "fig.savefig('plots/matchups-LR.pdf', bbox_inches='tight')"
   ]
  },
  {
   "cell_type": "markdown",
   "metadata": {},
   "source": [
    "# Random Forest"
   ]
  },
  {
   "cell_type": "code",
   "execution_count": 163,
   "metadata": {},
   "outputs": [
    {
     "data": {
      "text/plain": [
       "{'min_samples_leaf': 1, 'n_estimators': 500}"
      ]
     },
     "execution_count": 163,
     "metadata": {},
     "output_type": "execute_result"
    }
   ],
   "source": [
    "rf = RandomForestClassifier(class_weight='balanced', random_state=STATE)\n",
    "rf_params = {\n",
    "    'n_estimators': [300, 500],\n",
    "    'min_samples_leaf': [1, 3]\n",
    "}\n",
    "\n",
    "# make copies for binning\n",
    "X_train_adv_binned = X_train_adv.copy()\n",
    "X_test_adv_binned = X_test_adv.copy()\n",
    "\n",
    "# discretize continuous features!!\n",
    "kbins = KBinsDiscretizer(encode='ordinal', strategy='kmeans', n_bins=3)\n",
    "X_train_adv_binned[:, :len(pf.avg_cols)] = kbins.fit_transform(X_train_adv[:, :len(pf.avg_cols)])\n",
    "X_test_adv_binned[:, :len(pf.avg_cols)] = kbins.transform(X_test_adv[:, :len(pf.avg_cols)])\n",
    "\n",
    "clf_3 = GridSearchCV(estimator=rf, param_grid=rf_params, cv=5, scoring='f1', n_jobs=-1)\n",
    "clf_3.fit(X_train_adv_binned, y_train_adv)\n",
    "clf_3.best_params_"
   ]
  },
  {
   "cell_type": "code",
   "execution_count": 165,
   "metadata": {},
   "outputs": [
    {
     "name": "stdout",
     "output_type": "stream",
     "text": [
      "F1 = 0.6128084968035005\n",
      "Accuracy = 0.6902423051735429\n"
     ]
    }
   ],
   "source": [
    "y_score_3 = clf_3.predict_proba(X_test_adv_binned)\n",
    "y_pred_3 = (y_score_3[:, 1] >= 0.5).astype(int)\n",
    "\n",
    "print('F1 =', f1_score(y_test_adv, y_pred_3, average='weighted'))\n",
    "print('Accuracy =', clf_3.score(X_test_adv_binned, y_test_adv))"
   ]
  },
  {
   "cell_type": "markdown",
   "metadata": {},
   "source": [
    "### Feature Importances!!"
   ]
  },
  {
   "cell_type": "code",
   "execution_count": 166,
   "metadata": {},
   "outputs": [
    {
     "name": "stdout",
     "output_type": "stream",
     "text": [
      "OFF_RATING 0.046464833955991644\n",
      "DEF_RATING 0.04423731909131417\n",
      "TM_TOV_PCT 0.040050770315290016\n",
      "PACE 0.03933802177655433\n",
      "CFGM 0.03625750512606446\n",
      "UFGA 0.03561462534681647\n",
      "CFGA 0.03486771546931186\n",
      "EFG_PCT 0.033132734561824896\n",
      "UFGM 0.03303701332744865\n",
      "TS_PCT 0.03248363735723976\n"
     ]
    }
   ],
   "source": [
    "f_imp_idx = list(reversed(np.argsort(clf_3.best_estimator_.feature_importances_)))[:10]\n",
    "f_imp_sorted = sorted(clf_3.best_estimator_.feature_importances_, reverse=True)[:10]\n",
    "\n",
    "for feature, importance in zip(pf.columns[f_imp_idx], f_imp_sorted):\n",
    "    print(feature, importance)"
   ]
  },
  {
   "cell_type": "markdown",
   "metadata": {},
   "source": [
    "## Using only traditional stats"
   ]
  },
  {
   "cell_type": "code",
   "execution_count": 167,
   "metadata": {},
   "outputs": [
    {
     "data": {
      "text/plain": [
       "{'min_samples_leaf': 1, 'n_estimators': 500}"
      ]
     },
     "execution_count": 167,
     "metadata": {},
     "output_type": "execute_result"
    }
   ],
   "source": [
    "# make copies for binning\n",
    "X_train_trad_binned = X_train_trad.copy()\n",
    "X_test_trad_binned = X_test_trad.copy()\n",
    "\n",
    "# discretize continuous features!!\n",
    "kbins = KBinsDiscretizer(encode='ordinal', strategy='kmeans', n_bins=3)\n",
    "X_train_trad_binned[:, :len(pf_trad.avg_cols)] = kbins.fit_transform(X_train_trad[:, :len(pf_trad.avg_cols)])\n",
    "X_test_trad_binned[:, :len(pf_trad.avg_cols)] = kbins.transform(X_test_trad[:, :len(pf_trad.avg_cols)])\n",
    "\n",
    "clf_4 = GridSearchCV(estimator=rf, param_grid=rf_params, cv=5, scoring='f1', n_jobs=-1)\n",
    "clf_4.fit(X_train_trad_binned, y_train_trad)\n",
    "clf_4.best_params_"
   ]
  },
  {
   "cell_type": "code",
   "execution_count": 169,
   "metadata": {},
   "outputs": [
    {
     "name": "stdout",
     "output_type": "stream",
     "text": [
      "F1 = 0.6257905139040166\n",
      "Accuracy = 0.7064160725858716\n"
     ]
    }
   ],
   "source": [
    "y_score_4 = clf_4.predict_proba(X_test_trad_binned)\n",
    "y_pred_4 = (y_score_4[:, 1] >= 0.5).astype(int)\n",
    "\n",
    "print('F1 =', f1_score(y_test_trad, y_pred_4, average='weighted'))\n",
    "print('Accuracy =', clf_4.score(X_test_trad_binned, y_test_trad))"
   ]
  },
  {
   "cell_type": "code",
   "execution_count": 205,
   "metadata": {},
   "outputs": [
    {
     "data": {
      "image/png": "[encoded data removed]",
      "text/plain": [
       "<Figure size 936x576 with 6 Axes>"
      ]
     },
     "metadata": {
      "needs_background": "light"
     },
     "output_type": "display_data"
    }
   ],
   "source": [
    "fig = run_metrics(\n",
    "    [y_pred_3, y_pred_4], \n",
    "    [y_test_adv, y_test_trad], \n",
    "    [y_score_3[:, 1], y_score_4[:, 1]]\n",
    ")\n",
    "fig.savefig('plots/matchups-RF.pdf', bbox_inches='tight')"
   ]
  },
  {
   "cell_type": "markdown",
   "metadata": {},
   "source": [
    "### Feature Importances (traditional stats)"
   ]
  },
  {
   "cell_type": "code",
   "execution_count": 171,
   "metadata": {},
   "outputs": [
    {
     "name": "stdout",
     "output_type": "stream",
     "text": [
      "PLUS_MIN 0.06107602161227703\n",
      "PTS 0.04233080391169445\n",
      "FT_PCT 0.03889565370711701\n",
      "OREB 0.03855557656293828\n",
      "FG_PCT 0.03845345479147442\n",
      "STL 0.03843344497721894\n",
      "BLK 0.03826945961800123\n",
      "FG3_PCT 0.037679683782516626\n",
      "TO 0.037597542266329394\n",
      "PF 0.03758768073025304\n"
     ]
    }
   ],
   "source": [
    "f_imp_idx_2 = list(reversed(np.argsort(clf_4.best_estimator_.feature_importances_)))[:10]\n",
    "f_imp_sorted_2 = sorted(clf_4.best_estimator_.feature_importances_, reverse=True)[:10]\n",
    "\n",
    "for feature, importance in zip(pf_trad.columns[f_imp_idx_2], f_imp_sorted_2):\n",
    "    print(feature, importance)"
   ]
  },
  {
   "cell_type": "markdown",
   "metadata": {},
   "source": [
    "# Neural Net"
   ]
  },
  {
   "cell_type": "code",
   "execution_count": 172,
   "metadata": {},
   "outputs": [],
   "source": [
    "from tensorflow import keras\n",
    "import tensorflow as tf\n",
    "from sklearn.utils.class_weight import compute_class_weight\n",
    "import random\n",
    "\n",
    "K = keras.backend\n",
    "\n",
    "# allow reproducible results\n",
    "random.seed(STATE)\n",
    "np.random.seed(STATE)\n",
    "tf.random.set_seed(STATE)\n",
    "\n",
    "\n",
    "def f1(y_true, y_pred):\n",
    "    \"\"\"Use keras backend to compute f1 metric\"\"\"\n",
    "    true_positives = K.sum(K.round(K.clip(y_true * y_pred, 0, 1)))\n",
    "    possible_positives = K.sum(K.round(K.clip(y_true, 0, 1)))\n",
    "    predicted_positives = K.sum(K.round(K.clip(y_pred, 0, 1)))\n",
    "    precision = true_positives / (predicted_positives + K.epsilon())\n",
    "    recall = true_positives / (possible_positives + K.epsilon())\n",
    "    f1_val = 2*(precision*recall)/(precision+recall+K.epsilon())\n",
    "    return f1_val"
   ]
  },
  {
   "cell_type": "code",
   "execution_count": 173,
   "metadata": {},
   "outputs": [],
   "source": [
    "# scale data between 0 and 1\n",
    "mm_scaler = MinMaxScaler()\n",
    "X_train_adv_s = mm_scaler.fit_transform(X_train_adv)\n",
    "X_test_adv_s = mm_scaler.transform(X_test_adv)\n",
    "\n",
    "# create a validation set from test set\n",
    "X_train_adv_s, X_val_adv_s, y_train_adv_s, y_val_adv_s = train_test_split(X_train_adv_s, y_train_adv,\n",
    "                                                                          test_size=0.1,\n",
    "                                                                          random_state=STATE)\n",
    "\n",
    "class_weights_1 = compute_class_weight('balanced', classes=np.unique(y_train_adv_s), \n",
    "                                     y=y_train_adv_s)\n",
    "class_weights_1 = {\n",
    "    0: class_weights_1[0],\n",
    "    1: class_weights_1[1],\n",
    "}"
   ]
  },
  {
   "cell_type": "code",
   "execution_count": 174,
   "metadata": {},
   "outputs": [],
   "source": [
    "ann_1 = keras.models.Sequential([\n",
    "    keras.layers.Input(shape=(X_train_adv_s.shape[1],)),\n",
    "    keras.layers.BatchNormalization(),\n",
    "    \n",
    "    keras.layers.Dense(16, activation='selu'),\n",
    "    keras.layers.Dropout(0.2),\n",
    "    keras.layers.BatchNormalization(),\n",
    "    \n",
    "    keras.layers.Dense(8, activation='selu'),\n",
    "    keras.layers.Dropout(0.2),\n",
    "    keras.layers.BatchNormalization(),\n",
    "    \n",
    "    keras.layers.Dense(1, activation='sigmoid'),\n",
    "])\n",
    "\n",
    "# METRICS = [keras.metrics.BinaryAccuracy(name='accuracy'), f1]\n",
    "METRICS = [f1]\n",
    "early_stop = keras.callbacks.EarlyStopping(patience=10, restore_best_weights=True)\n",
    "adam = keras.optimizers.Adam(learning_rate=0.001, decay=1e-4)\n",
    "\n",
    "ann_1.compile(loss='binary_crossentropy', optimizer=adam, metrics=METRICS)"
   ]
  },
  {
   "cell_type": "code",
   "execution_count": 175,
   "metadata": {
    "scrolled": true
   },
   "outputs": [
    {
     "name": "stdout",
     "output_type": "stream",
     "text": [
      "Epoch 1/100\n",
      "30/30 [==============================] - 0s 8ms/step - loss: 0.8659 - f1: 0.5128 - val_loss: 0.7253 - val_f1: 0.4624\n",
      "Epoch 2/100\n",
      "30/30 [==============================] - 0s 2ms/step - loss: 0.7657 - f1: 0.5564 - val_loss: 0.6894 - val_f1: 0.5778\n",
      "Epoch 3/100\n",
      "30/30 [==============================] - 0s 2ms/step - loss: 0.7382 - f1: 0.5965 - val_loss: 0.6664 - val_f1: 0.6112\n",
      "Epoch 4/100\n",
      "30/30 [==============================] - 0s 2ms/step - loss: 0.6935 - f1: 0.6155 - val_loss: 0.6596 - val_f1: 0.6080\n",
      "Epoch 5/100\n",
      "30/30 [==============================] - 0s 2ms/step - loss: 0.6552 - f1: 0.6590 - val_loss: 0.6512 - val_f1: 0.5844\n",
      "Epoch 6/100\n",
      "30/30 [==============================] - 0s 2ms/step - loss: 0.6464 - f1: 0.6597 - val_loss: 0.6410 - val_f1: 0.5836\n",
      "Epoch 7/100\n",
      "30/30 [==============================] - 0s 2ms/step - loss: 0.6481 - f1: 0.6711 - val_loss: 0.6386 - val_f1: 0.6021\n",
      "Epoch 8/100\n",
      "30/30 [==============================] - 0s 2ms/step - loss: 0.6444 - f1: 0.6626 - val_loss: 0.6320 - val_f1: 0.6039\n",
      "Epoch 9/100\n",
      "30/30 [==============================] - 0s 2ms/step - loss: 0.6244 - f1: 0.6706 - val_loss: 0.6226 - val_f1: 0.6525\n",
      "Epoch 10/100\n",
      "30/30 [==============================] - 0s 2ms/step - loss: 0.6300 - f1: 0.6893 - val_loss: 0.6219 - val_f1: 0.5965\n",
      "Epoch 11/100\n",
      "30/30 [==============================] - 0s 2ms/step - loss: 0.6442 - f1: 0.6716 - val_loss: 0.6205 - val_f1: 0.6485\n",
      "Epoch 12/100\n",
      "30/30 [==============================] - 0s 2ms/step - loss: 0.6370 - f1: 0.6912 - val_loss: 0.6191 - val_f1: 0.6485\n",
      "Epoch 13/100\n",
      "30/30 [==============================] - 0s 2ms/step - loss: 0.6286 - f1: 0.6871 - val_loss: 0.6149 - val_f1: 0.6538\n",
      "Epoch 14/100\n",
      "30/30 [==============================] - 0s 2ms/step - loss: 0.6182 - f1: 0.6907 - val_loss: 0.6144 - val_f1: 0.6538\n",
      "Epoch 15/100\n",
      "30/30 [==============================] - 0s 2ms/step - loss: 0.6209 - f1: 0.7011 - val_loss: 0.6129 - val_f1: 0.6490\n",
      "Epoch 16/100\n",
      "30/30 [==============================] - 0s 1ms/step - loss: 0.6066 - f1: 0.6996 - val_loss: 0.6128 - val_f1: 0.6535\n",
      "Epoch 17/100\n",
      "30/30 [==============================] - 0s 2ms/step - loss: 0.6042 - f1: 0.7080 - val_loss: 0.6119 - val_f1: 0.6535\n",
      "Epoch 18/100\n",
      "30/30 [==============================] - 0s 2ms/step - loss: 0.6063 - f1: 0.7124 - val_loss: 0.6120 - val_f1: 0.6458\n",
      "Epoch 19/100\n",
      "30/30 [==============================] - 0s 2ms/step - loss: 0.6003 - f1: 0.7059 - val_loss: 0.6095 - val_f1: 0.6535\n",
      "Epoch 20/100\n",
      "30/30 [==============================] - 0s 2ms/step - loss: 0.6067 - f1: 0.7044 - val_loss: 0.6055 - val_f1: 0.6535\n",
      "Epoch 21/100\n",
      "30/30 [==============================] - 0s 2ms/step - loss: 0.5883 - f1: 0.7111 - val_loss: 0.6021 - val_f1: 0.6535\n",
      "Epoch 22/100\n",
      "30/30 [==============================] - 0s 2ms/step - loss: 0.6124 - f1: 0.6893 - val_loss: 0.5989 - val_f1: 0.6607\n",
      "Epoch 23/100\n",
      "30/30 [==============================] - 0s 2ms/step - loss: 0.6003 - f1: 0.7071 - val_loss: 0.6013 - val_f1: 0.6607\n",
      "Epoch 24/100\n",
      "30/30 [==============================] - 0s 2ms/step - loss: 0.5754 - f1: 0.7259 - val_loss: 0.5999 - val_f1: 0.6607\n",
      "Epoch 25/100\n",
      "30/30 [==============================] - 0s 2ms/step - loss: 0.5956 - f1: 0.7227 - val_loss: 0.5996 - val_f1: 0.6607\n",
      "Epoch 26/100\n",
      "30/30 [==============================] - 0s 2ms/step - loss: 0.5941 - f1: 0.7266 - val_loss: 0.6032 - val_f1: 0.6607\n",
      "Epoch 27/100\n",
      "30/30 [==============================] - 0s 2ms/step - loss: 0.5851 - f1: 0.7256 - val_loss: 0.5983 - val_f1: 0.6607\n",
      "Epoch 28/100\n",
      "30/30 [==============================] - 0s 2ms/step - loss: 0.6013 - f1: 0.7136 - val_loss: 0.5976 - val_f1: 0.6607\n",
      "Epoch 29/100\n",
      "30/30 [==============================] - 0s 2ms/step - loss: 0.5881 - f1: 0.7220 - val_loss: 0.5975 - val_f1: 0.6607\n",
      "Epoch 30/100\n",
      "30/30 [==============================] - 0s 2ms/step - loss: 0.5778 - f1: 0.7291 - val_loss: 0.5956 - val_f1: 0.6607\n",
      "Epoch 31/100\n",
      "30/30 [==============================] - 0s 2ms/step - loss: 0.5989 - f1: 0.7046 - val_loss: 0.5952 - val_f1: 0.6607\n",
      "Epoch 32/100\n",
      "30/30 [==============================] - 0s 2ms/step - loss: 0.5951 - f1: 0.7085 - val_loss: 0.5920 - val_f1: 0.7024\n",
      "Epoch 33/100\n",
      "30/30 [==============================] - 0s 2ms/step - loss: 0.5964 - f1: 0.7212 - val_loss: 0.5902 - val_f1: 0.7071\n",
      "Epoch 34/100\n",
      "30/30 [==============================] - 0s 2ms/step - loss: 0.6022 - f1: 0.7288 - val_loss: 0.5836 - val_f1: 0.7163\n",
      "Epoch 35/100\n",
      "30/30 [==============================] - 0s 2ms/step - loss: 0.5844 - f1: 0.7200 - val_loss: 0.5836 - val_f1: 0.7071\n",
      "Epoch 36/100\n",
      "30/30 [==============================] - 0s 2ms/step - loss: 0.5755 - f1: 0.7174 - val_loss: 0.5822 - val_f1: 0.6655\n",
      "Epoch 37/100\n",
      "30/30 [==============================] - 0s 2ms/step - loss: 0.5961 - f1: 0.7122 - val_loss: 0.5800 - val_f1: 0.7071\n",
      "Epoch 38/100\n",
      "30/30 [==============================] - 0s 2ms/step - loss: 0.5935 - f1: 0.7152 - val_loss: 0.5805 - val_f1: 0.7071\n",
      "Epoch 39/100\n",
      "30/30 [==============================] - 0s 2ms/step - loss: 0.5764 - f1: 0.7364 - val_loss: 0.5829 - val_f1: 0.7071\n",
      "Epoch 40/100\n",
      "30/30 [==============================] - 0s 2ms/step - loss: 0.5794 - f1: 0.7317 - val_loss: 0.5842 - val_f1: 0.7121\n",
      "Epoch 41/100\n",
      "30/30 [==============================] - 0s 2ms/step - loss: 0.5923 - f1: 0.7172 - val_loss: 0.5824 - val_f1: 0.7071\n",
      "Epoch 42/100\n",
      "30/30 [==============================] - 0s 2ms/step - loss: 0.5707 - f1: 0.7230 - val_loss: 0.5795 - val_f1: 0.7028\n",
      "Epoch 43/100\n",
      "30/30 [==============================] - 0s 2ms/step - loss: 0.5838 - f1: 0.7237 - val_loss: 0.5809 - val_f1: 0.7028\n",
      "Epoch 44/100\n",
      "30/30 [==============================] - 0s 2ms/step - loss: 0.5747 - f1: 0.7338 - val_loss: 0.5786 - val_f1: 0.6979\n",
      "Epoch 45/100\n",
      "30/30 [==============================] - 0s 2ms/step - loss: 0.5786 - f1: 0.7237 - val_loss: 0.5765 - val_f1: 0.7163\n",
      "Epoch 46/100\n",
      "30/30 [==============================] - 0s 2ms/step - loss: 0.5950 - f1: 0.7064 - val_loss: 0.5757 - val_f1: 0.7555\n",
      "Epoch 47/100\n",
      "30/30 [==============================] - 0s 2ms/step - loss: 0.5705 - f1: 0.7172 - val_loss: 0.5727 - val_f1: 0.7198\n",
      "Epoch 48/100\n",
      "30/30 [==============================] - 0s 2ms/step - loss: 0.5796 - f1: 0.7233 - val_loss: 0.5770 - val_f1: 0.7064\n",
      "Epoch 49/100\n",
      "30/30 [==============================] - 0s 2ms/step - loss: 0.5741 - f1: 0.7149 - val_loss: 0.5763 - val_f1: 0.7163\n",
      "Epoch 50/100\n",
      "30/30 [==============================] - 0s 2ms/step - loss: 0.5762 - f1: 0.7295 - val_loss: 0.5778 - val_f1: 0.7163\n",
      "Epoch 51/100\n",
      "30/30 [==============================] - 0s 2ms/step - loss: 0.5731 - f1: 0.7208 - val_loss: 0.5754 - val_f1: 0.7497\n",
      "Epoch 52/100\n",
      "30/30 [==============================] - 0s 2ms/step - loss: 0.5796 - f1: 0.7067 - val_loss: 0.5808 - val_f1: 0.7223\n",
      "Epoch 53/100\n",
      "30/30 [==============================] - 0s 2ms/step - loss: 0.5695 - f1: 0.7210 - val_loss: 0.5823 - val_f1: 0.7125\n",
      "Epoch 54/100\n",
      "30/30 [==============================] - 0s 2ms/step - loss: 0.5739 - f1: 0.7252 - val_loss: 0.5794 - val_f1: 0.7242\n",
      "Epoch 55/100\n",
      "30/30 [==============================] - 0s 2ms/step - loss: 0.5816 - f1: 0.7210 - val_loss: 0.5755 - val_f1: 0.7163\n",
      "Epoch 56/100\n",
      "30/30 [==============================] - 0s 2ms/step - loss: 0.5740 - f1: 0.7333 - val_loss: 0.5764 - val_f1: 0.7597\n",
      "Epoch 57/100\n",
      "30/30 [==============================] - 0s 2ms/step - loss: 0.5759 - f1: 0.7226 - val_loss: 0.5765 - val_f1: 0.7395\n"
     ]
    },
    {
     "data": {
      "text/plain": [
       "<tensorflow.python.keras.callbacks.History at 0x150389490>"
      ]
     },
     "execution_count": 175,
     "metadata": {},
     "output_type": "execute_result"
    }
   ],
   "source": [
    "ann_1.fit(X_train_adv_s, y_train_adv_s, epochs=100, \n",
    "          validation_data=(X_val_adv_s, y_val_adv_s), \n",
    "          callbacks=[early_stop], class_weight=class_weights_1)"
   ]
  },
  {
   "cell_type": "code",
   "execution_count": 176,
   "metadata": {},
   "outputs": [
    {
     "name": "stdout",
     "output_type": "stream",
     "text": [
      "F1 = 0.6234699695553678\n",
      "Accuracy = 0.6203252032520326\n"
     ]
    }
   ],
   "source": [
    "ann_1_score = ann_1.predict(X_test_adv_s)\n",
    "ann_1_pred = (ann_1_score > 0.5).astype(int)\n",
    "\n",
    "print('F1 =', f1_score(y_test_adv, ann_1_pred, average='weighted'))\n",
    "print('Accuracy =', accuracy_score(ann_1_pred, y_test_adv))"
   ]
  },
  {
   "cell_type": "markdown",
   "metadata": {},
   "source": [
    "## Using Traditional Stats"
   ]
  },
  {
   "cell_type": "code",
   "execution_count": 194,
   "metadata": {},
   "outputs": [],
   "source": [
    "# scale data between 0 and 1\n",
    "mm_scaler_2 = MinMaxScaler()\n",
    "X_train_trad_s = mm_scaler_2.fit_transform(X_train_trad_binned) # USE BINNED DATA!!\n",
    "X_test_trad_s = mm_scaler_2.transform(X_test_trad_binned) # USE BINNED DATA!!\n",
    "\n",
    "# create a validation set from test set\n",
    "X_train_trad_s, X_val_trad_s, y_train_trad_s, y_val_trad_s = train_test_split(X_train_trad_s, y_train_trad,\n",
    "                                                                              test_size=0.1,\n",
    "                                                                              random_state=STATE)\n",
    "\n",
    "class_weights_2 = compute_class_weight('balanced', classes=np.unique(y_train_trad_s), \n",
    "                                     y=y_train_trad_s)\n",
    "class_weights_2 = {\n",
    "    0: class_weights_2[0],\n",
    "    1: class_weights_2[1],\n",
    "}"
   ]
  },
  {
   "cell_type": "code",
   "execution_count": 195,
   "metadata": {},
   "outputs": [],
   "source": [
    "ann_2 = keras.models.Sequential([\n",
    "    keras.layers.Input(shape=(X_train_trad_s.shape[1],)),\n",
    "    keras.layers.BatchNormalization(),\n",
    "    \n",
    "    keras.layers.Dense(16, activation='selu'),\n",
    "    keras.layers.Dropout(0.2),\n",
    "    keras.layers.BatchNormalization(),\n",
    "    \n",
    "    keras.layers.Dense(8, activation='selu'),\n",
    "    keras.layers.Dropout(0.2),\n",
    "    keras.layers.BatchNormalization(),\n",
    "    \n",
    "    keras.layers.Dense(1, activation='sigmoid'),\n",
    "])\n",
    "\n",
    "METRICS = [f1]\n",
    "early_stop = keras.callbacks.EarlyStopping(patience=10, restore_best_weights=True)\n",
    "adam = keras.optimizers.Adam(learning_rate=0.001, decay=1e-4)\n",
    "\n",
    "ann_2.compile(loss='binary_crossentropy', optimizer=adam, metrics=METRICS)"
   ]
  },
  {
   "cell_type": "code",
   "execution_count": 196,
   "metadata": {
    "scrolled": true
   },
   "outputs": [
    {
     "name": "stdout",
     "output_type": "stream",
     "text": [
      "Epoch 1/100\n",
      "30/30 [==============================] - 0s 6ms/step - loss: 0.8207 - f1: 0.5496 - val_loss: 0.6868 - val_f1: 0.7163\n",
      "Epoch 2/100\n",
      "30/30 [==============================] - 0s 2ms/step - loss: 0.7595 - f1: 0.5587 - val_loss: 0.6895 - val_f1: 0.6510\n",
      "Epoch 3/100\n",
      "30/30 [==============================] - 0s 2ms/step - loss: 0.7001 - f1: 0.5978 - val_loss: 0.6930 - val_f1: 0.5402\n",
      "Epoch 4/100\n",
      "30/30 [==============================] - 0s 2ms/step - loss: 0.6626 - f1: 0.6313 - val_loss: 0.6948 - val_f1: 0.5510\n",
      "Epoch 5/100\n",
      "30/30 [==============================] - 0s 2ms/step - loss: 0.6703 - f1: 0.6401 - val_loss: 0.6986 - val_f1: 0.4844\n",
      "Epoch 6/100\n",
      "30/30 [==============================] - 0s 2ms/step - loss: 0.6677 - f1: 0.6248 - val_loss: 0.6911 - val_f1: 0.5833\n",
      "Epoch 7/100\n",
      "30/30 [==============================] - 0s 2ms/step - loss: 0.6456 - f1: 0.6562 - val_loss: 0.6876 - val_f1: 0.5690\n",
      "Epoch 8/100\n",
      "30/30 [==============================] - 0s 2ms/step - loss: 0.6309 - f1: 0.6723 - val_loss: 0.6799 - val_f1: 0.5833\n",
      "Epoch 9/100\n",
      "30/30 [==============================] - 0s 2ms/step - loss: 0.6438 - f1: 0.6515 - val_loss: 0.6718 - val_f1: 0.6369\n",
      "Epoch 10/100\n",
      "30/30 [==============================] - 0s 2ms/step - loss: 0.6317 - f1: 0.6794 - val_loss: 0.6690 - val_f1: 0.6385\n",
      "Epoch 11/100\n",
      "30/30 [==============================] - 0s 2ms/step - loss: 0.6162 - f1: 0.6922 - val_loss: 0.6638 - val_f1: 0.6385\n",
      "Epoch 12/100\n",
      "30/30 [==============================] - 0s 2ms/step - loss: 0.6258 - f1: 0.6754 - val_loss: 0.6550 - val_f1: 0.6604\n",
      "Epoch 13/100\n",
      "30/30 [==============================] - 0s 2ms/step - loss: 0.6125 - f1: 0.6939 - val_loss: 0.6466 - val_f1: 0.6555\n",
      "Epoch 14/100\n",
      "30/30 [==============================] - 0s 2ms/step - loss: 0.6150 - f1: 0.6984 - val_loss: 0.6443 - val_f1: 0.6604\n",
      "Epoch 15/100\n",
      "30/30 [==============================] - 0s 2ms/step - loss: 0.6142 - f1: 0.6826 - val_loss: 0.6391 - val_f1: 0.6640\n",
      "Epoch 16/100\n",
      "30/30 [==============================] - 0s 2ms/step - loss: 0.6218 - f1: 0.6917 - val_loss: 0.6378 - val_f1: 0.6927\n",
      "Epoch 17/100\n",
      "30/30 [==============================] - 0s 2ms/step - loss: 0.6100 - f1: 0.6901 - val_loss: 0.6354 - val_f1: 0.6731\n",
      "Epoch 18/100\n",
      "30/30 [==============================] - 0s 2ms/step - loss: 0.5913 - f1: 0.7060 - val_loss: 0.6332 - val_f1: 0.6832\n",
      "Epoch 19/100\n",
      "30/30 [==============================] - 0s 2ms/step - loss: 0.5832 - f1: 0.7188 - val_loss: 0.6321 - val_f1: 0.6625\n",
      "Epoch 20/100\n",
      "30/30 [==============================] - 0s 2ms/step - loss: 0.5947 - f1: 0.7085 - val_loss: 0.6285 - val_f1: 0.6726\n",
      "Epoch 21/100\n",
      "30/30 [==============================] - 0s 2ms/step - loss: 0.5784 - f1: 0.7017 - val_loss: 0.6246 - val_f1: 0.6722\n",
      "Epoch 22/100\n",
      "30/30 [==============================] - 0s 2ms/step - loss: 0.5849 - f1: 0.7304 - val_loss: 0.6222 - val_f1: 0.6495\n",
      "Epoch 23/100\n",
      "30/30 [==============================] - 0s 2ms/step - loss: 0.5819 - f1: 0.7215 - val_loss: 0.6279 - val_f1: 0.6539\n",
      "Epoch 24/100\n",
      "30/30 [==============================] - 0s 2ms/step - loss: 0.5914 - f1: 0.7118 - val_loss: 0.6244 - val_f1: 0.6495\n",
      "Epoch 25/100\n",
      "30/30 [==============================] - 0s 2ms/step - loss: 0.5782 - f1: 0.7290 - val_loss: 0.6185 - val_f1: 0.6539\n",
      "Epoch 26/100\n",
      "30/30 [==============================] - 0s 1ms/step - loss: 0.5673 - f1: 0.7301 - val_loss: 0.6170 - val_f1: 0.6539\n",
      "Epoch 27/100\n",
      "30/30 [==============================] - 0s 2ms/step - loss: 0.5742 - f1: 0.7218 - val_loss: 0.6134 - val_f1: 0.6586\n",
      "Epoch 28/100\n",
      "30/30 [==============================] - 0s 2ms/step - loss: 0.5779 - f1: 0.7063 - val_loss: 0.6123 - val_f1: 0.6586\n",
      "Epoch 29/100\n",
      "30/30 [==============================] - 0s 2ms/step - loss: 0.5801 - f1: 0.7067 - val_loss: 0.6112 - val_f1: 0.6689\n",
      "Epoch 30/100\n",
      "30/30 [==============================] - 0s 2ms/step - loss: 0.5778 - f1: 0.7071 - val_loss: 0.6110 - val_f1: 0.6820\n",
      "Epoch 31/100\n",
      "30/30 [==============================] - 0s 2ms/step - loss: 0.5865 - f1: 0.7177 - val_loss: 0.6119 - val_f1: 0.6871\n",
      "Epoch 32/100\n",
      "30/30 [==============================] - 0s 2ms/step - loss: 0.5656 - f1: 0.7367 - val_loss: 0.6056 - val_f1: 0.6689\n",
      "Epoch 33/100\n",
      "30/30 [==============================] - 0s 2ms/step - loss: 0.5749 - f1: 0.7267 - val_loss: 0.6062 - val_f1: 0.6786\n",
      "Epoch 34/100\n",
      "30/30 [==============================] - 0s 2ms/step - loss: 0.5810 - f1: 0.7093 - val_loss: 0.6022 - val_f1: 0.6877\n",
      "Epoch 35/100\n",
      "30/30 [==============================] - 0s 2ms/step - loss: 0.5593 - f1: 0.7350 - val_loss: 0.5997 - val_f1: 0.7059\n",
      "Epoch 36/100\n",
      "30/30 [==============================] - 0s 2ms/step - loss: 0.5694 - f1: 0.7403 - val_loss: 0.6014 - val_f1: 0.7112\n",
      "Epoch 37/100\n",
      "30/30 [==============================] - 0s 2ms/step - loss: 0.5760 - f1: 0.7361 - val_loss: 0.6010 - val_f1: 0.6835\n",
      "Epoch 38/100\n",
      "30/30 [==============================] - 0s 2ms/step - loss: 0.5677 - f1: 0.7340 - val_loss: 0.6031 - val_f1: 0.6927\n",
      "Epoch 39/100\n",
      "30/30 [==============================] - 0s 2ms/step - loss: 0.5714 - f1: 0.7335 - val_loss: 0.6041 - val_f1: 0.6927\n",
      "Epoch 40/100\n",
      "30/30 [==============================] - 0s 2ms/step - loss: 0.5515 - f1: 0.7257 - val_loss: 0.6060 - val_f1: 0.7083\n",
      "Epoch 41/100\n",
      "30/30 [==============================] - 0s 2ms/step - loss: 0.5719 - f1: 0.7270 - val_loss: 0.6048 - val_f1: 0.7030\n",
      "Epoch 42/100\n",
      "30/30 [==============================] - 0s 2ms/step - loss: 0.5548 - f1: 0.7273 - val_loss: 0.6012 - val_f1: 0.7083\n",
      "Epoch 43/100\n",
      "30/30 [==============================] - 0s 2ms/step - loss: 0.5638 - f1: 0.7257 - val_loss: 0.6019 - val_f1: 0.6979\n",
      "Epoch 44/100\n",
      "30/30 [==============================] - 0s 2ms/step - loss: 0.5617 - f1: 0.7365 - val_loss: 0.5997 - val_f1: 0.6979\n",
      "Epoch 45/100\n",
      "30/30 [==============================] - 0s 2ms/step - loss: 0.5532 - f1: 0.7400 - val_loss: 0.5993 - val_f1: 0.7030\n",
      "Epoch 46/100\n",
      "30/30 [==============================] - 0s 1ms/step - loss: 0.5587 - f1: 0.7575 - val_loss: 0.6005 - val_f1: 0.7030\n",
      "Epoch 47/100\n",
      "30/30 [==============================] - 0s 2ms/step - loss: 0.5523 - f1: 0.7422 - val_loss: 0.6059 - val_f1: 0.6888\n",
      "Epoch 48/100\n",
      "30/30 [==============================] - 0s 2ms/step - loss: 0.5569 - f1: 0.7248 - val_loss: 0.6129 - val_f1: 0.6888\n",
      "Epoch 49/100\n",
      "30/30 [==============================] - 0s 2ms/step - loss: 0.5506 - f1: 0.7438 - val_loss: 0.6075 - val_f1: 0.6888\n",
      "Epoch 50/100\n",
      "30/30 [==============================] - 0s 2ms/step - loss: 0.5557 - f1: 0.7416 - val_loss: 0.6051 - val_f1: 0.6888\n",
      "Epoch 51/100\n",
      "30/30 [==============================] - 0s 2ms/step - loss: 0.5625 - f1: 0.7342 - val_loss: 0.6044 - val_f1: 0.6888\n",
      "Epoch 52/100\n",
      "30/30 [==============================] - 0s 2ms/step - loss: 0.5549 - f1: 0.7344 - val_loss: 0.6044 - val_f1: 0.6888\n",
      "Epoch 53/100\n",
      "30/30 [==============================] - 0s 2ms/step - loss: 0.5713 - f1: 0.7217 - val_loss: 0.5994 - val_f1: 0.6888\n",
      "Epoch 54/100\n",
      "30/30 [==============================] - 0s 2ms/step - loss: 0.5470 - f1: 0.7223 - val_loss: 0.5984 - val_f1: 0.6888\n",
      "Epoch 55/100\n",
      "30/30 [==============================] - 0s 2ms/step - loss: 0.5514 - f1: 0.7415 - val_loss: 0.5944 - val_f1: 0.6979\n",
      "Epoch 56/100\n",
      "30/30 [==============================] - 0s 2ms/step - loss: 0.5547 - f1: 0.7369 - val_loss: 0.5981 - val_f1: 0.6888\n",
      "Epoch 57/100\n",
      "30/30 [==============================] - 0s 2ms/step - loss: 0.5431 - f1: 0.7510 - val_loss: 0.5978 - val_f1: 0.6777\n",
      "Epoch 58/100\n",
      "30/30 [==============================] - 0s 2ms/step - loss: 0.5630 - f1: 0.7371 - val_loss: 0.5999 - val_f1: 0.6777\n",
      "Epoch 59/100\n",
      "30/30 [==============================] - 0s 2ms/step - loss: 0.5511 - f1: 0.7414 - val_loss: 0.5958 - val_f1: 0.6777\n",
      "Epoch 60/100\n",
      "30/30 [==============================] - 0s 2ms/step - loss: 0.5595 - f1: 0.7353 - val_loss: 0.6029 - val_f1: 0.6777\n",
      "Epoch 61/100\n",
      "30/30 [==============================] - 0s 2ms/step - loss: 0.5598 - f1: 0.7323 - val_loss: 0.6045 - val_f1: 0.6777\n",
      "Epoch 62/100\n",
      "30/30 [==============================] - 0s 2ms/step - loss: 0.5587 - f1: 0.7288 - val_loss: 0.6079 - val_f1: 0.6690\n",
      "Epoch 63/100\n",
      "30/30 [==============================] - 0s 2ms/step - loss: 0.5515 - f1: 0.7415 - val_loss: 0.6043 - val_f1: 0.6777\n",
      "Epoch 64/100\n"
     ]
    },
    {
     "name": "stdout",
     "output_type": "stream",
     "text": [
      "30/30 [==============================] - 0s 2ms/step - loss: 0.5527 - f1: 0.7476 - val_loss: 0.6117 - val_f1: 0.6690\n",
      "Epoch 65/100\n",
      "30/30 [==============================] - 0s 2ms/step - loss: 0.5460 - f1: 0.7598 - val_loss: 0.6065 - val_f1: 0.6690\n"
     ]
    },
    {
     "data": {
      "text/plain": [
       "<tensorflow.python.keras.callbacks.History at 0x1513ccdd0>"
      ]
     },
     "execution_count": 196,
     "metadata": {},
     "output_type": "execute_result"
    }
   ],
   "source": [
    "ann_2.fit(X_train_trad_s, y_train_trad_s, epochs=100, \n",
    "          validation_data=(X_val_trad_s, y_val_trad_s), \n",
    "          callbacks=[early_stop], class_weight=class_weights_2)"
   ]
  },
  {
   "cell_type": "code",
   "execution_count": 199,
   "metadata": {},
   "outputs": [
    {
     "name": "stdout",
     "output_type": "stream",
     "text": [
      "F1 = 0.6066875702593458\n",
      "Accuracy = 0.6032520325203252\n"
     ]
    }
   ],
   "source": [
    "ann_2_score = ann_2.predict(X_test_trad_s)\n",
    "ann_2_pred = (ann_2_score > 0.5).astype(int)\n",
    "\n",
    "print('F1 =', f1_score(y_test_trad, ann_2_pred, average='weighted'))\n",
    "print('Accuracy =', accuracy_score(ann_2_pred, y_test_trad))"
   ]
  },
  {
   "cell_type": "code",
   "execution_count": 206,
   "metadata": {},
   "outputs": [
    {
     "data": {
      "image/png": "[encoded data removed]",
      "text/plain": [
       "<Figure size 936x576 with 6 Axes>"
      ]
     },
     "metadata": {
      "needs_background": "light"
     },
     "output_type": "display_data"
    }
   ],
   "source": [
    "fig = run_metrics(\n",
    "    [ann_1_pred, ann_2_pred], \n",
    "    [y_test_adv, y_test_trad], \n",
    "    [ann_1_score, ann_2_score]\n",
    ")\n",
    "fig.savefig('plots/matchups-NN.pdf', bbox_inches='tight')"
   ]
  },
  {
   "cell_type": "markdown",
   "metadata": {},
   "source": [
    "# Ensemble Experiment"
   ]
  },
  {
   "cell_type": "code",
   "execution_count": 187,
   "metadata": {},
   "outputs": [],
   "source": [
    "# # get the best versions of each model\n",
    "# lr_score = y_score_1[:, 1]\n",
    "# rf_score = y_score_3[:, 1]\n",
    "# ann_score = ann_1_score\n",
    "\n",
    "# ensemble_score = np.hstack([\n",
    "#     lr_score.reshape((-1, 1)), \n",
    "#     rf_score.reshape((-1, 1)),\n",
    "#     ann_score\n",
    "# ])\n",
    "\n",
    "# ensemble_score = np.mean(ensemble_score, axis=1) # soft voting\n",
    "# ensemble_pred = (ensemble_score >= 0.5).astype(int)\n",
    "# fig = run_metrics(ensemble_pred, y_test_adv, y_score=ensemble_score)\n",
    "# # fig.savefig('plots/matchups-ensemble.pdf', bbox_inches='tight')"
   ]
  },
  {
   "cell_type": "code",
   "execution_count": 188,
   "metadata": {},
   "outputs": [],
   "source": [
    "# accuracy_score(ensemble_pred, y_test_adv)"
   ]
  },
  {
   "cell_type": "code",
   "execution_count": null,
   "metadata": {},
   "outputs": [],
   "source": []
  }
 ],
 "metadata": {
  "kernelspec": {
   "display_name": "nba_game_pred",
   "language": "python",
   "name": "nba_game_pred"
  },
  "language_info": {
   "codemirror_mode": {
    "name": "ipython",
    "version": 3
   },
   "file_extension": ".py",
   "mimetype": "text/x-python",
   "name": "python",
   "nbconvert_exporter": "python",
   "pygments_lexer": "ipython3",
   "version": "3.7.8"
  }
 },
 "nbformat": 4,
 "nbformat_minor": 2
}
