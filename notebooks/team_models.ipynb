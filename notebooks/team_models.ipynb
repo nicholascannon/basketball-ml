{
 "cells": [
  {
   "cell_type": "markdown",
   "metadata": {},
   "source": [
    "# NBA Game Prediction: Logistic Regression (Modelling Teams)\n",
    "Written by Nicholas Cannon 22241579"
   ]
  },
  {
   "cell_type": "code",
   "execution_count": 4,
   "metadata": {},
   "outputs": [],
   "source": [
    "import os\n",
    "import pandas as pd\n",
    "import numpy as np\n",
    "import matplotlib.pyplot as plt\n",
    "import matplotlib.gridspec as gridspec\n",
    "\n",
    "from sklearn.linear_model import LogisticRegression\n",
    "from sklearn.ensemble import RandomForestClassifier\n",
    "\n",
    "from sklearn.pipeline import Pipeline\n",
    "from sklearn.model_selection import train_test_split, GridSearchCV\n",
    "from sklearn.preprocessing import StandardScaler, KBinsDiscretizer\n",
    "from sklearn.compose import ColumnTransformer\n",
    "from sklearn.metrics import (\n",
    "    confusion_matrix, f1_score, accuracy_score, ConfusionMatrixDisplay,\n",
    "    roc_curve, auc, RocCurveDisplay, precision_recall_curve,\n",
    "    PrecisionRecallDisplay\n",
    ")\n",
    "\n",
    "%matplotlib inline\n",
    "\n",
    "DATA_DIR = os.path.join('..', 'data', 'processed', 'teams')\n",
    "STATE = 42\n",
    "team_ids = os.listdir(DATA_DIR)\n",
    "NON_FEATURE_COLS = ['GAME_ID', 'DATE', 'SEASON', 'TEAM', 'OPPONENT']"
   ]
  },
  {
   "cell_type": "code",
   "execution_count": 5,
   "metadata": {},
   "outputs": [],
   "source": [
    "def run_metrics(y_pred, y_true, y_score):\n",
    "    \"\"\"Display Standard graphs and metrics for model evaluation\"\"\"\n",
    "    fig, ax = plt.subplots(2, 3, figsize=(13, 8))\n",
    "\n",
    "    for i in [0, 1]:\n",
    "        ax[i][1].set_xlim((0, 1))\n",
    "        ax[i][1].set_ylim((0, 1))\n",
    "        ax[i][2].set_xlim((0, 1))\n",
    "        ax[i][2].set_ylim((0, 1))\n",
    "        ax[i][1].set_aspect('equal', 'box')\n",
    "        ax[i][2].set_aspect('equal', 'box')\n",
    "        \n",
    "        # CF Matrix\n",
    "        cf = ConfusionMatrixDisplay(\n",
    "            confusion_matrix(y_true[i], y_pred[i]),\n",
    "            display_labels=['Home Lose', 'Home Win']\n",
    "        )\n",
    "        cf.plot(cmap=plt.cm.Blues, ax=ax[i][0])\n",
    "        cf.im_.colorbar.remove()\n",
    "\n",
    "        # ROC Curve\n",
    "        fpr, tpr, _ = roc_curve(y_true[i], y_score[i])\n",
    "        RocCurveDisplay(fpr=fpr, tpr=tpr, roc_auc=auc(fpr, tpr)).plot(ax=ax[i][1])\n",
    "\n",
    "        # PR Curve\n",
    "        prec, recall, _ = precision_recall_curve(y_true[i], y_score[i])\n",
    "        PrecisionRecallDisplay(precision=prec, recall=recall).plot(ax=ax[i][2])\n",
    "        \n",
    "        # set cf matrix ylabel rotation\n",
    "        ax[i][0].set_yticklabels(ax[i][0].get_yticklabels(), rotation=90, va='center')\n",
    "    \n",
    "    plt.show()\n",
    "    return fig\n",
    "\n",
    "\n",
    "def preprocess_team(team_id, drop_adv=False, season_avg=False, window=5, drop_percentages=False, \n",
    "                    split_data=True, test_size=0.2):\n",
    "    \"\"\"Preprocess the given teams data set with configurable options\"\"\"\n",
    "    df = pd.read_csv(os.path.join(DATA_DIR, team_id))\n",
    "\n",
    "    # shift label up 1 game\n",
    "    df['WON'] = df['WON'].shift(periods=-1)\n",
    "    df.dropna(inplace=True)\n",
    "\n",
    "    # get a copy of the columns not run through averaging\n",
    "    non_avgs = df[[*NON_FEATURE_COLS, 'HOME']].copy()\n",
    "\n",
    "    # separate features and labels (and drop non feature cols)\n",
    "    X = df.drop([*NON_FEATURE_COLS, 'WON', 'HOME'], axis=1)\n",
    "    y = df['WON']\n",
    "    \n",
    "    # drop derived cols\n",
    "    if drop_percentages:\n",
    "        X = X.drop(['FG_PCT', 'FG3_PCT', 'FT_PCT', 'REB', 'RBC'], axis=1)\n",
    "    else:\n",
    "        X = X.drop(['FGM', 'FGA', 'FG3M', 'FG3A', 'FTM', 'FTA', 'OREB', 'DREB', 'ORBC', 'DRBC',], axis=1)\n",
    "\n",
    "    # drop the advanced stats\n",
    "    if drop_adv:\n",
    "        X = X.drop(['PLUS_MIN', 'TM_TOV_PCT', 'OFF_RATING', 'DEF_RATING', \n",
    "                    'TS_PCT', 'PACE', 'PTS_OFF_TO', 'PTS_2ND_CHANCE',\n",
    "                    'PTS_FB', 'PTS_PAINT', 'DIST', 'ORBC', 'DRBC', 'RBC', 'TCHS',\n",
    "                    'PASS', 'CFGM', 'CFGA', 'UFGM', 'UFGA'], axis=1, errors='ignore')\n",
    "\n",
    "    # Run averaging and add the non_avg cols after\n",
    "    if season_avg:\n",
    "        X = X.expanding().mean()\n",
    "        X = pd.concat([non_avgs, X], axis=1)\n",
    "    else:\n",
    "        X = X.rolling(window).mean()\n",
    "        X = pd.concat([non_avgs, X], axis=1)\n",
    "\n",
    "        X.dropna(inplace=True) # drop first few games\n",
    "        y = y[window-1:]\n",
    "    \n",
    "    if split_data:\n",
    "        return train_test_split(X, y, test_size=test_size, random_state=STATE)\n",
    "    else:\n",
    "        return X, y\n",
    "    \n",
    "    \n",
    "def build_dataset(**preprocess_args):\n",
    "    \"\"\"Build features and labels from team data sets\"\"\"\n",
    "    X_full, y_full, test_full = pd.DataFrame(), pd.DataFrame(), pd.DataFrame()\n",
    "    for team_id in team_ids:\n",
    "        X_team, y_team = preprocess_team(team_id, split_data=False, **preprocess_args)\n",
    "        \n",
    "        # grab teams last season for testing\n",
    "        test_full = pd.concat([test_full, X_team.iloc[-82:, :]], ignore_index=True)\n",
    "        \n",
    "        X_full = pd.concat([X_full, X_team.iloc[:-82, :]], ignore_index=True)\n",
    "        y_full = pd.concat([y_full, y_team.iloc[:-82]], ignore_index=True)\n",
    "    \n",
    "    # convert y to column vector\n",
    "    y_full = y_full.iloc[:, 0]\n",
    "    \n",
    "    # drop the non feature cols\n",
    "    X_full.drop(NON_FEATURE_COLS, inplace=True, axis=1)\n",
    "\n",
    "    # train / test split\n",
    "    X_train, X_test, y_train, y_test = train_test_split(X_full, y_full, test_size=0.2, random_state=STATE)\n",
    "    \n",
    "    return X_train, X_test, y_train, y_test, test_full\n",
    "    \n",
    "\n",
    "def test_model(clf, features):\n",
    "    \"\"\"Test given model using provided features on 2018 season.\"\"\"\n",
    "    y_pred, y_true = [], []\n",
    "    h_probs, a_probs = [], []\n",
    "    game_order = {}\n",
    "    \n",
    "    # Read and process the labels from the individual teams data,\n",
    "    # the labels used in the training data are shifted up by 1 game.\n",
    "    # This gives access to the ground truth for each game in the 2018 season.\n",
    "    labels = pd.DataFrame()\n",
    "    for team_id in team_ids:\n",
    "        df = pd.read_csv(os.path.join(DATA_DIR, team_id))\n",
    "        \n",
    "        # filter by 2018 season\n",
    "        df = df[df['SEASON'] == 2018]\n",
    "        \n",
    "        # create list of game_ids so we can fetch the previous game features\n",
    "        game_order[team_id[:-4]] = df['GAME_ID'].tolist()\n",
    "        \n",
    "        # convert back to home / away perspectives\n",
    "        df['H_ID'] = df.apply(lambda r: r['TEAM'] if r['HOME'] == 1 else r['OPPONENT'], axis=1)\n",
    "        df['A_ID'] = df.apply(lambda r: r['TEAM'] if r['HOME'] == 0 else r['OPPONENT'], axis=1)\n",
    "        df['HOME_WIN'] = df.apply(lambda r: 1 - (r['WON'] ^ r['HOME']), axis=1)\n",
    "        \n",
    "        df = df[['GAME_ID', 'DATE', 'H_ID', 'A_ID', 'HOME_WIN']]\n",
    "        \n",
    "        labels = pd.concat([labels, df], ignore_index=True)\n",
    "\n",
    "    # each game will have two entries, one for each team so drop the dups\n",
    "    labels.drop_duplicates(inplace=True)\n",
    "    \n",
    "    # drop any games that aren't in the feature set\n",
    "    labels = labels[labels['GAME_ID'].isin(features['GAME_ID'].unique())]\n",
    "    \n",
    "    # make predictions on all feature games\n",
    "    for _, game in labels.iterrows():\n",
    "        # find the index of this game\n",
    "        h_game_idx = game_order[str(game['H_ID'])].index(game['GAME_ID'])\n",
    "        a_game_idx = game_order[str(game['A_ID'])].index(game['GAME_ID'])\n",
    "        \n",
    "        # pull out home / away team features for their previous game\n",
    "        h_data = features[\n",
    "            (features['TEAM'] == game['H_ID']) & \n",
    "            (features['GAME_ID'] == game_order[str(game['H_ID'])][h_game_idx - 1])\n",
    "        ]\n",
    "        a_data = features[\n",
    "            (features['TEAM'] == game['A_ID']) & \n",
    "            (features['GAME_ID'] == game_order[str(game['A_ID'])][a_game_idx - 1])\n",
    "        ]\n",
    "        \n",
    "        # skip games that don't have features for both home and away\n",
    "        if h_data.empty or a_data.empty:\n",
    "            continue\n",
    "\n",
    "        # clean features\n",
    "        h_data = h_data.iloc[0].drop(NON_FEATURE_COLS).values\n",
    "        a_data = a_data.iloc[0].drop(NON_FEATURE_COLS).values\n",
    "\n",
    "        # get the probability of winning next game\n",
    "        prob_h_win = clf.predict_proba([h_data])[0][1]\n",
    "        prob_a_win = clf.predict_proba([a_data])[0][1]\n",
    "        \n",
    "        # record prediction results, scores and label\n",
    "        y_pred.append(1 if prob_h_win >= prob_a_win else 0)\n",
    "        y_true.append(game['HOME_WIN'])\n",
    "        h_probs.append(prob_h_win)\n",
    "        a_probs.append(prob_a_win)\n",
    "\n",
    "    return y_pred, y_true, a_probs, h_probs"
   ]
  },
  {
   "cell_type": "markdown",
   "metadata": {},
   "source": [
    "# Logistic Regression"
   ]
  },
  {
   "cell_type": "code",
   "execution_count": 6,
   "metadata": {
    "tags": []
   },
   "outputs": [],
   "source": [
    "def train_lr(**preprocess_args):\n",
    "    \"\"\"Train Logistic Regression model with grid search cv\"\"\"\n",
    "    # build dataset with given processing args\n",
    "    X_train, X_test, y_train, y_test, test_full = build_dataset(**preprocess_args)\n",
    "    \n",
    "    # StdScaler speeds up training quite a bit\n",
    "    pipe = Pipeline([\n",
    "        ('scaler', StandardScaler()),\n",
    "        ('clf', LogisticRegression(solver='liblinear', class_weight='balanced', random_state=STATE))\n",
    "    ])\n",
    "    params = {\n",
    "        'clf__C': [1.0, 0.8, 0.5],\n",
    "        'clf__penalty': ['l1', 'l2']\n",
    "    }\n",
    "\n",
    "    clf = GridSearchCV(pipe, param_grid=params, n_jobs=-1, cv=5)\n",
    "    clf.fit(X_train, y_train) \n",
    "    y_pred = clf.predict(X_test)\n",
    "\n",
    "    # local model results summary\n",
    "    print('**Local Model Results**')\n",
    "    print('-'*30)\n",
    "    print('F1 = ', f1_score(y_test, y_pred))\n",
    "    # print('Accuracy = ', accuracy_score(y_test, y_pred))\n",
    "    print('Best Parameters = ', clf.best_params_)\n",
    "    print('-'*30)\n",
    "\n",
    "    return clf.best_estimator_, test_full"
   ]
  },
  {
   "cell_type": "markdown",
   "metadata": {},
   "source": [
    "## Experiment 1: 5 Game Moving Average"
   ]
  },
  {
   "cell_type": "code",
   "execution_count": 7,
   "metadata": {
    "scrolled": true,
    "tags": []
   },
   "outputs": [
    {
     "name": "stdout",
     "output_type": "stream",
     "text": [
      "**Local Model Results**\n",
      "------------------------------\n",
      "F1 =  0.5889070146818923\n",
      "Best Parameters =  {'clf__C': 0.5, 'clf__penalty': 'l1'}\n",
      "------------------------------\n"
     ]
    }
   ],
   "source": [
    "clf_1, test_features_1 = train_lr(season_avg=False, window=5)"
   ]
  },
  {
   "cell_type": "code",
   "execution_count": 8,
   "metadata": {
    "scrolled": false
   },
   "outputs": [
    {
     "name": "stdout",
     "output_type": "stream",
     "text": [
      "F1 = 0.6270926846189091\n",
      "Accuracy = 0.6239600665557404\n"
     ]
    }
   ],
   "source": [
    "y_pred_1, y_true_1, *y_scores_1 = test_model(clf_1, test_features_1)\n",
    "\n",
    "print('F1 =', f1_score(y_true_1, y_pred_1, average='weighted'))\n",
    "print('Accuracy =', accuracy_score(y_pred_1, y_true_1))"
   ]
  },
  {
   "cell_type": "markdown",
   "metadata": {},
   "source": [
    "## Experiment 2: Season Average"
   ]
  },
  {
   "cell_type": "code",
   "execution_count": 9,
   "metadata": {
    "tags": []
   },
   "outputs": [
    {
     "name": "stdout",
     "output_type": "stream",
     "text": [
      "**Local Model Results**\n",
      "------------------------------\n",
      "F1 =  0.593633732947499\n",
      "Best Parameters =  {'clf__C': 1.0, 'clf__penalty': 'l2'}\n",
      "------------------------------\n"
     ]
    }
   ],
   "source": [
    "clf_2, test_features_2 = train_lr(season_avg=True)"
   ]
  },
  {
   "cell_type": "code",
   "execution_count": 10,
   "metadata": {},
   "outputs": [
    {
     "name": "stdout",
     "output_type": "stream",
     "text": [
      "F1 = 0.5982627726398478\n",
      "Accuracy = 0.5948419301164726\n"
     ]
    }
   ],
   "source": [
    "y_pred_2, y_true_2, *y_scores_2 = test_model(clf_2, test_features_2)\n",
    "\n",
    "print('F1 =', f1_score(y_true_2, y_pred_2, average='weighted'))\n",
    "print('Accuracy =', accuracy_score(y_pred_2, y_true_2))"
   ]
  },
  {
   "cell_type": "markdown",
   "metadata": {},
   "source": [
    "## Experiment 3: 5 Game Moving Average, drop percentages\n",
    "\n",
    "Dropping percentage columns such as field goal percentage and keeping field goals made and attempted (features used to calculate the percentage)"
   ]
  },
  {
   "cell_type": "code",
   "execution_count": 11,
   "metadata": {
    "tags": []
   },
   "outputs": [
    {
     "name": "stdout",
     "output_type": "stream",
     "text": [
      "**Local Model Results**\n",
      "------------------------------\n",
      "F1 =  0.590204081632653\n",
      "Best Parameters =  {'clf__C': 0.5, 'clf__penalty': 'l2'}\n",
      "------------------------------\n"
     ]
    }
   ],
   "source": [
    "clf_3, test_features_3 = train_lr(season_avg=False, drop_percentages=True)"
   ]
  },
  {
   "cell_type": "code",
   "execution_count": 12,
   "metadata": {},
   "outputs": [
    {
     "name": "stdout",
     "output_type": "stream",
     "text": [
      "F1 = 0.6163858039198987\n",
      "Accuracy = 0.6131447587354409\n"
     ]
    }
   ],
   "source": [
    "y_pred_3, y_true_3, *y_scores_3 = test_model(clf_3, test_features_3)\n",
    "\n",
    "print('F1 =', f1_score(y_true_3, y_pred_3, average='weighted'))\n",
    "print('Accuracy =', accuracy_score(y_pred_3, y_true_3))"
   ]
  },
  {
   "cell_type": "markdown",
   "metadata": {},
   "source": [
    "## Experiment 4: Using Traditional Stats Only"
   ]
  },
  {
   "cell_type": "code",
   "execution_count": 13,
   "metadata": {
    "tags": []
   },
   "outputs": [
    {
     "name": "stdout",
     "output_type": "stream",
     "text": [
      "**Local Model Results**\n",
      "------------------------------\n",
      "F1 =  0.5819672131147542\n",
      "Best Parameters =  {'clf__C': 0.5, 'clf__penalty': 'l1'}\n",
      "------------------------------\n"
     ]
    }
   ],
   "source": [
    "clf_4, test_features_4 = train_lr(season_avg=False, window=5, drop_adv=True)"
   ]
  },
  {
   "cell_type": "code",
   "execution_count": 14,
   "metadata": {},
   "outputs": [
    {
     "name": "stdout",
     "output_type": "stream",
     "text": [
      "F1 = 0.6263016474541455\n",
      "Accuracy = 0.6231281198003328\n"
     ]
    }
   ],
   "source": [
    "y_pred_4, y_true_4, *y_scores_4 = test_model(clf_4, test_features_4)\n",
    "\n",
    "print('F1 =', f1_score(y_true_4, y_pred_4, average='weighted'))\n",
    "print('Accuracy =', accuracy_score(y_pred_4, y_true_4))"
   ]
  },
  {
   "cell_type": "code",
   "execution_count": 16,
   "metadata": {},
   "outputs": [
    {
     "data": {
      "image/png": "[encoded data removed]",
      "text/plain": [
       "<Figure size 936x576 with 6 Axes>"
      ]
     },
     "metadata": {
      "needs_background": "light"
     },
     "output_type": "display_data"
    }
   ],
   "source": [
    "fig = run_metrics(\n",
    "    [y_pred_1, y_pred_4], \n",
    "    [y_true_1, y_true_4], \n",
    "    [y_scores_1[1], y_scores_4[1]]\n",
    ")\n",
    "fig.savefig('plots/teams-LR.pdf', bbox_inches='tight')"
   ]
  },
  {
   "cell_type": "markdown",
   "metadata": {},
   "source": [
    "# Random Forest"
   ]
  },
  {
   "cell_type": "code",
   "execution_count": 17,
   "metadata": {},
   "outputs": [],
   "source": [
    "def train_rf(**preprocess_args):\n",
    "    \"\"\"Train Random Forest model with grid search cv\"\"\"\n",
    "    # build dataset with given processing args\n",
    "    X_train, X_test, y_train, y_test, test_full = build_dataset(**preprocess_args)\n",
    "    \n",
    "    # exclude HOME feature from kbins\n",
    "    ct = ColumnTransformer([\n",
    "        ('kbins', KBinsDiscretizer(encode='onehot-dense'), slice(1, X_train.shape[1]))\n",
    "    ], remainder='passthrough')\n",
    "    \n",
    "    rf = RandomForestClassifier(class_weight='balanced', random_state=STATE)\n",
    "    rf_pipe = Pipeline([\n",
    "        ('tf', ct),\n",
    "        ('rf', rf)\n",
    "    ])\n",
    "    \n",
    "    params = {\n",
    "        'tf__kbins__strategy': ['kmeans', 'quantile'],\n",
    "        'tf__kbins__n_bins': [3, 5],\n",
    "        'rf__n_estimators': [300, 500],\n",
    "        'rf__min_samples_leaf': [1, 3]\n",
    "    }\n",
    "\n",
    "    clf = GridSearchCV(rf_pipe, param_grid=params, n_jobs=-1, cv=5)\n",
    "    clf.fit(X_train, y_train) \n",
    "    y_pred = clf.predict(X_test)\n",
    "\n",
    "    # local model results summary\n",
    "    print('**Local Model Results**')\n",
    "    print('-'*30)\n",
    "    print('F1 = ', f1_score(y_test, y_pred))\n",
    "#     print('Accuracy = ', accuracy_score(y_test, y_pred))\n",
    "    print('Best Parameters = ', clf.best_params_)\n",
    "    print('-'*30)\n",
    "\n",
    "    return clf.best_estimator_, test_full"
   ]
  },
  {
   "cell_type": "markdown",
   "metadata": {},
   "source": [
    "## Experiment 1: 5 Game Moving Average"
   ]
  },
  {
   "cell_type": "code",
   "execution_count": 18,
   "metadata": {},
   "outputs": [
    {
     "name": "stdout",
     "output_type": "stream",
     "text": [
      "**Local Model Results**\n",
      "------------------------------\n",
      "F1 =  0.5792933442892357\n",
      "Best Parameters =  {'rf__min_samples_leaf': 3, 'rf__n_estimators': 500, 'tf__kbins__n_bins': 3, 'tf__kbins__strategy': 'quantile'}\n",
      "------------------------------\n"
     ]
    }
   ],
   "source": [
    "clf_5, test_features_5 = train_rf(season_avg=False, window=5)"
   ]
  },
  {
   "cell_type": "code",
   "execution_count": 19,
   "metadata": {},
   "outputs": [
    {
     "name": "stdout",
     "output_type": "stream",
     "text": [
      "F1 = 0.6205043271098839\n",
      "Accuracy = 0.6173044925124792\n"
     ]
    }
   ],
   "source": [
    "y_pred_5, y_true_5, *y_scores_5 = test_model(clf_5, test_features_5)\n",
    "\n",
    "print('F1 =', f1_score(y_true_5, y_pred_5, average='weighted'))\n",
    "print('Accuracy =', accuracy_score(y_pred_5, y_true_5))"
   ]
  },
  {
   "cell_type": "markdown",
   "metadata": {},
   "source": [
    "## Experiment 2: Season Average"
   ]
  },
  {
   "cell_type": "code",
   "execution_count": 20,
   "metadata": {},
   "outputs": [
    {
     "name": "stdout",
     "output_type": "stream",
     "text": [
      "**Local Model Results**\n",
      "------------------------------\n",
      "F1 =  0.5995943204868154\n",
      "Best Parameters =  {'rf__min_samples_leaf': 3, 'rf__n_estimators': 300, 'tf__kbins__n_bins': 5, 'tf__kbins__strategy': 'kmeans'}\n",
      "------------------------------\n"
     ]
    }
   ],
   "source": [
    "clf_6, test_features_6 = train_rf(season_avg=True)"
   ]
  },
  {
   "cell_type": "code",
   "execution_count": 21,
   "metadata": {},
   "outputs": [
    {
     "name": "stdout",
     "output_type": "stream",
     "text": [
      "F1 = 0.6098118247463971\n",
      "Accuracy = 0.6064891846921797\n"
     ]
    }
   ],
   "source": [
    "y_pred_6, y_true_6, *y_scores_6 = test_model(clf_6, test_features_6)\n",
    "\n",
    "print('F1 =', f1_score(y_true_6, y_pred_6, average='weighted'))\n",
    "print('Accuracy =', accuracy_score(y_pred_6, y_true_6))"
   ]
  },
  {
   "cell_type": "markdown",
   "metadata": {},
   "source": [
    "## Experiment 3: 5 Game Moving Average, drop percentages"
   ]
  },
  {
   "cell_type": "code",
   "execution_count": 22,
   "metadata": {},
   "outputs": [
    {
     "name": "stdout",
     "output_type": "stream",
     "text": [
      "**Local Model Results**\n",
      "------------------------------\n",
      "F1 =  0.5827486586875774\n",
      "Best Parameters =  {'rf__min_samples_leaf': 3, 'rf__n_estimators': 300, 'tf__kbins__n_bins': 3, 'tf__kbins__strategy': 'quantile'}\n",
      "------------------------------\n"
     ]
    }
   ],
   "source": [
    "clf_7, test_features_7 = train_rf(season_avg=False, drop_percentages=True)"
   ]
  },
  {
   "cell_type": "code",
   "execution_count": 23,
   "metadata": {},
   "outputs": [
    {
     "name": "stdout",
     "output_type": "stream",
     "text": [
      "F1 = 0.6056811847381948\n",
      "Accuracy = 0.6023294509151415\n"
     ]
    }
   ],
   "source": [
    "y_pred_7, y_true_7, *y_scores_7 = test_model(clf_7, test_features_7)\n",
    "\n",
    "print('F1 =', f1_score(y_true_7, y_pred_7, average='weighted'))\n",
    "print('Accuracy =', accuracy_score(y_pred_7, y_true_7))"
   ]
  },
  {
   "cell_type": "markdown",
   "metadata": {},
   "source": [
    "## Experiment 4: Using traditional only"
   ]
  },
  {
   "cell_type": "code",
   "execution_count": 24,
   "metadata": {},
   "outputs": [
    {
     "name": "stdout",
     "output_type": "stream",
     "text": [
      "**Local Model Results**\n",
      "------------------------------\n",
      "F1 =  0.5788197251414713\n",
      "Best Parameters =  {'rf__min_samples_leaf': 3, 'rf__n_estimators': 500, 'tf__kbins__n_bins': 3, 'tf__kbins__strategy': 'quantile'}\n",
      "------------------------------\n"
     ]
    }
   ],
   "source": [
    "clf_8, test_features_8 = train_rf(season_avg=False, window=5, drop_adv=True)"
   ]
  },
  {
   "cell_type": "code",
   "execution_count": 25,
   "metadata": {},
   "outputs": [
    {
     "name": "stdout",
     "output_type": "stream",
     "text": [
      "F1 = 0.592466126217016\n",
      "Accuracy = 0.589018302828619\n"
     ]
    }
   ],
   "source": [
    "y_pred_8, y_true_8, *y_scores_8 = test_model(clf_8, test_features_8)\n",
    "\n",
    "print('F1 =', f1_score(y_true_8, y_pred_8, average='weighted'))\n",
    "print('Accuracy =', accuracy_score(y_pred_8, y_true_8))"
   ]
  },
  {
   "cell_type": "code",
   "execution_count": 26,
   "metadata": {},
   "outputs": [
    {
     "data": {
      "image/png": "[encoded data removed]",
      "text/plain": [
       "<Figure size 936x576 with 6 Axes>"
      ]
     },
     "metadata": {
      "needs_background": "light"
     },
     "output_type": "display_data"
    }
   ],
   "source": [
    "fig = run_metrics(\n",
    "    [y_pred_5, y_pred_8], \n",
    "    [y_true_5, y_true_8], \n",
    "    [y_scores_5[1], y_scores_8[1]]\n",
    ")\n",
    "fig.savefig('plots/teams-RF.pdf', bbox_inches='tight')"
   ]
  },
  {
   "cell_type": "code",
   "execution_count": null,
   "metadata": {},
   "outputs": [],
   "source": []
  }
 ],
 "metadata": {
  "kernelspec": {
   "display_name": "nba_game_pred",
   "language": "python",
   "name": "nba_game_pred"
  },
  "language_info": {
   "codemirror_mode": {
    "name": "ipython",
    "version": 3
   },
   "file_extension": ".py",
   "mimetype": "text/x-python",
   "name": "python",
   "nbconvert_exporter": "python",
   "pygments_lexer": "ipython3",
   "version": "3.7.8"
  }
 },
 "nbformat": 4,
 "nbformat_minor": 2
}
