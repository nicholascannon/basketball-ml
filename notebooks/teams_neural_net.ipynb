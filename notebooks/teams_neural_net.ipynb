{
  "nbformat": 4,
  "nbformat_minor": 0,
  "metadata": {
    "colab": {
      "name": "neural_net.ipynb",
      "provenance": [],
      "collapsed_sections": [
        "79Io2Yehut2M",
        "R35CcxIvr11P"
      ],
      "toc_visible": true
    },
    "kernelspec": {
      "name": "python3",
      "display_name": "Python 3"
    },
    "accelerator": "GPU"
  },
  "cells": [
    {
      "cell_type": "markdown",
      "metadata": {
        "id": "JAJI-kVrkZsI"
      },
      "source": [
        "# NBA Game Prediction: Neural Net\n",
        "Written by Nicholas Cannon 22241579"
      ]
    },
    {
      "cell_type": "code",
      "metadata": {
        "id": "0M3O_IXlnbj7",
        "outputId": "5cdda5f9-d69e-4216-ce46-c38315e063cb",
        "colab": {
          "base_uri": "https://localhost:8080/",
          "height": 34
        }
      },
      "source": [
        "from google.colab import drive\n",
        "drive.mount('/content/drive')"
      ],
      "execution_count": 1,
      "outputs": [
        {
          "output_type": "stream",
          "text": [
            "Mounted at /content/drive\n"
          ],
          "name": "stdout"
        }
      ]
    },
    {
      "cell_type": "code",
      "metadata": {
        "id": "rJmC76e06gH8",
        "outputId": "209ce2e4-36b0-4b93-e3f2-f6dfc43c8f3a",
        "colab": {
          "base_uri": "https://localhost:8080/",
          "height": 258
        }
      },
      "source": [
        "!pip install -U scikit-learn"
      ],
      "execution_count": 2,
      "outputs": [
        {
          "output_type": "stream",
          "text": [
            "Collecting scikit-learn\n",
            "\u001b[?25l  Downloading https://files.pythonhosted.org/packages/5c/a1/273def87037a7fb010512bbc5901c31cfddfca8080bc63b42b26e3cc55b3/scikit_learn-0.23.2-cp36-cp36m-manylinux1_x86_64.whl (6.8MB)\n",
            "\u001b[K     |████████████████████████████████| 6.8MB 5.2MB/s \n",
            "\u001b[?25hRequirement already satisfied, skipping upgrade: numpy>=1.13.3 in /usr/local/lib/python3.6/dist-packages (from scikit-learn) (1.18.5)\n",
            "Requirement already satisfied, skipping upgrade: joblib>=0.11 in /usr/local/lib/python3.6/dist-packages (from scikit-learn) (0.16.0)\n",
            "Collecting threadpoolctl>=2.0.0\n",
            "  Downloading https://files.pythonhosted.org/packages/f7/12/ec3f2e203afa394a149911729357aa48affc59c20e2c1c8297a60f33f133/threadpoolctl-2.1.0-py3-none-any.whl\n",
            "Requirement already satisfied, skipping upgrade: scipy>=0.19.1 in /usr/local/lib/python3.6/dist-packages (from scikit-learn) (1.4.1)\n",
            "Installing collected packages: threadpoolctl, scikit-learn\n",
            "  Found existing installation: scikit-learn 0.22.2.post1\n",
            "    Uninstalling scikit-learn-0.22.2.post1:\n",
            "      Successfully uninstalled scikit-learn-0.22.2.post1\n",
            "Successfully installed scikit-learn-0.23.2 threadpoolctl-2.1.0\n"
          ],
          "name": "stdout"
        }
      ]
    },
    {
      "cell_type": "code",
      "metadata": {
        "id": "9RIr4lPEn0es"
      },
      "source": [
        "import os\n",
        "import random\n",
        "import pandas as pd\n",
        "import numpy as np\n",
        "import matplotlib.pyplot as plt\n",
        "import matplotlib\n",
        "from sklearn.model_selection import train_test_split\n",
        "from sklearn.preprocessing import MinMaxScaler\n",
        "from sklearn.utils.class_weight import compute_class_weight\n",
        "from sklearn.metrics import (\n",
        "    confusion_matrix, f1_score, accuracy_score, ConfusionMatrixDisplay,\n",
        "    roc_curve, auc, RocCurveDisplay, precision_recall_curve,\n",
        "    PrecisionRecallDisplay\n",
        ")\n",
        "\n",
        "import tensorflow as tf\n",
        "from tensorflow import keras\n",
        "import keras.backend as K\n",
        "\n",
        "%matplotlib inline\n",
        "\n",
        "DATA_DIR = os.path.join(os.getcwd(), 'drive', 'My Drive', 'teams')\n",
        "STATE = 42\n",
        "TEAM_IDS = os.listdir(DATA_DIR)\n",
        "NON_FEATURE_COLS = ['GAME_ID', 'DATE', 'SEASON', 'TEAM', 'OPPONENT']\n",
        "TEST_SIZE = 0.2\n",
        "\n",
        "random.seed(STATE)\n",
        "np.random.seed(STATE)\n",
        "tf.random.set_seed(STATE)\n",
        "os.environ['PYTHONHASHSEED'] = str(STATE)"
      ],
      "execution_count": 3,
      "outputs": []
    },
    {
      "cell_type": "markdown",
      "metadata": {
        "id": "79Io2Yehut2M"
      },
      "source": [
        "## Global Functions"
      ]
    },
    {
      "cell_type": "code",
      "metadata": {
        "id": "n5rJ0uwVoEyO"
      },
      "source": [
        "def annotate_heatmap(im, data=None, valfmt=\"{x:.2f}\",\n",
        "                     textcolors=[\"black\", \"white\"],\n",
        "                     threshold=None, **textkw):\n",
        "    \"\"\"\n",
        "    FROM: https://matplotlib.org/3.1.0/gallery/images_contours_and_fields/image_annotated_heatmap.html\n",
        "    \"\"\"\n",
        "\n",
        "    if not isinstance(data, (list, np.ndarray)):\n",
        "        data = im.get_array()\n",
        "\n",
        "    # Normalize the threshold to the images color range.\n",
        "    if threshold is not None:\n",
        "        threshold = im.norm(threshold)\n",
        "    else:\n",
        "        threshold = im.norm(data.max())/2.\n",
        "\n",
        "    # Set default alignment to center, but allow it to be\n",
        "    # overwritten by textkw.\n",
        "    kw = dict(horizontalalignment=\"center\",\n",
        "              verticalalignment=\"center\")\n",
        "    kw.update(textkw)\n",
        "\n",
        "    # Get the formatter in case a string is supplied\n",
        "    if isinstance(valfmt, str):\n",
        "        valfmt = matplotlib.ticker.StrMethodFormatter(valfmt)\n",
        "\n",
        "    # Loop over the data and create a `Text` for each \"pixel\".\n",
        "    # Change the text's color depending on the data.\n",
        "    texts = []\n",
        "    for i in range(data.shape[0]):\n",
        "        for j in range(data.shape[1]):\n",
        "            kw.update(color=textcolors[int(im.norm(data[i, j]) > threshold)])\n",
        "            text = im.axes.text(j, i, valfmt(data[i, j], None), **kw)\n",
        "            texts.append(text)\n",
        "\n",
        "    return texts\n",
        "\n",
        "\n",
        "def run_metrics(y_pred, y_true, y_score):\n",
        "    \"\"\"Display Standard graphs and metrics for model evaluation\"\"\"\n",
        "    fig, ax = plt.subplots(1, 3, figsize=(10, 8), constrained_layout=True)\n",
        "    \n",
        "    # CF Matrix\n",
        "    for i in [0, 1]:        \n",
        "        cf_data = confusion_matrix(y_true[i], y_pred[i], normalize='true') * 100\n",
        "        im = ax[i].imshow(cf_data, cmap=plt.cm.Blues) \n",
        "        ax[i].set_xticks(np.arange(cf_data.shape[1]))\n",
        "        ax[i].set_yticks(np.arange(cf_data.shape[0]))\n",
        "        ax[i].set_xticklabels(['Home Lose', 'Home Win'])\n",
        "        ax[i].set_yticklabels(['Home Lose', 'Home Win'], rotation=90, va='center')\n",
        "        ax[i].set_title('Adv.' if i == 0 else 'Trad.')\n",
        "        annotate_heatmap(im, valfmt=\"{x:.2f} %\")\n",
        "\n",
        "    # ROC Curve\n",
        "    fpr_1, tpr_1, _ = roc_curve(y_true[0], y_score[0])\n",
        "    auc_1 = auc(fpr_1, tpr_1)\n",
        "    fpr_2, tpr_2, _ = roc_curve(y_true[1], y_score[1])\n",
        "    auc_2 = auc(fpr_2, tpr_2)\n",
        "    \n",
        "    ax[2].set_xlim((0, 1))\n",
        "    ax[2].set_ylim((0, 1))\n",
        "    ax[2].set_aspect('equal', 'box')\n",
        "    ax[2].set_xlabel('False Positive Rate')\n",
        "    ax[2].set_ylabel('True Positive Rate')\n",
        "    \n",
        "    ax[2].plot(fpr_1, tpr_1, label='Adv. (AUC={:.2f})'.format(auc_1))\n",
        "    ax[2].plot(fpr_2, tpr_2, label='Trad. (AUC={:.2f})'.format(auc_2))\n",
        "    ax[2].legend(loc='lower right')\n",
        "    \n",
        "    plt.show()\n",
        "    return fig\n",
        "\n",
        "\n",
        "def preprocess_team(team_id, drop_adv=False, season_avg=False, window=5, drop_percentages=False, \n",
        "                    split_data=True, test_size=0.2):\n",
        "    \"\"\"Preprocess the given teams data set with configurable options\"\"\"\n",
        "    df = pd.read_csv(os.path.join(DATA_DIR, team_id))\n",
        "\n",
        "    # shift label up 1 game\n",
        "    df['WON'] = df['WON'].shift(periods=-1)\n",
        "    df.dropna(inplace=True)\n",
        "\n",
        "    # get a copy of the columns not run through averaging\n",
        "    non_avgs = df[[*NON_FEATURE_COLS, 'HOME']].copy()\n",
        "\n",
        "    # separate features and labels (and drop non feature cols)\n",
        "    X = df.drop([*NON_FEATURE_COLS, 'WON', 'HOME'], axis=1)\n",
        "    y = df['WON']\n",
        "    \n",
        "    # drop derived cols\n",
        "    if drop_percentages:\n",
        "        X = X.drop(['FG_PCT', 'FG3_PCT', 'FT_PCT', 'REB', 'RBC'], axis=1)\n",
        "    else:\n",
        "        X = X.drop(['FGM', 'FGA', 'FG3M', 'FG3A', 'FTM', 'FTA', 'OREB', 'DREB', 'ORBC', 'DRBC',], axis=1)\n",
        "\n",
        "    # drop the advanced stats\n",
        "    if drop_adv:\n",
        "        X = X.drop(['TM_TOV_PCT', 'OFF_RATING', 'DEF_RATING', \n",
        "                    'TS_PCT', 'PACE', 'PTS_OFF_TO', 'PTS_2ND_CHANCE',\n",
        "                    'PTS_FB', 'PTS_PAINT', 'DIST', 'ORBC', 'DRBC', 'RBC', 'TCHS',\n",
        "                    'PASS', 'CFGM', 'CFGA', 'UFGM', 'UFGA'], axis=1, errors='ignore')\n",
        "    else:\n",
        "        # drop the traditional stats\n",
        "        X = X.drop(['FGM', 'FGA', 'FG_PCT', 'FG3M', 'FG3A', 'FG3_PCT', 'FTM', \n",
        "                    'FTA', 'FT_PCT', 'OREB', 'DREB', 'REB', 'AST', 'STL', 'BLK',\n",
        "                    'TO', 'PF', 'PTS', 'PLUS_MINUS',\n",
        "        ], axis=1, errors='ignore')\n",
        "\n",
        "    # Run averaging and add the non_avg cols after\n",
        "    if season_avg:\n",
        "        X = X.expanding().mean()\n",
        "        X = pd.concat([non_avgs, X], axis=1)\n",
        "    else:\n",
        "        X = X.rolling(window).mean()\n",
        "        X = pd.concat([non_avgs, X], axis=1)\n",
        "\n",
        "        X.dropna(inplace=True) # drop first few games\n",
        "        y = y[window-1:]\n",
        "    \n",
        "    if split_data:\n",
        "        return train_test_split(X, y, test_size=test_size, random_state=STATE)\n",
        "    else:\n",
        "        return X, y\n",
        "\n",
        "\n",
        "def build_dataset(team_ids, **preprocess_args):\n",
        "    \"\"\"Build features and labels from team data sets\"\"\"\n",
        "    X_full, y_full, test_full = pd.DataFrame(), pd.DataFrame(), pd.DataFrame()\n",
        "    for team_id in team_ids:\n",
        "        X_team, y_team = preprocess_team(team_id, split_data=False, **preprocess_args)\n",
        "        \n",
        "        # grab teams last season for testing\n",
        "        team_test_df = pd.concat([X_team.iloc[-82:, :], y_team[-82:].rename('WON')], axis=1)\n",
        "        test_full = pd.concat([test_full, team_test_df], ignore_index=True)\n",
        "        \n",
        "        X_full = pd.concat([X_full, X_team.iloc[:-82, :]], ignore_index=True)\n",
        "        y_full = pd.concat([y_full, y_team.iloc[:-82]], ignore_index=True)\n",
        "    \n",
        "    # convert y to column vector\n",
        "    y_full = y_full.iloc[:, 0]\n",
        "    \n",
        "    # drop the non feature cols\n",
        "    X_full.drop(NON_FEATURE_COLS, inplace=True, axis=1)\n",
        "\n",
        "    # train / test split\n",
        "    X_train, X_test, y_train, y_test = train_test_split(X_full, y_full, test_size=0.2, random_state=STATE)\n",
        "    \n",
        "    return X_train, X_test, y_train, y_test, test_full\n",
        "\n",
        "\n",
        "def test_model(clf, features, scaler):\n",
        "    \"\"\"Test given model using provided features on 1018 season.\"\"\"\n",
        "    y_pred, y_true = [], []\n",
        "    h_probs, a_probs = [], []\n",
        "    game_order = {}\n",
        "\n",
        "    features = features.drop('WON', axis=1)\n",
        "    \n",
        "    # Read and process the labels from the individual teams data,\n",
        "    # the labels used in the training data are shifted up by 1 game.\n",
        "    # This gives access to the ground truth for each game in the 2018 season.\n",
        "    labels = pd.DataFrame()\n",
        "    for team_id in TEAM_IDS:\n",
        "        df = pd.read_csv(os.path.join(DATA_DIR, team_id))\n",
        "        \n",
        "        # filter by 2018 season\n",
        "        df = df[df['SEASON'] == 2018]\n",
        "        \n",
        "        # create list of game_ids so we can fetch the previous game features\n",
        "        game_order[team_id[:-4]] = df['GAME_ID'].tolist()\n",
        "        \n",
        "        # convert back to home / away perspectives\n",
        "        df['H_ID'] = df.apply(lambda r: r['TEAM'] if r['HOME'] == 1 else r['OPPONENT'], axis=1)\n",
        "        df['A_ID'] = df.apply(lambda r: r['TEAM'] if r['HOME'] == 0 else r['OPPONENT'], axis=1)\n",
        "        df['HOME_WIN'] = df.apply(lambda r: 1 - (r['WON'] ^ r['HOME']), axis=1)\n",
        "        \n",
        "        df = df[['GAME_ID', 'DATE', 'H_ID', 'A_ID', 'HOME_WIN']]\n",
        "        \n",
        "        labels = pd.concat([labels, df], ignore_index=True)\n",
        "\n",
        "    # each game will have two entries, one for each team so drop the dups\n",
        "    labels.drop_duplicates(inplace=True)\n",
        "    \n",
        "    # drop any games that aren't in the feature set\n",
        "    labels = labels[labels['GAME_ID'].isin(features['GAME_ID'].unique())]\n",
        "    \n",
        "    # make predictions on all feature games\n",
        "    for _, game in labels.iterrows():\n",
        "        # find the index of this game\n",
        "        h_game_idx = game_order[str(game['H_ID'])].index(game['GAME_ID'])\n",
        "        a_game_idx = game_order[str(game['A_ID'])].index(game['GAME_ID'])\n",
        "        \n",
        "        # skip first game of season\n",
        "        if h_game_idx == 0 or a_game_idx == 0:\n",
        "            continue\n",
        "        \n",
        "        # pull out home / away team features for their previous game\n",
        "        h_data = features[\n",
        "            (features['TEAM'] == game['H_ID']) & \n",
        "            (features['GAME_ID'] == game_order[str(game['H_ID'])][h_game_idx - 1])\n",
        "        ]\n",
        "        a_data = features[\n",
        "            (features['TEAM'] == game['A_ID']) & \n",
        "            (features['GAME_ID'] == game_order[str(game['A_ID'])][a_game_idx - 1])\n",
        "        ]\n",
        "        \n",
        "        # clean features\n",
        "        h_data = h_data.drop(NON_FEATURE_COLS, axis=1)\n",
        "        a_data = a_data.drop(NON_FEATURE_COLS, axis=1)\n",
        "\n",
        "        # scale between 0 and 1\n",
        "        h_data = scaler.transform(h_data)\n",
        "        a_data = scaler.transform(a_data)\n",
        "\n",
        "        # get prediction vals\n",
        "        prob_h_win = clf.predict(h_data)[0][0]\n",
        "        prob_a_win = clf.predict(a_data)[0][0]\n",
        "        \n",
        "        # record prediction results, scores and label\n",
        "        y_pred.append(1 if prob_h_win >= prob_a_win else 0)\n",
        "        y_true.append(game['HOME_WIN'])\n",
        "        h_probs.append(prob_h_win)\n",
        "        a_probs.append(prob_a_win)\n",
        "\n",
        "    return y_pred, y_true, a_probs, h_probs\n",
        "\n",
        "\n",
        "def f1(y_true, y_pred):\n",
        "    \"\"\"Use keras backend to compute f1 metric\"\"\"\n",
        "    true_positives = K.sum(K.round(K.clip(y_true * y_pred, 0, 1)))\n",
        "    possible_positives = K.sum(K.round(K.clip(y_true, 0, 1)))\n",
        "    predicted_positives = K.sum(K.round(K.clip(y_pred, 0, 1)))\n",
        "    precision = true_positives / (predicted_positives + K.epsilon())\n",
        "    recall = true_positives / (possible_positives + K.epsilon())\n",
        "    f1_val = 2*(precision*recall)/(precision+recall+K.epsilon())\n",
        "    return f1_val"
      ],
      "execution_count": 14,
      "outputs": []
    },
    {
      "cell_type": "code",
      "metadata": {
        "id": "OFmgV65mP-zB"
      },
      "source": [
        "import numpy as np\n",
        "from scipy import stats\n",
        "from sklearn.model_selection import train_test_split\n",
        "from sklearn.model_selection import KFold\n",
        "from sklearn.metrics import get_scorer\n",
        "\n",
        "\n",
        "def ttest(clf1, clf2, X1, X2, y, random_seed=STATE):\n",
        "    \"\"\"\n",
        "    Docs: http://rasbt.github.io/mlxtend/user_guide/evaluate/paired_ttest_5x2cv/\n",
        "    Adapted code from: https://github.com/rasbt/mlxtend/blob/master/mlxtend/evaluate/ttest.py\n",
        "    \"\"\"\n",
        "    rng = np.random.RandomState(random_seed)\n",
        "    scorer = get_scorer('accuracy')\n",
        "    \n",
        "    variance_sum = 0\n",
        "    first_diff = None\n",
        "    \n",
        "    \n",
        "    def score_diff(X_1_1, X_1_2, X_2_1, X_2_2, y_1, y_2):\n",
        "        clf1.fit(X_1_1, y_1)\n",
        "        clf2.fit(X_2_1, y_1)\n",
        "        \n",
        "        clf1_score = scorer(clf1, X_1_2, y_2)\n",
        "        clf2_score = scorer(clf2, X_2_2, y_2)\n",
        "        return clf1_score - clf2_score\n",
        "    \n",
        "        \n",
        "    for i in range(5):\n",
        "        randint = rng.randint(low=0, high=32767)\n",
        "        clf1_X_1, clf1_X_2, y_1, y_2 = train_test_split(X1, y, test_size=0.5, \n",
        "                                                          random_state=randint)\n",
        "        # ys are the same\n",
        "        clf2_X_1, clf2_X_2, _, _ = train_test_split(X2, y, test_size=0.5, \n",
        "                                                          random_state=randint)\n",
        "        \n",
        "        score_diff_1 = score_diff(clf1_X_1, clf1_X_2, clf2_X_1, clf2_X_2, y_1, y_2)\n",
        "        score_diff_2 = score_diff(clf1_X_2, clf1_X_1, clf2_X_2, clf2_X_1, y_2, y_1)\n",
        "        \n",
        "        score_mean = (score_diff_1 + score_diff_2) / 2.0\n",
        "        score_var = ((score_diff_1 - score_mean)**2 +\n",
        "                     (score_diff_2 - score_mean)**2)\n",
        "        variance_sum += score_var\n",
        "        if first_diff is None:\n",
        "            first_diff = score_diff_1\n",
        "        \n",
        "    numerator = first_diff\n",
        "    denominator = np.sqrt(1/5.0 * variance_sum)\n",
        "    t_stat = numerator / denominator\n",
        "\n",
        "    pvalue = stats.t.sf(np.abs(t_stat), 5) * 2.0\n",
        "    return float(t_stat), float(pvalue)"
      ],
      "execution_count": 10,
      "outputs": []
    },
    {
      "cell_type": "markdown",
      "metadata": {
        "id": "TysOgv-Tzhcb"
      },
      "source": [
        "# Experiment 1: 5 Game Moving Average"
      ]
    },
    {
      "cell_type": "code",
      "metadata": {
        "id": "IQSaX-S0iwWx",
        "outputId": "dfb1dbd9-c80f-4a40-f837-b01341c18b25",
        "colab": {
          "base_uri": "https://localhost:8080/",
          "height": 34
        }
      },
      "source": [
        "# build dataset\n",
        "X_train, X_val, y_train, y_val, test_data_1 = build_dataset(TEAM_IDS, season_avg=False, window=5)\n",
        "\n",
        "# scale data\n",
        "scaler = MinMaxScaler()\n",
        "X_train = scaler.fit_transform(X_train)\n",
        "X_val = scaler.transform(X_val)\n",
        "\n",
        "# convert to np array\n",
        "y_train = y_train.values\n",
        "y_val = y_val.values\n",
        "\n",
        "# compute class weights\n",
        "class_weights_1 = compute_class_weight('balanced', classes=np.unique(y_train),  y=y_train)\n",
        "class_weights_1 = {\n",
        "    0: class_weights_1[0],\n",
        "    1: class_weights_1[1],\n",
        "}\n",
        "X_train.shape[1]"
      ],
      "execution_count": 15,
      "outputs": [
        {
          "output_type": "execute_result",
          "data": {
            "text/plain": [
              "25"
            ]
          },
          "metadata": {
            "tags": []
          },
          "execution_count": 15
        }
      ]
    },
    {
      "cell_type": "code",
      "metadata": {
        "id": "qJ_8mQHQ45dZ"
      },
      "source": [
        "ann_1 = keras.models.Sequential([   \n",
        "    keras.layers.Input(shape=(25,)),\n",
        "    keras.layers.BatchNormalization(),    \n",
        "\n",
        "    keras.layers.Dense(8, activation='selu'),\n",
        "    keras.layers.BatchNormalization(),\n",
        "\n",
        "    keras.layers.Dense(4, activation='selu'),\n",
        "    keras.layers.BatchNormalization(),\n",
        "\n",
        "    keras.layers.Dense(1, activation='sigmoid')\n",
        "])\n",
        "\n",
        "METRICS = [f1]\n",
        "early_stop = keras.callbacks.EarlyStopping(patience=10, restore_best_weights=True)\n",
        "adam = keras.optimizers.Adam(learning_rate=0.001, decay=1e-4)\n",
        "\n",
        "ann_1.compile(loss='binary_crossentropy', optimizer=adam, metrics=METRICS)"
      ],
      "execution_count": 16,
      "outputs": []
    },
    {
      "cell_type": "code",
      "metadata": {
        "id": "73P7MHtM7shG",
        "outputId": "6dfee49f-ed6d-44a8-b22e-2ded56511f60",
        "colab": {
          "base_uri": "https://localhost:8080/",
          "height": 1000
        }
      },
      "source": [
        "ann1_hist = ann_1.fit(X_train, y_train, epochs=100, validation_data=(X_val, y_val), \n",
        "          callbacks=[early_stop], class_weight=class_weights_1)"
      ],
      "execution_count": 17,
      "outputs": [
        {
          "output_type": "stream",
          "text": [
            "Epoch 1/100\n",
            "304/304 [==============================] - 1s 5ms/step - loss: 0.7314 - f1: 0.5344 - val_loss: 0.6826 - val_f1: 0.5514\n",
            "Epoch 2/100\n",
            "304/304 [==============================] - 1s 4ms/step - loss: 0.6829 - f1: 0.5591 - val_loss: 0.6810 - val_f1: 0.5596\n",
            "Epoch 3/100\n",
            "304/304 [==============================] - 1s 4ms/step - loss: 0.6792 - f1: 0.5785 - val_loss: 0.6793 - val_f1: 0.5567\n",
            "Epoch 4/100\n",
            "304/304 [==============================] - 1s 4ms/step - loss: 0.6775 - f1: 0.5885 - val_loss: 0.6790 - val_f1: 0.5505\n",
            "Epoch 5/100\n",
            "304/304 [==============================] - 1s 4ms/step - loss: 0.6764 - f1: 0.5850 - val_loss: 0.6766 - val_f1: 0.5602\n",
            "Epoch 6/100\n",
            "304/304 [==============================] - 1s 4ms/step - loss: 0.6749 - f1: 0.5856 - val_loss: 0.6761 - val_f1: 0.5556\n",
            "Epoch 7/100\n",
            "304/304 [==============================] - 1s 4ms/step - loss: 0.6755 - f1: 0.5802 - val_loss: 0.6769 - val_f1: 0.5549\n",
            "Epoch 8/100\n",
            "304/304 [==============================] - 1s 4ms/step - loss: 0.6739 - f1: 0.5777 - val_loss: 0.6779 - val_f1: 0.5573\n",
            "Epoch 9/100\n",
            "304/304 [==============================] - 1s 4ms/step - loss: 0.6737 - f1: 0.5841 - val_loss: 0.6765 - val_f1: 0.5489\n",
            "Epoch 10/100\n",
            "304/304 [==============================] - 1s 4ms/step - loss: 0.6742 - f1: 0.5784 - val_loss: 0.6764 - val_f1: 0.5503\n",
            "Epoch 11/100\n",
            "304/304 [==============================] - 1s 4ms/step - loss: 0.6747 - f1: 0.5819 - val_loss: 0.6768 - val_f1: 0.5502\n",
            "Epoch 12/100\n",
            "304/304 [==============================] - 1s 4ms/step - loss: 0.6734 - f1: 0.5848 - val_loss: 0.6757 - val_f1: 0.5520\n",
            "Epoch 13/100\n",
            "304/304 [==============================] - 1s 4ms/step - loss: 0.6730 - f1: 0.5681 - val_loss: 0.6756 - val_f1: 0.5550\n",
            "Epoch 14/100\n",
            "304/304 [==============================] - 1s 4ms/step - loss: 0.6736 - f1: 0.5788 - val_loss: 0.6765 - val_f1: 0.5634\n",
            "Epoch 15/100\n",
            "304/304 [==============================] - 1s 4ms/step - loss: 0.6730 - f1: 0.5883 - val_loss: 0.6758 - val_f1: 0.5556\n",
            "Epoch 16/100\n",
            "304/304 [==============================] - 1s 4ms/step - loss: 0.6725 - f1: 0.5790 - val_loss: 0.6758 - val_f1: 0.5528\n",
            "Epoch 17/100\n",
            "304/304 [==============================] - 1s 4ms/step - loss: 0.6744 - f1: 0.5806 - val_loss: 0.6757 - val_f1: 0.5526\n",
            "Epoch 18/100\n",
            "304/304 [==============================] - 1s 4ms/step - loss: 0.6726 - f1: 0.5765 - val_loss: 0.6766 - val_f1: 0.5497\n",
            "Epoch 19/100\n",
            "304/304 [==============================] - 1s 4ms/step - loss: 0.6735 - f1: 0.5733 - val_loss: 0.6763 - val_f1: 0.5568\n",
            "Epoch 20/100\n",
            "304/304 [==============================] - 1s 4ms/step - loss: 0.6723 - f1: 0.5748 - val_loss: 0.6757 - val_f1: 0.5541\n",
            "Epoch 21/100\n",
            "304/304 [==============================] - 1s 4ms/step - loss: 0.6732 - f1: 0.5755 - val_loss: 0.6756 - val_f1: 0.5561\n",
            "Epoch 22/100\n",
            "304/304 [==============================] - 1s 4ms/step - loss: 0.6731 - f1: 0.5806 - val_loss: 0.6752 - val_f1: 0.5470\n",
            "Epoch 23/100\n",
            "304/304 [==============================] - 1s 4ms/step - loss: 0.6711 - f1: 0.5791 - val_loss: 0.6768 - val_f1: 0.5493\n",
            "Epoch 24/100\n",
            "304/304 [==============================] - 1s 4ms/step - loss: 0.6729 - f1: 0.5749 - val_loss: 0.6759 - val_f1: 0.5530\n",
            "Epoch 25/100\n",
            "304/304 [==============================] - 1s 4ms/step - loss: 0.6724 - f1: 0.5748 - val_loss: 0.6761 - val_f1: 0.5504\n",
            "Epoch 26/100\n",
            "304/304 [==============================] - 1s 4ms/step - loss: 0.6718 - f1: 0.5780 - val_loss: 0.6767 - val_f1: 0.5446\n",
            "Epoch 27/100\n",
            "304/304 [==============================] - 1s 4ms/step - loss: 0.6723 - f1: 0.5783 - val_loss: 0.6763 - val_f1: 0.5497\n",
            "Epoch 28/100\n",
            "304/304 [==============================] - 1s 4ms/step - loss: 0.6727 - f1: 0.5719 - val_loss: 0.6769 - val_f1: 0.5469\n",
            "Epoch 29/100\n",
            "304/304 [==============================] - 1s 4ms/step - loss: 0.6720 - f1: 0.5802 - val_loss: 0.6769 - val_f1: 0.5530\n",
            "Epoch 30/100\n",
            "304/304 [==============================] - 1s 4ms/step - loss: 0.6719 - f1: 0.5760 - val_loss: 0.6768 - val_f1: 0.5486\n",
            "Epoch 31/100\n",
            "304/304 [==============================] - 1s 4ms/step - loss: 0.6723 - f1: 0.5807 - val_loss: 0.6772 - val_f1: 0.5499\n",
            "Epoch 32/100\n",
            "304/304 [==============================] - 1s 4ms/step - loss: 0.6715 - f1: 0.5762 - val_loss: 0.6773 - val_f1: 0.5482\n"
          ],
          "name": "stdout"
        }
      ]
    },
    {
      "cell_type": "code",
      "metadata": {
        "id": "gIXVhFA9Cv0z",
        "outputId": "ad4bdeda-a9fa-4d24-ecfb-eab662e75438",
        "colab": {
          "base_uri": "https://localhost:8080/",
          "height": 68
        }
      },
      "source": [
        "# 0.576\n",
        "# Evaluate Individual Model\n",
        "y_val_pred_1 = ann_1.predict(X_val) > 0.5\n",
        "\n",
        "print('**Local Model Results**')\n",
        "print('-'*30)\n",
        "print('F1 = ', f1_score(y_val, y_val_pred_1))"
      ],
      "execution_count": 18,
      "outputs": [
        {
          "output_type": "stream",
          "text": [
            "**Local Model Results**\n",
            "------------------------------\n",
            "F1 =  0.5562130177514792\n"
          ],
          "name": "stdout"
        }
      ]
    },
    {
      "cell_type": "code",
      "metadata": {
        "id": "1mmz0VTCBhrW"
      },
      "source": [
        "y_pred_1, y_true_1, *y_scores_1 = test_model(ann_1, test_data_1, scaler)"
      ],
      "execution_count": 19,
      "outputs": []
    },
    {
      "cell_type": "code",
      "metadata": {
        "id": "S3QtBvbOVn_f",
        "outputId": "13b34d84-ed66-4af9-e051-3bb53ef4ac8e",
        "colab": {
          "base_uri": "https://localhost:8080/",
          "height": 51
        }
      },
      "source": [
        "# 0.635\n",
        "print('F1 =', f1_score(y_true_1, y_pred_1, average='weighted'))\n",
        "print('Accuracy =', accuracy_score(y_pred_1, y_true_1))"
      ],
      "execution_count": 20,
      "outputs": [
        {
          "output_type": "stream",
          "text": [
            "F1 = 0.6296098252880733\n",
            "Accuracy = 0.6264559068219634\n"
          ],
          "name": "stdout"
        }
      ]
    },
    {
      "cell_type": "markdown",
      "metadata": {
        "id": "R35CcxIvr11P"
      },
      "source": [
        "# Experiment 2: Season Average"
      ]
    },
    {
      "cell_type": "code",
      "metadata": {
        "id": "_2l6da_rbYxy"
      },
      "source": [
        "# build dataset\n",
        "X_train, X_val, y_train, y_val, test_data_2 = build_dataset(TEAM_IDS, season_avg=True)\n",
        "\n",
        "# scale data\n",
        "scaler = MinMaxScaler()\n",
        "X_train = scaler.fit_transform(X_train)\n",
        "X_val = scaler.transform(X_val)\n",
        "\n",
        "# convert to np array\n",
        "y_train = y_train.values\n",
        "y_val = y_val.values\n",
        "\n",
        "# compute class weights\n",
        "class_weights_1 = compute_class_weight('balanced', classes=np.unique(y_train),  y=y_train)\n",
        "class_weights_1 = {\n",
        "    0: class_weights_1[0],\n",
        "    1: class_weights_1[1],\n",
        "}"
      ],
      "execution_count": null,
      "outputs": []
    },
    {
      "cell_type": "code",
      "metadata": {
        "id": "iMhcl3CXsAcO"
      },
      "source": [
        "ann_2 = keras.models.Sequential([   \n",
        "    keras.layers.Input(shape=(35,)),\n",
        "    keras.layers.BatchNormalization(),    \n",
        "\n",
        "    keras.layers.Dense(8, activation='selu'),\n",
        "    keras.layers.BatchNormalization(),\n",
        "\n",
        "    keras.layers.Dense(4, activation='selu'),\n",
        "    keras.layers.BatchNormalization(),\n",
        "\n",
        "    keras.layers.Dense(1, activation='sigmoid')\n",
        "])\n",
        "\n",
        "# METRICS = [keras.metrics.BinaryAccuracy(name='accuracy'), f1]\n",
        "METRICS = [f1]\n",
        "early_stop = keras.callbacks.EarlyStopping(patience=10, restore_best_weights=True)\n",
        "adam = keras.optimizers.Adam(learning_rate=0.001, decay=1e-4)\n",
        "\n",
        "ann_2.compile(loss='binary_crossentropy', optimizer=adam, metrics=METRICS)"
      ],
      "execution_count": null,
      "outputs": []
    },
    {
      "cell_type": "code",
      "metadata": {
        "id": "7-0kidYysI5L",
        "outputId": "b4a313bd-f107-4886-bc4e-93bcb1d8440e",
        "colab": {
          "base_uri": "https://localhost:8080/",
          "height": 918
        }
      },
      "source": [
        "ann_2.fit(X_train, y_train, epochs=100, validation_data=(X_val, y_val), \n",
        "          callbacks=[early_stop], class_weight=class_weights_1)"
      ],
      "execution_count": null,
      "outputs": [
        {
          "output_type": "stream",
          "text": [
            "Epoch 1/100\n",
            "307/307 [==============================] - 1s 4ms/step - loss: 0.7552 - f1: 0.5448 - val_loss: 0.6781 - val_f1: 0.6584\n",
            "Epoch 2/100\n",
            "307/307 [==============================] - 1s 4ms/step - loss: 0.6745 - f1: 0.5904 - val_loss: 0.6598 - val_f1: 0.6175\n",
            "Epoch 3/100\n",
            "307/307 [==============================] - 1s 4ms/step - loss: 0.6712 - f1: 0.5844 - val_loss: 0.6586 - val_f1: 0.6343\n",
            "Epoch 4/100\n",
            "307/307 [==============================] - 1s 5ms/step - loss: 0.6691 - f1: 0.6005 - val_loss: 0.6579 - val_f1: 0.6288\n",
            "Epoch 5/100\n",
            "307/307 [==============================] - 1s 4ms/step - loss: 0.6668 - f1: 0.6051 - val_loss: 0.6565 - val_f1: 0.6084\n",
            "Epoch 6/100\n",
            "307/307 [==============================] - 1s 4ms/step - loss: 0.6668 - f1: 0.5961 - val_loss: 0.6552 - val_f1: 0.6149\n",
            "Epoch 7/100\n",
            "307/307 [==============================] - 1s 4ms/step - loss: 0.6651 - f1: 0.6004 - val_loss: 0.6558 - val_f1: 0.6117\n",
            "Epoch 8/100\n",
            "307/307 [==============================] - 1s 4ms/step - loss: 0.6651 - f1: 0.5965 - val_loss: 0.6553 - val_f1: 0.6231\n",
            "Epoch 9/100\n",
            "307/307 [==============================] - 1s 4ms/step - loss: 0.6656 - f1: 0.6027 - val_loss: 0.6574 - val_f1: 0.6140\n",
            "Epoch 10/100\n",
            "307/307 [==============================] - 1s 4ms/step - loss: 0.6639 - f1: 0.6046 - val_loss: 0.6559 - val_f1: 0.6164\n",
            "Epoch 11/100\n",
            "307/307 [==============================] - 1s 4ms/step - loss: 0.6653 - f1: 0.6049 - val_loss: 0.6555 - val_f1: 0.6117\n",
            "Epoch 12/100\n",
            "307/307 [==============================] - 1s 4ms/step - loss: 0.6644 - f1: 0.6026 - val_loss: 0.6555 - val_f1: 0.6181\n",
            "Epoch 13/100\n",
            "307/307 [==============================] - 1s 4ms/step - loss: 0.6653 - f1: 0.5966 - val_loss: 0.6572 - val_f1: 0.6085\n",
            "Epoch 14/100\n",
            "307/307 [==============================] - 1s 4ms/step - loss: 0.6644 - f1: 0.6044 - val_loss: 0.6550 - val_f1: 0.6316\n",
            "Epoch 15/100\n",
            "307/307 [==============================] - 1s 4ms/step - loss: 0.6636 - f1: 0.6042 - val_loss: 0.6569 - val_f1: 0.6253\n",
            "Epoch 16/100\n",
            "307/307 [==============================] - 1s 4ms/step - loss: 0.6634 - f1: 0.6055 - val_loss: 0.6539 - val_f1: 0.6163\n",
            "Epoch 17/100\n",
            "307/307 [==============================] - 1s 4ms/step - loss: 0.6652 - f1: 0.6041 - val_loss: 0.6546 - val_f1: 0.6392\n",
            "Epoch 18/100\n",
            "307/307 [==============================] - 1s 5ms/step - loss: 0.6620 - f1: 0.6009 - val_loss: 0.6556 - val_f1: 0.6222\n",
            "Epoch 19/100\n",
            "307/307 [==============================] - 1s 4ms/step - loss: 0.6630 - f1: 0.6035 - val_loss: 0.6558 - val_f1: 0.6136\n",
            "Epoch 20/100\n",
            "307/307 [==============================] - 1s 4ms/step - loss: 0.6624 - f1: 0.6058 - val_loss: 0.6561 - val_f1: 0.6111\n",
            "Epoch 21/100\n",
            "307/307 [==============================] - 1s 4ms/step - loss: 0.6619 - f1: 0.6041 - val_loss: 0.6565 - val_f1: 0.6281\n",
            "Epoch 22/100\n",
            "307/307 [==============================] - 1s 4ms/step - loss: 0.6608 - f1: 0.6089 - val_loss: 0.6550 - val_f1: 0.6198\n",
            "Epoch 23/100\n",
            "307/307 [==============================] - 1s 4ms/step - loss: 0.6621 - f1: 0.6053 - val_loss: 0.6548 - val_f1: 0.6125\n",
            "Epoch 24/100\n",
            "307/307 [==============================] - 1s 4ms/step - loss: 0.6618 - f1: 0.6123 - val_loss: 0.6568 - val_f1: 0.6115\n",
            "Epoch 25/100\n",
            "307/307 [==============================] - 1s 4ms/step - loss: 0.6633 - f1: 0.5959 - val_loss: 0.6559 - val_f1: 0.6122\n",
            "Epoch 26/100\n",
            "307/307 [==============================] - 1s 4ms/step - loss: 0.6625 - f1: 0.6085 - val_loss: 0.6551 - val_f1: 0.6215\n"
          ],
          "name": "stdout"
        },
        {
          "output_type": "execute_result",
          "data": {
            "text/plain": [
              "<tensorflow.python.keras.callbacks.History at 0x7efe07b98710>"
            ]
          },
          "metadata": {
            "tags": []
          },
          "execution_count": 14
        }
      ]
    },
    {
      "cell_type": "code",
      "metadata": {
        "id": "T3pykBTKsNHX",
        "outputId": "2c719cb0-011a-4110-da1d-99c430509837",
        "colab": {
          "base_uri": "https://localhost:8080/",
          "height": 68
        }
      },
      "source": [
        "# Evaluate Individual Model\n",
        "y_val_pred_2 = ann_2.predict(X_val) > 0.5\n",
        "\n",
        "print('**Local Model Results**')\n",
        "print('-'*30)\n",
        "print('F1 = ', f1_score(y_val, y_val_pred_2))"
      ],
      "execution_count": null,
      "outputs": [
        {
          "output_type": "stream",
          "text": [
            "**Local Model Results**\n",
            "------------------------------\n",
            "F1 =  0.6253476360746921\n"
          ],
          "name": "stdout"
        }
      ]
    },
    {
      "cell_type": "code",
      "metadata": {
        "id": "Dqawv0KFsd3s"
      },
      "source": [
        "y_pred_2, y_true_2, *y_scores_2 = test_model(ann_2, test_data_2, scaler)"
      ],
      "execution_count": null,
      "outputs": []
    },
    {
      "cell_type": "code",
      "metadata": {
        "id": "rukdXiLcPug0",
        "outputId": "7c339d10-f656-455b-b57a-69fd408c0fea",
        "colab": {
          "base_uri": "https://localhost:8080/",
          "height": 51
        }
      },
      "source": [
        "print('F1 =', f1_score(y_true_2, y_pred_2, average='weighted'))\n",
        "print('Accuracy =', accuracy_score(y_pred_2, y_true_2))"
      ],
      "execution_count": null,
      "outputs": [
        {
          "output_type": "stream",
          "text": [
            "F1 = 0.5924555530495945\n",
            "Accuracy = 0.589018302828619\n"
          ],
          "name": "stdout"
        }
      ]
    },
    {
      "cell_type": "markdown",
      "metadata": {
        "id": "eTsCicvRvEsj"
      },
      "source": [
        "# Experiment 3: Traditional Only"
      ]
    },
    {
      "cell_type": "code",
      "metadata": {
        "id": "awCeKXE8P5Io",
        "outputId": "4ef1ded5-8857-4f94-f36f-d87c1b9b05d2",
        "colab": {
          "base_uri": "https://localhost:8080/",
          "height": 34
        }
      },
      "source": [
        "# build dataset\n",
        "X_train, X_val, y_train, y_val, test_data_3 = build_dataset(TEAM_IDS, drop_adv=True, \n",
        "                                                              season_avg=False, window=5)\n",
        "\n",
        "# scale data\n",
        "scaler = MinMaxScaler()\n",
        "X_train = scaler.fit_transform(X_train)\n",
        "X_val = scaler.transform(X_val)\n",
        "\n",
        "# convert to np array\n",
        "y_train = y_train.values\n",
        "y_val = y_val.values\n",
        "\n",
        "# compute class weights\n",
        "class_weights_3 = compute_class_weight('balanced', classes=np.unique(y_train),  y=y_train)\n",
        "class_weights_3 = {\n",
        "    0: class_weights_1[0],\n",
        "    1: class_weights_1[1],\n",
        "}\n",
        "X_train.shape[1]"
      ],
      "execution_count": 24,
      "outputs": [
        {
          "output_type": "execute_result",
          "data": {
            "text/plain": [
              "18"
            ]
          },
          "metadata": {
            "tags": []
          },
          "execution_count": 24
        }
      ]
    },
    {
      "cell_type": "code",
      "metadata": {
        "id": "woyaINkqvmZE"
      },
      "source": [
        "ann_3 = keras.models.Sequential([   \n",
        "    keras.layers.Input(shape=(X_train.shape[1],)),\n",
        "    keras.layers.BatchNormalization(),    \n",
        "\n",
        "    keras.layers.Dense(8, activation='selu'),\n",
        "    keras.layers.BatchNormalization(),\n",
        "\n",
        "    keras.layers.Dense(4, activation='selu'),\n",
        "    keras.layers.BatchNormalization(),\n",
        "\n",
        "    keras.layers.Dense(1, activation='sigmoid')\n",
        "])\n",
        "\n",
        "METRICS = [f1]\n",
        "early_stop = keras.callbacks.EarlyStopping(patience=10, restore_best_weights=True)\n",
        "adam = keras.optimizers.Adam(learning_rate=0.001, decay=1e-4)\n",
        "\n",
        "ann_3.compile(loss='binary_crossentropy', optimizer=adam, metrics=METRICS)"
      ],
      "execution_count": null,
      "outputs": []
    },
    {
      "cell_type": "code",
      "metadata": {
        "id": "-tEU-BfOvzLt",
        "outputId": "1932939d-3105-4f84-e512-f79312274829",
        "colab": {
          "base_uri": "https://localhost:8080/"
        }
      },
      "source": [
        "ann3_hist = ann_3.fit(X_train, y_train, epochs=100, validation_data=(X_val, y_val), \n",
        "          callbacks=[early_stop], class_weight=class_weights_3)"
      ],
      "execution_count": null,
      "outputs": [
        {
          "output_type": "stream",
          "text": [
            "Epoch 1/100\n",
            "304/304 [==============================] - 1s 5ms/step - loss: 0.6828 - f1: 0.5670 - val_loss: 0.6806 - val_f1: 0.5676\n",
            "Epoch 2/100\n",
            "304/304 [==============================] - 1s 4ms/step - loss: 0.6765 - f1: 0.5608 - val_loss: 0.6782 - val_f1: 0.5552\n",
            "Epoch 3/100\n",
            "304/304 [==============================] - 1s 4ms/step - loss: 0.6748 - f1: 0.5684 - val_loss: 0.6781 - val_f1: 0.5560\n",
            "Epoch 4/100\n",
            "304/304 [==============================] - 1s 4ms/step - loss: 0.6739 - f1: 0.5736 - val_loss: 0.6786 - val_f1: 0.5537\n",
            "Epoch 5/100\n",
            "304/304 [==============================] - 1s 4ms/step - loss: 0.6740 - f1: 0.5667 - val_loss: 0.6777 - val_f1: 0.5523\n",
            "Epoch 6/100\n",
            "304/304 [==============================] - 1s 4ms/step - loss: 0.6736 - f1: 0.5715 - val_loss: 0.6776 - val_f1: 0.5503\n",
            "Epoch 7/100\n",
            "304/304 [==============================] - 1s 4ms/step - loss: 0.6724 - f1: 0.5692 - val_loss: 0.6787 - val_f1: 0.5547\n",
            "Epoch 8/100\n",
            "304/304 [==============================] - 1s 4ms/step - loss: 0.6727 - f1: 0.5669 - val_loss: 0.6791 - val_f1: 0.5556\n",
            "Epoch 9/100\n",
            "304/304 [==============================] - 1s 4ms/step - loss: 0.6712 - f1: 0.5755 - val_loss: 0.6797 - val_f1: 0.5553\n",
            "Epoch 10/100\n",
            "304/304 [==============================] - 1s 4ms/step - loss: 0.6722 - f1: 0.5738 - val_loss: 0.6789 - val_f1: 0.5559\n",
            "Epoch 11/100\n",
            "304/304 [==============================] - 1s 4ms/step - loss: 0.6719 - f1: 0.5704 - val_loss: 0.6792 - val_f1: 0.5529\n",
            "Epoch 12/100\n",
            "304/304 [==============================] - 1s 4ms/step - loss: 0.6709 - f1: 0.5773 - val_loss: 0.6788 - val_f1: 0.5544\n",
            "Epoch 13/100\n",
            "304/304 [==============================] - 1s 4ms/step - loss: 0.6707 - f1: 0.5719 - val_loss: 0.6791 - val_f1: 0.5532\n",
            "Epoch 14/100\n",
            "304/304 [==============================] - 1s 4ms/step - loss: 0.6709 - f1: 0.5708 - val_loss: 0.6794 - val_f1: 0.5558\n",
            "Epoch 15/100\n",
            "304/304 [==============================] - 1s 4ms/step - loss: 0.6709 - f1: 0.5821 - val_loss: 0.6798 - val_f1: 0.5522\n",
            "Epoch 16/100\n",
            "304/304 [==============================] - 1s 4ms/step - loss: 0.6700 - f1: 0.5758 - val_loss: 0.6800 - val_f1: 0.5512\n"
          ],
          "name": "stdout"
        }
      ]
    },
    {
      "cell_type": "code",
      "metadata": {
        "id": "HVoW0jAZv76N",
        "outputId": "eec96e04-d981-475f-f278-d59f7be472dd",
        "colab": {
          "base_uri": "https://localhost:8080/"
        }
      },
      "source": [
        "# 0.560\n",
        "# Evaluate Individual Model\n",
        "y_val_pred_3 = ann_3.predict(X_val) > 0.5\n",
        "\n",
        "print('**Local Model Results**')\n",
        "print('-'*30)\n",
        "print('F1 = ', f1_score(y_val, y_val_pred_3))"
      ],
      "execution_count": null,
      "outputs": [
        {
          "output_type": "stream",
          "text": [
            "**Local Model Results**\n",
            "------------------------------\n",
            "F1 =  0.5602358887952822\n"
          ],
          "name": "stdout"
        }
      ]
    },
    {
      "cell_type": "code",
      "metadata": {
        "id": "5sWaAkGNwAYI"
      },
      "source": [
        "y_pred_3, y_true_3, *y_scores_3 = test_model(ann_3, test_data_3, scaler)"
      ],
      "execution_count": null,
      "outputs": []
    },
    {
      "cell_type": "code",
      "metadata": {
        "id": "fnV2kGfqwE5P",
        "outputId": "70d6deed-2ad3-4cee-ced5-a57b7e724db7",
        "colab": {
          "base_uri": "https://localhost:8080/"
        }
      },
      "source": [
        "# 0.624\n",
        "print('F1 =', f1_score(y_true_3, y_pred_3, average='weighted'))\n",
        "print('Accuracy =', accuracy_score(y_pred_3, y_true_3))"
      ],
      "execution_count": null,
      "outputs": [
        {
          "output_type": "stream",
          "text": [
            "F1 = 0.6238155407468311\n",
            "Accuracy = 0.6206322795341098\n"
          ],
          "name": "stdout"
        }
      ]
    },
    {
      "cell_type": "code",
      "metadata": {
        "id": "rGC_T1ZHwIQw",
        "outputId": "86cc89f8-6ada-4ac2-fab8-303284c86dd9",
        "colab": {
          "base_uri": "https://localhost:8080/",
          "height": 282
        }
      },
      "source": [
        "fig = run_metrics(\n",
        "    [y_pred_1, y_pred_3], \n",
        "    [y_true_1, y_true_3], \n",
        "    [y_scores_1[1], y_scores_3[1]]\n",
        ")\n",
        "fig.savefig(os.path.join(os.getcwd(), 'drive', 'My Drive', 'teams-NN.pdf'), bbox_inches='tight')"
      ],
      "execution_count": null,
      "outputs": [
        {
          "output_type": "display_data",
          "data": {
            "image/png": "[encoded data removed]",
            "text/plain": [
              "<Figure size 720x576 with 3 Axes>"
            ]
          },
          "metadata": {
            "tags": [],
            "needs_background": "light"
          }
        }
      ]
    },
    {
      "cell_type": "code",
      "metadata": {
        "id": "1ZYL5s2dSC5A",
        "outputId": "17bf098a-62e0-4212-d66a-a73b3001b318",
        "colab": {
          "base_uri": "https://localhost:8080/",
          "height": 313
        }
      },
      "source": [
        "fig, ax = plt.subplots(1, 2, figsize=(12, 4), constrained_layout=True)\n",
        "\n",
        "ax[0].plot(ann1_hist.history['f1'])\n",
        "ax[0].plot(ann1_hist.history['val_f1'])\n",
        "ax[0].legend(['Training F1', 'Validation F1'])\n",
        "ax[0].set_xlabel('Epochs')\n",
        "ax[0].set_ylabel('F1')\n",
        "ax[0].set_ylim((0.4, 0.8))\n",
        "ax[0].set_title('Adv.')\n",
        "\n",
        "ax[1].plot(ann3_hist.history['f1'])\n",
        "ax[1].plot(ann3_hist.history['val_f1'])\n",
        "ax[1].legend(['Training F1', 'Validation F1'])\n",
        "ax[1].set_xlabel('Epochs')\n",
        "ax[1].set_ylabel('F1')\n",
        "ax[1].set_ylim((0.4, 0.8))\n",
        "ax[1].set_title('Trad.')\n",
        "\n",
        "fig.savefig(os.path.join(os.getcwd(), 'drive', 'My Drive','team-NN-curves.pdf'), bbox_inches='tight')"
      ],
      "execution_count": null,
      "outputs": [
        {
          "output_type": "display_data",
          "data": {
            "image/png": "[encoded data removed]",
            "text/plain": [
              "<Figure size 864x288 with 2 Axes>"
            ]
          },
          "metadata": {
            "tags": [],
            "needs_background": "light"
          }
        }
      ]
    },
    {
      "cell_type": "code",
      "metadata": {
        "id": "-L7a0jYINZ67",
        "outputId": "ff9ae555-c1dd-4c59-921a-87258b59b333",
        "colab": {
          "base_uri": "https://localhost:8080/",
          "height": 122
        }
      },
      "source": [
        "from tensorflow.keras.wrappers.scikit_learn import KerasClassifier\n",
        "\n",
        "\n",
        "def build_fn(input_dim):\n",
        "    model = keras.models.Sequential([   \n",
        "        keras.layers.Input(shape=(input_dim,)),\n",
        "        keras.layers.BatchNormalization(),    \n",
        "    \n",
        "        keras.layers.Dense(8, activation='selu'),\n",
        "        keras.layers.BatchNormalization(),\n",
        "    \n",
        "        keras.layers.Dense(4, activation='selu'),\n",
        "        keras.layers.BatchNormalization(),\n",
        "    \n",
        "        keras.layers.Dense(1, activation='sigmoid')\n",
        "    ])\n",
        "    model.compile(loss='binary_crossentropy', optimizer=adam, metrics=METRICS)\n",
        "    return model\n",
        "\n",
        "ann_clf1 = KerasClassifier(build_fn=build_fn, epochs=30, verbose=0, input_dim=25)\n",
        "ann_clf2 = KerasClassifier(build_fn=build_fn, epochs=30, verbose=0, input_dim=18)\n",
        "\n",
        "# prep data for t test\n",
        "clf_1_X = test_data_1.copy()\n",
        "clf_1_y = clf_1_X['WON'].values\n",
        "clf_1_X = clf_1_X.drop([*NON_FEATURE_COLS, 'WON'], axis=1).values\n",
        "\n",
        "clf_3_X = test_data_3.copy()\n",
        "clf_3_X = clf_3_X.drop([*NON_FEATURE_COLS, 'WON'], axis=1).values\n",
        "\n",
        "t, p = ttest(ann_clf1, ann_clf2, clf_1_X, clf_3_X, clf_1_y)\n",
        "print('t statistic: %.3f' % t)\n",
        "print('p value: %.3f' % p)"
      ],
      "execution_count": 25,
      "outputs": [
        {
          "output_type": "stream",
          "text": [
            "WARNING:tensorflow:From /usr/local/lib/python3.6/dist-packages/tensorflow/python/keras/wrappers/scikit_learn.py:241: Sequential.predict_classes (from tensorflow.python.keras.engine.sequential) is deprecated and will be removed after 2021-01-01.\n",
            "Instructions for updating:\n",
            "Please use instead:* `np.argmax(model.predict(x), axis=-1)`,   if your model does multi-class classification   (e.g. if it uses a `softmax` last-layer activation).* `(model.predict(x) > 0.5).astype(\"int32\")`,   if your model does binary classification   (e.g. if it uses a `sigmoid` last-layer activation).\n",
            "t statistic: -1.394\n",
            "p value: 0.222\n"
          ],
          "name": "stdout"
        }
      ]
    },
    {
      "cell_type": "code",
      "metadata": {
        "id": "ht4eQ1SwSp7k"
      },
      "source": [
        ""
      ],
      "execution_count": null,
      "outputs": []
    }
  ]
}