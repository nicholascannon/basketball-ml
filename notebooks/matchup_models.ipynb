{
 "cells": [
  {
   "cell_type": "markdown",
   "metadata": {},
   "source": [
    "# NBA Game Prediction: Modelling Matchups\n",
    "Written by Nicholas Cannon"
   ]
  },
  {
   "cell_type": "code",
   "execution_count": 39,
   "metadata": {},
   "outputs": [],
   "source": [
    "import os\n",
    "import pandas as pd\n",
    "import numpy as np\n",
    "import matplotlib.pyplot as plt\n",
    "import matplotlib\n",
    "from collections import defaultdict\n",
    "\n",
    "from sklearn.ensemble import RandomForestClassifier\n",
    "from sklearn.linear_model import LogisticRegression\n",
    "\n",
    "from sklearn.model_selection import GridSearchCV, train_test_split\n",
    "from sklearn.pipeline import Pipeline\n",
    "from sklearn.base import BaseEstimator\n",
    "\n",
    "from sklearn.preprocessing import (\n",
    "    OneHotEncoder, StandardScaler, KBinsDiscretizer, MinMaxScaler\n",
    ")\n",
    "\n",
    "from sklearn.metrics import (\n",
    "    confusion_matrix, f1_score, accuracy_score, ConfusionMatrixDisplay,\n",
    "    roc_curve, auc, RocCurveDisplay, precision_recall_curve,\n",
    "    PrecisionRecallDisplay\n",
    ")\n",
    "\n",
    "%matplotlib inline\n",
    "\n",
    "DATA_DIR = os.path.join('..', 'data', 'processed', 'games')\n",
    "STATE = 0\n",
    "os.environ['PYTHONHASHSEED'] = str(STATE)"
   ]
  },
  {
   "cell_type": "code",
   "execution_count": 92,
   "metadata": {},
   "outputs": [],
   "source": [
    "def annotate_heatmap(im, data=None, valfmt=\"{x:.2f}\",\n",
    "                     textcolors=[\"black\", \"white\"],\n",
    "                     threshold=None, **textkw):\n",
    "    \"\"\"\n",
    "    FROM: https://matplotlib.org/3.1.0/gallery/images_contours_and_fields/image_annotated_heatmap.html\n",
    "    \"\"\"\n",
    "\n",
    "    if not isinstance(data, (list, np.ndarray)):\n",
    "        data = im.get_array()\n",
    "\n",
    "    # Normalize the threshold to the images color range.\n",
    "    if threshold is not None:\n",
    "        threshold = im.norm(threshold)\n",
    "    else:\n",
    "        threshold = im.norm(data.max())/2.\n",
    "\n",
    "    # Set default alignment to center, but allow it to be\n",
    "    # overwritten by textkw.\n",
    "    kw = dict(horizontalalignment=\"center\",\n",
    "              verticalalignment=\"center\")\n",
    "    kw.update(textkw)\n",
    "\n",
    "    # Get the formatter in case a string is supplied\n",
    "    if isinstance(valfmt, str):\n",
    "        valfmt = matplotlib.ticker.StrMethodFormatter(valfmt)\n",
    "\n",
    "    # Loop over the data and create a `Text` for each \"pixel\".\n",
    "    # Change the text's color depending on the data.\n",
    "    texts = []\n",
    "    for i in range(data.shape[0]):\n",
    "        for j in range(data.shape[1]):\n",
    "            kw.update(color=textcolors[int(im.norm(data[i, j]) > threshold)])\n",
    "            text = im.axes.text(j, i, valfmt(data[i, j], None), **kw)\n",
    "            texts.append(text)\n",
    "\n",
    "    return texts\n",
    "\n",
    "\n",
    "def run_metrics(y_pred, y_true, y_score):\n",
    "    \"\"\"Display Standard graphs and metrics for model evaluation\"\"\"\n",
    "    fig, ax = plt.subplots(1, 3, figsize=(10, 8), constrained_layout=True)\n",
    "    \n",
    "    # CF Matrix\n",
    "    for i in [0, 1]:        \n",
    "        cf_data = confusion_matrix(y_true[i], y_pred[i], normalize='all') * 100\n",
    "        im = ax[i].imshow(cf_data, cmap=plt.cm.Blues) \n",
    "        ax[i].set_xticks(np.arange(cf_data.shape[1]))\n",
    "        ax[i].set_yticks(np.arange(cf_data.shape[0]))\n",
    "        ax[i].set_xticklabels(['Home Lose', 'Home Win'])\n",
    "        ax[i].set_yticklabels(['Home Lose', 'Home Win'], rotation=90, va='center')\n",
    "        ax[i].set_title('Adv.' if i == 0 else 'Trad.')\n",
    "        annotate_heatmap(im, valfmt=\"{x:.2f} %\")\n",
    "\n",
    "    # ROC Curve\n",
    "    fpr_1, tpr_1, _ = roc_curve(y_true[0], y_score[0])\n",
    "    auc_1 = auc(fpr_1, tpr_1)\n",
    "    fpr_2, tpr_2, _ = roc_curve(y_true[1], y_score[1])\n",
    "    auc_2 = auc(fpr_2, tpr_2)\n",
    "    \n",
    "    ax[2].set_xlim((0, 1))\n",
    "    ax[2].set_ylim((0, 1))\n",
    "    ax[2].set_aspect('equal', 'box')\n",
    "    ax[2].set_xlabel('False Positive Rate')\n",
    "    ax[2].set_ylabel('True Positive Rate')\n",
    "    \n",
    "    ax[2].plot(fpr_1, tpr_1, label='Adv. (AUC={:.2f})'.format(auc_1))\n",
    "    ax[2].plot(fpr_2, tpr_2, label='Trad. (AUC={:.2f})'.format(auc_2))\n",
    "    ax[2].legend(loc='lower right')\n",
    "    \n",
    "    plt.show()\n",
    "    return fig\n",
    "\n",
    "\n",
    "def load_season(season):\n",
    "    \"\"\"Load season data and apply basic preprocessing\"\"\"\n",
    "    df = pd.read_csv(os.path.join(DATA_DIR, season))\n",
    "    df['DATE'] = pd.to_datetime(df['DATE'])\n",
    "    df.sort_values('DATE', inplace=True)\n",
    "    df.reset_index(drop=True, inplace=True)\n",
    "\n",
    "    return df\n",
    "\n",
    "\n",
    "def get_matchup_games(df, team1, team2):\n",
    "    \"\"\"Return all games played between both teams\"\"\"\n",
    "    df1 = df[(df['H_ID'] == team1) ^ (df['A_ID'] == team1)]\n",
    "    df2 = df[(df['H_ID'] == team2) ^ (df['A_ID'] == team2)]\n",
    "    games = pd.merge(df1, df2, on='GAME_ID')['GAME_ID']\n",
    "\n",
    "    return df[df['GAME_ID'].isin(games)]"
   ]
  },
  {
   "cell_type": "code",
   "execution_count": 4,
   "metadata": {},
   "outputs": [],
   "source": [
    "class ProcessFeatures(BaseEstimator):\n",
    "    \n",
    "    def __init__(self, avg_cols, return_df=False, window=5):\n",
    "        self.team_enc = OneHotEncoder(sparse=False)\n",
    "        self.return_df = return_df\n",
    "        self.window = window\n",
    "        self.avg_cols = avg_cols\n",
    "    \n",
    "    def fit(self, X, y=None):\n",
    "        self._check_df(X)\n",
    "        self.team_enc.fit(X[['H_ID', 'A_ID']])\n",
    "        self.t_cols = [\n",
    "            *('{}_h'.format(idx) for idx in self.team_enc.categories_[0]),\n",
    "            *('{}_a'.format(idx) for idx in self.team_enc.categories_[1])\n",
    "        ]\n",
    "        \n",
    "        return self\n",
    "    \n",
    "    def transform(self, X):\n",
    "        self._check_df(X)\n",
    "        X = X.copy() # make a copy to prevent changes being made\n",
    "        \n",
    "        # compute features\n",
    "        h_won_last = X.apply(self._home_won_last, args=[{}], axis=1)\n",
    "        h_leader = X.apply(self._home_series_leader, args=[defaultdict(list)], axis=1)\n",
    "        teams = self.team_enc.transform(X[['H_ID', 'A_ID']])\n",
    "        teams = pd.DataFrame(data=teams, columns=self.t_cols)\n",
    "        \n",
    "        # compute feature averages for home / away teams\n",
    "        h_avgs = (\n",
    "            X.groupby('H_ID')\n",
    "                [['H_{}'.format(col) for col in self.avg_cols]]\n",
    "                .rolling(self.window).mean()  # Compute rolling mean\n",
    "                .groupby('H_ID')              # Group by H_ID again\n",
    "                .shift(1)                     # Ensure avg is from prev game\n",
    "                .droplevel(0)                 # drop top level index (H_ID)\n",
    "                .sort_index()\n",
    "        )\n",
    "        a_avgs = (\n",
    "            X.groupby('A_ID')\n",
    "                [['A_{}'.format(col) for col in self.avg_cols]]\n",
    "                .rolling(self.window).mean()  # Compute rolling mean\n",
    "                .groupby('A_ID')              # Group by A_ID again\n",
    "                .shift(1)                     # Ensure avg is from prev game\n",
    "                .droplevel(0)                 # drop top level index (A_ID)\n",
    "                .sort_index()\n",
    "        )\n",
    "\n",
    "        # compute differential stats and rename\n",
    "        diff = a_avgs - h_avgs.values\n",
    "        diff.columns = self.avg_cols\n",
    "        \n",
    "        # combine all features\n",
    "        data = pd.concat([\n",
    "            diff,\n",
    "            h_won_last.rename('H_WON_LAST'),\n",
    "            h_leader.rename('H_LEADER'),\n",
    "            teams,\n",
    "            X[['HOME_WIN']]\n",
    "        ], axis=1)\n",
    "        self.columns = data.columns\n",
    "        \n",
    "        if self.return_df:\n",
    "            return data\n",
    "        else:\n",
    "            return data.dropna().values\n",
    "        \n",
    "    def fit_transform(self, X, y=None):\n",
    "        self._check_df(X)\n",
    "        return self.fit(X).transform(X)\n",
    "    \n",
    "    def _check_df(self, X):\n",
    "        if not isinstance(X, pd.DataFrame):\n",
    "            raise ValueError('X must be a pandas DataFrame')\n",
    "            \n",
    "    \"\"\"PANDAS TRANSFORMATION METHODS\"\"\"\n",
    "    \n",
    "    @classmethod\n",
    "    def _home_series_leader(cls, row, series_history):\n",
    "        \"\"\"Computes whether or not the home team is the series leader\"\"\"\n",
    "        matchup_id = tuple(sorted([row['H_ID'], row['A_ID']]))\n",
    "\n",
    "        # get series history, count wins and which team is the leader\n",
    "        series = series_history.get(matchup_id, None)\n",
    "        if series is None:\n",
    "            home_leader = 1\n",
    "        else:\n",
    "            home_leader = int(series.count(row['H_ID']) >= series.count(row['A_ID']))\n",
    "\n",
    "        # add game winner to series history\n",
    "        series_history[matchup_id].append(row['H_ID'] if row['HOME_WIN'] else row['A_ID'])\n",
    "        return home_leader\n",
    "    \n",
    "    @classmethod \n",
    "    def _home_won_last(cls, row, last_games):\n",
    "        \"\"\"Computes whether or not the home team won the last matchup. \"\"\"\n",
    "        matchup_id = tuple(sorted([row['H_ID'], row['A_ID']]))\n",
    "\n",
    "        # get winner of previous game, if no game exists pick home team\n",
    "        last_winner = last_games.get(matchup_id, None)\n",
    "        if last_winner is None:\n",
    "            home_won = 1\n",
    "        else:\n",
    "            home_won = 1 if row['H_ID'] == last_winner else 0\n",
    "\n",
    "        # update last game for this matchup\n",
    "        last_games[matchup_id] = row['H_ID'] if row['HOME_WIN'] else row['A_ID']\n",
    "        return home_won"
   ]
  },
  {
   "cell_type": "code",
   "execution_count": 5,
   "metadata": {},
   "outputs": [],
   "source": [
    "# adv_cols = ['DEF_RATING', 'OFF_RATING', 'TS_PCT', 'EFG_PCT',\n",
    "#             'PASS', 'PACE', 'TCHS', 'TM_TOV_PCT', 'CFGM', \n",
    "#            'CFGA', 'UFGM', 'UFGA', 'DIST']\n",
    "\n",
    "# tester = load_season('2018-full.csv')\n",
    "# pf_t = ProcessFeatures(adv_cols)\n",
    "# pf_t = pf_t.fit_transform(tester)\n",
    "# pf_t.shape"
   ]
  },
  {
   "cell_type": "markdown",
   "metadata": {},
   "source": [
    "# Baseline Models"
   ]
  },
  {
   "cell_type": "code",
   "execution_count": 61,
   "metadata": {},
   "outputs": [
    {
     "data": {
      "text/plain": [
       "1    729\n",
       "0    501\n",
       "Name: HOME_WIN, dtype: int64"
      ]
     },
     "execution_count": 61,
     "metadata": {},
     "output_type": "execute_result"
    }
   ],
   "source": [
    "df_test = load_season('2018-full.csv')\n",
    "df_test['HOME_WIN'].value_counts()"
   ]
  },
  {
   "cell_type": "markdown",
   "metadata": {},
   "source": [
    "## Always pick home team"
   ]
  },
  {
   "cell_type": "code",
   "execution_count": 62,
   "metadata": {
    "tags": []
   },
   "outputs": [
    {
     "name": "stdout",
     "output_type": "stream",
     "text": [
      "F1 = 0.44110857953908783\n"
     ]
    }
   ],
   "source": [
    "y_home = np.ones((df_test.shape[0],))\n",
    "print('F1 =', f1_score(df_test['HOME_WIN'], y_home, average='weighted'))"
   ]
  },
  {
   "cell_type": "markdown",
   "metadata": {},
   "source": [
    "## Always pick the team who won last matchup\n",
    "Pick the team who won the last matchup, if no previous matchup exists pick the home team."
   ]
  },
  {
   "cell_type": "code",
   "execution_count": 63,
   "metadata": {},
   "outputs": [
    {
     "name": "stdout",
     "output_type": "stream",
     "text": [
      "F1 = 0.5387556943017995\n"
     ]
    }
   ],
   "source": [
    "df_test['H_WON_LAST'] = df_test.apply(ProcessFeatures._home_won_last, args=[{}], axis=1)\n",
    "y_last_win = df_test['H_WON_LAST']\n",
    "print('F1 =', f1_score(df_test['HOME_WIN'], y_last_win, average='weighted'))\n",
    "    \n",
    "# Feature validation\n",
    "# matchup = get_matchup_games(df, 1610612739, 1610612766)\n",
    "# matchup[['A_ID', 'H_ID', 'HOME_WIN', 'H_WON_LAST']]"
   ]
  },
  {
   "cell_type": "markdown",
   "metadata": {},
   "source": [
    "## Always pick the series leader\n",
    "Pick Home team if the series is tied"
   ]
  },
  {
   "cell_type": "code",
   "execution_count": 64,
   "metadata": {},
   "outputs": [
    {
     "name": "stdout",
     "output_type": "stream",
     "text": [
      "F1 = 0.5605965466967578\n"
     ]
    }
   ],
   "source": [
    "df_test['H_LEADER'] = df_test.apply(ProcessFeatures._home_series_leader, args=[defaultdict(list)], axis=1)\n",
    "y_series_leader = df_test['H_LEADER']\n",
    "print('F1 =', f1_score(df_test['HOME_WIN'], y_series_leader, average='weighted'))\n",
    "\n",
    "# Feature validation\n",
    "# matchup = get_matchup_games(df, 1610612739, 1610612766)\n",
    "# matchup[['A_ID', 'H_ID', 'HOME_WIN', 'H_LEADER']]"
   ]
  },
  {
   "cell_type": "code",
   "execution_count": 71,
   "metadata": {},
   "outputs": [
    {
     "data": {
      "image/png": "[encoded data removed]",
      "text/plain": [
       "<Figure size 1224x288 with 6 Axes>"
      ]
     },
     "metadata": {
      "needs_background": "light"
     },
     "output_type": "display_data"
    }
   ],
   "source": [
    "import itertools\n",
    "from mpl_toolkits.axes_grid1 import ImageGrid\n",
    "\n",
    "\n",
    "classes = ['Home Lose', 'Home Win']\n",
    "\n",
    "fig = plt.figure(figsize=(17, 4))\n",
    "grid = ImageGrid(fig, 111,          # as in plt.subplot(111)\n",
    "                 nrows_ncols=(1,3),\n",
    "                 axes_pad=0.15,\n",
    "                 cbar_location=\"right\",\n",
    "                 cbar_mode=\"single\",\n",
    "                 cbar_size=\"7%\",\n",
    "                 cbar_pad=0.15)\n",
    "\n",
    "cfs = [\n",
    "    confusion_matrix(df_test['HOME_WIN'], y_home, normalize='all') * 100,\n",
    "    confusion_matrix(df_test['HOME_WIN'], y_last_win, normalize='all') * 100,\n",
    "    confusion_matrix(df_test['HOME_WIN'], y_series_leader, normalize='all') * 100\n",
    "]\n",
    "titles = ['Home Win', 'Last Victor', 'Series Leader']\n",
    "\n",
    "for i, (ax, cf) in enumerate(zip(grid[:3], cfs)):\n",
    "    cm = cf\n",
    "    im = ax.imshow(cm, cmap='Blues')\n",
    "    tick_marks = np.arange(2)\n",
    "    ax.set_title(titles[i])\n",
    "    ax.set_xticks(tick_marks)\n",
    "    ax.set_xticklabels(classes)\n",
    "    ax.set_yticks(tick_marks)\n",
    "    ax.set_yticklabels(classes)\n",
    "\n",
    "    annotate_heatmap(im, valfmt=\"{x:.2f} %\")\n",
    "    \n",
    "    ax.set_ylabel('True label')\n",
    "    if i == 1: \n",
    "        ax.set_xlabel('Predicted label')\n",
    "\n",
    "\n",
    "fig.colorbar(im, cax=ax.cax)\n",
    "plt.show()\n",
    "fig.savefig('plots/baseline-results.pdf', bbox_inches='tight')"
   ]
  },
  {
   "cell_type": "markdown",
   "metadata": {},
   "source": [
    "## Data Prep"
   ]
  },
  {
   "cell_type": "code",
   "execution_count": 6,
   "metadata": {},
   "outputs": [],
   "source": [
    "# load training data\n",
    "df_train = load_season('2017-full.csv')\n",
    "df_test = pd.concat([\n",
    "    df_train, # rolls data into 2018 season\n",
    "    load_season('2018-full.csv')\n",
    "], ignore_index=True)\n",
    "\n",
    "adv_cols = ['DEF_RATING', 'OFF_RATING', 'TS_PCT', 'EFG_PCT',\n",
    "            'PASS', 'PACE', 'TCHS', 'TM_TOV_PCT', 'CFGM', \n",
    "           'CFGA', 'UFGM', 'UFGA', 'DIST']\n",
    "trad_cols = ['FG_PCT', 'FG3_PCT', 'FT_PCT', 'OREB', 'DREB', \n",
    "             'AST', 'STL', 'BLK', 'TO', 'PF', 'PTS', 'PLUS_MIN']\n",
    "\n",
    "\n",
    "# ADVANCED FEATURES\n",
    "pf = ProcessFeatures(adv_cols, return_df=True)\n",
    "df_train_adv = pf.fit_transform(df_train)\n",
    "df_test_adv = pf.transform(df_test)\n",
    "\n",
    "# convert to numpy and drop training data from test\n",
    "df_train_adv = df_train_adv.dropna().values\n",
    "df_test_adv = df_test_adv[1230:].values # IMPORTANT!!\n",
    "\n",
    "# split features and labels\n",
    "X_train_adv, y_train_adv = df_train_adv[:, :-1], df_train_adv[:, -1]\n",
    "X_test_adv, y_test_adv = df_test_adv[:, :-1], df_test_adv[:, -1]"
   ]
  },
  {
   "cell_type": "code",
   "execution_count": 7,
   "metadata": {},
   "outputs": [],
   "source": [
    "# TRADITIONAL FEATURES\n",
    "pf_trad = ProcessFeatures(trad_cols, return_df=True)\n",
    "df_train_trad = pf_trad.fit_transform(df_train)\n",
    "df_test_trad = pf_trad.transform(df_test)\n",
    "\n",
    "# convert to numpy and drop training data from test\n",
    "df_train_trad = df_train_trad.dropna().values\n",
    "df_test_trad = df_test_trad[1230:].values # IMPORTANT!!\n",
    "\n",
    "# split features and labels\n",
    "X_train_trad, y_train_trad = df_train_trad[:, :-1], df_train_trad[:, -1]\n",
    "X_test_trad, y_test_trad = df_test_trad[:, :-1], df_test_trad[:, -1]"
   ]
  },
  {
   "cell_type": "markdown",
   "metadata": {},
   "source": [
    "# Linear Regression Model"
   ]
  },
  {
   "cell_type": "code",
   "execution_count": 8,
   "metadata": {
    "tags": []
   },
   "outputs": [
    {
     "data": {
      "text/plain": [
       "{'C': 0.8, 'penalty': 'l1'}"
      ]
     },
     "execution_count": 8,
     "metadata": {},
     "output_type": "execute_result"
    }
   ],
   "source": [
    "lr = LogisticRegression(solver='liblinear', class_weight='balanced', random_state=STATE)\n",
    "lr_params = {\n",
    "    'penalty': ['l1', 'l2', 'none'],\n",
    "    'C': [1.0, 0.8, 0.5]\n",
    "}\n",
    "\n",
    "clf_1 = GridSearchCV(estimator=lr, param_grid=lr_params, cv=5, scoring='f1', n_jobs=-1)\n",
    "clf_1.fit(X_train_adv, y_train_adv)\n",
    "clf_1.best_params_"
   ]
  },
  {
   "cell_type": "code",
   "execution_count": 9,
   "metadata": {},
   "outputs": [
    {
     "name": "stdout",
     "output_type": "stream",
     "text": [
      "F1 = 0.6356166110733178\n",
      "Accuracy = 0.6686217008797654\n"
     ]
    }
   ],
   "source": [
    "y_score_1 = clf_1.predict_proba(X_test_adv)\n",
    "y_pred_1 = (y_score_1[:, 1] >= 0.5).astype(int)\n",
    "\n",
    "print('F1 =', f1_score(y_test_adv, y_pred_1, average='weighted'))\n",
    "print('Accuracy =', clf_1.score(X_test_adv, y_test_adv))"
   ]
  },
  {
   "cell_type": "markdown",
   "metadata": {},
   "source": [
    "## Using only traditional stats"
   ]
  },
  {
   "cell_type": "code",
   "execution_count": 10,
   "metadata": {},
   "outputs": [
    {
     "data": {
      "text/plain": [
       "{'C': 1.0, 'penalty': 'l1'}"
      ]
     },
     "execution_count": 10,
     "metadata": {},
     "output_type": "execute_result"
    }
   ],
   "source": [
    "clf_2 = GridSearchCV(estimator=lr, param_grid=lr_params, scoring='f1', cv=5, n_jobs=-1)\n",
    "clf_2.fit(X_train_trad, y_train_trad)\n",
    "clf_2.best_params_"
   ]
  },
  {
   "cell_type": "code",
   "execution_count": 11,
   "metadata": {},
   "outputs": [
    {
     "name": "stdout",
     "output_type": "stream",
     "text": [
      "F1 = 0.6209205449112458\n",
      "Accuracy = 0.6589259796806967\n"
     ]
    }
   ],
   "source": [
    "y_score_2 = clf_2.predict_proba(X_test_trad)\n",
    "y_pred_2 = (y_score_2[:, 1] >= 0.5).astype(int)\n",
    "\n",
    "print('F1 =', f1_score(y_test_trad, y_pred_2, average='weighted'))\n",
    "print('Accuracy =', clf_2.score(X_test_trad, y_test_trad))"
   ]
  },
  {
   "cell_type": "code",
   "execution_count": 72,
   "metadata": {},
   "outputs": [
    {
     "data": {
      "image/png": "[encoded data removed]",
      "text/plain": [
       "<Figure size 720x576 with 3 Axes>"
      ]
     },
     "metadata": {
      "needs_background": "light"
     },
     "output_type": "display_data"
    }
   ],
   "source": [
    "fig = run_metrics(\n",
    "    [y_pred_1, y_pred_2], \n",
    "    [y_test_adv, y_test_trad], \n",
    "    [y_score_1[:, 1], y_score_2[:, 1]]\n",
    ")\n",
    "fig.savefig('plots/matchups-LR.pdf', bbox_inches='tight')"
   ]
  },
  {
   "cell_type": "markdown",
   "metadata": {},
   "source": [
    "# Random Forest"
   ]
  },
  {
   "cell_type": "code",
   "execution_count": 73,
   "metadata": {},
   "outputs": [
    {
     "data": {
      "text/plain": [
       "{'min_samples_leaf': 1, 'n_estimators': 500}"
      ]
     },
     "execution_count": 73,
     "metadata": {},
     "output_type": "execute_result"
    }
   ],
   "source": [
    "rf = RandomForestClassifier(class_weight='balanced', random_state=STATE)\n",
    "rf_params = {\n",
    "    'n_estimators': [300, 500],\n",
    "    'min_samples_leaf': [1, 3]\n",
    "}\n",
    "\n",
    "# make copies for binning\n",
    "X_train_adv_binned = X_train_adv.copy()\n",
    "X_test_adv_binned = X_test_adv.copy()\n",
    "\n",
    "# discretize continuous features!!\n",
    "kbins = KBinsDiscretizer(encode='ordinal', strategy='kmeans', n_bins=3)\n",
    "X_train_adv_binned[:, :len(pf.avg_cols)] = kbins.fit_transform(X_train_adv[:, :len(pf.avg_cols)])\n",
    "X_test_adv_binned[:, :len(pf.avg_cols)] = kbins.transform(X_test_adv[:, :len(pf.avg_cols)])\n",
    "\n",
    "clf_3 = GridSearchCV(estimator=rf, param_grid=rf_params, cv=5, scoring='f1', n_jobs=-1)\n",
    "clf_3.fit(X_train_adv_binned, y_train_adv)\n",
    "clf_3.best_params_"
   ]
  },
  {
   "cell_type": "code",
   "execution_count": 74,
   "metadata": {},
   "outputs": [
    {
     "name": "stdout",
     "output_type": "stream",
     "text": [
      "F1 = 0.6128084968035005\n",
      "Accuracy = 0.6902423051735429\n"
     ]
    }
   ],
   "source": [
    "y_score_3 = clf_3.predict_proba(X_test_adv_binned)\n",
    "y_pred_3 = (y_score_3[:, 1] >= 0.5).astype(int)\n",
    "\n",
    "print('F1 =', f1_score(y_test_adv, y_pred_3, average='weighted'))\n",
    "print('Accuracy =', clf_3.score(X_test_adv_binned, y_test_adv))"
   ]
  },
  {
   "cell_type": "markdown",
   "metadata": {},
   "source": [
    "### Feature Importances!!"
   ]
  },
  {
   "cell_type": "code",
   "execution_count": 75,
   "metadata": {},
   "outputs": [
    {
     "name": "stdout",
     "output_type": "stream",
     "text": [
      "OFF_RATING 0.046464833955991644\n",
      "DEF_RATING 0.04423731909131417\n",
      "TM_TOV_PCT 0.040050770315290016\n",
      "PACE 0.03933802177655433\n",
      "CFGM 0.03625750512606446\n",
      "UFGA 0.03561462534681647\n",
      "CFGA 0.03486771546931186\n",
      "EFG_PCT 0.033132734561824896\n",
      "UFGM 0.03303701332744865\n",
      "TS_PCT 0.03248363735723976\n"
     ]
    }
   ],
   "source": [
    "f_imp_idx = list(reversed(np.argsort(clf_3.best_estimator_.feature_importances_)))[:10]\n",
    "f_imp_sorted = sorted(clf_3.best_estimator_.feature_importances_, reverse=True)[:10]\n",
    "\n",
    "for feature, importance in zip(pf.columns[f_imp_idx], f_imp_sorted):\n",
    "    print(feature, importance)"
   ]
  },
  {
   "cell_type": "markdown",
   "metadata": {},
   "source": [
    "## Using only traditional stats"
   ]
  },
  {
   "cell_type": "code",
   "execution_count": 76,
   "metadata": {},
   "outputs": [
    {
     "data": {
      "text/plain": [
       "{'min_samples_leaf': 1, 'n_estimators': 500}"
      ]
     },
     "execution_count": 76,
     "metadata": {},
     "output_type": "execute_result"
    }
   ],
   "source": [
    "# make copies for binning\n",
    "X_train_trad_binned = X_train_trad.copy()\n",
    "X_test_trad_binned = X_test_trad.copy()\n",
    "\n",
    "# discretize continuous features!!\n",
    "kbins = KBinsDiscretizer(encode='ordinal', strategy='kmeans', n_bins=3)\n",
    "X_train_trad_binned[:, :len(pf_trad.avg_cols)] = kbins.fit_transform(X_train_trad[:, :len(pf_trad.avg_cols)])\n",
    "X_test_trad_binned[:, :len(pf_trad.avg_cols)] = kbins.transform(X_test_trad[:, :len(pf_trad.avg_cols)])\n",
    "\n",
    "clf_4 = GridSearchCV(estimator=rf, param_grid=rf_params, cv=5, scoring='f1', n_jobs=-1)\n",
    "clf_4.fit(X_train_trad_binned, y_train_trad)\n",
    "clf_4.best_params_"
   ]
  },
  {
   "cell_type": "code",
   "execution_count": 77,
   "metadata": {},
   "outputs": [
    {
     "name": "stdout",
     "output_type": "stream",
     "text": [
      "F1 = 0.6257905139040166\n",
      "Accuracy = 0.7064160725858716\n"
     ]
    }
   ],
   "source": [
    "y_score_4 = clf_4.predict_proba(X_test_trad_binned)\n",
    "y_pred_4 = (y_score_4[:, 1] >= 0.5).astype(int)\n",
    "\n",
    "print('F1 =', f1_score(y_test_trad, y_pred_4, average='weighted'))\n",
    "print('Accuracy =', clf_4.score(X_test_trad_binned, y_test_trad))"
   ]
  },
  {
   "cell_type": "code",
   "execution_count": 78,
   "metadata": {},
   "outputs": [
    {
     "data": {
      "image/png": "[encoded data removed]",
      "text/plain": [
       "<Figure size 720x576 with 3 Axes>"
      ]
     },
     "metadata": {
      "needs_background": "light"
     },
     "output_type": "display_data"
    }
   ],
   "source": [
    "fig = run_metrics(\n",
    "    [y_pred_3, y_pred_4], \n",
    "    [y_test_adv, y_test_trad], \n",
    "    [y_score_3[:, 1], y_score_4[:, 1]]\n",
    ")\n",
    "fig.savefig('plots/matchups-RF.pdf', bbox_inches='tight')"
   ]
  },
  {
   "cell_type": "markdown",
   "metadata": {},
   "source": [
    "### Feature Importances (traditional stats)"
   ]
  },
  {
   "cell_type": "code",
   "execution_count": 79,
   "metadata": {},
   "outputs": [
    {
     "name": "stdout",
     "output_type": "stream",
     "text": [
      "PLUS_MIN 0.06107602161227703\n",
      "PTS 0.04233080391169445\n",
      "FT_PCT 0.03889565370711701\n",
      "OREB 0.03855557656293828\n",
      "FG_PCT 0.03845345479147442\n",
      "STL 0.03843344497721894\n",
      "BLK 0.03826945961800123\n",
      "FG3_PCT 0.037679683782516626\n",
      "TO 0.037597542266329394\n",
      "PF 0.03758768073025304\n"
     ]
    }
   ],
   "source": [
    "f_imp_idx_2 = list(reversed(np.argsort(clf_4.best_estimator_.feature_importances_)))[:10]\n",
    "f_imp_sorted_2 = sorted(clf_4.best_estimator_.feature_importances_, reverse=True)[:10]\n",
    "\n",
    "for feature, importance in zip(pf_trad.columns[f_imp_idx_2], f_imp_sorted_2):\n",
    "    print(feature, importance)"
   ]
  },
  {
   "cell_type": "markdown",
   "metadata": {},
   "source": [
    "# Neural Net"
   ]
  },
  {
   "cell_type": "code",
   "execution_count": 121,
   "metadata": {},
   "outputs": [],
   "source": [
    "from tensorflow import keras\n",
    "import tensorflow as tf\n",
    "from sklearn.utils.class_weight import compute_class_weight\n",
    "import random\n",
    "\n",
    "K = keras.backend\n",
    "\n",
    "# allow reproducible results\n",
    "random.seed(STATE)\n",
    "np.random.seed(STATE)\n",
    "tf.random.set_seed(STATE)\n",
    "\n",
    "\n",
    "def f1(y_true, y_pred):\n",
    "    \"\"\"Use keras backend to compute f1 metric\"\"\"\n",
    "    true_positives = K.sum(K.round(K.clip(y_true * y_pred, 0, 1)))\n",
    "    possible_positives = K.sum(K.round(K.clip(y_true, 0, 1)))\n",
    "    predicted_positives = K.sum(K.round(K.clip(y_pred, 0, 1)))\n",
    "    precision = true_positives / (predicted_positives + K.epsilon())\n",
    "    recall = true_positives / (possible_positives + K.epsilon())\n",
    "    f1_val = 2*(precision*recall)/(precision+recall+K.epsilon())\n",
    "    return f1_val"
   ]
  },
  {
   "cell_type": "code",
   "execution_count": 122,
   "metadata": {},
   "outputs": [
    {
     "data": {
      "text/plain": [
       "75"
      ]
     },
     "execution_count": 122,
     "metadata": {},
     "output_type": "execute_result"
    }
   ],
   "source": [
    "# scale data between 0 and 1\n",
    "mm_scaler = MinMaxScaler()\n",
    "X_train_adv_s = mm_scaler.fit_transform(X_train_adv)\n",
    "X_test_adv_s = mm_scaler.transform(X_test_adv)\n",
    "\n",
    "# create a validation set from test set\n",
    "X_train_adv_s, X_val_adv_s, y_train_adv_s, y_val_adv_s = train_test_split(X_train_adv_s, y_train_adv,\n",
    "                                                                          test_size=0.1,\n",
    "                                                                          random_state=STATE)\n",
    "\n",
    "class_weights_1 = compute_class_weight('balanced', classes=np.unique(y_train_adv_s), \n",
    "                                     y=y_train_adv_s)\n",
    "class_weights_1 = {\n",
    "    0: class_weights_1[0],\n",
    "    1: class_weights_1[1],\n",
    "}\n",
    "X_train_adv_s.shape[1]"
   ]
  },
  {
   "cell_type": "code",
   "execution_count": 132,
   "metadata": {},
   "outputs": [],
   "source": [
    "ann_1 = keras.models.Sequential([\n",
    "    keras.layers.Input(shape=(X_train_adv_s.shape[1],)),\n",
    "    keras.layers.BatchNormalization(),\n",
    "    \n",
    "    keras.layers.Dense(16, activation='selu'),\n",
    "    keras.layers.Dropout(0.2),\n",
    "    keras.layers.BatchNormalization(),\n",
    "    \n",
    "    keras.layers.Dense(8, activation='selu'),\n",
    "    keras.layers.Dropout(0.2),\n",
    "    keras.layers.BatchNormalization(),\n",
    "    \n",
    "    keras.layers.Dense(1, activation='sigmoid'),\n",
    "])\n",
    "\n",
    "# METRICS = [keras.metrics.BinaryAccuracy(name='accuracy'), f1]\n",
    "METRICS = [f1]\n",
    "early_stop = keras.callbacks.EarlyStopping(patience=10, restore_best_weights=True)\n",
    "adam = keras.optimizers.Adam(learning_rate=0.001, decay=1e-4)\n",
    "\n",
    "ann_1.compile(loss='binary_crossentropy', optimizer=adam, metrics=METRICS)"
   ]
  },
  {
   "cell_type": "code",
   "execution_count": 133,
   "metadata": {
    "scrolled": true
   },
   "outputs": [
    {
     "name": "stdout",
     "output_type": "stream",
     "text": [
      "Epoch 1/100\n",
      "30/30 [==============================] - 0s 6ms/step - loss: 0.7503 - f1: 0.5851 - val_loss: 0.6497 - val_f1: 0.7562\n",
      "Epoch 2/100\n",
      "30/30 [==============================] - 0s 2ms/step - loss: 0.7145 - f1: 0.5920 - val_loss: 0.6379 - val_f1: 0.7452\n",
      "Epoch 3/100\n",
      "30/30 [==============================] - 0s 2ms/step - loss: 0.6919 - f1: 0.6303 - val_loss: 0.6345 - val_f1: 0.6773\n",
      "Epoch 4/100\n",
      "30/30 [==============================] - 0s 2ms/step - loss: 0.6536 - f1: 0.6508 - val_loss: 0.6321 - val_f1: 0.6634\n",
      "Epoch 5/100\n",
      "30/30 [==============================] - 0s 2ms/step - loss: 0.6525 - f1: 0.6470 - val_loss: 0.6275 - val_f1: 0.6474\n",
      "Epoch 6/100\n",
      "30/30 [==============================] - 0s 2ms/step - loss: 0.6356 - f1: 0.6557 - val_loss: 0.6184 - val_f1: 0.6710\n",
      "Epoch 7/100\n",
      "30/30 [==============================] - 0s 2ms/step - loss: 0.6356 - f1: 0.6714 - val_loss: 0.6154 - val_f1: 0.6667\n",
      "Epoch 8/100\n",
      "30/30 [==============================] - 0s 2ms/step - loss: 0.6276 - f1: 0.6784 - val_loss: 0.6103 - val_f1: 0.6644\n",
      "Epoch 9/100\n",
      "30/30 [==============================] - 0s 2ms/step - loss: 0.6221 - f1: 0.6814 - val_loss: 0.6042 - val_f1: 0.6567\n",
      "Epoch 10/100\n",
      "30/30 [==============================] - 0s 2ms/step - loss: 0.6429 - f1: 0.6925 - val_loss: 0.5999 - val_f1: 0.6710\n",
      "Epoch 11/100\n",
      "30/30 [==============================] - 0s 2ms/step - loss: 0.6192 - f1: 0.6891 - val_loss: 0.5972 - val_f1: 0.6617\n",
      "Epoch 12/100\n",
      "30/30 [==============================] - 0s 2ms/step - loss: 0.6235 - f1: 0.6816 - val_loss: 0.5912 - val_f1: 0.6694\n",
      "Epoch 13/100\n",
      "30/30 [==============================] - 0s 2ms/step - loss: 0.6140 - f1: 0.7055 - val_loss: 0.5871 - val_f1: 0.6925\n",
      "Epoch 14/100\n",
      "30/30 [==============================] - 0s 2ms/step - loss: 0.6184 - f1: 0.7122 - val_loss: 0.5837 - val_f1: 0.6925\n",
      "Epoch 15/100\n",
      "30/30 [==============================] - 0s 2ms/step - loss: 0.6116 - f1: 0.7040 - val_loss: 0.5795 - val_f1: 0.6826\n",
      "Epoch 16/100\n",
      "30/30 [==============================] - 0s 2ms/step - loss: 0.6033 - f1: 0.7123 - val_loss: 0.5755 - val_f1: 0.6749\n",
      "Epoch 17/100\n",
      "30/30 [==============================] - 0s 1ms/step - loss: 0.5939 - f1: 0.7174 - val_loss: 0.5753 - val_f1: 0.6697\n",
      "Epoch 18/100\n",
      "30/30 [==============================] - 0s 2ms/step - loss: 0.5981 - f1: 0.7145 - val_loss: 0.5758 - val_f1: 0.6649\n",
      "Epoch 19/100\n",
      "30/30 [==============================] - 0s 2ms/step - loss: 0.6045 - f1: 0.7094 - val_loss: 0.5750 - val_f1: 0.6649\n",
      "Epoch 20/100\n",
      "30/30 [==============================] - 0s 2ms/step - loss: 0.6026 - f1: 0.7011 - val_loss: 0.5740 - val_f1: 0.6756\n",
      "Epoch 21/100\n",
      "30/30 [==============================] - 0s 2ms/step - loss: 0.5952 - f1: 0.7208 - val_loss: 0.5717 - val_f1: 0.6756\n",
      "Epoch 22/100\n",
      "30/30 [==============================] - 0s 2ms/step - loss: 0.5894 - f1: 0.7248 - val_loss: 0.5740 - val_f1: 0.6705\n",
      "Epoch 23/100\n",
      "30/30 [==============================] - 0s 2ms/step - loss: 0.6016 - f1: 0.7322 - val_loss: 0.5778 - val_f1: 0.6556\n",
      "Epoch 24/100\n",
      "30/30 [==============================] - 0s 2ms/step - loss: 0.5819 - f1: 0.7246 - val_loss: 0.5796 - val_f1: 0.6292\n",
      "Epoch 25/100\n",
      "30/30 [==============================] - 0s 2ms/step - loss: 0.5889 - f1: 0.7538 - val_loss: 0.5794 - val_f1: 0.6510\n",
      "Epoch 26/100\n",
      "30/30 [==============================] - 0s 2ms/step - loss: 0.5937 - f1: 0.7265 - val_loss: 0.5813 - val_f1: 0.6391\n",
      "Epoch 27/100\n",
      "30/30 [==============================] - 0s 2ms/step - loss: 0.5920 - f1: 0.7325 - val_loss: 0.5780 - val_f1: 0.6391\n",
      "Epoch 28/100\n",
      "30/30 [==============================] - 0s 2ms/step - loss: 0.5994 - f1: 0.7165 - val_loss: 0.5781 - val_f1: 0.6506\n",
      "Epoch 29/100\n",
      "30/30 [==============================] - 0s 2ms/step - loss: 0.5839 - f1: 0.7340 - val_loss: 0.5770 - val_f1: 0.6506\n",
      "Epoch 30/100\n",
      "30/30 [==============================] - 0s 2ms/step - loss: 0.5891 - f1: 0.7292 - val_loss: 0.5765 - val_f1: 0.6506\n",
      "Epoch 31/100\n",
      "30/30 [==============================] - 0s 2ms/step - loss: 0.5829 - f1: 0.7244 - val_loss: 0.5742 - val_f1: 0.6604\n"
     ]
    }
   ],
   "source": [
    "ann1_hist = ann_1.fit(X_train_adv_s, y_train_adv_s, epochs=100, \n",
    "          validation_data=(X_val_adv_s, y_val_adv_s), \n",
    "          callbacks=[early_stop], class_weight=class_weights_1)"
   ]
  },
  {
   "cell_type": "code",
   "execution_count": 134,
   "metadata": {},
   "outputs": [
    {
     "name": "stdout",
     "output_type": "stream",
     "text": [
      "F1 = 0.6201622528533621\n",
      "Accuracy = 0.6170731707317073\n"
     ]
    }
   ],
   "source": [
    "ann_1_score = ann_1.predict(X_test_adv_s)\n",
    "ann_1_pred = (ann_1_score > 0.5).astype(int)\n",
    "\n",
    "print('F1 =', f1_score(y_test_adv, ann_1_pred, average='weighted'))\n",
    "print('Accuracy =', accuracy_score(ann_1_pred, y_test_adv))"
   ]
  },
  {
   "cell_type": "markdown",
   "metadata": {},
   "source": [
    "## Using Traditional Stats"
   ]
  },
  {
   "cell_type": "code",
   "execution_count": 140,
   "metadata": {},
   "outputs": [],
   "source": [
    "# scale data between 0 and 1\n",
    "mm_scaler_2 = MinMaxScaler()\n",
    "X_train_trad_s = mm_scaler_2.fit_transform(X_train_trad)\n",
    "X_test_trad_s = mm_scaler_2.transform(X_test_trad)\n",
    "\n",
    "# create a validation set from test set\n",
    "X_train_trad_s, X_val_trad_s, y_train_trad_s, y_val_trad_s = train_test_split(X_train_trad_s, y_train_trad,\n",
    "                                                                              test_size=0.1,\n",
    "                                                                              random_state=STATE)\n",
    "\n",
    "class_weights_2 = compute_class_weight('balanced', classes=np.unique(y_train_trad_s), \n",
    "                                     y=y_train_trad_s)\n",
    "class_weights_2 = {\n",
    "    0: class_weights_2[0],\n",
    "    1: class_weights_2[1],\n",
    "}"
   ]
  },
  {
   "cell_type": "code",
   "execution_count": 141,
   "metadata": {},
   "outputs": [],
   "source": [
    "ann_2 = keras.models.Sequential([\n",
    "    keras.layers.Input(shape=(X_train_trad_s.shape[1],)),\n",
    "    keras.layers.BatchNormalization(),\n",
    "    \n",
    "    keras.layers.Dense(16, activation='selu'),\n",
    "    keras.layers.Dropout(0.2),\n",
    "    keras.layers.BatchNormalization(),\n",
    "    \n",
    "    keras.layers.Dense(8, activation='selu'),\n",
    "    keras.layers.Dropout(0.2),\n",
    "    keras.layers.BatchNormalization(),\n",
    "    \n",
    "    keras.layers.Dense(1, activation='sigmoid'),\n",
    "])\n",
    "\n",
    "METRICS = [f1]\n",
    "early_stop = keras.callbacks.EarlyStopping(patience=10, restore_best_weights=True)\n",
    "adam = keras.optimizers.Adam(learning_rate=0.001, decay=1e-4)\n",
    "\n",
    "ann_2.compile(loss='binary_crossentropy', optimizer=adam, metrics=METRICS)"
   ]
  },
  {
   "cell_type": "code",
   "execution_count": 142,
   "metadata": {
    "scrolled": true
   },
   "outputs": [
    {
     "name": "stdout",
     "output_type": "stream",
     "text": [
      "Epoch 1/100\n",
      "30/30 [==============================] - 0s 6ms/step - loss: 0.8176 - f1: 0.5380 - val_loss: 0.6915 - val_f1: 0.7122\n",
      "Epoch 2/100\n",
      "30/30 [==============================] - 0s 2ms/step - loss: 0.7638 - f1: 0.5550 - val_loss: 0.6927 - val_f1: 0.6095\n",
      "Epoch 3/100\n",
      "30/30 [==============================] - 0s 2ms/step - loss: 0.6984 - f1: 0.5900 - val_loss: 0.6952 - val_f1: 0.6014\n",
      "Epoch 4/100\n",
      "30/30 [==============================] - 0s 2ms/step - loss: 0.6626 - f1: 0.6367 - val_loss: 0.6955 - val_f1: 0.4667\n",
      "Epoch 5/100\n",
      "30/30 [==============================] - 0s 2ms/step - loss: 0.6701 - f1: 0.6506 - val_loss: 0.6993 - val_f1: 0.4507\n",
      "Epoch 6/100\n",
      "30/30 [==============================] - 0s 2ms/step - loss: 0.6607 - f1: 0.6383 - val_loss: 0.6912 - val_f1: 0.4582\n",
      "Epoch 7/100\n",
      "30/30 [==============================] - 0s 2ms/step - loss: 0.6460 - f1: 0.6523 - val_loss: 0.6874 - val_f1: 0.4865\n",
      "Epoch 8/100\n",
      "30/30 [==============================] - 0s 2ms/step - loss: 0.6354 - f1: 0.6705 - val_loss: 0.6785 - val_f1: 0.4969\n",
      "Epoch 9/100\n",
      "30/30 [==============================] - 0s 2ms/step - loss: 0.6410 - f1: 0.6601 - val_loss: 0.6703 - val_f1: 0.5118\n",
      "Epoch 10/100\n",
      "30/30 [==============================] - 0s 2ms/step - loss: 0.6317 - f1: 0.6805 - val_loss: 0.6679 - val_f1: 0.5136\n",
      "Epoch 11/100\n",
      "30/30 [==============================] - 0s 2ms/step - loss: 0.6136 - f1: 0.6842 - val_loss: 0.6631 - val_f1: 0.5136\n",
      "Epoch 12/100\n",
      "30/30 [==============================] - 0s 2ms/step - loss: 0.6238 - f1: 0.6825 - val_loss: 0.6550 - val_f1: 0.6620\n",
      "Epoch 13/100\n",
      "30/30 [==============================] - 0s 2ms/step - loss: 0.6135 - f1: 0.6897 - val_loss: 0.6469 - val_f1: 0.6620\n",
      "Epoch 14/100\n",
      "30/30 [==============================] - 0s 2ms/step - loss: 0.6167 - f1: 0.7057 - val_loss: 0.6457 - val_f1: 0.6543\n",
      "Epoch 15/100\n",
      "30/30 [==============================] - 0s 2ms/step - loss: 0.6132 - f1: 0.6956 - val_loss: 0.6414 - val_f1: 0.6543\n",
      "Epoch 16/100\n",
      "30/30 [==============================] - 0s 2ms/step - loss: 0.6208 - f1: 0.6915 - val_loss: 0.6397 - val_f1: 0.6431\n",
      "Epoch 17/100\n",
      "30/30 [==============================] - 0s 2ms/step - loss: 0.6086 - f1: 0.6885 - val_loss: 0.6370 - val_f1: 0.6543\n",
      "Epoch 18/100\n",
      "30/30 [==============================] - 0s 2ms/step - loss: 0.5903 - f1: 0.7035 - val_loss: 0.6344 - val_f1: 0.6543\n",
      "Epoch 19/100\n",
      "30/30 [==============================] - 0s 2ms/step - loss: 0.5843 - f1: 0.7262 - val_loss: 0.6338 - val_f1: 0.6960\n",
      "Epoch 20/100\n",
      "30/30 [==============================] - 0s 2ms/step - loss: 0.5929 - f1: 0.7220 - val_loss: 0.6310 - val_f1: 0.6960\n",
      "Epoch 21/100\n",
      "30/30 [==============================] - 0s 2ms/step - loss: 0.5770 - f1: 0.7106 - val_loss: 0.6274 - val_f1: 0.6910\n",
      "Epoch 22/100\n",
      "30/30 [==============================] - 0s 2ms/step - loss: 0.5801 - f1: 0.7441 - val_loss: 0.6256 - val_f1: 0.6771\n",
      "Epoch 23/100\n",
      "30/30 [==============================] - 0s 2ms/step - loss: 0.5910 - f1: 0.7138 - val_loss: 0.6323 - val_f1: 0.6819\n",
      "Epoch 24/100\n",
      "30/30 [==============================] - 0s 2ms/step - loss: 0.5918 - f1: 0.7104 - val_loss: 0.6310 - val_f1: 0.6676\n",
      "Epoch 25/100\n",
      "30/30 [==============================] - 0s 2ms/step - loss: 0.5790 - f1: 0.7343 - val_loss: 0.6240 - val_f1: 0.6771\n",
      "Epoch 26/100\n",
      "30/30 [==============================] - 0s 2ms/step - loss: 0.5705 - f1: 0.7259 - val_loss: 0.6224 - val_f1: 0.6676\n",
      "Epoch 27/100\n",
      "30/30 [==============================] - 0s 2ms/step - loss: 0.5729 - f1: 0.7155 - val_loss: 0.6197 - val_f1: 0.6676\n",
      "Epoch 28/100\n",
      "30/30 [==============================] - 0s 2ms/step - loss: 0.5789 - f1: 0.7072 - val_loss: 0.6185 - val_f1: 0.6676\n",
      "Epoch 29/100\n",
      "30/30 [==============================] - 0s 2ms/step - loss: 0.5793 - f1: 0.7122 - val_loss: 0.6163 - val_f1: 0.6910\n",
      "Epoch 30/100\n",
      "30/30 [==============================] - 0s 2ms/step - loss: 0.5760 - f1: 0.7160 - val_loss: 0.6165 - val_f1: 0.6960\n",
      "Epoch 31/100\n",
      "30/30 [==============================] - 0s 2ms/step - loss: 0.5933 - f1: 0.7120 - val_loss: 0.6169 - val_f1: 0.6917\n",
      "Epoch 32/100\n",
      "30/30 [==============================] - 0s 2ms/step - loss: 0.5678 - f1: 0.7305 - val_loss: 0.6102 - val_f1: 0.6819\n",
      "Epoch 33/100\n",
      "30/30 [==============================] - 0s 1ms/step - loss: 0.5739 - f1: 0.7309 - val_loss: 0.6104 - val_f1: 0.6819\n",
      "Epoch 34/100\n",
      "30/30 [==============================] - 0s 2ms/step - loss: 0.5864 - f1: 0.7186 - val_loss: 0.6071 - val_f1: 0.6819\n",
      "Epoch 35/100\n",
      "30/30 [==============================] - 0s 2ms/step - loss: 0.5630 - f1: 0.7323 - val_loss: 0.6054 - val_f1: 0.7037\n",
      "Epoch 36/100\n",
      "30/30 [==============================] - 0s 2ms/step - loss: 0.5722 - f1: 0.7244 - val_loss: 0.6073 - val_f1: 0.6917\n",
      "Epoch 37/100\n",
      "30/30 [==============================] - 0s 1ms/step - loss: 0.5782 - f1: 0.7212 - val_loss: 0.6079 - val_f1: 0.6917\n",
      "Epoch 38/100\n",
      "30/30 [==============================] - 0s 2ms/step - loss: 0.5707 - f1: 0.7335 - val_loss: 0.6099 - val_f1: 0.6917\n",
      "Epoch 39/100\n",
      "30/30 [==============================] - 0s 2ms/step - loss: 0.5706 - f1: 0.7370 - val_loss: 0.6095 - val_f1: 0.6870\n",
      "Epoch 40/100\n",
      "30/30 [==============================] - 0s 2ms/step - loss: 0.5523 - f1: 0.7303 - val_loss: 0.6120 - val_f1: 0.6917\n",
      "Epoch 41/100\n",
      "30/30 [==============================] - 0s 2ms/step - loss: 0.5739 - f1: 0.7306 - val_loss: 0.6094 - val_f1: 0.6917\n",
      "Epoch 42/100\n",
      "30/30 [==============================] - 0s 2ms/step - loss: 0.5572 - f1: 0.7199 - val_loss: 0.6063 - val_f1: 0.6968\n",
      "Epoch 43/100\n",
      "30/30 [==============================] - 0s 2ms/step - loss: 0.5706 - f1: 0.7338 - val_loss: 0.6076 - val_f1: 0.6917\n",
      "Epoch 44/100\n",
      "30/30 [==============================] - 0s 2ms/step - loss: 0.5665 - f1: 0.7358 - val_loss: 0.6058 - val_f1: 0.6870\n",
      "Epoch 45/100\n",
      "30/30 [==============================] - 0s 2ms/step - loss: 0.5564 - f1: 0.7317 - val_loss: 0.6048 - val_f1: 0.6870\n",
      "Epoch 46/100\n",
      "30/30 [==============================] - 0s 2ms/step - loss: 0.5609 - f1: 0.7444 - val_loss: 0.6047 - val_f1: 0.6960\n",
      "Epoch 47/100\n",
      "30/30 [==============================] - 0s 2ms/step - loss: 0.5541 - f1: 0.7414 - val_loss: 0.6097 - val_f1: 0.6788\n",
      "Epoch 48/100\n",
      "30/30 [==============================] - 0s 2ms/step - loss: 0.5585 - f1: 0.7286 - val_loss: 0.6159 - val_f1: 0.6788\n",
      "Epoch 49/100\n",
      "30/30 [==============================] - 0s 2ms/step - loss: 0.5547 - f1: 0.7321 - val_loss: 0.6139 - val_f1: 0.6960\n",
      "Epoch 50/100\n",
      "30/30 [==============================] - 0s 2ms/step - loss: 0.5564 - f1: 0.7389 - val_loss: 0.6122 - val_f1: 0.6960\n",
      "Epoch 51/100\n",
      "30/30 [==============================] - 0s 2ms/step - loss: 0.5606 - f1: 0.7314 - val_loss: 0.6111 - val_f1: 0.6960\n",
      "Epoch 52/100\n",
      "30/30 [==============================] - 0s 2ms/step - loss: 0.5558 - f1: 0.7457 - val_loss: 0.6116 - val_f1: 0.6917\n",
      "Epoch 53/100\n",
      "30/30 [==============================] - 0s 2ms/step - loss: 0.5696 - f1: 0.7253 - val_loss: 0.6100 - val_f1: 0.6927\n",
      "Epoch 54/100\n",
      "30/30 [==============================] - 0s 1ms/step - loss: 0.5480 - f1: 0.7369 - val_loss: 0.6113 - val_f1: 0.7008\n",
      "Epoch 55/100\n",
      "30/30 [==============================] - 0s 2ms/step - loss: 0.5570 - f1: 0.7344 - val_loss: 0.6054 - val_f1: 0.7008\n",
      "Epoch 56/100\n",
      "30/30 [==============================] - 0s 2ms/step - loss: 0.5609 - f1: 0.7411 - val_loss: 0.6079 - val_f1: 0.7008\n"
     ]
    }
   ],
   "source": [
    "ann2_hist = ann_2.fit(X_train_trad_s, y_train_trad_s, epochs=100, \n",
    "          validation_data=(X_val_trad_s, y_val_trad_s), \n",
    "          callbacks=[early_stop], class_weight=class_weights_2)"
   ]
  },
  {
   "cell_type": "code",
   "execution_count": 143,
   "metadata": {},
   "outputs": [
    {
     "name": "stdout",
     "output_type": "stream",
     "text": [
      "F1 = 0.6026601210750134\n",
      "Accuracy = 0.5991869918699188\n"
     ]
    }
   ],
   "source": [
    "ann_2_score = ann_2.predict(X_test_trad_s)\n",
    "ann_2_pred = (ann_2_score > 0.5).astype(int)\n",
    "\n",
    "print('F1 =', f1_score(y_test_trad, ann_2_pred, average='weighted'))\n",
    "print('Accuracy =', accuracy_score(ann_2_pred, y_test_trad))"
   ]
  },
  {
   "cell_type": "code",
   "execution_count": 146,
   "metadata": {},
   "outputs": [
    {
     "data": {
      "image/png": "[encoded data removed]",
      "text/plain": [
       "<Figure size 720x576 with 3 Axes>"
      ]
     },
     "metadata": {
      "needs_background": "light"
     },
     "output_type": "display_data"
    }
   ],
   "source": [
    "fig = run_metrics(\n",
    "    [ann_1_pred, ann_2_pred], \n",
    "    [y_test_adv, y_test_trad], \n",
    "    [ann_1_score, ann_2_score]\n",
    ")\n",
    "fig.savefig('plots/matchups-NN.pdf', bbox_inches='tight')"
   ]
  },
  {
   "cell_type": "code",
   "execution_count": 145,
   "metadata": {},
   "outputs": [],
   "source": [
    "import pickle\n",
    "pickle.dump(ann1_hist.history, open('ann1_hist.pickle', 'wb'))\n",
    "pickle.dump(ann2_hist.history, open('ann2_hist.pickle', 'wb'))"
   ]
  },
  {
   "cell_type": "code",
   "execution_count": 170,
   "metadata": {},
   "outputs": [
    {
     "data": {
      "image/png": "[encoded data removed]",
      "text/plain": [
       "<Figure size 864x288 with 2 Axes>"
      ]
     },
     "metadata": {
      "needs_background": "light"
     },
     "output_type": "display_data"
    }
   ],
   "source": [
    "fig, ax = plt.subplots(1, 2, figsize=(12, 4), constrained_layout=True)\n",
    "\n",
    "ax[0].plot(ann1_hist.history['f1'])\n",
    "ax[0].plot(ann1_hist.history['val_f1'])\n",
    "ax[0].legend(['Training F1', 'Validation F1'])\n",
    "ax[0].set_xlabel('Epochs')\n",
    "ax[0].set_ylabel('F1')\n",
    "ax[0].set_ylim((0.4, 0.8))\n",
    "ax[0].set_title('Adv.')\n",
    "\n",
    "ax[1].plot(ann2_hist.history['f1'])\n",
    "ax[1].plot(ann2_hist.history['val_f1'])\n",
    "ax[1].legend(['Training F1', 'Validation F1'], loc='lower right')\n",
    "ax[1].set_xlabel('Epochs')\n",
    "ax[1].set_ylabel('F1')\n",
    "ax[1].set_ylim((0.4, 0.8))\n",
    "ax[1].set_title('Trad.')\n",
    "\n",
    "fig.savefig('plots/matchups-NN-curves.pdf', bbox_inches='tight')"
   ]
  }
 ],
 "metadata": {
  "kernelspec": {
   "display_name": "nba_game_pred",
   "language": "python",
   "name": "nba_game_pred"
  },
  "language_info": {
   "codemirror_mode": {
    "name": "ipython",
    "version": 3
   },
   "file_extension": ".py",
   "mimetype": "text/x-python",
   "name": "python",
   "nbconvert_exporter": "python",
   "pygments_lexer": "ipython3",
   "version": "3.7.8"
  }
 },
 "nbformat": 4,
 "nbformat_minor": 2
}
